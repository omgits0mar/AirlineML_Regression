{
  "cells": [
    {
      "cell_type": "markdown",
      "metadata": {
        "id": "view-in-github",
        "colab_type": "text"
      },
      "source": [
        "<a href=\"https://colab.research.google.com/github/omgits0mar/Datasets/blob/master/model1_2.ipynb\" target=\"_parent\"><img src=\"https://colab.research.google.com/assets/colab-badge.svg\" alt=\"Open In Colab\"/></a>"
      ]
    },
    {
      "cell_type": "code",
      "execution_count": 1,
      "id": "4848b15c",
      "metadata": {
        "colab": {
          "base_uri": "https://localhost:8080/",
          "height": 372
        },
        "id": "4848b15c",
        "outputId": "c26e2cc4-2cb7-42cc-d4c6-5bd956c2392c"
      },
      "outputs": [
        {
          "output_type": "error",
          "ename": "ModuleNotFoundError",
          "evalue": "ignored",
          "traceback": [
            "\u001b[0;31m---------------------------------------------------------------------------\u001b[0m",
            "\u001b[0;31mModuleNotFoundError\u001b[0m                       Traceback (most recent call last)",
            "\u001b[0;32m<ipython-input-1-9d21daf4b6c4>\u001b[0m in \u001b[0;36m<module>\u001b[0;34m()\u001b[0m\n\u001b[0;32m----> 1\u001b[0;31m \u001b[0;32mimport\u001b[0m \u001b[0mjupyterthemes\u001b[0m \u001b[0;32mas\u001b[0m \u001b[0mjt\u001b[0m\u001b[0;34m\u001b[0m\u001b[0;34m\u001b[0m\u001b[0m\n\u001b[0m\u001b[1;32m      2\u001b[0m \u001b[0;32mfrom\u001b[0m \u001b[0mjupyterthemes\u001b[0m \u001b[0;32mimport\u001b[0m \u001b[0mget_themes\u001b[0m\u001b[0;34m\u001b[0m\u001b[0;34m\u001b[0m\u001b[0m\n\u001b[1;32m      3\u001b[0m \u001b[0;32mimport\u001b[0m \u001b[0mjupyterthemes\u001b[0m \u001b[0;32mas\u001b[0m \u001b[0mjt\u001b[0m\u001b[0;34m\u001b[0m\u001b[0;34m\u001b[0m\u001b[0m\n\u001b[1;32m      4\u001b[0m \u001b[0;32mfrom\u001b[0m \u001b[0mjupyterthemes\u001b[0m\u001b[0;34m.\u001b[0m\u001b[0mstylefx\u001b[0m \u001b[0;32mimport\u001b[0m \u001b[0mset_nb_theme\u001b[0m\u001b[0;34m\u001b[0m\u001b[0;34m\u001b[0m\u001b[0m\n",
            "\u001b[0;31mModuleNotFoundError\u001b[0m: No module named 'jupyterthemes'",
            "",
            "\u001b[0;31m---------------------------------------------------------------------------\u001b[0;32m\nNOTE: If your import is failing due to a missing package, you can\nmanually install dependencies using either !pip or !apt.\n\nTo view examples of installing some common dependencies, click the\n\"Open Examples\" button below.\n\u001b[0;31m---------------------------------------------------------------------------\u001b[0m\n"
          ],
          "errorDetails": {
            "actions": [
              {
                "action": "open_url",
                "actionText": "Open Examples",
                "url": "/notebooks/snippets/importing_libraries.ipynb"
              }
            ]
          }
        }
      ],
      "source": [
        "import jupyterthemes as jt\n",
        "from jupyterthemes import get_themes\n",
        "import jupyterthemes as jt\n",
        "from jupyterthemes.stylefx import set_nb_theme"
      ]
    },
    {
      "cell_type": "markdown",
      "id": "ecf0ab1d",
      "metadata": {
        "id": "ecf0ab1d"
      },
      "source": [
        "import jupyterthemes as jt\n",
        "from jupyterthemes.stylefx import set_nb_theme"
      ]
    },
    {
      "cell_type": "code",
      "execution_count": 2,
      "id": "d8d5a831",
      "metadata": {
        "colab": {
          "base_uri": "https://localhost:8080/",
          "height": 244
        },
        "id": "d8d5a831",
        "outputId": "dda97a66-23a4-488f-d08f-d15393577f23"
      },
      "outputs": [
        {
          "output_type": "error",
          "ename": "NameError",
          "evalue": "ignored",
          "traceback": [
            "\u001b[0;31m---------------------------------------------------------------------------\u001b[0m",
            "\u001b[0;31mNameError\u001b[0m                                 Traceback (most recent call last)",
            "\u001b[0;32m<ipython-input-2-290c2fc66c78>\u001b[0m in \u001b[0;36m<module>\u001b[0;34m()\u001b[0m\n\u001b[0;32m----> 1\u001b[0;31m \u001b[0mset_nb_theme\u001b[0m\u001b[0;34m(\u001b[0m\u001b[0;34m'onedork'\u001b[0m\u001b[0;34m)\u001b[0m\u001b[0;34m\u001b[0m\u001b[0;34m\u001b[0m\u001b[0m\n\u001b[0m\u001b[1;32m      2\u001b[0m \u001b[0;31m#monokai\u001b[0m\u001b[0;34m\u001b[0m\u001b[0;34m\u001b[0m\u001b[0;34m\u001b[0m\u001b[0m\n\u001b[1;32m      3\u001b[0m \u001b[0;31m#chesterish\u001b[0m\u001b[0;34m\u001b[0m\u001b[0;34m\u001b[0m\u001b[0;34m\u001b[0m\u001b[0m\n\u001b[1;32m      4\u001b[0m \u001b[0;31m#oceans16 gamed\u001b[0m\u001b[0;34m\u001b[0m\u001b[0;34m\u001b[0m\u001b[0;34m\u001b[0m\u001b[0m\n\u001b[1;32m      5\u001b[0m \u001b[0;31m#onedork gamed brdo\u001b[0m\u001b[0;34m\u001b[0m\u001b[0;34m\u001b[0m\u001b[0;34m\u001b[0m\u001b[0m\n",
            "\u001b[0;31mNameError\u001b[0m: name 'set_nb_theme' is not defined"
          ]
        }
      ],
      "source": [
        "set_nb_theme('onedork')\n",
        "#monokai\n",
        "#chesterish\n",
        "#oceans16 gamed\n",
        "#onedork gamed brdo\n",
        "#solarizedl"
      ]
    },
    {
      "cell_type": "markdown",
      "id": "c387df71",
      "metadata": {
        "id": "c387df71"
      },
      "source": [
        "# Code start from here :"
      ]
    },
    {
      "cell_type": "markdown",
      "id": "0474b2da",
      "metadata": {
        "id": "0474b2da"
      },
      "source": [
        "### Importing :"
      ]
    },
    {
      "cell_type": "code",
      "execution_count": 80,
      "id": "203ef228",
      "metadata": {
        "id": "203ef228"
      },
      "outputs": [],
      "source": [
        "import numpy as np\n",
        "import pandas as pd\n",
        "import seaborn as sns\n",
        "import matplotlib.pyplot as plt\n",
        "import re\n",
        "import datetime\n",
        "\n",
        "from sklearn.metrics import mean_squared_error, r2_score\n",
        "from sklearn.tree import DecisionTreeRegressor\n",
        "from sklearn import linear_model\n",
        "from sklearn import metrics\n",
        "from sklearn.model_selection import train_test_split\n",
        "from sklearn.preprocessing import PolynomialFeatures\n",
        "from sklearn.preprocessing import LabelEncoder\n",
        "from sklearn.preprocessing import OneHotEncoder\n",
        "from xgboost.sklearn import XGBRegressor\n"
      ]
    },
    {
      "cell_type": "markdown",
      "id": "341bda5c",
      "metadata": {
        "id": "341bda5c"
      },
      "source": [
        "### Reading data from csv"
      ]
    },
    {
      "cell_type": "code",
      "execution_count": 81,
      "id": "e71a3865",
      "metadata": {
        "id": "e71a3865"
      },
      "outputs": [],
      "source": [
        "df = pd.read_csv('airline-price-prediction.csv')"
      ]
    },
    {
      "cell_type": "code",
      "execution_count": 82,
      "id": "205bd611",
      "metadata": {
        "colab": {
          "base_uri": "https://localhost:8080/",
          "height": 206
        },
        "id": "205bd611",
        "outputId": "030451f2-4ab5-4993-f9bc-f37c1fe9d534"
      },
      "outputs": [
        {
          "output_type": "execute_result",
          "data": {
            "text/plain": [
              "         date   airline ch_code  num_code dep_time time_taken  \\\n",
              "0    5/3/2022   Vistara      UK       812     9:45    10h 10m   \n",
              "1  18-03-2022   Vistara      UK       975     5:45    06h 30m   \n",
              "2    9/3/2022  GO FIRST      G8      7537    14:30    08h 10m   \n",
              "3  15-03-2022  GO FIRST      G8       287    10:40    09h 40m   \n",
              "4  22-03-2022   Vistara      UK       826    12:30    07h 25m   \n",
              "\n",
              "                                                stop arr_time      type  \\\n",
              "0  1-stop\\n\\t\\t\\t\\t\\t\\t\\t\\t\\t\\t\\t\\t\\n\\t\\t\\t\\t\\t\\t...    19:55  business   \n",
              "1  1-stop\\n\\t\\t\\t\\t\\t\\t\\t\\t\\t\\t\\t\\t\\n\\t\\t\\t\\t\\t\\t...    12:15  business   \n",
              "2  1-stop\\n\\t\\t\\t\\t\\t\\t\\t\\t\\t\\t\\t\\t\\n\\t\\t\\t\\t\\t\\t...    22:40   economy   \n",
              "3  1-stop\\n\\t\\t\\t\\t\\t\\t\\t\\t\\t\\t\\t\\t\\n\\t\\t\\t\\t\\t\\t...    20:20   economy   \n",
              "4  1-stop\\n\\t\\t\\t\\t\\t\\t\\t\\t\\t\\t\\t\\t\\n\\t\\t\\t\\t\\t\\t...    19:55   economy   \n",
              "\n",
              "                                               route   price  \n",
              "0  {'source': 'Bangalore', 'destination': 'Hydera...  56,588  \n",
              "1    {'source': 'Delhi', 'destination': 'Hyderabad'}  59,649  \n",
              "2   {'source': 'Mumbai', 'destination': 'Hyderabad'}   3,916  \n",
              "3       {'source': 'Mumbai', 'destination': 'Delhi'}   6,031  \n",
              "4    {'source': 'Chennai', 'destination': 'Kolkata'}   7,081  "
            ],
            "text/html": [
              "\n",
              "  <div id=\"df-09f20c64-6068-4657-bf85-4e479605e48f\">\n",
              "    <div class=\"colab-df-container\">\n",
              "      <div>\n",
              "<style scoped>\n",
              "    .dataframe tbody tr th:only-of-type {\n",
              "        vertical-align: middle;\n",
              "    }\n",
              "\n",
              "    .dataframe tbody tr th {\n",
              "        vertical-align: top;\n",
              "    }\n",
              "\n",
              "    .dataframe thead th {\n",
              "        text-align: right;\n",
              "    }\n",
              "</style>\n",
              "<table border=\"1\" class=\"dataframe\">\n",
              "  <thead>\n",
              "    <tr style=\"text-align: right;\">\n",
              "      <th></th>\n",
              "      <th>date</th>\n",
              "      <th>airline</th>\n",
              "      <th>ch_code</th>\n",
              "      <th>num_code</th>\n",
              "      <th>dep_time</th>\n",
              "      <th>time_taken</th>\n",
              "      <th>stop</th>\n",
              "      <th>arr_time</th>\n",
              "      <th>type</th>\n",
              "      <th>route</th>\n",
              "      <th>price</th>\n",
              "    </tr>\n",
              "  </thead>\n",
              "  <tbody>\n",
              "    <tr>\n",
              "      <th>0</th>\n",
              "      <td>5/3/2022</td>\n",
              "      <td>Vistara</td>\n",
              "      <td>UK</td>\n",
              "      <td>812</td>\n",
              "      <td>9:45</td>\n",
              "      <td>10h 10m</td>\n",
              "      <td>1-stop\\n\\t\\t\\t\\t\\t\\t\\t\\t\\t\\t\\t\\t\\n\\t\\t\\t\\t\\t\\t...</td>\n",
              "      <td>19:55</td>\n",
              "      <td>business</td>\n",
              "      <td>{'source': 'Bangalore', 'destination': 'Hydera...</td>\n",
              "      <td>56,588</td>\n",
              "    </tr>\n",
              "    <tr>\n",
              "      <th>1</th>\n",
              "      <td>18-03-2022</td>\n",
              "      <td>Vistara</td>\n",
              "      <td>UK</td>\n",
              "      <td>975</td>\n",
              "      <td>5:45</td>\n",
              "      <td>06h 30m</td>\n",
              "      <td>1-stop\\n\\t\\t\\t\\t\\t\\t\\t\\t\\t\\t\\t\\t\\n\\t\\t\\t\\t\\t\\t...</td>\n",
              "      <td>12:15</td>\n",
              "      <td>business</td>\n",
              "      <td>{'source': 'Delhi', 'destination': 'Hyderabad'}</td>\n",
              "      <td>59,649</td>\n",
              "    </tr>\n",
              "    <tr>\n",
              "      <th>2</th>\n",
              "      <td>9/3/2022</td>\n",
              "      <td>GO FIRST</td>\n",
              "      <td>G8</td>\n",
              "      <td>7537</td>\n",
              "      <td>14:30</td>\n",
              "      <td>08h 10m</td>\n",
              "      <td>1-stop\\n\\t\\t\\t\\t\\t\\t\\t\\t\\t\\t\\t\\t\\n\\t\\t\\t\\t\\t\\t...</td>\n",
              "      <td>22:40</td>\n",
              "      <td>economy</td>\n",
              "      <td>{'source': 'Mumbai', 'destination': 'Hyderabad'}</td>\n",
              "      <td>3,916</td>\n",
              "    </tr>\n",
              "    <tr>\n",
              "      <th>3</th>\n",
              "      <td>15-03-2022</td>\n",
              "      <td>GO FIRST</td>\n",
              "      <td>G8</td>\n",
              "      <td>287</td>\n",
              "      <td>10:40</td>\n",
              "      <td>09h 40m</td>\n",
              "      <td>1-stop\\n\\t\\t\\t\\t\\t\\t\\t\\t\\t\\t\\t\\t\\n\\t\\t\\t\\t\\t\\t...</td>\n",
              "      <td>20:20</td>\n",
              "      <td>economy</td>\n",
              "      <td>{'source': 'Mumbai', 'destination': 'Delhi'}</td>\n",
              "      <td>6,031</td>\n",
              "    </tr>\n",
              "    <tr>\n",
              "      <th>4</th>\n",
              "      <td>22-03-2022</td>\n",
              "      <td>Vistara</td>\n",
              "      <td>UK</td>\n",
              "      <td>826</td>\n",
              "      <td>12:30</td>\n",
              "      <td>07h 25m</td>\n",
              "      <td>1-stop\\n\\t\\t\\t\\t\\t\\t\\t\\t\\t\\t\\t\\t\\n\\t\\t\\t\\t\\t\\t...</td>\n",
              "      <td>19:55</td>\n",
              "      <td>economy</td>\n",
              "      <td>{'source': 'Chennai', 'destination': 'Kolkata'}</td>\n",
              "      <td>7,081</td>\n",
              "    </tr>\n",
              "  </tbody>\n",
              "</table>\n",
              "</div>\n",
              "      <button class=\"colab-df-convert\" onclick=\"convertToInteractive('df-09f20c64-6068-4657-bf85-4e479605e48f')\"\n",
              "              title=\"Convert this dataframe to an interactive table.\"\n",
              "              style=\"display:none;\">\n",
              "        \n",
              "  <svg xmlns=\"http://www.w3.org/2000/svg\" height=\"24px\"viewBox=\"0 0 24 24\"\n",
              "       width=\"24px\">\n",
              "    <path d=\"M0 0h24v24H0V0z\" fill=\"none\"/>\n",
              "    <path d=\"M18.56 5.44l.94 2.06.94-2.06 2.06-.94-2.06-.94-.94-2.06-.94 2.06-2.06.94zm-11 1L8.5 8.5l.94-2.06 2.06-.94-2.06-.94L8.5 2.5l-.94 2.06-2.06.94zm10 10l.94 2.06.94-2.06 2.06-.94-2.06-.94-.94-2.06-.94 2.06-2.06.94z\"/><path d=\"M17.41 7.96l-1.37-1.37c-.4-.4-.92-.59-1.43-.59-.52 0-1.04.2-1.43.59L10.3 9.45l-7.72 7.72c-.78.78-.78 2.05 0 2.83L4 21.41c.39.39.9.59 1.41.59.51 0 1.02-.2 1.41-.59l7.78-7.78 2.81-2.81c.8-.78.8-2.07 0-2.86zM5.41 20L4 18.59l7.72-7.72 1.47 1.35L5.41 20z\"/>\n",
              "  </svg>\n",
              "      </button>\n",
              "      \n",
              "  <style>\n",
              "    .colab-df-container {\n",
              "      display:flex;\n",
              "      flex-wrap:wrap;\n",
              "      gap: 12px;\n",
              "    }\n",
              "\n",
              "    .colab-df-convert {\n",
              "      background-color: #E8F0FE;\n",
              "      border: none;\n",
              "      border-radius: 50%;\n",
              "      cursor: pointer;\n",
              "      display: none;\n",
              "      fill: #1967D2;\n",
              "      height: 32px;\n",
              "      padding: 0 0 0 0;\n",
              "      width: 32px;\n",
              "    }\n",
              "\n",
              "    .colab-df-convert:hover {\n",
              "      background-color: #E2EBFA;\n",
              "      box-shadow: 0px 1px 2px rgba(60, 64, 67, 0.3), 0px 1px 3px 1px rgba(60, 64, 67, 0.15);\n",
              "      fill: #174EA6;\n",
              "    }\n",
              "\n",
              "    [theme=dark] .colab-df-convert {\n",
              "      background-color: #3B4455;\n",
              "      fill: #D2E3FC;\n",
              "    }\n",
              "\n",
              "    [theme=dark] .colab-df-convert:hover {\n",
              "      background-color: #434B5C;\n",
              "      box-shadow: 0px 1px 3px 1px rgba(0, 0, 0, 0.15);\n",
              "      filter: drop-shadow(0px 1px 2px rgba(0, 0, 0, 0.3));\n",
              "      fill: #FFFFFF;\n",
              "    }\n",
              "  </style>\n",
              "\n",
              "      <script>\n",
              "        const buttonEl =\n",
              "          document.querySelector('#df-09f20c64-6068-4657-bf85-4e479605e48f button.colab-df-convert');\n",
              "        buttonEl.style.display =\n",
              "          google.colab.kernel.accessAllowed ? 'block' : 'none';\n",
              "\n",
              "        async function convertToInteractive(key) {\n",
              "          const element = document.querySelector('#df-09f20c64-6068-4657-bf85-4e479605e48f');\n",
              "          const dataTable =\n",
              "            await google.colab.kernel.invokeFunction('convertToInteractive',\n",
              "                                                     [key], {});\n",
              "          if (!dataTable) return;\n",
              "\n",
              "          const docLinkHtml = 'Like what you see? Visit the ' +\n",
              "            '<a target=\"_blank\" href=https://colab.research.google.com/notebooks/data_table.ipynb>data table notebook</a>'\n",
              "            + ' to learn more about interactive tables.';\n",
              "          element.innerHTML = '';\n",
              "          dataTable['output_type'] = 'display_data';\n",
              "          await google.colab.output.renderOutput(dataTable, element);\n",
              "          const docLink = document.createElement('div');\n",
              "          docLink.innerHTML = docLinkHtml;\n",
              "          element.appendChild(docLink);\n",
              "        }\n",
              "      </script>\n",
              "    </div>\n",
              "  </div>\n",
              "  "
            ]
          },
          "metadata": {},
          "execution_count": 82
        }
      ],
      "source": [
        "df.head()"
      ]
    },
    {
      "cell_type": "code",
      "execution_count": 83,
      "id": "7ad4fbcc",
      "metadata": {
        "colab": {
          "base_uri": "https://localhost:8080/"
        },
        "id": "7ad4fbcc",
        "outputId": "fea1a1a5-4753-4ca6-9f40-83abcf3dcd40"
      },
      "outputs": [
        {
          "output_type": "execute_result",
          "data": {
            "text/plain": [
              "(240208, 11)"
            ]
          },
          "metadata": {},
          "execution_count": 83
        }
      ],
      "source": [
        "df.shape"
      ]
    },
    {
      "cell_type": "markdown",
      "id": "427b9966",
      "metadata": {
        "id": "427b9966"
      },
      "source": [
        "### Data preprocessing on 'price'"
      ]
    },
    {
      "cell_type": "code",
      "execution_count": 84,
      "id": "7632ad56",
      "metadata": {
        "id": "7632ad56"
      },
      "outputs": [],
      "source": [
        "df['price'] = df['price'].str.replace(\",\", \"\")\n",
        "df['price'] = pd.to_numeric(df['price'])"
      ]
    },
    {
      "cell_type": "markdown",
      "id": "f6c46a18",
      "metadata": {
        "id": "f6c46a18"
      },
      "source": [
        "### Data preprocessing on 'date'"
      ]
    },
    {
      "cell_type": "code",
      "execution_count": 85,
      "id": "12cab2c0",
      "metadata": {
        "id": "12cab2c0"
      },
      "outputs": [],
      "source": [
        "df[\"date\"]=pd.to_datetime(df[\"date\"])\n",
        "df[\"date\"]=df[\"date\"].dt.strftime(\"%m/%d/%Y\")\n"
      ]
    },
    {
      "cell_type": "code",
      "execution_count": 86,
      "id": "a13e704f",
      "metadata": {
        "colab": {
          "base_uri": "https://localhost:8080/"
        },
        "id": "a13e704f",
        "outputId": "9cff6bf7-93a2-4239-d599-0f0d86c039e2"
      },
      "outputs": [
        {
          "output_type": "stream",
          "name": "stdout",
          "text": [
            "0         05/03/2022\n",
            "1         03/18/2022\n",
            "2         09/03/2022\n",
            "3         03/15/2022\n",
            "4         03/22/2022\n",
            "             ...    \n",
            "240203    03/25/2022\n",
            "240204    02/15/2022\n",
            "240205    02/23/2022\n",
            "240206    11/02/2022\n",
            "240207    02/18/2022\n",
            "Name: date, Length: 240208, dtype: object\n"
          ]
        }
      ],
      "source": [
        "print(df[df.columns[0]])"
      ]
    },
    {
      "cell_type": "code",
      "execution_count": 87,
      "id": "f5876cf4",
      "metadata": {
        "colab": {
          "base_uri": "https://localhost:8080/"
        },
        "id": "f5876cf4",
        "outputId": "5be780d2-f0ab-48c2-f892-6f2c1e2e849d"
      },
      "outputs": [
        {
          "output_type": "execute_result",
          "data": {
            "text/plain": [
              "Int64Index([1, 4, 5, 1, 1, 6, 0, 0, 0, 1,\n",
              "            ...\n",
              "            3, 3, 0, 2, 3, 4, 1, 2, 2, 4],\n",
              "           dtype='int64', name='date', length=240208)"
            ]
          },
          "metadata": {},
          "execution_count": 87
        }
      ],
      "source": [
        "pd.DatetimeIndex(df[\"date\"]).weekday"
      ]
    },
    {
      "cell_type": "code",
      "execution_count": 88,
      "id": "9bc17394",
      "metadata": {
        "id": "9bc17394"
      },
      "outputs": [],
      "source": [
        "df['month'] = pd.DatetimeIndex(df['date']).month\n",
        "df['day'] = pd.DatetimeIndex(df['date']).day\n",
        "df['dayofyear'] = pd.DatetimeIndex(df['date']).dayofyear\n",
        "#df['weekofyear'] = pd.DatetimeIndex(df['date']).weekofyear"
      ]
    },
    {
      "cell_type": "code",
      "execution_count": 89,
      "id": "36149ff4",
      "metadata": {
        "id": "36149ff4"
      },
      "outputs": [],
      "source": [
        "#df = pd.get_dummies(df, columns=['month'], drop_first=True, prefix='month')"
      ]
    },
    {
      "cell_type": "markdown",
      "id": "d2592b83",
      "metadata": {
        "id": "d2592b83"
      },
      "source": [
        "### Data preprocessing : 'ch_code'"
      ]
    },
    {
      "cell_type": "code",
      "execution_count": 90,
      "id": "be69167d",
      "metadata": {
        "colab": {
          "base_uri": "https://localhost:8080/"
        },
        "id": "be69167d",
        "outputId": "8bbfc27d-f6ac-4679-c5f1-6db8fc20974d"
      },
      "outputs": [
        {
          "output_type": "stream",
          "name": "stdout",
          "text": [
            "0         7\n",
            "1         7\n",
            "2         3\n",
            "3         3\n",
            "4         7\n",
            "         ..\n",
            "240203    2\n",
            "240204    2\n",
            "240205    1\n",
            "240206    7\n",
            "240207    6\n",
            "Name: ch_code, Length: 240208, dtype: int64\n"
          ]
        },
        {
          "output_type": "stream",
          "name": "stderr",
          "text": [
            "/usr/local/lib/python3.7/dist-packages/sklearn/preprocessing/_label.py:115: DataConversionWarning: A column-vector y was passed when a 1d array was expected. Please change the shape of y to (n_samples, ), for example using ravel().\n",
            "  y = column_or_1d(y, warn=True)\n"
          ]
        }
      ],
      "source": [
        "lbl_enc = LabelEncoder()\n",
        "df['ch_code'] = lbl_enc.fit_transform(df[[\"ch_code\"]])\n",
        "print(df['ch_code'])"
      ]
    },
    {
      "cell_type": "markdown",
      "id": "c1772bdd",
      "metadata": {
        "id": "c1772bdd"
      },
      "source": [
        "### Data preprocessing : 'dep_time'"
      ]
    },
    {
      "cell_type": "code",
      "execution_count": 91,
      "id": "6e05c2ba",
      "metadata": {
        "id": "6e05c2ba"
      },
      "outputs": [],
      "source": [
        "#df[\"dep_time\"]=pd.to_datetime(df[\"dep_time\"])\n",
        "#df['dep_time'] = df['dep_time'].dt.strftime(\"%-H:%M\")"
      ]
    },
    {
      "cell_type": "code",
      "execution_count": 92,
      "id": "f1b15e94",
      "metadata": {
        "id": "f1b15e94"
      },
      "outputs": [],
      "source": [
        "#df[\"dep_hour\"]=pd.DatetimeIndex(df[\"dep_time\"]).hour\n",
        "#df[\"dep_minute\"]=pd.DatetimeIndex(df[\"dep_time\"]).minute"
      ]
    },
    {
      "cell_type": "markdown",
      "id": "3a14389f",
      "metadata": {
        "id": "3a14389f"
      },
      "source": [
        "### Data preprocessing : 'time_taken'"
      ]
    },
    {
      "cell_type": "code",
      "execution_count": 93,
      "id": "f9ead4fc",
      "metadata": {
        "colab": {
          "base_uri": "https://localhost:8080/",
          "height": 530
        },
        "id": "f9ead4fc",
        "outputId": "9a5aa6eb-3e5b-42be-d02f-336f439d935b"
      },
      "outputs": [
        {
          "output_type": "execute_result",
          "data": {
            "text/plain": [
              "         date   airline  ch_code  num_code dep_time time_taken  \\\n",
              "0  05/03/2022   Vistara        7       812     9:45    10h 10m   \n",
              "1  03/18/2022   Vistara        7       975     5:45    06h 30m   \n",
              "2  09/03/2022  GO FIRST        3      7537    14:30    08h 10m   \n",
              "3  03/15/2022  GO FIRST        3       287    10:40    09h 40m   \n",
              "4  03/22/2022   Vistara        7       826    12:30    07h 25m   \n",
              "\n",
              "                                                stop arr_time      type  \\\n",
              "0  1-stop\\n\\t\\t\\t\\t\\t\\t\\t\\t\\t\\t\\t\\t\\n\\t\\t\\t\\t\\t\\t...    19:55  business   \n",
              "1  1-stop\\n\\t\\t\\t\\t\\t\\t\\t\\t\\t\\t\\t\\t\\n\\t\\t\\t\\t\\t\\t...    12:15  business   \n",
              "2  1-stop\\n\\t\\t\\t\\t\\t\\t\\t\\t\\t\\t\\t\\t\\n\\t\\t\\t\\t\\t\\t...    22:40   economy   \n",
              "3  1-stop\\n\\t\\t\\t\\t\\t\\t\\t\\t\\t\\t\\t\\t\\n\\t\\t\\t\\t\\t\\t...    20:20   economy   \n",
              "4  1-stop\\n\\t\\t\\t\\t\\t\\t\\t\\t\\t\\t\\t\\t\\n\\t\\t\\t\\t\\t\\t...    19:55   economy   \n",
              "\n",
              "                                               route  price  month  day  \\\n",
              "0  {'source': 'Bangalore', 'destination': 'Hydera...  56588      5    3   \n",
              "1    {'source': 'Delhi', 'destination': 'Hyderabad'}  59649      3   18   \n",
              "2   {'source': 'Mumbai', 'destination': 'Hyderabad'}   3916      9    3   \n",
              "3       {'source': 'Mumbai', 'destination': 'Delhi'}   6031      3   15   \n",
              "4    {'source': 'Chennai', 'destination': 'Kolkata'}   7081      3   22   \n",
              "\n",
              "   dayofyear  hours_taken  minutes_taken  \n",
              "0        123         10.0           10.0  \n",
              "1         77          6.0           30.0  \n",
              "2        246          8.0           10.0  \n",
              "3         74          9.0           40.0  \n",
              "4         81          7.0           25.0  "
            ],
            "text/html": [
              "\n",
              "  <div id=\"df-5b22379a-c41e-448e-813a-d358e00763de\">\n",
              "    <div class=\"colab-df-container\">\n",
              "      <div>\n",
              "<style scoped>\n",
              "    .dataframe tbody tr th:only-of-type {\n",
              "        vertical-align: middle;\n",
              "    }\n",
              "\n",
              "    .dataframe tbody tr th {\n",
              "        vertical-align: top;\n",
              "    }\n",
              "\n",
              "    .dataframe thead th {\n",
              "        text-align: right;\n",
              "    }\n",
              "</style>\n",
              "<table border=\"1\" class=\"dataframe\">\n",
              "  <thead>\n",
              "    <tr style=\"text-align: right;\">\n",
              "      <th></th>\n",
              "      <th>date</th>\n",
              "      <th>airline</th>\n",
              "      <th>ch_code</th>\n",
              "      <th>num_code</th>\n",
              "      <th>dep_time</th>\n",
              "      <th>time_taken</th>\n",
              "      <th>stop</th>\n",
              "      <th>arr_time</th>\n",
              "      <th>type</th>\n",
              "      <th>route</th>\n",
              "      <th>price</th>\n",
              "      <th>month</th>\n",
              "      <th>day</th>\n",
              "      <th>dayofyear</th>\n",
              "      <th>hours_taken</th>\n",
              "      <th>minutes_taken</th>\n",
              "    </tr>\n",
              "  </thead>\n",
              "  <tbody>\n",
              "    <tr>\n",
              "      <th>0</th>\n",
              "      <td>05/03/2022</td>\n",
              "      <td>Vistara</td>\n",
              "      <td>7</td>\n",
              "      <td>812</td>\n",
              "      <td>9:45</td>\n",
              "      <td>10h 10m</td>\n",
              "      <td>1-stop\\n\\t\\t\\t\\t\\t\\t\\t\\t\\t\\t\\t\\t\\n\\t\\t\\t\\t\\t\\t...</td>\n",
              "      <td>19:55</td>\n",
              "      <td>business</td>\n",
              "      <td>{'source': 'Bangalore', 'destination': 'Hydera...</td>\n",
              "      <td>56588</td>\n",
              "      <td>5</td>\n",
              "      <td>3</td>\n",
              "      <td>123</td>\n",
              "      <td>10.0</td>\n",
              "      <td>10.0</td>\n",
              "    </tr>\n",
              "    <tr>\n",
              "      <th>1</th>\n",
              "      <td>03/18/2022</td>\n",
              "      <td>Vistara</td>\n",
              "      <td>7</td>\n",
              "      <td>975</td>\n",
              "      <td>5:45</td>\n",
              "      <td>06h 30m</td>\n",
              "      <td>1-stop\\n\\t\\t\\t\\t\\t\\t\\t\\t\\t\\t\\t\\t\\n\\t\\t\\t\\t\\t\\t...</td>\n",
              "      <td>12:15</td>\n",
              "      <td>business</td>\n",
              "      <td>{'source': 'Delhi', 'destination': 'Hyderabad'}</td>\n",
              "      <td>59649</td>\n",
              "      <td>3</td>\n",
              "      <td>18</td>\n",
              "      <td>77</td>\n",
              "      <td>6.0</td>\n",
              "      <td>30.0</td>\n",
              "    </tr>\n",
              "    <tr>\n",
              "      <th>2</th>\n",
              "      <td>09/03/2022</td>\n",
              "      <td>GO FIRST</td>\n",
              "      <td>3</td>\n",
              "      <td>7537</td>\n",
              "      <td>14:30</td>\n",
              "      <td>08h 10m</td>\n",
              "      <td>1-stop\\n\\t\\t\\t\\t\\t\\t\\t\\t\\t\\t\\t\\t\\n\\t\\t\\t\\t\\t\\t...</td>\n",
              "      <td>22:40</td>\n",
              "      <td>economy</td>\n",
              "      <td>{'source': 'Mumbai', 'destination': 'Hyderabad'}</td>\n",
              "      <td>3916</td>\n",
              "      <td>9</td>\n",
              "      <td>3</td>\n",
              "      <td>246</td>\n",
              "      <td>8.0</td>\n",
              "      <td>10.0</td>\n",
              "    </tr>\n",
              "    <tr>\n",
              "      <th>3</th>\n",
              "      <td>03/15/2022</td>\n",
              "      <td>GO FIRST</td>\n",
              "      <td>3</td>\n",
              "      <td>287</td>\n",
              "      <td>10:40</td>\n",
              "      <td>09h 40m</td>\n",
              "      <td>1-stop\\n\\t\\t\\t\\t\\t\\t\\t\\t\\t\\t\\t\\t\\n\\t\\t\\t\\t\\t\\t...</td>\n",
              "      <td>20:20</td>\n",
              "      <td>economy</td>\n",
              "      <td>{'source': 'Mumbai', 'destination': 'Delhi'}</td>\n",
              "      <td>6031</td>\n",
              "      <td>3</td>\n",
              "      <td>15</td>\n",
              "      <td>74</td>\n",
              "      <td>9.0</td>\n",
              "      <td>40.0</td>\n",
              "    </tr>\n",
              "    <tr>\n",
              "      <th>4</th>\n",
              "      <td>03/22/2022</td>\n",
              "      <td>Vistara</td>\n",
              "      <td>7</td>\n",
              "      <td>826</td>\n",
              "      <td>12:30</td>\n",
              "      <td>07h 25m</td>\n",
              "      <td>1-stop\\n\\t\\t\\t\\t\\t\\t\\t\\t\\t\\t\\t\\t\\n\\t\\t\\t\\t\\t\\t...</td>\n",
              "      <td>19:55</td>\n",
              "      <td>economy</td>\n",
              "      <td>{'source': 'Chennai', 'destination': 'Kolkata'}</td>\n",
              "      <td>7081</td>\n",
              "      <td>3</td>\n",
              "      <td>22</td>\n",
              "      <td>81</td>\n",
              "      <td>7.0</td>\n",
              "      <td>25.0</td>\n",
              "    </tr>\n",
              "  </tbody>\n",
              "</table>\n",
              "</div>\n",
              "      <button class=\"colab-df-convert\" onclick=\"convertToInteractive('df-5b22379a-c41e-448e-813a-d358e00763de')\"\n",
              "              title=\"Convert this dataframe to an interactive table.\"\n",
              "              style=\"display:none;\">\n",
              "        \n",
              "  <svg xmlns=\"http://www.w3.org/2000/svg\" height=\"24px\"viewBox=\"0 0 24 24\"\n",
              "       width=\"24px\">\n",
              "    <path d=\"M0 0h24v24H0V0z\" fill=\"none\"/>\n",
              "    <path d=\"M18.56 5.44l.94 2.06.94-2.06 2.06-.94-2.06-.94-.94-2.06-.94 2.06-2.06.94zm-11 1L8.5 8.5l.94-2.06 2.06-.94-2.06-.94L8.5 2.5l-.94 2.06-2.06.94zm10 10l.94 2.06.94-2.06 2.06-.94-2.06-.94-.94-2.06-.94 2.06-2.06.94z\"/><path d=\"M17.41 7.96l-1.37-1.37c-.4-.4-.92-.59-1.43-.59-.52 0-1.04.2-1.43.59L10.3 9.45l-7.72 7.72c-.78.78-.78 2.05 0 2.83L4 21.41c.39.39.9.59 1.41.59.51 0 1.02-.2 1.41-.59l7.78-7.78 2.81-2.81c.8-.78.8-2.07 0-2.86zM5.41 20L4 18.59l7.72-7.72 1.47 1.35L5.41 20z\"/>\n",
              "  </svg>\n",
              "      </button>\n",
              "      \n",
              "  <style>\n",
              "    .colab-df-container {\n",
              "      display:flex;\n",
              "      flex-wrap:wrap;\n",
              "      gap: 12px;\n",
              "    }\n",
              "\n",
              "    .colab-df-convert {\n",
              "      background-color: #E8F0FE;\n",
              "      border: none;\n",
              "      border-radius: 50%;\n",
              "      cursor: pointer;\n",
              "      display: none;\n",
              "      fill: #1967D2;\n",
              "      height: 32px;\n",
              "      padding: 0 0 0 0;\n",
              "      width: 32px;\n",
              "    }\n",
              "\n",
              "    .colab-df-convert:hover {\n",
              "      background-color: #E2EBFA;\n",
              "      box-shadow: 0px 1px 2px rgba(60, 64, 67, 0.3), 0px 1px 3px 1px rgba(60, 64, 67, 0.15);\n",
              "      fill: #174EA6;\n",
              "    }\n",
              "\n",
              "    [theme=dark] .colab-df-convert {\n",
              "      background-color: #3B4455;\n",
              "      fill: #D2E3FC;\n",
              "    }\n",
              "\n",
              "    [theme=dark] .colab-df-convert:hover {\n",
              "      background-color: #434B5C;\n",
              "      box-shadow: 0px 1px 3px 1px rgba(0, 0, 0, 0.15);\n",
              "      filter: drop-shadow(0px 1px 2px rgba(0, 0, 0, 0.3));\n",
              "      fill: #FFFFFF;\n",
              "    }\n",
              "  </style>\n",
              "\n",
              "      <script>\n",
              "        const buttonEl =\n",
              "          document.querySelector('#df-5b22379a-c41e-448e-813a-d358e00763de button.colab-df-convert');\n",
              "        buttonEl.style.display =\n",
              "          google.colab.kernel.accessAllowed ? 'block' : 'none';\n",
              "\n",
              "        async function convertToInteractive(key) {\n",
              "          const element = document.querySelector('#df-5b22379a-c41e-448e-813a-d358e00763de');\n",
              "          const dataTable =\n",
              "            await google.colab.kernel.invokeFunction('convertToInteractive',\n",
              "                                                     [key], {});\n",
              "          if (!dataTable) return;\n",
              "\n",
              "          const docLinkHtml = 'Like what you see? Visit the ' +\n",
              "            '<a target=\"_blank\" href=https://colab.research.google.com/notebooks/data_table.ipynb>data table notebook</a>'\n",
              "            + ' to learn more about interactive tables.';\n",
              "          element.innerHTML = '';\n",
              "          dataTable['output_type'] = 'display_data';\n",
              "          await google.colab.output.renderOutput(dataTable, element);\n",
              "          const docLink = document.createElement('div');\n",
              "          docLink.innerHTML = docLinkHtml;\n",
              "          element.appendChild(docLink);\n",
              "        }\n",
              "      </script>\n",
              "    </div>\n",
              "  </div>\n",
              "  "
            ]
          },
          "metadata": {},
          "execution_count": 93
        }
      ],
      "source": [
        "df[\"hours_taken\"] = df[\"time_taken\"].str.split('h').str.get(0)\n",
        "df[\"minutes_taken\"] = df[\"time_taken\"].str[4:6]\n",
        "df[\"minutes_taken\"] = df[\"minutes_taken\"].str.replace('m', '')\n",
        "df[\"minutes_taken\"] = df[\"minutes_taken\"].str.replace('h', '')\n",
        "df[\"hours_taken\"] = pd.to_numeric(df[\"hours_taken\"])\n",
        "df[\"minutes_taken\"] = pd.to_numeric(df[\"minutes_taken\"], errors='coerce')\n",
        "df.head()"
      ]
    },
    {
      "cell_type": "code",
      "execution_count": 93,
      "id": "2efc3a58",
      "metadata": {
        "id": "2efc3a58"
      },
      "outputs": [],
      "source": [
        ""
      ]
    },
    {
      "cell_type": "markdown",
      "id": "09a4e946",
      "metadata": {
        "id": "09a4e946"
      },
      "source": [
        "### Data preprocessing : 'stop'"
      ]
    },
    {
      "cell_type": "code",
      "execution_count": 94,
      "id": "741e2d89",
      "metadata": {
        "id": "741e2d89"
      },
      "outputs": [],
      "source": [
        "df[\"stop\"] = df[\"stop\"].str.split('-').str.get(0)\n",
        "df[\"stop\"] = df[\"stop\"].replace(['non'], 0)\n",
        "df.isna().sum() #  28944 null vals\n",
        "df[\"stop\"] = df[\"stop\"].replace(['2+'], 2) # Indicates for 2 or more stops\n",
        "df['stop'] = df['stop'].fillna(0)\n",
        "df['stop'] = pd.to_numeric(df['stop'])\n",
        "# print(df[9:14])"
      ]
    },
    {
      "cell_type": "markdown",
      "id": "6a1acd72",
      "metadata": {
        "id": "6a1acd72"
      },
      "source": [
        "### Data preprocessing : 'arr_time'"
      ]
    },
    {
      "cell_type": "code",
      "execution_count": 95,
      "id": "cdf8728d",
      "metadata": {
        "id": "cdf8728d"
      },
      "outputs": [],
      "source": [
        "# df[\"arr_time\"]=pd.to_datetime(df[\"arr_time\"])\n",
        "# df['arr_time'] = df['arr_time'].dt.strftime(\"%-H:%M\")\n",
        "# df[\"arr_hour\"]=pd.DatetimeIndex(df[\"arr_time\"]).hour\n",
        "# df[\"arr_minute\"]=pd.DatetimeIndex(df[\"arr_time\"]).minute\n",
        "# df[\"arr_hour\"] = pd.to_numeric(df[\"arr_hour\"])\n",
        "# df[\"arr_minute\"] = pd.to_numeric(df[\"arr_minute\"])\n",
        "# df.head()\n"
      ]
    },
    {
      "cell_type": "markdown",
      "id": "97baca88",
      "metadata": {
        "id": "97baca88"
      },
      "source": [
        "### Data preprocessing : 'type'"
      ]
    },
    {
      "cell_type": "code",
      "execution_count": 96,
      "id": "caaad41c",
      "metadata": {
        "colab": {
          "base_uri": "https://localhost:8080/"
        },
        "id": "caaad41c",
        "outputId": "6330bd46-21d2-4404-9eb6-1cc0adcb9ff6"
      },
      "outputs": [
        {
          "output_type": "stream",
          "name": "stdout",
          "text": [
            "0         0\n",
            "1         0\n",
            "2         1\n",
            "3         1\n",
            "4         1\n",
            "         ..\n",
            "240203    1\n",
            "240204    0\n",
            "240205    1\n",
            "240206    1\n",
            "240207    1\n",
            "Name: type, Length: 240208, dtype: int64\n"
          ]
        },
        {
          "output_type": "stream",
          "name": "stderr",
          "text": [
            "/usr/local/lib/python3.7/dist-packages/sklearn/preprocessing/_label.py:115: DataConversionWarning: A column-vector y was passed when a 1d array was expected. Please change the shape of y to (n_samples, ), for example using ravel().\n",
            "  y = column_or_1d(y, warn=True)\n"
          ]
        }
      ],
      "source": [
        "df['type'] = lbl_enc.fit_transform(df[[\"type\"]])\n",
        "print(df['type'])"
      ]
    },
    {
      "cell_type": "markdown",
      "id": "a34c0c51",
      "metadata": {
        "id": "a34c0c51"
      },
      "source": [
        "### Data preprocessing : 'route'"
      ]
    },
    {
      "cell_type": "code",
      "execution_count": 97,
      "id": "855d039a",
      "metadata": {
        "id": "855d039a"
      },
      "outputs": [],
      "source": [
        "df['source'] = df['route'].str.split( ', ').str.get(0).str.split(':').str.get(1)\n",
        "df['destination'] = df['route'].str.split( ', ').str.get(1).str.split(':').str.get(1).str.split('}').str.get(0)\n",
        "df['source'] = df['source'].str.replace('\\'', \"\")\n",
        "df['destination'] = df['destination'].str.replace('\\'', \"\")"
      ]
    },
    {
      "cell_type": "code",
      "execution_count": 98,
      "id": "b34252e5",
      "metadata": {
        "colab": {
          "base_uri": "https://localhost:8080/",
          "height": 530
        },
        "id": "b34252e5",
        "outputId": "4e44e374-e0fb-4225-a15b-89af41bb921e"
      },
      "outputs": [
        {
          "output_type": "execute_result",
          "data": {
            "text/plain": [
              "         date   airline  ch_code  num_code dep_time time_taken  stop arr_time  \\\n",
              "0  05/03/2022   Vistara        7       812     9:45    10h 10m     1    19:55   \n",
              "1  03/18/2022   Vistara        7       975     5:45    06h 30m     1    12:15   \n",
              "2  09/03/2022  GO FIRST        3      7537    14:30    08h 10m     1    22:40   \n",
              "3  03/15/2022  GO FIRST        3       287    10:40    09h 40m     1    20:20   \n",
              "4  03/22/2022   Vistara        7       826    12:30    07h 25m     1    19:55   \n",
              "\n",
              "   type                                              route  price  month  day  \\\n",
              "0     0  {'source': 'Bangalore', 'destination': 'Hydera...  56588      5    3   \n",
              "1     0    {'source': 'Delhi', 'destination': 'Hyderabad'}  59649      3   18   \n",
              "2     1   {'source': 'Mumbai', 'destination': 'Hyderabad'}   3916      9    3   \n",
              "3     1       {'source': 'Mumbai', 'destination': 'Delhi'}   6031      3   15   \n",
              "4     1    {'source': 'Chennai', 'destination': 'Kolkata'}   7081      3   22   \n",
              "\n",
              "   dayofyear  hours_taken  minutes_taken      source destination  \n",
              "0        123         10.0           10.0   Bangalore   Hyderabad  \n",
              "1         77          6.0           30.0       Delhi   Hyderabad  \n",
              "2        246          8.0           10.0      Mumbai   Hyderabad  \n",
              "3         74          9.0           40.0      Mumbai       Delhi  \n",
              "4         81          7.0           25.0     Chennai     Kolkata  "
            ],
            "text/html": [
              "\n",
              "  <div id=\"df-df172b74-8685-4c78-8683-86b6a21a7fa1\">\n",
              "    <div class=\"colab-df-container\">\n",
              "      <div>\n",
              "<style scoped>\n",
              "    .dataframe tbody tr th:only-of-type {\n",
              "        vertical-align: middle;\n",
              "    }\n",
              "\n",
              "    .dataframe tbody tr th {\n",
              "        vertical-align: top;\n",
              "    }\n",
              "\n",
              "    .dataframe thead th {\n",
              "        text-align: right;\n",
              "    }\n",
              "</style>\n",
              "<table border=\"1\" class=\"dataframe\">\n",
              "  <thead>\n",
              "    <tr style=\"text-align: right;\">\n",
              "      <th></th>\n",
              "      <th>date</th>\n",
              "      <th>airline</th>\n",
              "      <th>ch_code</th>\n",
              "      <th>num_code</th>\n",
              "      <th>dep_time</th>\n",
              "      <th>time_taken</th>\n",
              "      <th>stop</th>\n",
              "      <th>arr_time</th>\n",
              "      <th>type</th>\n",
              "      <th>route</th>\n",
              "      <th>price</th>\n",
              "      <th>month</th>\n",
              "      <th>day</th>\n",
              "      <th>dayofyear</th>\n",
              "      <th>hours_taken</th>\n",
              "      <th>minutes_taken</th>\n",
              "      <th>source</th>\n",
              "      <th>destination</th>\n",
              "    </tr>\n",
              "  </thead>\n",
              "  <tbody>\n",
              "    <tr>\n",
              "      <th>0</th>\n",
              "      <td>05/03/2022</td>\n",
              "      <td>Vistara</td>\n",
              "      <td>7</td>\n",
              "      <td>812</td>\n",
              "      <td>9:45</td>\n",
              "      <td>10h 10m</td>\n",
              "      <td>1</td>\n",
              "      <td>19:55</td>\n",
              "      <td>0</td>\n",
              "      <td>{'source': 'Bangalore', 'destination': 'Hydera...</td>\n",
              "      <td>56588</td>\n",
              "      <td>5</td>\n",
              "      <td>3</td>\n",
              "      <td>123</td>\n",
              "      <td>10.0</td>\n",
              "      <td>10.0</td>\n",
              "      <td>Bangalore</td>\n",
              "      <td>Hyderabad</td>\n",
              "    </tr>\n",
              "    <tr>\n",
              "      <th>1</th>\n",
              "      <td>03/18/2022</td>\n",
              "      <td>Vistara</td>\n",
              "      <td>7</td>\n",
              "      <td>975</td>\n",
              "      <td>5:45</td>\n",
              "      <td>06h 30m</td>\n",
              "      <td>1</td>\n",
              "      <td>12:15</td>\n",
              "      <td>0</td>\n",
              "      <td>{'source': 'Delhi', 'destination': 'Hyderabad'}</td>\n",
              "      <td>59649</td>\n",
              "      <td>3</td>\n",
              "      <td>18</td>\n",
              "      <td>77</td>\n",
              "      <td>6.0</td>\n",
              "      <td>30.0</td>\n",
              "      <td>Delhi</td>\n",
              "      <td>Hyderabad</td>\n",
              "    </tr>\n",
              "    <tr>\n",
              "      <th>2</th>\n",
              "      <td>09/03/2022</td>\n",
              "      <td>GO FIRST</td>\n",
              "      <td>3</td>\n",
              "      <td>7537</td>\n",
              "      <td>14:30</td>\n",
              "      <td>08h 10m</td>\n",
              "      <td>1</td>\n",
              "      <td>22:40</td>\n",
              "      <td>1</td>\n",
              "      <td>{'source': 'Mumbai', 'destination': 'Hyderabad'}</td>\n",
              "      <td>3916</td>\n",
              "      <td>9</td>\n",
              "      <td>3</td>\n",
              "      <td>246</td>\n",
              "      <td>8.0</td>\n",
              "      <td>10.0</td>\n",
              "      <td>Mumbai</td>\n",
              "      <td>Hyderabad</td>\n",
              "    </tr>\n",
              "    <tr>\n",
              "      <th>3</th>\n",
              "      <td>03/15/2022</td>\n",
              "      <td>GO FIRST</td>\n",
              "      <td>3</td>\n",
              "      <td>287</td>\n",
              "      <td>10:40</td>\n",
              "      <td>09h 40m</td>\n",
              "      <td>1</td>\n",
              "      <td>20:20</td>\n",
              "      <td>1</td>\n",
              "      <td>{'source': 'Mumbai', 'destination': 'Delhi'}</td>\n",
              "      <td>6031</td>\n",
              "      <td>3</td>\n",
              "      <td>15</td>\n",
              "      <td>74</td>\n",
              "      <td>9.0</td>\n",
              "      <td>40.0</td>\n",
              "      <td>Mumbai</td>\n",
              "      <td>Delhi</td>\n",
              "    </tr>\n",
              "    <tr>\n",
              "      <th>4</th>\n",
              "      <td>03/22/2022</td>\n",
              "      <td>Vistara</td>\n",
              "      <td>7</td>\n",
              "      <td>826</td>\n",
              "      <td>12:30</td>\n",
              "      <td>07h 25m</td>\n",
              "      <td>1</td>\n",
              "      <td>19:55</td>\n",
              "      <td>1</td>\n",
              "      <td>{'source': 'Chennai', 'destination': 'Kolkata'}</td>\n",
              "      <td>7081</td>\n",
              "      <td>3</td>\n",
              "      <td>22</td>\n",
              "      <td>81</td>\n",
              "      <td>7.0</td>\n",
              "      <td>25.0</td>\n",
              "      <td>Chennai</td>\n",
              "      <td>Kolkata</td>\n",
              "    </tr>\n",
              "  </tbody>\n",
              "</table>\n",
              "</div>\n",
              "      <button class=\"colab-df-convert\" onclick=\"convertToInteractive('df-df172b74-8685-4c78-8683-86b6a21a7fa1')\"\n",
              "              title=\"Convert this dataframe to an interactive table.\"\n",
              "              style=\"display:none;\">\n",
              "        \n",
              "  <svg xmlns=\"http://www.w3.org/2000/svg\" height=\"24px\"viewBox=\"0 0 24 24\"\n",
              "       width=\"24px\">\n",
              "    <path d=\"M0 0h24v24H0V0z\" fill=\"none\"/>\n",
              "    <path d=\"M18.56 5.44l.94 2.06.94-2.06 2.06-.94-2.06-.94-.94-2.06-.94 2.06-2.06.94zm-11 1L8.5 8.5l.94-2.06 2.06-.94-2.06-.94L8.5 2.5l-.94 2.06-2.06.94zm10 10l.94 2.06.94-2.06 2.06-.94-2.06-.94-.94-2.06-.94 2.06-2.06.94z\"/><path d=\"M17.41 7.96l-1.37-1.37c-.4-.4-.92-.59-1.43-.59-.52 0-1.04.2-1.43.59L10.3 9.45l-7.72 7.72c-.78.78-.78 2.05 0 2.83L4 21.41c.39.39.9.59 1.41.59.51 0 1.02-.2 1.41-.59l7.78-7.78 2.81-2.81c.8-.78.8-2.07 0-2.86zM5.41 20L4 18.59l7.72-7.72 1.47 1.35L5.41 20z\"/>\n",
              "  </svg>\n",
              "      </button>\n",
              "      \n",
              "  <style>\n",
              "    .colab-df-container {\n",
              "      display:flex;\n",
              "      flex-wrap:wrap;\n",
              "      gap: 12px;\n",
              "    }\n",
              "\n",
              "    .colab-df-convert {\n",
              "      background-color: #E8F0FE;\n",
              "      border: none;\n",
              "      border-radius: 50%;\n",
              "      cursor: pointer;\n",
              "      display: none;\n",
              "      fill: #1967D2;\n",
              "      height: 32px;\n",
              "      padding: 0 0 0 0;\n",
              "      width: 32px;\n",
              "    }\n",
              "\n",
              "    .colab-df-convert:hover {\n",
              "      background-color: #E2EBFA;\n",
              "      box-shadow: 0px 1px 2px rgba(60, 64, 67, 0.3), 0px 1px 3px 1px rgba(60, 64, 67, 0.15);\n",
              "      fill: #174EA6;\n",
              "    }\n",
              "\n",
              "    [theme=dark] .colab-df-convert {\n",
              "      background-color: #3B4455;\n",
              "      fill: #D2E3FC;\n",
              "    }\n",
              "\n",
              "    [theme=dark] .colab-df-convert:hover {\n",
              "      background-color: #434B5C;\n",
              "      box-shadow: 0px 1px 3px 1px rgba(0, 0, 0, 0.15);\n",
              "      filter: drop-shadow(0px 1px 2px rgba(0, 0, 0, 0.3));\n",
              "      fill: #FFFFFF;\n",
              "    }\n",
              "  </style>\n",
              "\n",
              "      <script>\n",
              "        const buttonEl =\n",
              "          document.querySelector('#df-df172b74-8685-4c78-8683-86b6a21a7fa1 button.colab-df-convert');\n",
              "        buttonEl.style.display =\n",
              "          google.colab.kernel.accessAllowed ? 'block' : 'none';\n",
              "\n",
              "        async function convertToInteractive(key) {\n",
              "          const element = document.querySelector('#df-df172b74-8685-4c78-8683-86b6a21a7fa1');\n",
              "          const dataTable =\n",
              "            await google.colab.kernel.invokeFunction('convertToInteractive',\n",
              "                                                     [key], {});\n",
              "          if (!dataTable) return;\n",
              "\n",
              "          const docLinkHtml = 'Like what you see? Visit the ' +\n",
              "            '<a target=\"_blank\" href=https://colab.research.google.com/notebooks/data_table.ipynb>data table notebook</a>'\n",
              "            + ' to learn more about interactive tables.';\n",
              "          element.innerHTML = '';\n",
              "          dataTable['output_type'] = 'display_data';\n",
              "          await google.colab.output.renderOutput(dataTable, element);\n",
              "          const docLink = document.createElement('div');\n",
              "          docLink.innerHTML = docLinkHtml;\n",
              "          element.appendChild(docLink);\n",
              "        }\n",
              "      </script>\n",
              "    </div>\n",
              "  </div>\n",
              "  "
            ]
          },
          "metadata": {},
          "execution_count": 98
        }
      ],
      "source": [
        "df.head()"
      ]
    },
    {
      "cell_type": "code",
      "execution_count": 99,
      "id": "3d59112a",
      "metadata": {
        "colab": {
          "base_uri": "https://localhost:8080/"
        },
        "id": "3d59112a",
        "outputId": "fa3fb220-12d1-4285-f082-d70ed5fa0f95"
      },
      "outputs": [
        {
          "output_type": "stream",
          "name": "stdout",
          "text": [
            "0         0\n",
            "1         2\n",
            "2         5\n",
            "3         5\n",
            "4         1\n",
            "         ..\n",
            "240203    1\n",
            "240204    2\n",
            "240205    2\n",
            "240206    2\n",
            "240207    4\n",
            "Name: source, Length: 240208, dtype: int64\n"
          ]
        },
        {
          "output_type": "stream",
          "name": "stderr",
          "text": [
            "/usr/local/lib/python3.7/dist-packages/sklearn/preprocessing/_label.py:115: DataConversionWarning: A column-vector y was passed when a 1d array was expected. Please change the shape of y to (n_samples, ), for example using ravel().\n",
            "  y = column_or_1d(y, warn=True)\n"
          ]
        }
      ],
      "source": [
        "df['source'] = lbl_enc.fit_transform(df[[\"source\"]])\n",
        "print(df['source'])"
      ]
    },
    {
      "cell_type": "code",
      "execution_count": 100,
      "id": "221127f8",
      "metadata": {
        "colab": {
          "base_uri": "https://localhost:8080/",
          "height": 482
        },
        "id": "221127f8",
        "outputId": "ffd8a0a0-7d3b-4da0-e3d9-f5a2c41b148b"
      },
      "outputs": [
        {
          "output_type": "stream",
          "name": "stderr",
          "text": [
            "/usr/local/lib/python3.7/dist-packages/sklearn/preprocessing/_label.py:115: DataConversionWarning: A column-vector y was passed when a 1d array was expected. Please change the shape of y to (n_samples, ), for example using ravel().\n",
            "  y = column_or_1d(y, warn=True)\n"
          ]
        },
        {
          "output_type": "stream",
          "name": "stdout",
          "text": [
            "0         3\n",
            "1         3\n",
            "2         3\n",
            "3         2\n",
            "4         4\n",
            "         ..\n",
            "240203    3\n",
            "240204    4\n",
            "240205    0\n",
            "240206    5\n",
            "240207    3\n",
            "Name: destination, Length: 240208, dtype: int64\n"
          ]
        },
        {
          "output_type": "execute_result",
          "data": {
            "text/plain": [
              "   ch_code  num_code  stop  type  price  month  day  dayofyear  hours_taken  \\\n",
              "0        7       812     1     0  56588      5    3        123         10.0   \n",
              "1        7       975     1     0  59649      3   18         77          6.0   \n",
              "2        3      7537     1     1   3916      9    3        246          8.0   \n",
              "3        3       287     1     1   6031      3   15         74          9.0   \n",
              "4        7       826     1     1   7081      3   22         81          7.0   \n",
              "\n",
              "   minutes_taken  source  destination  \n",
              "0           10.0       0            3  \n",
              "1           30.0       2            3  \n",
              "2           10.0       5            3  \n",
              "3           40.0       5            2  \n",
              "4           25.0       1            4  "
            ],
            "text/html": [
              "\n",
              "  <div id=\"df-85d0d225-de83-4c4c-888e-23ba8bfd081c\">\n",
              "    <div class=\"colab-df-container\">\n",
              "      <div>\n",
              "<style scoped>\n",
              "    .dataframe tbody tr th:only-of-type {\n",
              "        vertical-align: middle;\n",
              "    }\n",
              "\n",
              "    .dataframe tbody tr th {\n",
              "        vertical-align: top;\n",
              "    }\n",
              "\n",
              "    .dataframe thead th {\n",
              "        text-align: right;\n",
              "    }\n",
              "</style>\n",
              "<table border=\"1\" class=\"dataframe\">\n",
              "  <thead>\n",
              "    <tr style=\"text-align: right;\">\n",
              "      <th></th>\n",
              "      <th>ch_code</th>\n",
              "      <th>num_code</th>\n",
              "      <th>stop</th>\n",
              "      <th>type</th>\n",
              "      <th>price</th>\n",
              "      <th>month</th>\n",
              "      <th>day</th>\n",
              "      <th>dayofyear</th>\n",
              "      <th>hours_taken</th>\n",
              "      <th>minutes_taken</th>\n",
              "      <th>source</th>\n",
              "      <th>destination</th>\n",
              "    </tr>\n",
              "  </thead>\n",
              "  <tbody>\n",
              "    <tr>\n",
              "      <th>0</th>\n",
              "      <td>7</td>\n",
              "      <td>812</td>\n",
              "      <td>1</td>\n",
              "      <td>0</td>\n",
              "      <td>56588</td>\n",
              "      <td>5</td>\n",
              "      <td>3</td>\n",
              "      <td>123</td>\n",
              "      <td>10.0</td>\n",
              "      <td>10.0</td>\n",
              "      <td>0</td>\n",
              "      <td>3</td>\n",
              "    </tr>\n",
              "    <tr>\n",
              "      <th>1</th>\n",
              "      <td>7</td>\n",
              "      <td>975</td>\n",
              "      <td>1</td>\n",
              "      <td>0</td>\n",
              "      <td>59649</td>\n",
              "      <td>3</td>\n",
              "      <td>18</td>\n",
              "      <td>77</td>\n",
              "      <td>6.0</td>\n",
              "      <td>30.0</td>\n",
              "      <td>2</td>\n",
              "      <td>3</td>\n",
              "    </tr>\n",
              "    <tr>\n",
              "      <th>2</th>\n",
              "      <td>3</td>\n",
              "      <td>7537</td>\n",
              "      <td>1</td>\n",
              "      <td>1</td>\n",
              "      <td>3916</td>\n",
              "      <td>9</td>\n",
              "      <td>3</td>\n",
              "      <td>246</td>\n",
              "      <td>8.0</td>\n",
              "      <td>10.0</td>\n",
              "      <td>5</td>\n",
              "      <td>3</td>\n",
              "    </tr>\n",
              "    <tr>\n",
              "      <th>3</th>\n",
              "      <td>3</td>\n",
              "      <td>287</td>\n",
              "      <td>1</td>\n",
              "      <td>1</td>\n",
              "      <td>6031</td>\n",
              "      <td>3</td>\n",
              "      <td>15</td>\n",
              "      <td>74</td>\n",
              "      <td>9.0</td>\n",
              "      <td>40.0</td>\n",
              "      <td>5</td>\n",
              "      <td>2</td>\n",
              "    </tr>\n",
              "    <tr>\n",
              "      <th>4</th>\n",
              "      <td>7</td>\n",
              "      <td>826</td>\n",
              "      <td>1</td>\n",
              "      <td>1</td>\n",
              "      <td>7081</td>\n",
              "      <td>3</td>\n",
              "      <td>22</td>\n",
              "      <td>81</td>\n",
              "      <td>7.0</td>\n",
              "      <td>25.0</td>\n",
              "      <td>1</td>\n",
              "      <td>4</td>\n",
              "    </tr>\n",
              "  </tbody>\n",
              "</table>\n",
              "</div>\n",
              "      <button class=\"colab-df-convert\" onclick=\"convertToInteractive('df-85d0d225-de83-4c4c-888e-23ba8bfd081c')\"\n",
              "              title=\"Convert this dataframe to an interactive table.\"\n",
              "              style=\"display:none;\">\n",
              "        \n",
              "  <svg xmlns=\"http://www.w3.org/2000/svg\" height=\"24px\"viewBox=\"0 0 24 24\"\n",
              "       width=\"24px\">\n",
              "    <path d=\"M0 0h24v24H0V0z\" fill=\"none\"/>\n",
              "    <path d=\"M18.56 5.44l.94 2.06.94-2.06 2.06-.94-2.06-.94-.94-2.06-.94 2.06-2.06.94zm-11 1L8.5 8.5l.94-2.06 2.06-.94-2.06-.94L8.5 2.5l-.94 2.06-2.06.94zm10 10l.94 2.06.94-2.06 2.06-.94-2.06-.94-.94-2.06-.94 2.06-2.06.94z\"/><path d=\"M17.41 7.96l-1.37-1.37c-.4-.4-.92-.59-1.43-.59-.52 0-1.04.2-1.43.59L10.3 9.45l-7.72 7.72c-.78.78-.78 2.05 0 2.83L4 21.41c.39.39.9.59 1.41.59.51 0 1.02-.2 1.41-.59l7.78-7.78 2.81-2.81c.8-.78.8-2.07 0-2.86zM5.41 20L4 18.59l7.72-7.72 1.47 1.35L5.41 20z\"/>\n",
              "  </svg>\n",
              "      </button>\n",
              "      \n",
              "  <style>\n",
              "    .colab-df-container {\n",
              "      display:flex;\n",
              "      flex-wrap:wrap;\n",
              "      gap: 12px;\n",
              "    }\n",
              "\n",
              "    .colab-df-convert {\n",
              "      background-color: #E8F0FE;\n",
              "      border: none;\n",
              "      border-radius: 50%;\n",
              "      cursor: pointer;\n",
              "      display: none;\n",
              "      fill: #1967D2;\n",
              "      height: 32px;\n",
              "      padding: 0 0 0 0;\n",
              "      width: 32px;\n",
              "    }\n",
              "\n",
              "    .colab-df-convert:hover {\n",
              "      background-color: #E2EBFA;\n",
              "      box-shadow: 0px 1px 2px rgba(60, 64, 67, 0.3), 0px 1px 3px 1px rgba(60, 64, 67, 0.15);\n",
              "      fill: #174EA6;\n",
              "    }\n",
              "\n",
              "    [theme=dark] .colab-df-convert {\n",
              "      background-color: #3B4455;\n",
              "      fill: #D2E3FC;\n",
              "    }\n",
              "\n",
              "    [theme=dark] .colab-df-convert:hover {\n",
              "      background-color: #434B5C;\n",
              "      box-shadow: 0px 1px 3px 1px rgba(0, 0, 0, 0.15);\n",
              "      filter: drop-shadow(0px 1px 2px rgba(0, 0, 0, 0.3));\n",
              "      fill: #FFFFFF;\n",
              "    }\n",
              "  </style>\n",
              "\n",
              "      <script>\n",
              "        const buttonEl =\n",
              "          document.querySelector('#df-85d0d225-de83-4c4c-888e-23ba8bfd081c button.colab-df-convert');\n",
              "        buttonEl.style.display =\n",
              "          google.colab.kernel.accessAllowed ? 'block' : 'none';\n",
              "\n",
              "        async function convertToInteractive(key) {\n",
              "          const element = document.querySelector('#df-85d0d225-de83-4c4c-888e-23ba8bfd081c');\n",
              "          const dataTable =\n",
              "            await google.colab.kernel.invokeFunction('convertToInteractive',\n",
              "                                                     [key], {});\n",
              "          if (!dataTable) return;\n",
              "\n",
              "          const docLinkHtml = 'Like what you see? Visit the ' +\n",
              "            '<a target=\"_blank\" href=https://colab.research.google.com/notebooks/data_table.ipynb>data table notebook</a>'\n",
              "            + ' to learn more about interactive tables.';\n",
              "          element.innerHTML = '';\n",
              "          dataTable['output_type'] = 'display_data';\n",
              "          await google.colab.output.renderOutput(dataTable, element);\n",
              "          const docLink = document.createElement('div');\n",
              "          docLink.innerHTML = docLinkHtml;\n",
              "          element.appendChild(docLink);\n",
              "        }\n",
              "      </script>\n",
              "    </div>\n",
              "  </div>\n",
              "  "
            ]
          },
          "metadata": {},
          "execution_count": 100
        }
      ],
      "source": [
        "df['destination'] = lbl_enc.fit_transform(df[[\"destination\"]])\n",
        "print(df['destination'])\n",
        "df = df.dropna()\n",
        "df = df.drop(['airline', 'date', 'dep_time', \"time_taken\", 'arr_time', 'route',], axis=1)\n",
        "df.head()\n",
        "#df = pd.get_dummies(df)"
      ]
    },
    {
      "cell_type": "code",
      "execution_count": 101,
      "id": "5e5b7200",
      "metadata": {
        "colab": {
          "base_uri": "https://localhost:8080/"
        },
        "id": "5e5b7200",
        "outputId": "22352f5f-2546-4af3-b502-11f6ca38de70"
      },
      "outputs": [
        {
          "output_type": "stream",
          "name": "stdout",
          "text": [
            "Index(['ch_code', 'num_code', 'stop', 'type', 'price', 'month', 'day',\n",
            "       'dayofyear', 'hours_taken', 'minutes_taken', 'source', 'destination'],\n",
            "      dtype='object')\n"
          ]
        }
      ],
      "source": [
        "print(df.columns)"
      ]
    },
    {
      "cell_type": "code",
      "execution_count": 148,
      "id": "e42dc728",
      "metadata": {
        "colab": {
          "base_uri": "https://localhost:8080/",
          "height": 206
        },
        "id": "e42dc728",
        "outputId": "d2108828-c071-442c-b914-43591a234435"
      },
      "outputs": [
        {
          "output_type": "execute_result",
          "data": {
            "text/plain": [
              "    ch_code  num_code      stop      type     price     month       day  \\\n",
              "0  1.079057 -0.308075  0.191497 -1.489273  1.574051  0.450887 -1.416702   \n",
              "1  1.079057 -0.225785  0.191497 -1.489273  1.708911 -0.279549  0.184016   \n",
              "2 -0.512101  3.087034  0.191497  0.671468 -0.746538  1.911760 -1.416702   \n",
              "3 -0.512101 -0.573121  0.191497  0.671468 -0.653357 -0.279549 -0.136128   \n",
              "4  1.079057 -0.301007  0.191497  0.671468 -0.607097 -0.279549  0.610874   \n",
              "\n",
              "   dayofyear  hours_taken  minutes_taken    source  destination  \n",
              "0   0.301149    -0.244881      -0.950153 -1.469249     0.236472  \n",
              "1  -0.291292    -0.800249       0.202175 -0.327885     0.236472  \n",
              "2   1.885283    -0.522565      -0.950153  1.384162     0.236472  \n",
              "3  -0.329929    -0.383723       0.778339  1.384162    -0.336562  \n",
              "4  -0.239775    -0.661407      -0.085907 -0.898567     0.809506  "
            ],
            "text/html": [
              "\n",
              "  <div id=\"df-0d2d2d9b-7143-420d-98d7-6ab1c3d4d3a5\">\n",
              "    <div class=\"colab-df-container\">\n",
              "      <div>\n",
              "<style scoped>\n",
              "    .dataframe tbody tr th:only-of-type {\n",
              "        vertical-align: middle;\n",
              "    }\n",
              "\n",
              "    .dataframe tbody tr th {\n",
              "        vertical-align: top;\n",
              "    }\n",
              "\n",
              "    .dataframe thead th {\n",
              "        text-align: right;\n",
              "    }\n",
              "</style>\n",
              "<table border=\"1\" class=\"dataframe\">\n",
              "  <thead>\n",
              "    <tr style=\"text-align: right;\">\n",
              "      <th></th>\n",
              "      <th>ch_code</th>\n",
              "      <th>num_code</th>\n",
              "      <th>stop</th>\n",
              "      <th>type</th>\n",
              "      <th>price</th>\n",
              "      <th>month</th>\n",
              "      <th>day</th>\n",
              "      <th>dayofyear</th>\n",
              "      <th>hours_taken</th>\n",
              "      <th>minutes_taken</th>\n",
              "      <th>source</th>\n",
              "      <th>destination</th>\n",
              "    </tr>\n",
              "  </thead>\n",
              "  <tbody>\n",
              "    <tr>\n",
              "      <th>0</th>\n",
              "      <td>1.079057</td>\n",
              "      <td>-0.308075</td>\n",
              "      <td>0.191497</td>\n",
              "      <td>-1.489273</td>\n",
              "      <td>1.574051</td>\n",
              "      <td>0.450887</td>\n",
              "      <td>-1.416702</td>\n",
              "      <td>0.301149</td>\n",
              "      <td>-0.244881</td>\n",
              "      <td>-0.950153</td>\n",
              "      <td>-1.469249</td>\n",
              "      <td>0.236472</td>\n",
              "    </tr>\n",
              "    <tr>\n",
              "      <th>1</th>\n",
              "      <td>1.079057</td>\n",
              "      <td>-0.225785</td>\n",
              "      <td>0.191497</td>\n",
              "      <td>-1.489273</td>\n",
              "      <td>1.708911</td>\n",
              "      <td>-0.279549</td>\n",
              "      <td>0.184016</td>\n",
              "      <td>-0.291292</td>\n",
              "      <td>-0.800249</td>\n",
              "      <td>0.202175</td>\n",
              "      <td>-0.327885</td>\n",
              "      <td>0.236472</td>\n",
              "    </tr>\n",
              "    <tr>\n",
              "      <th>2</th>\n",
              "      <td>-0.512101</td>\n",
              "      <td>3.087034</td>\n",
              "      <td>0.191497</td>\n",
              "      <td>0.671468</td>\n",
              "      <td>-0.746538</td>\n",
              "      <td>1.911760</td>\n",
              "      <td>-1.416702</td>\n",
              "      <td>1.885283</td>\n",
              "      <td>-0.522565</td>\n",
              "      <td>-0.950153</td>\n",
              "      <td>1.384162</td>\n",
              "      <td>0.236472</td>\n",
              "    </tr>\n",
              "    <tr>\n",
              "      <th>3</th>\n",
              "      <td>-0.512101</td>\n",
              "      <td>-0.573121</td>\n",
              "      <td>0.191497</td>\n",
              "      <td>0.671468</td>\n",
              "      <td>-0.653357</td>\n",
              "      <td>-0.279549</td>\n",
              "      <td>-0.136128</td>\n",
              "      <td>-0.329929</td>\n",
              "      <td>-0.383723</td>\n",
              "      <td>0.778339</td>\n",
              "      <td>1.384162</td>\n",
              "      <td>-0.336562</td>\n",
              "    </tr>\n",
              "    <tr>\n",
              "      <th>4</th>\n",
              "      <td>1.079057</td>\n",
              "      <td>-0.301007</td>\n",
              "      <td>0.191497</td>\n",
              "      <td>0.671468</td>\n",
              "      <td>-0.607097</td>\n",
              "      <td>-0.279549</td>\n",
              "      <td>0.610874</td>\n",
              "      <td>-0.239775</td>\n",
              "      <td>-0.661407</td>\n",
              "      <td>-0.085907</td>\n",
              "      <td>-0.898567</td>\n",
              "      <td>0.809506</td>\n",
              "    </tr>\n",
              "  </tbody>\n",
              "</table>\n",
              "</div>\n",
              "      <button class=\"colab-df-convert\" onclick=\"convertToInteractive('df-0d2d2d9b-7143-420d-98d7-6ab1c3d4d3a5')\"\n",
              "              title=\"Convert this dataframe to an interactive table.\"\n",
              "              style=\"display:none;\">\n",
              "        \n",
              "  <svg xmlns=\"http://www.w3.org/2000/svg\" height=\"24px\"viewBox=\"0 0 24 24\"\n",
              "       width=\"24px\">\n",
              "    <path d=\"M0 0h24v24H0V0z\" fill=\"none\"/>\n",
              "    <path d=\"M18.56 5.44l.94 2.06.94-2.06 2.06-.94-2.06-.94-.94-2.06-.94 2.06-2.06.94zm-11 1L8.5 8.5l.94-2.06 2.06-.94-2.06-.94L8.5 2.5l-.94 2.06-2.06.94zm10 10l.94 2.06.94-2.06 2.06-.94-2.06-.94-.94-2.06-.94 2.06-2.06.94z\"/><path d=\"M17.41 7.96l-1.37-1.37c-.4-.4-.92-.59-1.43-.59-.52 0-1.04.2-1.43.59L10.3 9.45l-7.72 7.72c-.78.78-.78 2.05 0 2.83L4 21.41c.39.39.9.59 1.41.59.51 0 1.02-.2 1.41-.59l7.78-7.78 2.81-2.81c.8-.78.8-2.07 0-2.86zM5.41 20L4 18.59l7.72-7.72 1.47 1.35L5.41 20z\"/>\n",
              "  </svg>\n",
              "      </button>\n",
              "      \n",
              "  <style>\n",
              "    .colab-df-container {\n",
              "      display:flex;\n",
              "      flex-wrap:wrap;\n",
              "      gap: 12px;\n",
              "    }\n",
              "\n",
              "    .colab-df-convert {\n",
              "      background-color: #E8F0FE;\n",
              "      border: none;\n",
              "      border-radius: 50%;\n",
              "      cursor: pointer;\n",
              "      display: none;\n",
              "      fill: #1967D2;\n",
              "      height: 32px;\n",
              "      padding: 0 0 0 0;\n",
              "      width: 32px;\n",
              "    }\n",
              "\n",
              "    .colab-df-convert:hover {\n",
              "      background-color: #E2EBFA;\n",
              "      box-shadow: 0px 1px 2px rgba(60, 64, 67, 0.3), 0px 1px 3px 1px rgba(60, 64, 67, 0.15);\n",
              "      fill: #174EA6;\n",
              "    }\n",
              "\n",
              "    [theme=dark] .colab-df-convert {\n",
              "      background-color: #3B4455;\n",
              "      fill: #D2E3FC;\n",
              "    }\n",
              "\n",
              "    [theme=dark] .colab-df-convert:hover {\n",
              "      background-color: #434B5C;\n",
              "      box-shadow: 0px 1px 3px 1px rgba(0, 0, 0, 0.15);\n",
              "      filter: drop-shadow(0px 1px 2px rgba(0, 0, 0, 0.3));\n",
              "      fill: #FFFFFF;\n",
              "    }\n",
              "  </style>\n",
              "\n",
              "      <script>\n",
              "        const buttonEl =\n",
              "          document.querySelector('#df-0d2d2d9b-7143-420d-98d7-6ab1c3d4d3a5 button.colab-df-convert');\n",
              "        buttonEl.style.display =\n",
              "          google.colab.kernel.accessAllowed ? 'block' : 'none';\n",
              "\n",
              "        async function convertToInteractive(key) {\n",
              "          const element = document.querySelector('#df-0d2d2d9b-7143-420d-98d7-6ab1c3d4d3a5');\n",
              "          const dataTable =\n",
              "            await google.colab.kernel.invokeFunction('convertToInteractive',\n",
              "                                                     [key], {});\n",
              "          if (!dataTable) return;\n",
              "\n",
              "          const docLinkHtml = 'Like what you see? Visit the ' +\n",
              "            '<a target=\"_blank\" href=https://colab.research.google.com/notebooks/data_table.ipynb>data table notebook</a>'\n",
              "            + ' to learn more about interactive tables.';\n",
              "          element.innerHTML = '';\n",
              "          dataTable['output_type'] = 'display_data';\n",
              "          await google.colab.output.renderOutput(dataTable, element);\n",
              "          const docLink = document.createElement('div');\n",
              "          docLink.innerHTML = docLinkHtml;\n",
              "          element.appendChild(docLink);\n",
              "        }\n",
              "      </script>\n",
              "    </div>\n",
              "  </div>\n",
              "  "
            ]
          },
          "metadata": {},
          "execution_count": 148
        }
      ],
      "source": [
        "from sklearn.preprocessing import StandardScaler\n",
        "ss = StandardScaler()\n",
        "df_scaled = pd.DataFrame(ss.fit_transform(df),columns = df.columns)\n",
        "df_scaled.head()"
      ]
    },
    {
      "cell_type": "code",
      "execution_count": 149,
      "id": "e7415fad",
      "metadata": {
        "id": "e7415fad"
      },
      "outputs": [],
      "source": [
        "X = df_scaled.loc[:, df.columns != 'price']\n",
        "Y = df_scaled['price']"
      ]
    },
    {
      "cell_type": "code",
      "execution_count": 150,
      "id": "543de611",
      "metadata": {
        "id": "543de611"
      },
      "outputs": [],
      "source": [
        "dtree = DecisionTreeRegressor(max_depth=20, min_samples_leaf=0.10, random_state=8)"
      ]
    },
    {
      "cell_type": "code",
      "execution_count": 159,
      "id": "f2cb0328",
      "metadata": {
        "id": "f2cb0328"
      },
      "outputs": [],
      "source": [
        "XTrain, XTest, YTrain, YTest = train_test_split(X, Y, test_size=0.2, shuffle=True, random_state=120)"
      ]
    },
    {
      "cell_type": "code",
      "execution_count": 152,
      "id": "3c0a14f6",
      "metadata": {
        "colab": {
          "base_uri": "https://localhost:8080/"
        },
        "id": "3c0a14f6",
        "outputId": "837f5826-74ff-4500-d698-d8b5140e9bc8"
      },
      "outputs": [
        {
          "output_type": "stream",
          "name": "stdout",
          "text": [
            "0.32362897568001125\n",
            "0.8950689816271195\n",
            "0.3239677533247199\n",
            "Mean Square Error for testing set 0.10495510519426654\n",
            "0.895812030929177\n"
          ]
        }
      ],
      "source": [
        "dtree.fit(XTrain, YTrain)\n",
        "\n",
        "pred_train_tree= dtree.predict(XTrain)\n",
        "print(np.sqrt(mean_squared_error(YTrain, pred_train_tree)))\n",
        "print(r2_score(YTrain, pred_train_tree))\n",
        "\n",
        "pred_test_tree= dtree.predict(XTest)\n",
        "print(np.sqrt(mean_squared_error(YTest, pred_test_tree)))\n",
        "print('Mean Square Error for testing set', metrics.mean_squared_error(YTest, pred_test_tree))\n",
        "print(r2_score(YTest, pred_test_tree))"
      ]
    },
    {
      "cell_type": "code",
      "execution_count": 160,
      "id": "530be46c",
      "metadata": {
        "colab": {
          "base_uri": "https://localhost:8080/"
        },
        "id": "530be46c",
        "outputId": "d394ca0d-31e4-49d1-f4e0-c8b204959c33"
      },
      "outputs": [
        {
          "output_type": "stream",
          "name": "stdout",
          "text": [
            "0.214107068000527\n",
            "Mean Square Error for testing set 0.04584183656778229\n",
            "0.954012145249301\n"
          ]
        }
      ],
      "source": [
        "polynomial = PolynomialFeatures(degree=4)\n",
        "\n",
        "XPolynomial = polynomial.fit_transform(XTrain)\n",
        "\n",
        "Model = linear_model.LinearRegression()\n",
        "Model.fit(XPolynomial, YTrain)\n",
        "\n",
        "TrainPrediction = Model.predict(XPolynomial)\n",
        "\n",
        "TesTPrediction = Model.predict(polynomial.fit_transform(XTest))\n",
        "\n",
        "print(np.sqrt(mean_squared_error(YTest, TesTPrediction)))\n",
        "print('Mean Square Error for testing set', metrics.mean_squared_error(YTest, TesTPrediction))\n",
        "print(r2_score(YTest, TesTPrediction))"
      ]
    },
    {
      "cell_type": "markdown",
      "id": "7cfda0e6",
      "metadata": {
        "id": "7cfda0e6"
      },
      "source": [
        "# Drop arr_hour,min,dep_hour,min,weekofyear && Label encoder for all:\n",
        "## No Scaling Applied :\n",
        "### 26,699,895 -->Poly(d=2,r=120)\n",
        "### 25,063,325 -->poly(d=3,r=120)------> Acc = 0.9512\n",
        "### 48,657,835 -->Poly(d=5,r=120)------> Acc = 0.90525\n",
        "### 25,498,894 -->Poly(d=4,r=120)------> Acc = 0.95035\n",
        "### 24,642,093 -->Poly(d=4,r=8)------> Acc = 0.95251\n",
        "### 44,714,500 -->ElasticNet(d=2,r=8)------> Acc = 0.91\n",
        "## Applied Feature Scaling :\n",
        "### 0.04603038 -->BEST Poly(d=4,r=8)------> Acc = 0.95430\n",
        "### 0.10495510 -->Dtree\n",
        "### 0.47465824 -->ElasticNet(d=2,r=8)------> Acc = 0.4746\n",
        " "
      ]
    },
    {
      "cell_type": "code",
      "execution_count": 154,
      "id": "01935b29",
      "metadata": {
        "colab": {
          "base_uri": "https://localhost:8080/"
        },
        "id": "01935b29",
        "outputId": "766fb660-2a90-4f07-d015-bf6368d7456e"
      },
      "outputs": [
        {
          "output_type": "stream",
          "name": "stdout",
          "text": [
            "1.1005563010861696\n",
            "Mean Square Error for testing set 1.2112241718604715\n",
            "-0.20237111212505066\n"
          ]
        }
      ],
      "source": [
        "import xgboost as xgb\n",
        "\n",
        "data_dmatrix = xgb.DMatrix(data=X,label=Y)\n",
        "\n",
        "\n",
        "xg_reg = xgb.XGBRegressor(objective ='reg:squarederror', colsample_bytree = 0.7, learning_rate = 0.001,\n",
        "                max_depth = 20, alpha = 50, n_estimators = 20)\n",
        "xg_reg.fit(XTrain,YTrain)\n",
        "\n",
        "preds = xg_reg.predict(XTest)\n",
        "print(np.sqrt(mean_squared_error(YTest, preds)))\n",
        "print('Mean Square Error for testing set', metrics.mean_squared_error(YTest, preds))\n",
        "print(r2_score(YTest, preds))"
      ]
    },
    {
      "cell_type": "code",
      "source": [
        ""
      ],
      "metadata": {
        "id": "WMbMwf9NKKUj"
      },
      "id": "WMbMwf9NKKUj",
      "execution_count": 154,
      "outputs": []
    },
    {
      "cell_type": "code",
      "source": [
        "polynomial = PolynomialFeatures(degree=2)\n",
        "\n",
        "XPolynomial = polynomial.fit_transform(XTrain)\n",
        "\n",
        "Model = linear_model.ElasticNet()\n",
        "Model.fit(XPolynomial, YTrain)\n",
        "\n",
        "TrainPrediction = Model.predict(XPolynomial)\n",
        "\n",
        "TesTPrediction = Model.predict(polynomial.fit_transform(XTest))\n",
        "\n",
        "print(np.sqrt(mean_squared_error(YTest, TesTPrediction)))\n",
        "print('Mean Square Error for testing set', metrics.mean_squared_error(YTest, TesTPrediction))\n",
        "print(r2_score(YTest, TesTPrediction))"
      ],
      "metadata": {
        "colab": {
          "base_uri": "https://localhost:8080/"
        },
        "id": "Ori2uHg4BfO1",
        "outputId": "046ab5be-7e83-4428-8dbb-42d6746a9757"
      },
      "id": "Ori2uHg4BfO1",
      "execution_count": 155,
      "outputs": [
        {
          "output_type": "stream",
          "name": "stdout",
          "text": [
            "0.7274681039298428\n",
            "Mean Square Error for testing set 0.5292098422352807\n",
            "0.4746582496132209\n"
          ]
        }
      ]
    },
    {
      "cell_type": "code",
      "source": [
        ""
      ],
      "metadata": {
        "id": "loTyjQORCeAV"
      },
      "id": "loTyjQORCeAV",
      "execution_count": 155,
      "outputs": []
    },
    {
      "cell_type": "code",
      "execution_count": 107,
      "id": "0ec34a80",
      "metadata": {
        "colab": {
          "base_uri": "https://localhost:8080/",
          "height": 206
        },
        "id": "0ec34a80",
        "outputId": "0de3f0a8-0864-49bd-8903-3ff18ced3a18"
      },
      "outputs": [
        {
          "output_type": "execute_result",
          "data": {
            "text/plain": [
              "   ch_code  num_code  stop  type  price  month  day  dayofyear  hours_taken  \\\n",
              "0        7       812     1     0  56588      5    3        123         10.0   \n",
              "1        7       975     1     0  59649      3   18         77          6.0   \n",
              "2        3      7537     1     1   3916      9    3        246          8.0   \n",
              "3        3       287     1     1   6031      3   15         74          9.0   \n",
              "4        7       826     1     1   7081      3   22         81          7.0   \n",
              "\n",
              "   minutes_taken  source  destination  \n",
              "0           10.0       0            3  \n",
              "1           30.0       2            3  \n",
              "2           10.0       5            3  \n",
              "3           40.0       5            2  \n",
              "4           25.0       1            4  "
            ],
            "text/html": [
              "\n",
              "  <div id=\"df-a92bd3b7-832b-4992-bc8f-746e64be08e3\">\n",
              "    <div class=\"colab-df-container\">\n",
              "      <div>\n",
              "<style scoped>\n",
              "    .dataframe tbody tr th:only-of-type {\n",
              "        vertical-align: middle;\n",
              "    }\n",
              "\n",
              "    .dataframe tbody tr th {\n",
              "        vertical-align: top;\n",
              "    }\n",
              "\n",
              "    .dataframe thead th {\n",
              "        text-align: right;\n",
              "    }\n",
              "</style>\n",
              "<table border=\"1\" class=\"dataframe\">\n",
              "  <thead>\n",
              "    <tr style=\"text-align: right;\">\n",
              "      <th></th>\n",
              "      <th>ch_code</th>\n",
              "      <th>num_code</th>\n",
              "      <th>stop</th>\n",
              "      <th>type</th>\n",
              "      <th>price</th>\n",
              "      <th>month</th>\n",
              "      <th>day</th>\n",
              "      <th>dayofyear</th>\n",
              "      <th>hours_taken</th>\n",
              "      <th>minutes_taken</th>\n",
              "      <th>source</th>\n",
              "      <th>destination</th>\n",
              "    </tr>\n",
              "  </thead>\n",
              "  <tbody>\n",
              "    <tr>\n",
              "      <th>0</th>\n",
              "      <td>7</td>\n",
              "      <td>812</td>\n",
              "      <td>1</td>\n",
              "      <td>0</td>\n",
              "      <td>56588</td>\n",
              "      <td>5</td>\n",
              "      <td>3</td>\n",
              "      <td>123</td>\n",
              "      <td>10.0</td>\n",
              "      <td>10.0</td>\n",
              "      <td>0</td>\n",
              "      <td>3</td>\n",
              "    </tr>\n",
              "    <tr>\n",
              "      <th>1</th>\n",
              "      <td>7</td>\n",
              "      <td>975</td>\n",
              "      <td>1</td>\n",
              "      <td>0</td>\n",
              "      <td>59649</td>\n",
              "      <td>3</td>\n",
              "      <td>18</td>\n",
              "      <td>77</td>\n",
              "      <td>6.0</td>\n",
              "      <td>30.0</td>\n",
              "      <td>2</td>\n",
              "      <td>3</td>\n",
              "    </tr>\n",
              "    <tr>\n",
              "      <th>2</th>\n",
              "      <td>3</td>\n",
              "      <td>7537</td>\n",
              "      <td>1</td>\n",
              "      <td>1</td>\n",
              "      <td>3916</td>\n",
              "      <td>9</td>\n",
              "      <td>3</td>\n",
              "      <td>246</td>\n",
              "      <td>8.0</td>\n",
              "      <td>10.0</td>\n",
              "      <td>5</td>\n",
              "      <td>3</td>\n",
              "    </tr>\n",
              "    <tr>\n",
              "      <th>3</th>\n",
              "      <td>3</td>\n",
              "      <td>287</td>\n",
              "      <td>1</td>\n",
              "      <td>1</td>\n",
              "      <td>6031</td>\n",
              "      <td>3</td>\n",
              "      <td>15</td>\n",
              "      <td>74</td>\n",
              "      <td>9.0</td>\n",
              "      <td>40.0</td>\n",
              "      <td>5</td>\n",
              "      <td>2</td>\n",
              "    </tr>\n",
              "    <tr>\n",
              "      <th>4</th>\n",
              "      <td>7</td>\n",
              "      <td>826</td>\n",
              "      <td>1</td>\n",
              "      <td>1</td>\n",
              "      <td>7081</td>\n",
              "      <td>3</td>\n",
              "      <td>22</td>\n",
              "      <td>81</td>\n",
              "      <td>7.0</td>\n",
              "      <td>25.0</td>\n",
              "      <td>1</td>\n",
              "      <td>4</td>\n",
              "    </tr>\n",
              "  </tbody>\n",
              "</table>\n",
              "</div>\n",
              "      <button class=\"colab-df-convert\" onclick=\"convertToInteractive('df-a92bd3b7-832b-4992-bc8f-746e64be08e3')\"\n",
              "              title=\"Convert this dataframe to an interactive table.\"\n",
              "              style=\"display:none;\">\n",
              "        \n",
              "  <svg xmlns=\"http://www.w3.org/2000/svg\" height=\"24px\"viewBox=\"0 0 24 24\"\n",
              "       width=\"24px\">\n",
              "    <path d=\"M0 0h24v24H0V0z\" fill=\"none\"/>\n",
              "    <path d=\"M18.56 5.44l.94 2.06.94-2.06 2.06-.94-2.06-.94-.94-2.06-.94 2.06-2.06.94zm-11 1L8.5 8.5l.94-2.06 2.06-.94-2.06-.94L8.5 2.5l-.94 2.06-2.06.94zm10 10l.94 2.06.94-2.06 2.06-.94-2.06-.94-.94-2.06-.94 2.06-2.06.94z\"/><path d=\"M17.41 7.96l-1.37-1.37c-.4-.4-.92-.59-1.43-.59-.52 0-1.04.2-1.43.59L10.3 9.45l-7.72 7.72c-.78.78-.78 2.05 0 2.83L4 21.41c.39.39.9.59 1.41.59.51 0 1.02-.2 1.41-.59l7.78-7.78 2.81-2.81c.8-.78.8-2.07 0-2.86zM5.41 20L4 18.59l7.72-7.72 1.47 1.35L5.41 20z\"/>\n",
              "  </svg>\n",
              "      </button>\n",
              "      \n",
              "  <style>\n",
              "    .colab-df-container {\n",
              "      display:flex;\n",
              "      flex-wrap:wrap;\n",
              "      gap: 12px;\n",
              "    }\n",
              "\n",
              "    .colab-df-convert {\n",
              "      background-color: #E8F0FE;\n",
              "      border: none;\n",
              "      border-radius: 50%;\n",
              "      cursor: pointer;\n",
              "      display: none;\n",
              "      fill: #1967D2;\n",
              "      height: 32px;\n",
              "      padding: 0 0 0 0;\n",
              "      width: 32px;\n",
              "    }\n",
              "\n",
              "    .colab-df-convert:hover {\n",
              "      background-color: #E2EBFA;\n",
              "      box-shadow: 0px 1px 2px rgba(60, 64, 67, 0.3), 0px 1px 3px 1px rgba(60, 64, 67, 0.15);\n",
              "      fill: #174EA6;\n",
              "    }\n",
              "\n",
              "    [theme=dark] .colab-df-convert {\n",
              "      background-color: #3B4455;\n",
              "      fill: #D2E3FC;\n",
              "    }\n",
              "\n",
              "    [theme=dark] .colab-df-convert:hover {\n",
              "      background-color: #434B5C;\n",
              "      box-shadow: 0px 1px 3px 1px rgba(0, 0, 0, 0.15);\n",
              "      filter: drop-shadow(0px 1px 2px rgba(0, 0, 0, 0.3));\n",
              "      fill: #FFFFFF;\n",
              "    }\n",
              "  </style>\n",
              "\n",
              "      <script>\n",
              "        const buttonEl =\n",
              "          document.querySelector('#df-a92bd3b7-832b-4992-bc8f-746e64be08e3 button.colab-df-convert');\n",
              "        buttonEl.style.display =\n",
              "          google.colab.kernel.accessAllowed ? 'block' : 'none';\n",
              "\n",
              "        async function convertToInteractive(key) {\n",
              "          const element = document.querySelector('#df-a92bd3b7-832b-4992-bc8f-746e64be08e3');\n",
              "          const dataTable =\n",
              "            await google.colab.kernel.invokeFunction('convertToInteractive',\n",
              "                                                     [key], {});\n",
              "          if (!dataTable) return;\n",
              "\n",
              "          const docLinkHtml = 'Like what you see? Visit the ' +\n",
              "            '<a target=\"_blank\" href=https://colab.research.google.com/notebooks/data_table.ipynb>data table notebook</a>'\n",
              "            + ' to learn more about interactive tables.';\n",
              "          element.innerHTML = '';\n",
              "          dataTable['output_type'] = 'display_data';\n",
              "          await google.colab.output.renderOutput(dataTable, element);\n",
              "          const docLink = document.createElement('div');\n",
              "          docLink.innerHTML = docLinkHtml;\n",
              "          element.appendChild(docLink);\n",
              "        }\n",
              "      </script>\n",
              "    </div>\n",
              "  </div>\n",
              "  "
            ]
          },
          "metadata": {},
          "execution_count": 107
        }
      ],
      "source": [
        "df.head()"
      ]
    },
    {
      "cell_type": "markdown",
      "source": [
        ""
      ],
      "metadata": {
        "id": "8f60cbf7"
      },
      "id": "8f60cbf7"
    }
  ],
  "metadata": {
    "kernelspec": {
      "display_name": "Python 3",
      "language": "python",
      "name": "python3"
    },
    "language_info": {
      "codemirror_mode": {
        "name": "ipython",
        "version": 3
      },
      "file_extension": ".py",
      "mimetype": "text/x-python",
      "name": "python",
      "nbconvert_exporter": "python",
      "pygments_lexer": "ipython3",
      "version": "3.8.8"
    },
    "colab": {
      "name": "model1.0.ipynb",
      "provenance": [],
      "collapsed_sections": [],
      "include_colab_link": true
    }
  },
  "nbformat": 4,
  "nbformat_minor": 5
}