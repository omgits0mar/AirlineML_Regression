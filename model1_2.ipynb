{
  "cells": [
    {
      "cell_type": "markdown",
      "metadata": {
        "id": "view-in-github",
        "colab_type": "text"
      },
      "source": [
        "<a href=\"https://colab.research.google.com/github/omgits0mar/Datasets/blob/master/model1_2.ipynb\" target=\"_parent\"><img src=\"https://colab.research.google.com/assets/colab-badge.svg\" alt=\"Open In Colab\"/></a>"
      ]
    },
    {
      "cell_type": "code",
      "execution_count": 1,
      "id": "4848b15c",
      "metadata": {
        "id": "4848b15c"
      },
      "outputs": [],
      "source": [
        "# import jupyterthemes as jt\n",
        "# from jupyterthemes import get_themes\n",
        "# import jupyterthemes as jt\n",
        "# from jupyterthemes.stylefx import set_nb_theme"
      ]
    },
    {
      "cell_type": "markdown",
      "id": "ecf0ab1d",
      "metadata": {
        "id": "ecf0ab1d"
      },
      "source": [
        "import jupyterthemes as jt\n",
        "from jupyterthemes.stylefx import set_nb_theme"
      ]
    },
    {
      "cell_type": "code",
      "execution_count": 2,
      "id": "d8d5a831",
      "metadata": {
        "id": "d8d5a831"
      },
      "outputs": [],
      "source": [
        "# set_nb_theme('onedork')\n",
        "# #monokai\n",
        "# #chesterish\n",
        "# #oceans16 gamed\n",
        "# #onedork gamed brdo\n",
        "# #solarizedl"
      ]
    },
    {
      "cell_type": "markdown",
      "id": "c387df71",
      "metadata": {
        "id": "c387df71"
      },
      "source": [
        "# Code start from here :"
      ]
    },
    {
      "cell_type": "markdown",
      "id": "0474b2da",
      "metadata": {
        "id": "0474b2da"
      },
      "source": [
        "### Importing :"
      ]
    },
    {
      "cell_type": "code",
      "execution_count": 3,
      "id": "203ef228",
      "metadata": {
        "id": "203ef228"
      },
      "outputs": [],
      "source": [
        "import numpy as np\n",
        "import pandas as pd\n",
        "import seaborn as sns\n",
        "import matplotlib.pyplot as plt\n",
        "import re\n",
        "import datetime\n",
        "\n",
        "from sklearn.metrics import mean_squared_error, r2_score\n",
        "from sklearn.tree import DecisionTreeRegressor\n",
        "from sklearn import linear_model\n",
        "from sklearn import metrics\n",
        "from sklearn.model_selection import train_test_split\n",
        "from sklearn.preprocessing import PolynomialFeatures\n",
        "from sklearn.preprocessing import LabelEncoder\n",
        "from sklearn.preprocessing import OneHotEncoder\n",
        "from xgboost.sklearn import XGBRegressor\n"
      ]
    },
    {
      "cell_type": "markdown",
      "id": "341bda5c",
      "metadata": {
        "id": "341bda5c"
      },
      "source": [
        "### Reading data from csv"
      ]
    },
    {
      "cell_type": "code",
      "execution_count": 4,
      "id": "e71a3865",
      "metadata": {
        "id": "e71a3865"
      },
      "outputs": [],
      "source": [
        "df = pd.read_csv('airline-price-prediction.csv')"
      ]
    },
    {
      "cell_type": "code",
      "execution_count": 5,
      "id": "205bd611",
      "metadata": {
        "colab": {
          "base_uri": "https://localhost:8080/",
          "height": 206
        },
        "id": "205bd611",
        "outputId": "7999d0cd-e0fd-4b8d-a2ff-6de6b60c38da"
      },
      "outputs": [
        {
          "output_type": "execute_result",
          "data": {
            "text/plain": [
              "         date   airline ch_code  num_code dep_time time_taken  \\\n",
              "0    5/3/2022   Vistara      UK       812     9:45    10h 10m   \n",
              "1  18-03-2022   Vistara      UK       975     5:45    06h 30m   \n",
              "2    9/3/2022  GO FIRST      G8      7537    14:30    08h 10m   \n",
              "3  15-03-2022  GO FIRST      G8       287    10:40    09h 40m   \n",
              "4  22-03-2022   Vistara      UK       826    12:30    07h 25m   \n",
              "\n",
              "                                                stop arr_time      type  \\\n",
              "0  1-stop\\n\\t\\t\\t\\t\\t\\t\\t\\t\\t\\t\\t\\t\\n\\t\\t\\t\\t\\t\\t...    19:55  business   \n",
              "1  1-stop\\n\\t\\t\\t\\t\\t\\t\\t\\t\\t\\t\\t\\t\\n\\t\\t\\t\\t\\t\\t...    12:15  business   \n",
              "2  1-stop\\n\\t\\t\\t\\t\\t\\t\\t\\t\\t\\t\\t\\t\\n\\t\\t\\t\\t\\t\\t...    22:40   economy   \n",
              "3  1-stop\\n\\t\\t\\t\\t\\t\\t\\t\\t\\t\\t\\t\\t\\n\\t\\t\\t\\t\\t\\t...    20:20   economy   \n",
              "4  1-stop\\n\\t\\t\\t\\t\\t\\t\\t\\t\\t\\t\\t\\t\\n\\t\\t\\t\\t\\t\\t...    19:55   economy   \n",
              "\n",
              "                                               route   price  \n",
              "0  {'source': 'Bangalore', 'destination': 'Hydera...  56,588  \n",
              "1    {'source': 'Delhi', 'destination': 'Hyderabad'}  59,649  \n",
              "2   {'source': 'Mumbai', 'destination': 'Hyderabad'}   3,916  \n",
              "3       {'source': 'Mumbai', 'destination': 'Delhi'}   6,031  \n",
              "4    {'source': 'Chennai', 'destination': 'Kolkata'}   7,081  "
            ],
            "text/html": [
              "\n",
              "  <div id=\"df-071787d3-5114-40ea-95bf-8ea68c0e9808\">\n",
              "    <div class=\"colab-df-container\">\n",
              "      <div>\n",
              "<style scoped>\n",
              "    .dataframe tbody tr th:only-of-type {\n",
              "        vertical-align: middle;\n",
              "    }\n",
              "\n",
              "    .dataframe tbody tr th {\n",
              "        vertical-align: top;\n",
              "    }\n",
              "\n",
              "    .dataframe thead th {\n",
              "        text-align: right;\n",
              "    }\n",
              "</style>\n",
              "<table border=\"1\" class=\"dataframe\">\n",
              "  <thead>\n",
              "    <tr style=\"text-align: right;\">\n",
              "      <th></th>\n",
              "      <th>date</th>\n",
              "      <th>airline</th>\n",
              "      <th>ch_code</th>\n",
              "      <th>num_code</th>\n",
              "      <th>dep_time</th>\n",
              "      <th>time_taken</th>\n",
              "      <th>stop</th>\n",
              "      <th>arr_time</th>\n",
              "      <th>type</th>\n",
              "      <th>route</th>\n",
              "      <th>price</th>\n",
              "    </tr>\n",
              "  </thead>\n",
              "  <tbody>\n",
              "    <tr>\n",
              "      <th>0</th>\n",
              "      <td>5/3/2022</td>\n",
              "      <td>Vistara</td>\n",
              "      <td>UK</td>\n",
              "      <td>812</td>\n",
              "      <td>9:45</td>\n",
              "      <td>10h 10m</td>\n",
              "      <td>1-stop\\n\\t\\t\\t\\t\\t\\t\\t\\t\\t\\t\\t\\t\\n\\t\\t\\t\\t\\t\\t...</td>\n",
              "      <td>19:55</td>\n",
              "      <td>business</td>\n",
              "      <td>{'source': 'Bangalore', 'destination': 'Hydera...</td>\n",
              "      <td>56,588</td>\n",
              "    </tr>\n",
              "    <tr>\n",
              "      <th>1</th>\n",
              "      <td>18-03-2022</td>\n",
              "      <td>Vistara</td>\n",
              "      <td>UK</td>\n",
              "      <td>975</td>\n",
              "      <td>5:45</td>\n",
              "      <td>06h 30m</td>\n",
              "      <td>1-stop\\n\\t\\t\\t\\t\\t\\t\\t\\t\\t\\t\\t\\t\\n\\t\\t\\t\\t\\t\\t...</td>\n",
              "      <td>12:15</td>\n",
              "      <td>business</td>\n",
              "      <td>{'source': 'Delhi', 'destination': 'Hyderabad'}</td>\n",
              "      <td>59,649</td>\n",
              "    </tr>\n",
              "    <tr>\n",
              "      <th>2</th>\n",
              "      <td>9/3/2022</td>\n",
              "      <td>GO FIRST</td>\n",
              "      <td>G8</td>\n",
              "      <td>7537</td>\n",
              "      <td>14:30</td>\n",
              "      <td>08h 10m</td>\n",
              "      <td>1-stop\\n\\t\\t\\t\\t\\t\\t\\t\\t\\t\\t\\t\\t\\n\\t\\t\\t\\t\\t\\t...</td>\n",
              "      <td>22:40</td>\n",
              "      <td>economy</td>\n",
              "      <td>{'source': 'Mumbai', 'destination': 'Hyderabad'}</td>\n",
              "      <td>3,916</td>\n",
              "    </tr>\n",
              "    <tr>\n",
              "      <th>3</th>\n",
              "      <td>15-03-2022</td>\n",
              "      <td>GO FIRST</td>\n",
              "      <td>G8</td>\n",
              "      <td>287</td>\n",
              "      <td>10:40</td>\n",
              "      <td>09h 40m</td>\n",
              "      <td>1-stop\\n\\t\\t\\t\\t\\t\\t\\t\\t\\t\\t\\t\\t\\n\\t\\t\\t\\t\\t\\t...</td>\n",
              "      <td>20:20</td>\n",
              "      <td>economy</td>\n",
              "      <td>{'source': 'Mumbai', 'destination': 'Delhi'}</td>\n",
              "      <td>6,031</td>\n",
              "    </tr>\n",
              "    <tr>\n",
              "      <th>4</th>\n",
              "      <td>22-03-2022</td>\n",
              "      <td>Vistara</td>\n",
              "      <td>UK</td>\n",
              "      <td>826</td>\n",
              "      <td>12:30</td>\n",
              "      <td>07h 25m</td>\n",
              "      <td>1-stop\\n\\t\\t\\t\\t\\t\\t\\t\\t\\t\\t\\t\\t\\n\\t\\t\\t\\t\\t\\t...</td>\n",
              "      <td>19:55</td>\n",
              "      <td>economy</td>\n",
              "      <td>{'source': 'Chennai', 'destination': 'Kolkata'}</td>\n",
              "      <td>7,081</td>\n",
              "    </tr>\n",
              "  </tbody>\n",
              "</table>\n",
              "</div>\n",
              "      <button class=\"colab-df-convert\" onclick=\"convertToInteractive('df-071787d3-5114-40ea-95bf-8ea68c0e9808')\"\n",
              "              title=\"Convert this dataframe to an interactive table.\"\n",
              "              style=\"display:none;\">\n",
              "        \n",
              "  <svg xmlns=\"http://www.w3.org/2000/svg\" height=\"24px\"viewBox=\"0 0 24 24\"\n",
              "       width=\"24px\">\n",
              "    <path d=\"M0 0h24v24H0V0z\" fill=\"none\"/>\n",
              "    <path d=\"M18.56 5.44l.94 2.06.94-2.06 2.06-.94-2.06-.94-.94-2.06-.94 2.06-2.06.94zm-11 1L8.5 8.5l.94-2.06 2.06-.94-2.06-.94L8.5 2.5l-.94 2.06-2.06.94zm10 10l.94 2.06.94-2.06 2.06-.94-2.06-.94-.94-2.06-.94 2.06-2.06.94z\"/><path d=\"M17.41 7.96l-1.37-1.37c-.4-.4-.92-.59-1.43-.59-.52 0-1.04.2-1.43.59L10.3 9.45l-7.72 7.72c-.78.78-.78 2.05 0 2.83L4 21.41c.39.39.9.59 1.41.59.51 0 1.02-.2 1.41-.59l7.78-7.78 2.81-2.81c.8-.78.8-2.07 0-2.86zM5.41 20L4 18.59l7.72-7.72 1.47 1.35L5.41 20z\"/>\n",
              "  </svg>\n",
              "      </button>\n",
              "      \n",
              "  <style>\n",
              "    .colab-df-container {\n",
              "      display:flex;\n",
              "      flex-wrap:wrap;\n",
              "      gap: 12px;\n",
              "    }\n",
              "\n",
              "    .colab-df-convert {\n",
              "      background-color: #E8F0FE;\n",
              "      border: none;\n",
              "      border-radius: 50%;\n",
              "      cursor: pointer;\n",
              "      display: none;\n",
              "      fill: #1967D2;\n",
              "      height: 32px;\n",
              "      padding: 0 0 0 0;\n",
              "      width: 32px;\n",
              "    }\n",
              "\n",
              "    .colab-df-convert:hover {\n",
              "      background-color: #E2EBFA;\n",
              "      box-shadow: 0px 1px 2px rgba(60, 64, 67, 0.3), 0px 1px 3px 1px rgba(60, 64, 67, 0.15);\n",
              "      fill: #174EA6;\n",
              "    }\n",
              "\n",
              "    [theme=dark] .colab-df-convert {\n",
              "      background-color: #3B4455;\n",
              "      fill: #D2E3FC;\n",
              "    }\n",
              "\n",
              "    [theme=dark] .colab-df-convert:hover {\n",
              "      background-color: #434B5C;\n",
              "      box-shadow: 0px 1px 3px 1px rgba(0, 0, 0, 0.15);\n",
              "      filter: drop-shadow(0px 1px 2px rgba(0, 0, 0, 0.3));\n",
              "      fill: #FFFFFF;\n",
              "    }\n",
              "  </style>\n",
              "\n",
              "      <script>\n",
              "        const buttonEl =\n",
              "          document.querySelector('#df-071787d3-5114-40ea-95bf-8ea68c0e9808 button.colab-df-convert');\n",
              "        buttonEl.style.display =\n",
              "          google.colab.kernel.accessAllowed ? 'block' : 'none';\n",
              "\n",
              "        async function convertToInteractive(key) {\n",
              "          const element = document.querySelector('#df-071787d3-5114-40ea-95bf-8ea68c0e9808');\n",
              "          const dataTable =\n",
              "            await google.colab.kernel.invokeFunction('convertToInteractive',\n",
              "                                                     [key], {});\n",
              "          if (!dataTable) return;\n",
              "\n",
              "          const docLinkHtml = 'Like what you see? Visit the ' +\n",
              "            '<a target=\"_blank\" href=https://colab.research.google.com/notebooks/data_table.ipynb>data table notebook</a>'\n",
              "            + ' to learn more about interactive tables.';\n",
              "          element.innerHTML = '';\n",
              "          dataTable['output_type'] = 'display_data';\n",
              "          await google.colab.output.renderOutput(dataTable, element);\n",
              "          const docLink = document.createElement('div');\n",
              "          docLink.innerHTML = docLinkHtml;\n",
              "          element.appendChild(docLink);\n",
              "        }\n",
              "      </script>\n",
              "    </div>\n",
              "  </div>\n",
              "  "
            ]
          },
          "metadata": {},
          "execution_count": 5
        }
      ],
      "source": [
        "df.head()"
      ]
    },
    {
      "cell_type": "code",
      "execution_count": 6,
      "id": "7ad4fbcc",
      "metadata": {
        "colab": {
          "base_uri": "https://localhost:8080/"
        },
        "id": "7ad4fbcc",
        "outputId": "af6a89ab-0f7c-42ea-a4eb-30db53bb5649"
      },
      "outputs": [
        {
          "output_type": "execute_result",
          "data": {
            "text/plain": [
              "(240208, 11)"
            ]
          },
          "metadata": {},
          "execution_count": 6
        }
      ],
      "source": [
        "df.shape"
      ]
    },
    {
      "cell_type": "markdown",
      "id": "427b9966",
      "metadata": {
        "id": "427b9966"
      },
      "source": [
        "### Data preprocessing on 'price'"
      ]
    },
    {
      "cell_type": "code",
      "execution_count": 7,
      "id": "7632ad56",
      "metadata": {
        "id": "7632ad56"
      },
      "outputs": [],
      "source": [
        "df['price'] = df['price'].str.replace(\",\", \"\")\n",
        "df['price'] = pd.to_numeric(df['price'])"
      ]
    },
    {
      "cell_type": "markdown",
      "id": "f6c46a18",
      "metadata": {
        "id": "f6c46a18"
      },
      "source": [
        "### Data preprocessing on 'date'"
      ]
    },
    {
      "cell_type": "code",
      "execution_count": 8,
      "id": "12cab2c0",
      "metadata": {
        "id": "12cab2c0"
      },
      "outputs": [],
      "source": [
        "df[\"date\"]=pd.to_datetime(df[\"date\"])\n",
        "df[\"date\"]=df[\"date\"].dt.strftime(\"%m/%d/%Y\")\n"
      ]
    },
    {
      "cell_type": "code",
      "execution_count": 9,
      "id": "a13e704f",
      "metadata": {
        "colab": {
          "base_uri": "https://localhost:8080/"
        },
        "id": "a13e704f",
        "outputId": "f277be7f-9695-4a4f-94dd-dc60d3eb242c"
      },
      "outputs": [
        {
          "output_type": "stream",
          "name": "stdout",
          "text": [
            "0         05/03/2022\n",
            "1         03/18/2022\n",
            "2         09/03/2022\n",
            "3         03/15/2022\n",
            "4         03/22/2022\n",
            "             ...    \n",
            "240203    03/25/2022\n",
            "240204    02/15/2022\n",
            "240205    02/23/2022\n",
            "240206    11/02/2022\n",
            "240207    02/18/2022\n",
            "Name: date, Length: 240208, dtype: object\n"
          ]
        }
      ],
      "source": [
        "print(df[df.columns[0]])"
      ]
    },
    {
      "cell_type": "code",
      "execution_count": 10,
      "id": "f5876cf4",
      "metadata": {
        "colab": {
          "base_uri": "https://localhost:8080/"
        },
        "id": "f5876cf4",
        "outputId": "c28a54cb-8b47-402a-c0fa-b622dc45d149"
      },
      "outputs": [
        {
          "output_type": "execute_result",
          "data": {
            "text/plain": [
              "Int64Index([1, 4, 5, 1, 1, 6, 0, 0, 0, 1,\n",
              "            ...\n",
              "            3, 3, 0, 2, 3, 4, 1, 2, 2, 4],\n",
              "           dtype='int64', name='date', length=240208)"
            ]
          },
          "metadata": {},
          "execution_count": 10
        }
      ],
      "source": [
        "pd.DatetimeIndex(df[\"date\"]).weekday"
      ]
    },
    {
      "cell_type": "code",
      "execution_count": 11,
      "id": "9bc17394",
      "metadata": {
        "id": "9bc17394"
      },
      "outputs": [],
      "source": [
        "df['month'] = pd.DatetimeIndex(df['date']).month\n",
        "df['day'] = pd.DatetimeIndex(df['date']).day\n",
        "df['dayofyear'] = pd.DatetimeIndex(df['date']).dayofyear"
      ]
    },
    {
      "cell_type": "code",
      "execution_count": 12,
      "id": "36149ff4",
      "metadata": {
        "id": "36149ff4"
      },
      "outputs": [],
      "source": [
        "#df = pd.get_dummies(df, columns=['month'], drop_first=True, prefix='month')"
      ]
    },
    {
      "cell_type": "markdown",
      "id": "d2592b83",
      "metadata": {
        "id": "d2592b83"
      },
      "source": [
        "### Data preprocessing : 'ch_code'"
      ]
    },
    {
      "cell_type": "code",
      "execution_count": 13,
      "id": "be69167d",
      "metadata": {
        "colab": {
          "base_uri": "https://localhost:8080/"
        },
        "id": "be69167d",
        "outputId": "4d6205b5-73f5-45d5-a48a-2d834a2e7d89"
      },
      "outputs": [
        {
          "output_type": "stream",
          "name": "stderr",
          "text": [
            "/usr/local/lib/python3.7/dist-packages/sklearn/preprocessing/_label.py:115: DataConversionWarning: A column-vector y was passed when a 1d array was expected. Please change the shape of y to (n_samples, ), for example using ravel().\n",
            "  y = column_or_1d(y, warn=True)\n"
          ]
        },
        {
          "output_type": "stream",
          "name": "stdout",
          "text": [
            "0         7\n",
            "1         7\n",
            "2         3\n",
            "3         3\n",
            "4         7\n",
            "         ..\n",
            "240203    2\n",
            "240204    2\n",
            "240205    1\n",
            "240206    7\n",
            "240207    6\n",
            "Name: ch_code, Length: 240208, dtype: int64\n"
          ]
        }
      ],
      "source": [
        "lbl_enc = LabelEncoder()\n",
        "df['ch_code'] = lbl_enc.fit_transform(df[[\"ch_code\"]])\n",
        "print(df['ch_code'])"
      ]
    },
    {
      "cell_type": "markdown",
      "id": "c1772bdd",
      "metadata": {
        "id": "c1772bdd"
      },
      "source": [
        "### Data preprocessing : 'dep_time'"
      ]
    },
    {
      "cell_type": "code",
      "execution_count": 14,
      "id": "6e05c2ba",
      "metadata": {
        "id": "6e05c2ba"
      },
      "outputs": [],
      "source": [
        "df[\"dep_time\"]=pd.to_datetime(df[\"dep_time\"])\n",
        "df['dep_time'] = df['dep_time'].dt.strftime(\"%-H:%M\")"
      ]
    },
    {
      "cell_type": "code",
      "execution_count": 15,
      "id": "f1b15e94",
      "metadata": {
        "id": "f1b15e94"
      },
      "outputs": [],
      "source": [
        "df[\"dep_hour\"]=pd.DatetimeIndex(df[\"dep_time\"]).hour\n",
        "df[\"dep_minute\"]=pd.DatetimeIndex(df[\"dep_time\"]).minute"
      ]
    },
    {
      "cell_type": "markdown",
      "id": "3a14389f",
      "metadata": {
        "id": "3a14389f"
      },
      "source": [
        "### Data preprocessing : 'time_taken'"
      ]
    },
    {
      "cell_type": "code",
      "execution_count": 16,
      "id": "f9ead4fc",
      "metadata": {
        "colab": {
          "base_uri": "https://localhost:8080/",
          "height": 530
        },
        "id": "f9ead4fc",
        "outputId": "cbfe842c-8893-4ab7-a464-fb61872945b4"
      },
      "outputs": [
        {
          "output_type": "execute_result",
          "data": {
            "text/plain": [
              "         date   airline  ch_code  num_code dep_time time_taken  \\\n",
              "0  05/03/2022   Vistara        7       812     9:45    10h 10m   \n",
              "1  03/18/2022   Vistara        7       975     5:45    06h 30m   \n",
              "2  09/03/2022  GO FIRST        3      7537    14:30    08h 10m   \n",
              "3  03/15/2022  GO FIRST        3       287    10:40    09h 40m   \n",
              "4  03/22/2022   Vistara        7       826    12:30    07h 25m   \n",
              "\n",
              "                                                stop arr_time      type  \\\n",
              "0  1-stop\\n\\t\\t\\t\\t\\t\\t\\t\\t\\t\\t\\t\\t\\n\\t\\t\\t\\t\\t\\t...    19:55  business   \n",
              "1  1-stop\\n\\t\\t\\t\\t\\t\\t\\t\\t\\t\\t\\t\\t\\n\\t\\t\\t\\t\\t\\t...    12:15  business   \n",
              "2  1-stop\\n\\t\\t\\t\\t\\t\\t\\t\\t\\t\\t\\t\\t\\n\\t\\t\\t\\t\\t\\t...    22:40   economy   \n",
              "3  1-stop\\n\\t\\t\\t\\t\\t\\t\\t\\t\\t\\t\\t\\t\\n\\t\\t\\t\\t\\t\\t...    20:20   economy   \n",
              "4  1-stop\\n\\t\\t\\t\\t\\t\\t\\t\\t\\t\\t\\t\\t\\n\\t\\t\\t\\t\\t\\t...    19:55   economy   \n",
              "\n",
              "                                               route  price  month  day  \\\n",
              "0  {'source': 'Bangalore', 'destination': 'Hydera...  56588      5    3   \n",
              "1    {'source': 'Delhi', 'destination': 'Hyderabad'}  59649      3   18   \n",
              "2   {'source': 'Mumbai', 'destination': 'Hyderabad'}   3916      9    3   \n",
              "3       {'source': 'Mumbai', 'destination': 'Delhi'}   6031      3   15   \n",
              "4    {'source': 'Chennai', 'destination': 'Kolkata'}   7081      3   22   \n",
              "\n",
              "   dayofyear  dep_hour  dep_minute  hours_taken  minutes_taken  \n",
              "0        123         9          45         10.0           10.0  \n",
              "1         77         5          45          6.0           30.0  \n",
              "2        246        14          30          8.0           10.0  \n",
              "3         74        10          40          9.0           40.0  \n",
              "4         81        12          30          7.0           25.0  "
            ],
            "text/html": [
              "\n",
              "  <div id=\"df-88e9c7ee-020f-47ed-959b-6cd01b09784e\">\n",
              "    <div class=\"colab-df-container\">\n",
              "      <div>\n",
              "<style scoped>\n",
              "    .dataframe tbody tr th:only-of-type {\n",
              "        vertical-align: middle;\n",
              "    }\n",
              "\n",
              "    .dataframe tbody tr th {\n",
              "        vertical-align: top;\n",
              "    }\n",
              "\n",
              "    .dataframe thead th {\n",
              "        text-align: right;\n",
              "    }\n",
              "</style>\n",
              "<table border=\"1\" class=\"dataframe\">\n",
              "  <thead>\n",
              "    <tr style=\"text-align: right;\">\n",
              "      <th></th>\n",
              "      <th>date</th>\n",
              "      <th>airline</th>\n",
              "      <th>ch_code</th>\n",
              "      <th>num_code</th>\n",
              "      <th>dep_time</th>\n",
              "      <th>time_taken</th>\n",
              "      <th>stop</th>\n",
              "      <th>arr_time</th>\n",
              "      <th>type</th>\n",
              "      <th>route</th>\n",
              "      <th>price</th>\n",
              "      <th>month</th>\n",
              "      <th>day</th>\n",
              "      <th>dayofyear</th>\n",
              "      <th>dep_hour</th>\n",
              "      <th>dep_minute</th>\n",
              "      <th>hours_taken</th>\n",
              "      <th>minutes_taken</th>\n",
              "    </tr>\n",
              "  </thead>\n",
              "  <tbody>\n",
              "    <tr>\n",
              "      <th>0</th>\n",
              "      <td>05/03/2022</td>\n",
              "      <td>Vistara</td>\n",
              "      <td>7</td>\n",
              "      <td>812</td>\n",
              "      <td>9:45</td>\n",
              "      <td>10h 10m</td>\n",
              "      <td>1-stop\\n\\t\\t\\t\\t\\t\\t\\t\\t\\t\\t\\t\\t\\n\\t\\t\\t\\t\\t\\t...</td>\n",
              "      <td>19:55</td>\n",
              "      <td>business</td>\n",
              "      <td>{'source': 'Bangalore', 'destination': 'Hydera...</td>\n",
              "      <td>56588</td>\n",
              "      <td>5</td>\n",
              "      <td>3</td>\n",
              "      <td>123</td>\n",
              "      <td>9</td>\n",
              "      <td>45</td>\n",
              "      <td>10.0</td>\n",
              "      <td>10.0</td>\n",
              "    </tr>\n",
              "    <tr>\n",
              "      <th>1</th>\n",
              "      <td>03/18/2022</td>\n",
              "      <td>Vistara</td>\n",
              "      <td>7</td>\n",
              "      <td>975</td>\n",
              "      <td>5:45</td>\n",
              "      <td>06h 30m</td>\n",
              "      <td>1-stop\\n\\t\\t\\t\\t\\t\\t\\t\\t\\t\\t\\t\\t\\n\\t\\t\\t\\t\\t\\t...</td>\n",
              "      <td>12:15</td>\n",
              "      <td>business</td>\n",
              "      <td>{'source': 'Delhi', 'destination': 'Hyderabad'}</td>\n",
              "      <td>59649</td>\n",
              "      <td>3</td>\n",
              "      <td>18</td>\n",
              "      <td>77</td>\n",
              "      <td>5</td>\n",
              "      <td>45</td>\n",
              "      <td>6.0</td>\n",
              "      <td>30.0</td>\n",
              "    </tr>\n",
              "    <tr>\n",
              "      <th>2</th>\n",
              "      <td>09/03/2022</td>\n",
              "      <td>GO FIRST</td>\n",
              "      <td>3</td>\n",
              "      <td>7537</td>\n",
              "      <td>14:30</td>\n",
              "      <td>08h 10m</td>\n",
              "      <td>1-stop\\n\\t\\t\\t\\t\\t\\t\\t\\t\\t\\t\\t\\t\\n\\t\\t\\t\\t\\t\\t...</td>\n",
              "      <td>22:40</td>\n",
              "      <td>economy</td>\n",
              "      <td>{'source': 'Mumbai', 'destination': 'Hyderabad'}</td>\n",
              "      <td>3916</td>\n",
              "      <td>9</td>\n",
              "      <td>3</td>\n",
              "      <td>246</td>\n",
              "      <td>14</td>\n",
              "      <td>30</td>\n",
              "      <td>8.0</td>\n",
              "      <td>10.0</td>\n",
              "    </tr>\n",
              "    <tr>\n",
              "      <th>3</th>\n",
              "      <td>03/15/2022</td>\n",
              "      <td>GO FIRST</td>\n",
              "      <td>3</td>\n",
              "      <td>287</td>\n",
              "      <td>10:40</td>\n",
              "      <td>09h 40m</td>\n",
              "      <td>1-stop\\n\\t\\t\\t\\t\\t\\t\\t\\t\\t\\t\\t\\t\\n\\t\\t\\t\\t\\t\\t...</td>\n",
              "      <td>20:20</td>\n",
              "      <td>economy</td>\n",
              "      <td>{'source': 'Mumbai', 'destination': 'Delhi'}</td>\n",
              "      <td>6031</td>\n",
              "      <td>3</td>\n",
              "      <td>15</td>\n",
              "      <td>74</td>\n",
              "      <td>10</td>\n",
              "      <td>40</td>\n",
              "      <td>9.0</td>\n",
              "      <td>40.0</td>\n",
              "    </tr>\n",
              "    <tr>\n",
              "      <th>4</th>\n",
              "      <td>03/22/2022</td>\n",
              "      <td>Vistara</td>\n",
              "      <td>7</td>\n",
              "      <td>826</td>\n",
              "      <td>12:30</td>\n",
              "      <td>07h 25m</td>\n",
              "      <td>1-stop\\n\\t\\t\\t\\t\\t\\t\\t\\t\\t\\t\\t\\t\\n\\t\\t\\t\\t\\t\\t...</td>\n",
              "      <td>19:55</td>\n",
              "      <td>economy</td>\n",
              "      <td>{'source': 'Chennai', 'destination': 'Kolkata'}</td>\n",
              "      <td>7081</td>\n",
              "      <td>3</td>\n",
              "      <td>22</td>\n",
              "      <td>81</td>\n",
              "      <td>12</td>\n",
              "      <td>30</td>\n",
              "      <td>7.0</td>\n",
              "      <td>25.0</td>\n",
              "    </tr>\n",
              "  </tbody>\n",
              "</table>\n",
              "</div>\n",
              "      <button class=\"colab-df-convert\" onclick=\"convertToInteractive('df-88e9c7ee-020f-47ed-959b-6cd01b09784e')\"\n",
              "              title=\"Convert this dataframe to an interactive table.\"\n",
              "              style=\"display:none;\">\n",
              "        \n",
              "  <svg xmlns=\"http://www.w3.org/2000/svg\" height=\"24px\"viewBox=\"0 0 24 24\"\n",
              "       width=\"24px\">\n",
              "    <path d=\"M0 0h24v24H0V0z\" fill=\"none\"/>\n",
              "    <path d=\"M18.56 5.44l.94 2.06.94-2.06 2.06-.94-2.06-.94-.94-2.06-.94 2.06-2.06.94zm-11 1L8.5 8.5l.94-2.06 2.06-.94-2.06-.94L8.5 2.5l-.94 2.06-2.06.94zm10 10l.94 2.06.94-2.06 2.06-.94-2.06-.94-.94-2.06-.94 2.06-2.06.94z\"/><path d=\"M17.41 7.96l-1.37-1.37c-.4-.4-.92-.59-1.43-.59-.52 0-1.04.2-1.43.59L10.3 9.45l-7.72 7.72c-.78.78-.78 2.05 0 2.83L4 21.41c.39.39.9.59 1.41.59.51 0 1.02-.2 1.41-.59l7.78-7.78 2.81-2.81c.8-.78.8-2.07 0-2.86zM5.41 20L4 18.59l7.72-7.72 1.47 1.35L5.41 20z\"/>\n",
              "  </svg>\n",
              "      </button>\n",
              "      \n",
              "  <style>\n",
              "    .colab-df-container {\n",
              "      display:flex;\n",
              "      flex-wrap:wrap;\n",
              "      gap: 12px;\n",
              "    }\n",
              "\n",
              "    .colab-df-convert {\n",
              "      background-color: #E8F0FE;\n",
              "      border: none;\n",
              "      border-radius: 50%;\n",
              "      cursor: pointer;\n",
              "      display: none;\n",
              "      fill: #1967D2;\n",
              "      height: 32px;\n",
              "      padding: 0 0 0 0;\n",
              "      width: 32px;\n",
              "    }\n",
              "\n",
              "    .colab-df-convert:hover {\n",
              "      background-color: #E2EBFA;\n",
              "      box-shadow: 0px 1px 2px rgba(60, 64, 67, 0.3), 0px 1px 3px 1px rgba(60, 64, 67, 0.15);\n",
              "      fill: #174EA6;\n",
              "    }\n",
              "\n",
              "    [theme=dark] .colab-df-convert {\n",
              "      background-color: #3B4455;\n",
              "      fill: #D2E3FC;\n",
              "    }\n",
              "\n",
              "    [theme=dark] .colab-df-convert:hover {\n",
              "      background-color: #434B5C;\n",
              "      box-shadow: 0px 1px 3px 1px rgba(0, 0, 0, 0.15);\n",
              "      filter: drop-shadow(0px 1px 2px rgba(0, 0, 0, 0.3));\n",
              "      fill: #FFFFFF;\n",
              "    }\n",
              "  </style>\n",
              "\n",
              "      <script>\n",
              "        const buttonEl =\n",
              "          document.querySelector('#df-88e9c7ee-020f-47ed-959b-6cd01b09784e button.colab-df-convert');\n",
              "        buttonEl.style.display =\n",
              "          google.colab.kernel.accessAllowed ? 'block' : 'none';\n",
              "\n",
              "        async function convertToInteractive(key) {\n",
              "          const element = document.querySelector('#df-88e9c7ee-020f-47ed-959b-6cd01b09784e');\n",
              "          const dataTable =\n",
              "            await google.colab.kernel.invokeFunction('convertToInteractive',\n",
              "                                                     [key], {});\n",
              "          if (!dataTable) return;\n",
              "\n",
              "          const docLinkHtml = 'Like what you see? Visit the ' +\n",
              "            '<a target=\"_blank\" href=https://colab.research.google.com/notebooks/data_table.ipynb>data table notebook</a>'\n",
              "            + ' to learn more about interactive tables.';\n",
              "          element.innerHTML = '';\n",
              "          dataTable['output_type'] = 'display_data';\n",
              "          await google.colab.output.renderOutput(dataTable, element);\n",
              "          const docLink = document.createElement('div');\n",
              "          docLink.innerHTML = docLinkHtml;\n",
              "          element.appendChild(docLink);\n",
              "        }\n",
              "      </script>\n",
              "    </div>\n",
              "  </div>\n",
              "  "
            ]
          },
          "metadata": {},
          "execution_count": 16
        }
      ],
      "source": [
        "df[\"hours_taken\"] = df[\"time_taken\"].str.split('h').str.get(0)\n",
        "df[\"minutes_taken\"] = df[\"time_taken\"].str[4:6]\n",
        "df[\"minutes_taken\"] = df[\"minutes_taken\"].str.replace('m', '')\n",
        "df[\"minutes_taken\"] = df[\"minutes_taken\"].str.replace('h', '')\n",
        "df[\"hours_taken\"] = pd.to_numeric(df[\"hours_taken\"])\n",
        "df[\"minutes_taken\"] = pd.to_numeric(df[\"minutes_taken\"], errors='coerce')\n",
        "df.head()"
      ]
    },
    {
      "cell_type": "code",
      "execution_count": 16,
      "id": "2efc3a58",
      "metadata": {
        "id": "2efc3a58"
      },
      "outputs": [],
      "source": [
        ""
      ]
    },
    {
      "cell_type": "markdown",
      "id": "09a4e946",
      "metadata": {
        "id": "09a4e946"
      },
      "source": [
        "### Data preprocessing : 'stop'"
      ]
    },
    {
      "cell_type": "code",
      "execution_count": 17,
      "id": "741e2d89",
      "metadata": {
        "id": "741e2d89"
      },
      "outputs": [],
      "source": [
        "df[\"stop\"] = df[\"stop\"].str.split('-').str.get(0)\n",
        "df[\"stop\"] = df[\"stop\"].replace(['non'], 0)\n",
        "df.isna().sum() #  28944 null vals\n",
        "df[\"stop\"] = df[\"stop\"].replace(['2+'], 2) # Indicates for 2 or more stops\n",
        "df['stop'] = df['stop'].fillna(0)\n",
        "df['stop'] = pd.to_numeric(df['stop'])\n",
        "# print(df[9:14])"
      ]
    },
    {
      "cell_type": "markdown",
      "id": "6a1acd72",
      "metadata": {
        "id": "6a1acd72"
      },
      "source": [
        "### Data preprocessing : 'arr_time'"
      ]
    },
    {
      "cell_type": "code",
      "execution_count": 18,
      "id": "cdf8728d",
      "metadata": {
        "colab": {
          "base_uri": "https://localhost:8080/",
          "height": 530
        },
        "id": "cdf8728d",
        "outputId": "2d7ae11a-2e07-4894-d509-1ebcda97f04a"
      },
      "outputs": [
        {
          "output_type": "execute_result",
          "data": {
            "text/plain": [
              "         date   airline  ch_code  num_code dep_time time_taken  stop arr_time  \\\n",
              "0  05/03/2022   Vistara        7       812     9:45    10h 10m     1    19:55   \n",
              "1  03/18/2022   Vistara        7       975     5:45    06h 30m     1    12:15   \n",
              "2  09/03/2022  GO FIRST        3      7537    14:30    08h 10m     1    22:40   \n",
              "3  03/15/2022  GO FIRST        3       287    10:40    09h 40m     1    20:20   \n",
              "4  03/22/2022   Vistara        7       826    12:30    07h 25m     1    19:55   \n",
              "\n",
              "       type                                              route  price  month  \\\n",
              "0  business  {'source': 'Bangalore', 'destination': 'Hydera...  56588      5   \n",
              "1  business    {'source': 'Delhi', 'destination': 'Hyderabad'}  59649      3   \n",
              "2   economy   {'source': 'Mumbai', 'destination': 'Hyderabad'}   3916      9   \n",
              "3   economy       {'source': 'Mumbai', 'destination': 'Delhi'}   6031      3   \n",
              "4   economy    {'source': 'Chennai', 'destination': 'Kolkata'}   7081      3   \n",
              "\n",
              "   day  dayofyear  dep_hour  dep_minute  hours_taken  minutes_taken  arr_hour  \\\n",
              "0    3        123         9          45         10.0           10.0        19   \n",
              "1   18         77         5          45          6.0           30.0        12   \n",
              "2    3        246        14          30          8.0           10.0        22   \n",
              "3   15         74        10          40          9.0           40.0        20   \n",
              "4   22         81        12          30          7.0           25.0        19   \n",
              "\n",
              "   arr_minute  \n",
              "0          55  \n",
              "1          15  \n",
              "2          40  \n",
              "3          20  \n",
              "4          55  "
            ],
            "text/html": [
              "\n",
              "  <div id=\"df-fff08563-aa81-4605-bc17-8df2aa2a748e\">\n",
              "    <div class=\"colab-df-container\">\n",
              "      <div>\n",
              "<style scoped>\n",
              "    .dataframe tbody tr th:only-of-type {\n",
              "        vertical-align: middle;\n",
              "    }\n",
              "\n",
              "    .dataframe tbody tr th {\n",
              "        vertical-align: top;\n",
              "    }\n",
              "\n",
              "    .dataframe thead th {\n",
              "        text-align: right;\n",
              "    }\n",
              "</style>\n",
              "<table border=\"1\" class=\"dataframe\">\n",
              "  <thead>\n",
              "    <tr style=\"text-align: right;\">\n",
              "      <th></th>\n",
              "      <th>date</th>\n",
              "      <th>airline</th>\n",
              "      <th>ch_code</th>\n",
              "      <th>num_code</th>\n",
              "      <th>dep_time</th>\n",
              "      <th>time_taken</th>\n",
              "      <th>stop</th>\n",
              "      <th>arr_time</th>\n",
              "      <th>type</th>\n",
              "      <th>route</th>\n",
              "      <th>price</th>\n",
              "      <th>month</th>\n",
              "      <th>day</th>\n",
              "      <th>dayofyear</th>\n",
              "      <th>dep_hour</th>\n",
              "      <th>dep_minute</th>\n",
              "      <th>hours_taken</th>\n",
              "      <th>minutes_taken</th>\n",
              "      <th>arr_hour</th>\n",
              "      <th>arr_minute</th>\n",
              "    </tr>\n",
              "  </thead>\n",
              "  <tbody>\n",
              "    <tr>\n",
              "      <th>0</th>\n",
              "      <td>05/03/2022</td>\n",
              "      <td>Vistara</td>\n",
              "      <td>7</td>\n",
              "      <td>812</td>\n",
              "      <td>9:45</td>\n",
              "      <td>10h 10m</td>\n",
              "      <td>1</td>\n",
              "      <td>19:55</td>\n",
              "      <td>business</td>\n",
              "      <td>{'source': 'Bangalore', 'destination': 'Hydera...</td>\n",
              "      <td>56588</td>\n",
              "      <td>5</td>\n",
              "      <td>3</td>\n",
              "      <td>123</td>\n",
              "      <td>9</td>\n",
              "      <td>45</td>\n",
              "      <td>10.0</td>\n",
              "      <td>10.0</td>\n",
              "      <td>19</td>\n",
              "      <td>55</td>\n",
              "    </tr>\n",
              "    <tr>\n",
              "      <th>1</th>\n",
              "      <td>03/18/2022</td>\n",
              "      <td>Vistara</td>\n",
              "      <td>7</td>\n",
              "      <td>975</td>\n",
              "      <td>5:45</td>\n",
              "      <td>06h 30m</td>\n",
              "      <td>1</td>\n",
              "      <td>12:15</td>\n",
              "      <td>business</td>\n",
              "      <td>{'source': 'Delhi', 'destination': 'Hyderabad'}</td>\n",
              "      <td>59649</td>\n",
              "      <td>3</td>\n",
              "      <td>18</td>\n",
              "      <td>77</td>\n",
              "      <td>5</td>\n",
              "      <td>45</td>\n",
              "      <td>6.0</td>\n",
              "      <td>30.0</td>\n",
              "      <td>12</td>\n",
              "      <td>15</td>\n",
              "    </tr>\n",
              "    <tr>\n",
              "      <th>2</th>\n",
              "      <td>09/03/2022</td>\n",
              "      <td>GO FIRST</td>\n",
              "      <td>3</td>\n",
              "      <td>7537</td>\n",
              "      <td>14:30</td>\n",
              "      <td>08h 10m</td>\n",
              "      <td>1</td>\n",
              "      <td>22:40</td>\n",
              "      <td>economy</td>\n",
              "      <td>{'source': 'Mumbai', 'destination': 'Hyderabad'}</td>\n",
              "      <td>3916</td>\n",
              "      <td>9</td>\n",
              "      <td>3</td>\n",
              "      <td>246</td>\n",
              "      <td>14</td>\n",
              "      <td>30</td>\n",
              "      <td>8.0</td>\n",
              "      <td>10.0</td>\n",
              "      <td>22</td>\n",
              "      <td>40</td>\n",
              "    </tr>\n",
              "    <tr>\n",
              "      <th>3</th>\n",
              "      <td>03/15/2022</td>\n",
              "      <td>GO FIRST</td>\n",
              "      <td>3</td>\n",
              "      <td>287</td>\n",
              "      <td>10:40</td>\n",
              "      <td>09h 40m</td>\n",
              "      <td>1</td>\n",
              "      <td>20:20</td>\n",
              "      <td>economy</td>\n",
              "      <td>{'source': 'Mumbai', 'destination': 'Delhi'}</td>\n",
              "      <td>6031</td>\n",
              "      <td>3</td>\n",
              "      <td>15</td>\n",
              "      <td>74</td>\n",
              "      <td>10</td>\n",
              "      <td>40</td>\n",
              "      <td>9.0</td>\n",
              "      <td>40.0</td>\n",
              "      <td>20</td>\n",
              "      <td>20</td>\n",
              "    </tr>\n",
              "    <tr>\n",
              "      <th>4</th>\n",
              "      <td>03/22/2022</td>\n",
              "      <td>Vistara</td>\n",
              "      <td>7</td>\n",
              "      <td>826</td>\n",
              "      <td>12:30</td>\n",
              "      <td>07h 25m</td>\n",
              "      <td>1</td>\n",
              "      <td>19:55</td>\n",
              "      <td>economy</td>\n",
              "      <td>{'source': 'Chennai', 'destination': 'Kolkata'}</td>\n",
              "      <td>7081</td>\n",
              "      <td>3</td>\n",
              "      <td>22</td>\n",
              "      <td>81</td>\n",
              "      <td>12</td>\n",
              "      <td>30</td>\n",
              "      <td>7.0</td>\n",
              "      <td>25.0</td>\n",
              "      <td>19</td>\n",
              "      <td>55</td>\n",
              "    </tr>\n",
              "  </tbody>\n",
              "</table>\n",
              "</div>\n",
              "      <button class=\"colab-df-convert\" onclick=\"convertToInteractive('df-fff08563-aa81-4605-bc17-8df2aa2a748e')\"\n",
              "              title=\"Convert this dataframe to an interactive table.\"\n",
              "              style=\"display:none;\">\n",
              "        \n",
              "  <svg xmlns=\"http://www.w3.org/2000/svg\" height=\"24px\"viewBox=\"0 0 24 24\"\n",
              "       width=\"24px\">\n",
              "    <path d=\"M0 0h24v24H0V0z\" fill=\"none\"/>\n",
              "    <path d=\"M18.56 5.44l.94 2.06.94-2.06 2.06-.94-2.06-.94-.94-2.06-.94 2.06-2.06.94zm-11 1L8.5 8.5l.94-2.06 2.06-.94-2.06-.94L8.5 2.5l-.94 2.06-2.06.94zm10 10l.94 2.06.94-2.06 2.06-.94-2.06-.94-.94-2.06-.94 2.06-2.06.94z\"/><path d=\"M17.41 7.96l-1.37-1.37c-.4-.4-.92-.59-1.43-.59-.52 0-1.04.2-1.43.59L10.3 9.45l-7.72 7.72c-.78.78-.78 2.05 0 2.83L4 21.41c.39.39.9.59 1.41.59.51 0 1.02-.2 1.41-.59l7.78-7.78 2.81-2.81c.8-.78.8-2.07 0-2.86zM5.41 20L4 18.59l7.72-7.72 1.47 1.35L5.41 20z\"/>\n",
              "  </svg>\n",
              "      </button>\n",
              "      \n",
              "  <style>\n",
              "    .colab-df-container {\n",
              "      display:flex;\n",
              "      flex-wrap:wrap;\n",
              "      gap: 12px;\n",
              "    }\n",
              "\n",
              "    .colab-df-convert {\n",
              "      background-color: #E8F0FE;\n",
              "      border: none;\n",
              "      border-radius: 50%;\n",
              "      cursor: pointer;\n",
              "      display: none;\n",
              "      fill: #1967D2;\n",
              "      height: 32px;\n",
              "      padding: 0 0 0 0;\n",
              "      width: 32px;\n",
              "    }\n",
              "\n",
              "    .colab-df-convert:hover {\n",
              "      background-color: #E2EBFA;\n",
              "      box-shadow: 0px 1px 2px rgba(60, 64, 67, 0.3), 0px 1px 3px 1px rgba(60, 64, 67, 0.15);\n",
              "      fill: #174EA6;\n",
              "    }\n",
              "\n",
              "    [theme=dark] .colab-df-convert {\n",
              "      background-color: #3B4455;\n",
              "      fill: #D2E3FC;\n",
              "    }\n",
              "\n",
              "    [theme=dark] .colab-df-convert:hover {\n",
              "      background-color: #434B5C;\n",
              "      box-shadow: 0px 1px 3px 1px rgba(0, 0, 0, 0.15);\n",
              "      filter: drop-shadow(0px 1px 2px rgba(0, 0, 0, 0.3));\n",
              "      fill: #FFFFFF;\n",
              "    }\n",
              "  </style>\n",
              "\n",
              "      <script>\n",
              "        const buttonEl =\n",
              "          document.querySelector('#df-fff08563-aa81-4605-bc17-8df2aa2a748e button.colab-df-convert');\n",
              "        buttonEl.style.display =\n",
              "          google.colab.kernel.accessAllowed ? 'block' : 'none';\n",
              "\n",
              "        async function convertToInteractive(key) {\n",
              "          const element = document.querySelector('#df-fff08563-aa81-4605-bc17-8df2aa2a748e');\n",
              "          const dataTable =\n",
              "            await google.colab.kernel.invokeFunction('convertToInteractive',\n",
              "                                                     [key], {});\n",
              "          if (!dataTable) return;\n",
              "\n",
              "          const docLinkHtml = 'Like what you see? Visit the ' +\n",
              "            '<a target=\"_blank\" href=https://colab.research.google.com/notebooks/data_table.ipynb>data table notebook</a>'\n",
              "            + ' to learn more about interactive tables.';\n",
              "          element.innerHTML = '';\n",
              "          dataTable['output_type'] = 'display_data';\n",
              "          await google.colab.output.renderOutput(dataTable, element);\n",
              "          const docLink = document.createElement('div');\n",
              "          docLink.innerHTML = docLinkHtml;\n",
              "          element.appendChild(docLink);\n",
              "        }\n",
              "      </script>\n",
              "    </div>\n",
              "  </div>\n",
              "  "
            ]
          },
          "metadata": {},
          "execution_count": 18
        }
      ],
      "source": [
        "df[\"arr_time\"]=pd.to_datetime(df[\"arr_time\"])\n",
        "df['arr_time'] = df['arr_time'].dt.strftime(\"%-H:%M\")\n",
        "df[\"arr_hour\"]=pd.DatetimeIndex(df[\"arr_time\"]).hour\n",
        "df[\"arr_minute\"]=pd.DatetimeIndex(df[\"arr_time\"]).minute\n",
        "df[\"arr_hour\"] = pd.to_numeric(df[\"arr_hour\"])\n",
        "df[\"arr_minute\"] = pd.to_numeric(df[\"arr_minute\"])\n",
        "df.head()\n"
      ]
    },
    {
      "cell_type": "markdown",
      "id": "97baca88",
      "metadata": {
        "id": "97baca88"
      },
      "source": [
        "### Data preprocessing : 'type'"
      ]
    },
    {
      "cell_type": "code",
      "execution_count": 19,
      "id": "caaad41c",
      "metadata": {
        "colab": {
          "base_uri": "https://localhost:8080/"
        },
        "id": "caaad41c",
        "outputId": "7ec57eb5-f597-48ac-9b89-8ce94e76752f"
      },
      "outputs": [
        {
          "output_type": "stream",
          "name": "stdout",
          "text": [
            "0         0\n",
            "1         0\n",
            "2         1\n",
            "3         1\n",
            "4         1\n",
            "         ..\n",
            "240203    1\n",
            "240204    0\n",
            "240205    1\n",
            "240206    1\n",
            "240207    1\n",
            "Name: type, Length: 240208, dtype: int64\n"
          ]
        },
        {
          "output_type": "stream",
          "name": "stderr",
          "text": [
            "/usr/local/lib/python3.7/dist-packages/sklearn/preprocessing/_label.py:115: DataConversionWarning: A column-vector y was passed when a 1d array was expected. Please change the shape of y to (n_samples, ), for example using ravel().\n",
            "  y = column_or_1d(y, warn=True)\n"
          ]
        }
      ],
      "source": [
        "df['type'] = lbl_enc.fit_transform(df[[\"type\"]])\n",
        "print(df['type'])"
      ]
    },
    {
      "cell_type": "markdown",
      "id": "a34c0c51",
      "metadata": {
        "id": "a34c0c51"
      },
      "source": [
        "### Data preprocessing : 'route'"
      ]
    },
    {
      "cell_type": "code",
      "execution_count": 20,
      "id": "855d039a",
      "metadata": {
        "id": "855d039a"
      },
      "outputs": [],
      "source": [
        "df['source'] = df['route'].str.split( ', ').str.get(0).str.split(':').str.get(1)\n",
        "df['destination'] = df['route'].str.split( ', ').str.get(1).str.split(':').str.get(1).str.split('}').str.get(0)\n",
        "df['source'] = df['source'].str.replace('\\'', \"\")\n",
        "df['destination'] = df['destination'].str.replace('\\'', \"\")"
      ]
    },
    {
      "cell_type": "code",
      "execution_count": 21,
      "id": "b34252e5",
      "metadata": {
        "colab": {
          "base_uri": "https://localhost:8080/",
          "height": 560
        },
        "id": "b34252e5",
        "outputId": "3bdeeabf-9d67-4a89-86da-e33aa8fa636b"
      },
      "outputs": [
        {
          "output_type": "execute_result",
          "data": {
            "text/plain": [
              "         date   airline  ch_code  num_code dep_time time_taken  stop arr_time  \\\n",
              "0  05/03/2022   Vistara        7       812     9:45    10h 10m     1    19:55   \n",
              "1  03/18/2022   Vistara        7       975     5:45    06h 30m     1    12:15   \n",
              "2  09/03/2022  GO FIRST        3      7537    14:30    08h 10m     1    22:40   \n",
              "3  03/15/2022  GO FIRST        3       287    10:40    09h 40m     1    20:20   \n",
              "4  03/22/2022   Vistara        7       826    12:30    07h 25m     1    19:55   \n",
              "\n",
              "   type                                              route  ...  day  \\\n",
              "0     0  {'source': 'Bangalore', 'destination': 'Hydera...  ...    3   \n",
              "1     0    {'source': 'Delhi', 'destination': 'Hyderabad'}  ...   18   \n",
              "2     1   {'source': 'Mumbai', 'destination': 'Hyderabad'}  ...    3   \n",
              "3     1       {'source': 'Mumbai', 'destination': 'Delhi'}  ...   15   \n",
              "4     1    {'source': 'Chennai', 'destination': 'Kolkata'}  ...   22   \n",
              "\n",
              "   dayofyear  dep_hour  dep_minute  hours_taken  minutes_taken  arr_hour  \\\n",
              "0        123         9          45         10.0           10.0        19   \n",
              "1         77         5          45          6.0           30.0        12   \n",
              "2        246        14          30          8.0           10.0        22   \n",
              "3         74        10          40          9.0           40.0        20   \n",
              "4         81        12          30          7.0           25.0        19   \n",
              "\n",
              "   arr_minute      source  destination  \n",
              "0          55   Bangalore    Hyderabad  \n",
              "1          15       Delhi    Hyderabad  \n",
              "2          40      Mumbai    Hyderabad  \n",
              "3          20      Mumbai        Delhi  \n",
              "4          55     Chennai      Kolkata  \n",
              "\n",
              "[5 rows x 22 columns]"
            ],
            "text/html": [
              "\n",
              "  <div id=\"df-b7fab3a6-a95c-4274-a36c-c8c7c15be17e\">\n",
              "    <div class=\"colab-df-container\">\n",
              "      <div>\n",
              "<style scoped>\n",
              "    .dataframe tbody tr th:only-of-type {\n",
              "        vertical-align: middle;\n",
              "    }\n",
              "\n",
              "    .dataframe tbody tr th {\n",
              "        vertical-align: top;\n",
              "    }\n",
              "\n",
              "    .dataframe thead th {\n",
              "        text-align: right;\n",
              "    }\n",
              "</style>\n",
              "<table border=\"1\" class=\"dataframe\">\n",
              "  <thead>\n",
              "    <tr style=\"text-align: right;\">\n",
              "      <th></th>\n",
              "      <th>date</th>\n",
              "      <th>airline</th>\n",
              "      <th>ch_code</th>\n",
              "      <th>num_code</th>\n",
              "      <th>dep_time</th>\n",
              "      <th>time_taken</th>\n",
              "      <th>stop</th>\n",
              "      <th>arr_time</th>\n",
              "      <th>type</th>\n",
              "      <th>route</th>\n",
              "      <th>...</th>\n",
              "      <th>day</th>\n",
              "      <th>dayofyear</th>\n",
              "      <th>dep_hour</th>\n",
              "      <th>dep_minute</th>\n",
              "      <th>hours_taken</th>\n",
              "      <th>minutes_taken</th>\n",
              "      <th>arr_hour</th>\n",
              "      <th>arr_minute</th>\n",
              "      <th>source</th>\n",
              "      <th>destination</th>\n",
              "    </tr>\n",
              "  </thead>\n",
              "  <tbody>\n",
              "    <tr>\n",
              "      <th>0</th>\n",
              "      <td>05/03/2022</td>\n",
              "      <td>Vistara</td>\n",
              "      <td>7</td>\n",
              "      <td>812</td>\n",
              "      <td>9:45</td>\n",
              "      <td>10h 10m</td>\n",
              "      <td>1</td>\n",
              "      <td>19:55</td>\n",
              "      <td>0</td>\n",
              "      <td>{'source': 'Bangalore', 'destination': 'Hydera...</td>\n",
              "      <td>...</td>\n",
              "      <td>3</td>\n",
              "      <td>123</td>\n",
              "      <td>9</td>\n",
              "      <td>45</td>\n",
              "      <td>10.0</td>\n",
              "      <td>10.0</td>\n",
              "      <td>19</td>\n",
              "      <td>55</td>\n",
              "      <td>Bangalore</td>\n",
              "      <td>Hyderabad</td>\n",
              "    </tr>\n",
              "    <tr>\n",
              "      <th>1</th>\n",
              "      <td>03/18/2022</td>\n",
              "      <td>Vistara</td>\n",
              "      <td>7</td>\n",
              "      <td>975</td>\n",
              "      <td>5:45</td>\n",
              "      <td>06h 30m</td>\n",
              "      <td>1</td>\n",
              "      <td>12:15</td>\n",
              "      <td>0</td>\n",
              "      <td>{'source': 'Delhi', 'destination': 'Hyderabad'}</td>\n",
              "      <td>...</td>\n",
              "      <td>18</td>\n",
              "      <td>77</td>\n",
              "      <td>5</td>\n",
              "      <td>45</td>\n",
              "      <td>6.0</td>\n",
              "      <td>30.0</td>\n",
              "      <td>12</td>\n",
              "      <td>15</td>\n",
              "      <td>Delhi</td>\n",
              "      <td>Hyderabad</td>\n",
              "    </tr>\n",
              "    <tr>\n",
              "      <th>2</th>\n",
              "      <td>09/03/2022</td>\n",
              "      <td>GO FIRST</td>\n",
              "      <td>3</td>\n",
              "      <td>7537</td>\n",
              "      <td>14:30</td>\n",
              "      <td>08h 10m</td>\n",
              "      <td>1</td>\n",
              "      <td>22:40</td>\n",
              "      <td>1</td>\n",
              "      <td>{'source': 'Mumbai', 'destination': 'Hyderabad'}</td>\n",
              "      <td>...</td>\n",
              "      <td>3</td>\n",
              "      <td>246</td>\n",
              "      <td>14</td>\n",
              "      <td>30</td>\n",
              "      <td>8.0</td>\n",
              "      <td>10.0</td>\n",
              "      <td>22</td>\n",
              "      <td>40</td>\n",
              "      <td>Mumbai</td>\n",
              "      <td>Hyderabad</td>\n",
              "    </tr>\n",
              "    <tr>\n",
              "      <th>3</th>\n",
              "      <td>03/15/2022</td>\n",
              "      <td>GO FIRST</td>\n",
              "      <td>3</td>\n",
              "      <td>287</td>\n",
              "      <td>10:40</td>\n",
              "      <td>09h 40m</td>\n",
              "      <td>1</td>\n",
              "      <td>20:20</td>\n",
              "      <td>1</td>\n",
              "      <td>{'source': 'Mumbai', 'destination': 'Delhi'}</td>\n",
              "      <td>...</td>\n",
              "      <td>15</td>\n",
              "      <td>74</td>\n",
              "      <td>10</td>\n",
              "      <td>40</td>\n",
              "      <td>9.0</td>\n",
              "      <td>40.0</td>\n",
              "      <td>20</td>\n",
              "      <td>20</td>\n",
              "      <td>Mumbai</td>\n",
              "      <td>Delhi</td>\n",
              "    </tr>\n",
              "    <tr>\n",
              "      <th>4</th>\n",
              "      <td>03/22/2022</td>\n",
              "      <td>Vistara</td>\n",
              "      <td>7</td>\n",
              "      <td>826</td>\n",
              "      <td>12:30</td>\n",
              "      <td>07h 25m</td>\n",
              "      <td>1</td>\n",
              "      <td>19:55</td>\n",
              "      <td>1</td>\n",
              "      <td>{'source': 'Chennai', 'destination': 'Kolkata'}</td>\n",
              "      <td>...</td>\n",
              "      <td>22</td>\n",
              "      <td>81</td>\n",
              "      <td>12</td>\n",
              "      <td>30</td>\n",
              "      <td>7.0</td>\n",
              "      <td>25.0</td>\n",
              "      <td>19</td>\n",
              "      <td>55</td>\n",
              "      <td>Chennai</td>\n",
              "      <td>Kolkata</td>\n",
              "    </tr>\n",
              "  </tbody>\n",
              "</table>\n",
              "<p>5 rows × 22 columns</p>\n",
              "</div>\n",
              "      <button class=\"colab-df-convert\" onclick=\"convertToInteractive('df-b7fab3a6-a95c-4274-a36c-c8c7c15be17e')\"\n",
              "              title=\"Convert this dataframe to an interactive table.\"\n",
              "              style=\"display:none;\">\n",
              "        \n",
              "  <svg xmlns=\"http://www.w3.org/2000/svg\" height=\"24px\"viewBox=\"0 0 24 24\"\n",
              "       width=\"24px\">\n",
              "    <path d=\"M0 0h24v24H0V0z\" fill=\"none\"/>\n",
              "    <path d=\"M18.56 5.44l.94 2.06.94-2.06 2.06-.94-2.06-.94-.94-2.06-.94 2.06-2.06.94zm-11 1L8.5 8.5l.94-2.06 2.06-.94-2.06-.94L8.5 2.5l-.94 2.06-2.06.94zm10 10l.94 2.06.94-2.06 2.06-.94-2.06-.94-.94-2.06-.94 2.06-2.06.94z\"/><path d=\"M17.41 7.96l-1.37-1.37c-.4-.4-.92-.59-1.43-.59-.52 0-1.04.2-1.43.59L10.3 9.45l-7.72 7.72c-.78.78-.78 2.05 0 2.83L4 21.41c.39.39.9.59 1.41.59.51 0 1.02-.2 1.41-.59l7.78-7.78 2.81-2.81c.8-.78.8-2.07 0-2.86zM5.41 20L4 18.59l7.72-7.72 1.47 1.35L5.41 20z\"/>\n",
              "  </svg>\n",
              "      </button>\n",
              "      \n",
              "  <style>\n",
              "    .colab-df-container {\n",
              "      display:flex;\n",
              "      flex-wrap:wrap;\n",
              "      gap: 12px;\n",
              "    }\n",
              "\n",
              "    .colab-df-convert {\n",
              "      background-color: #E8F0FE;\n",
              "      border: none;\n",
              "      border-radius: 50%;\n",
              "      cursor: pointer;\n",
              "      display: none;\n",
              "      fill: #1967D2;\n",
              "      height: 32px;\n",
              "      padding: 0 0 0 0;\n",
              "      width: 32px;\n",
              "    }\n",
              "\n",
              "    .colab-df-convert:hover {\n",
              "      background-color: #E2EBFA;\n",
              "      box-shadow: 0px 1px 2px rgba(60, 64, 67, 0.3), 0px 1px 3px 1px rgba(60, 64, 67, 0.15);\n",
              "      fill: #174EA6;\n",
              "    }\n",
              "\n",
              "    [theme=dark] .colab-df-convert {\n",
              "      background-color: #3B4455;\n",
              "      fill: #D2E3FC;\n",
              "    }\n",
              "\n",
              "    [theme=dark] .colab-df-convert:hover {\n",
              "      background-color: #434B5C;\n",
              "      box-shadow: 0px 1px 3px 1px rgba(0, 0, 0, 0.15);\n",
              "      filter: drop-shadow(0px 1px 2px rgba(0, 0, 0, 0.3));\n",
              "      fill: #FFFFFF;\n",
              "    }\n",
              "  </style>\n",
              "\n",
              "      <script>\n",
              "        const buttonEl =\n",
              "          document.querySelector('#df-b7fab3a6-a95c-4274-a36c-c8c7c15be17e button.colab-df-convert');\n",
              "        buttonEl.style.display =\n",
              "          google.colab.kernel.accessAllowed ? 'block' : 'none';\n",
              "\n",
              "        async function convertToInteractive(key) {\n",
              "          const element = document.querySelector('#df-b7fab3a6-a95c-4274-a36c-c8c7c15be17e');\n",
              "          const dataTable =\n",
              "            await google.colab.kernel.invokeFunction('convertToInteractive',\n",
              "                                                     [key], {});\n",
              "          if (!dataTable) return;\n",
              "\n",
              "          const docLinkHtml = 'Like what you see? Visit the ' +\n",
              "            '<a target=\"_blank\" href=https://colab.research.google.com/notebooks/data_table.ipynb>data table notebook</a>'\n",
              "            + ' to learn more about interactive tables.';\n",
              "          element.innerHTML = '';\n",
              "          dataTable['output_type'] = 'display_data';\n",
              "          await google.colab.output.renderOutput(dataTable, element);\n",
              "          const docLink = document.createElement('div');\n",
              "          docLink.innerHTML = docLinkHtml;\n",
              "          element.appendChild(docLink);\n",
              "        }\n",
              "      </script>\n",
              "    </div>\n",
              "  </div>\n",
              "  "
            ]
          },
          "metadata": {},
          "execution_count": 21
        }
      ],
      "source": [
        "df.head()"
      ]
    },
    {
      "cell_type": "code",
      "execution_count": 22,
      "id": "3d59112a",
      "metadata": {
        "colab": {
          "base_uri": "https://localhost:8080/"
        },
        "id": "3d59112a",
        "outputId": "3bf4131e-e8a5-485a-d94d-7c4810dbf246"
      },
      "outputs": [
        {
          "output_type": "stream",
          "name": "stdout",
          "text": [
            "0         0\n",
            "1         2\n",
            "2         5\n",
            "3         5\n",
            "4         1\n",
            "         ..\n",
            "240203    1\n",
            "240204    2\n",
            "240205    2\n",
            "240206    2\n",
            "240207    4\n",
            "Name: source, Length: 240208, dtype: int64\n"
          ]
        },
        {
          "output_type": "stream",
          "name": "stderr",
          "text": [
            "/usr/local/lib/python3.7/dist-packages/sklearn/preprocessing/_label.py:115: DataConversionWarning: A column-vector y was passed when a 1d array was expected. Please change the shape of y to (n_samples, ), for example using ravel().\n",
            "  y = column_or_1d(y, warn=True)\n"
          ]
        }
      ],
      "source": [
        "df['source'] = lbl_enc.fit_transform(df[[\"source\"]])\n",
        "print(df['source'])"
      ]
    },
    {
      "cell_type": "code",
      "execution_count": 23,
      "id": "221127f8",
      "metadata": {
        "colab": {
          "base_uri": "https://localhost:8080/",
          "height": 482
        },
        "id": "221127f8",
        "outputId": "b96f12e9-d484-4aac-ec37-7cfd841c9cdd"
      },
      "outputs": [
        {
          "output_type": "stream",
          "name": "stderr",
          "text": [
            "/usr/local/lib/python3.7/dist-packages/sklearn/preprocessing/_label.py:115: DataConversionWarning: A column-vector y was passed when a 1d array was expected. Please change the shape of y to (n_samples, ), for example using ravel().\n",
            "  y = column_or_1d(y, warn=True)\n"
          ]
        },
        {
          "output_type": "stream",
          "name": "stdout",
          "text": [
            "0         3\n",
            "1         3\n",
            "2         3\n",
            "3         2\n",
            "4         4\n",
            "         ..\n",
            "240203    3\n",
            "240204    4\n",
            "240205    0\n",
            "240206    5\n",
            "240207    3\n",
            "Name: destination, Length: 240208, dtype: int64\n"
          ]
        },
        {
          "output_type": "execute_result",
          "data": {
            "text/plain": [
              "   ch_code  num_code  stop  type  price  month  day  dayofyear  dep_hour  \\\n",
              "0        7       812     1     0  56588      5    3        123         9   \n",
              "1        7       975     1     0  59649      3   18         77         5   \n",
              "2        3      7537     1     1   3916      9    3        246        14   \n",
              "3        3       287     1     1   6031      3   15         74        10   \n",
              "4        7       826     1     1   7081      3   22         81        12   \n",
              "\n",
              "   dep_minute  hours_taken  minutes_taken  arr_hour  arr_minute  source  \\\n",
              "0          45         10.0           10.0        19          55       0   \n",
              "1          45          6.0           30.0        12          15       2   \n",
              "2          30          8.0           10.0        22          40       5   \n",
              "3          40          9.0           40.0        20          20       5   \n",
              "4          30          7.0           25.0        19          55       1   \n",
              "\n",
              "   destination  \n",
              "0            3  \n",
              "1            3  \n",
              "2            3  \n",
              "3            2  \n",
              "4            4  "
            ],
            "text/html": [
              "\n",
              "  <div id=\"df-268f544f-9bd4-4adb-8e9e-2c772f2c09c7\">\n",
              "    <div class=\"colab-df-container\">\n",
              "      <div>\n",
              "<style scoped>\n",
              "    .dataframe tbody tr th:only-of-type {\n",
              "        vertical-align: middle;\n",
              "    }\n",
              "\n",
              "    .dataframe tbody tr th {\n",
              "        vertical-align: top;\n",
              "    }\n",
              "\n",
              "    .dataframe thead th {\n",
              "        text-align: right;\n",
              "    }\n",
              "</style>\n",
              "<table border=\"1\" class=\"dataframe\">\n",
              "  <thead>\n",
              "    <tr style=\"text-align: right;\">\n",
              "      <th></th>\n",
              "      <th>ch_code</th>\n",
              "      <th>num_code</th>\n",
              "      <th>stop</th>\n",
              "      <th>type</th>\n",
              "      <th>price</th>\n",
              "      <th>month</th>\n",
              "      <th>day</th>\n",
              "      <th>dayofyear</th>\n",
              "      <th>dep_hour</th>\n",
              "      <th>dep_minute</th>\n",
              "      <th>hours_taken</th>\n",
              "      <th>minutes_taken</th>\n",
              "      <th>arr_hour</th>\n",
              "      <th>arr_minute</th>\n",
              "      <th>source</th>\n",
              "      <th>destination</th>\n",
              "    </tr>\n",
              "  </thead>\n",
              "  <tbody>\n",
              "    <tr>\n",
              "      <th>0</th>\n",
              "      <td>7</td>\n",
              "      <td>812</td>\n",
              "      <td>1</td>\n",
              "      <td>0</td>\n",
              "      <td>56588</td>\n",
              "      <td>5</td>\n",
              "      <td>3</td>\n",
              "      <td>123</td>\n",
              "      <td>9</td>\n",
              "      <td>45</td>\n",
              "      <td>10.0</td>\n",
              "      <td>10.0</td>\n",
              "      <td>19</td>\n",
              "      <td>55</td>\n",
              "      <td>0</td>\n",
              "      <td>3</td>\n",
              "    </tr>\n",
              "    <tr>\n",
              "      <th>1</th>\n",
              "      <td>7</td>\n",
              "      <td>975</td>\n",
              "      <td>1</td>\n",
              "      <td>0</td>\n",
              "      <td>59649</td>\n",
              "      <td>3</td>\n",
              "      <td>18</td>\n",
              "      <td>77</td>\n",
              "      <td>5</td>\n",
              "      <td>45</td>\n",
              "      <td>6.0</td>\n",
              "      <td>30.0</td>\n",
              "      <td>12</td>\n",
              "      <td>15</td>\n",
              "      <td>2</td>\n",
              "      <td>3</td>\n",
              "    </tr>\n",
              "    <tr>\n",
              "      <th>2</th>\n",
              "      <td>3</td>\n",
              "      <td>7537</td>\n",
              "      <td>1</td>\n",
              "      <td>1</td>\n",
              "      <td>3916</td>\n",
              "      <td>9</td>\n",
              "      <td>3</td>\n",
              "      <td>246</td>\n",
              "      <td>14</td>\n",
              "      <td>30</td>\n",
              "      <td>8.0</td>\n",
              "      <td>10.0</td>\n",
              "      <td>22</td>\n",
              "      <td>40</td>\n",
              "      <td>5</td>\n",
              "      <td>3</td>\n",
              "    </tr>\n",
              "    <tr>\n",
              "      <th>3</th>\n",
              "      <td>3</td>\n",
              "      <td>287</td>\n",
              "      <td>1</td>\n",
              "      <td>1</td>\n",
              "      <td>6031</td>\n",
              "      <td>3</td>\n",
              "      <td>15</td>\n",
              "      <td>74</td>\n",
              "      <td>10</td>\n",
              "      <td>40</td>\n",
              "      <td>9.0</td>\n",
              "      <td>40.0</td>\n",
              "      <td>20</td>\n",
              "      <td>20</td>\n",
              "      <td>5</td>\n",
              "      <td>2</td>\n",
              "    </tr>\n",
              "    <tr>\n",
              "      <th>4</th>\n",
              "      <td>7</td>\n",
              "      <td>826</td>\n",
              "      <td>1</td>\n",
              "      <td>1</td>\n",
              "      <td>7081</td>\n",
              "      <td>3</td>\n",
              "      <td>22</td>\n",
              "      <td>81</td>\n",
              "      <td>12</td>\n",
              "      <td>30</td>\n",
              "      <td>7.0</td>\n",
              "      <td>25.0</td>\n",
              "      <td>19</td>\n",
              "      <td>55</td>\n",
              "      <td>1</td>\n",
              "      <td>4</td>\n",
              "    </tr>\n",
              "  </tbody>\n",
              "</table>\n",
              "</div>\n",
              "      <button class=\"colab-df-convert\" onclick=\"convertToInteractive('df-268f544f-9bd4-4adb-8e9e-2c772f2c09c7')\"\n",
              "              title=\"Convert this dataframe to an interactive table.\"\n",
              "              style=\"display:none;\">\n",
              "        \n",
              "  <svg xmlns=\"http://www.w3.org/2000/svg\" height=\"24px\"viewBox=\"0 0 24 24\"\n",
              "       width=\"24px\">\n",
              "    <path d=\"M0 0h24v24H0V0z\" fill=\"none\"/>\n",
              "    <path d=\"M18.56 5.44l.94 2.06.94-2.06 2.06-.94-2.06-.94-.94-2.06-.94 2.06-2.06.94zm-11 1L8.5 8.5l.94-2.06 2.06-.94-2.06-.94L8.5 2.5l-.94 2.06-2.06.94zm10 10l.94 2.06.94-2.06 2.06-.94-2.06-.94-.94-2.06-.94 2.06-2.06.94z\"/><path d=\"M17.41 7.96l-1.37-1.37c-.4-.4-.92-.59-1.43-.59-.52 0-1.04.2-1.43.59L10.3 9.45l-7.72 7.72c-.78.78-.78 2.05 0 2.83L4 21.41c.39.39.9.59 1.41.59.51 0 1.02-.2 1.41-.59l7.78-7.78 2.81-2.81c.8-.78.8-2.07 0-2.86zM5.41 20L4 18.59l7.72-7.72 1.47 1.35L5.41 20z\"/>\n",
              "  </svg>\n",
              "      </button>\n",
              "      \n",
              "  <style>\n",
              "    .colab-df-container {\n",
              "      display:flex;\n",
              "      flex-wrap:wrap;\n",
              "      gap: 12px;\n",
              "    }\n",
              "\n",
              "    .colab-df-convert {\n",
              "      background-color: #E8F0FE;\n",
              "      border: none;\n",
              "      border-radius: 50%;\n",
              "      cursor: pointer;\n",
              "      display: none;\n",
              "      fill: #1967D2;\n",
              "      height: 32px;\n",
              "      padding: 0 0 0 0;\n",
              "      width: 32px;\n",
              "    }\n",
              "\n",
              "    .colab-df-convert:hover {\n",
              "      background-color: #E2EBFA;\n",
              "      box-shadow: 0px 1px 2px rgba(60, 64, 67, 0.3), 0px 1px 3px 1px rgba(60, 64, 67, 0.15);\n",
              "      fill: #174EA6;\n",
              "    }\n",
              "\n",
              "    [theme=dark] .colab-df-convert {\n",
              "      background-color: #3B4455;\n",
              "      fill: #D2E3FC;\n",
              "    }\n",
              "\n",
              "    [theme=dark] .colab-df-convert:hover {\n",
              "      background-color: #434B5C;\n",
              "      box-shadow: 0px 1px 3px 1px rgba(0, 0, 0, 0.15);\n",
              "      filter: drop-shadow(0px 1px 2px rgba(0, 0, 0, 0.3));\n",
              "      fill: #FFFFFF;\n",
              "    }\n",
              "  </style>\n",
              "\n",
              "      <script>\n",
              "        const buttonEl =\n",
              "          document.querySelector('#df-268f544f-9bd4-4adb-8e9e-2c772f2c09c7 button.colab-df-convert');\n",
              "        buttonEl.style.display =\n",
              "          google.colab.kernel.accessAllowed ? 'block' : 'none';\n",
              "\n",
              "        async function convertToInteractive(key) {\n",
              "          const element = document.querySelector('#df-268f544f-9bd4-4adb-8e9e-2c772f2c09c7');\n",
              "          const dataTable =\n",
              "            await google.colab.kernel.invokeFunction('convertToInteractive',\n",
              "                                                     [key], {});\n",
              "          if (!dataTable) return;\n",
              "\n",
              "          const docLinkHtml = 'Like what you see? Visit the ' +\n",
              "            '<a target=\"_blank\" href=https://colab.research.google.com/notebooks/data_table.ipynb>data table notebook</a>'\n",
              "            + ' to learn more about interactive tables.';\n",
              "          element.innerHTML = '';\n",
              "          dataTable['output_type'] = 'display_data';\n",
              "          await google.colab.output.renderOutput(dataTable, element);\n",
              "          const docLink = document.createElement('div');\n",
              "          docLink.innerHTML = docLinkHtml;\n",
              "          element.appendChild(docLink);\n",
              "        }\n",
              "      </script>\n",
              "    </div>\n",
              "  </div>\n",
              "  "
            ]
          },
          "metadata": {},
          "execution_count": 23
        }
      ],
      "source": [
        "df['destination'] = lbl_enc.fit_transform(df[[\"destination\"]])\n",
        "print(df['destination'])\n",
        "df = df.dropna()\n",
        "df = df.drop(['airline', 'date', 'dep_time', \"time_taken\", 'arr_time', 'route',], axis=1)\n",
        "df.head()\n",
        "#df = pd.get_dummies(df)"
      ]
    },
    {
      "cell_type": "code",
      "execution_count": 24,
      "id": "5e5b7200",
      "metadata": {
        "colab": {
          "base_uri": "https://localhost:8080/"
        },
        "id": "5e5b7200",
        "outputId": "5f056804-baea-430e-9f56-cc71be93c31b"
      },
      "outputs": [
        {
          "output_type": "stream",
          "name": "stdout",
          "text": [
            "Index(['ch_code', 'num_code', 'stop', 'type', 'price', 'month', 'day',\n",
            "       'dayofyear', 'dep_hour', 'dep_minute', 'hours_taken', 'minutes_taken',\n",
            "       'arr_hour', 'arr_minute', 'source', 'destination'],\n",
            "      dtype='object')\n"
          ]
        }
      ],
      "source": [
        "print(df.columns)"
      ]
    },
    {
      "cell_type": "code",
      "execution_count": 25,
      "id": "e42dc728",
      "metadata": {
        "id": "e42dc728"
      },
      "outputs": [],
      "source": [
        "# from sklearn.preprocessing import StandardScaler\n",
        "# ss = StandardScaler()\n",
        "# df_scaled = pd.DataFrame(ss.fit_transform(df),columns = df.columns)\n",
        "# df_scaled.head()"
      ]
    },
    {
      "cell_type": "code",
      "execution_count": 26,
      "id": "e7415fad",
      "metadata": {
        "id": "e7415fad"
      },
      "outputs": [],
      "source": [
        "X = df.loc[:, df.columns != 'price']\n",
        "Y = df['price']"
      ]
    },
    {
      "cell_type": "code",
      "execution_count": 27,
      "id": "543de611",
      "metadata": {
        "id": "543de611"
      },
      "outputs": [],
      "source": [
        "dtree = DecisionTreeRegressor(max_depth=20, min_samples_leaf=0.10, random_state=8)"
      ]
    },
    {
      "cell_type": "code",
      "execution_count": 28,
      "id": "f2cb0328",
      "metadata": {
        "id": "f2cb0328"
      },
      "outputs": [],
      "source": [
        "XTrain, XTest, YTrain, YTest = train_test_split(X, Y, test_size=0.2, shuffle=True, random_state=8)"
      ]
    },
    {
      "cell_type": "code",
      "execution_count": 29,
      "id": "3c0a14f6",
      "metadata": {
        "colab": {
          "base_uri": "https://localhost:8080/"
        },
        "id": "3c0a14f6",
        "outputId": "376197fe-0dbd-47d3-d316-03d07a7b73cb"
      },
      "outputs": [
        {
          "output_type": "stream",
          "name": "stdout",
          "text": [
            "7341.735485727376\n",
            "0.8951801619904182\n",
            "7349.826148562579\n",
            "Mean Square Error for testing set 54019944.41409424\n",
            "0.895910945352473\n"
          ]
        }
      ],
      "source": [
        "dtree.fit(XTrain, YTrain)\n",
        "\n",
        "pred_train_tree= dtree.predict(XTrain)\n",
        "print(np.sqrt(mean_squared_error(YTrain, pred_train_tree)))\n",
        "print(r2_score(YTrain, pred_train_tree))\n",
        "\n",
        "pred_test_tree= dtree.predict(XTest)\n",
        "print(np.sqrt(mean_squared_error(YTest, pred_test_tree)))\n",
        "print('Mean Square Error for testing set', metrics.mean_squared_error(YTest, pred_test_tree))\n",
        "print(r2_score(YTest, pred_test_tree))"
      ]
    },
    {
      "cell_type": "code",
      "execution_count": 30,
      "id": "530be46c",
      "metadata": {
        "colab": {
          "base_uri": "https://localhost:8080/"
        },
        "id": "530be46c",
        "outputId": "070b1a9c-4d2c-4dcb-a90b-ef38b40509e9"
      },
      "outputs": [
        {
          "output_type": "stream",
          "name": "stdout",
          "text": [
            "5036.0660595933\n",
            "Mean Square Error for testing set 25361961.356587593\n",
            "0.9511309644938186\n"
          ]
        }
      ],
      "source": [
        "polynomial = PolynomialFeatures(degree=3)\n",
        "\n",
        "XPolynomial = polynomial.fit_transform(XTrain)\n",
        "\n",
        "Model = linear_model.LinearRegression()\n",
        "Model.fit(XPolynomial, YTrain)\n",
        "\n",
        "TrainPrediction = Model.predict(XPolynomial)\n",
        "\n",
        "TesTPrediction = Model.predict(polynomial.fit_transform(XTest))\n",
        "\n",
        "print(np.sqrt(mean_squared_error(YTest, TesTPrediction)))\n",
        "print('Mean Square Error for testing set', metrics.mean_squared_error(YTest, TesTPrediction))\n",
        "print(r2_score(YTest, TesTPrediction))"
      ]
    },
    {
      "cell_type": "markdown",
      "id": "7cfda0e6",
      "metadata": {
        "id": "7cfda0e6"
      },
      "source": [
        "# No dropping && Label encoder\n",
        "## No Scaling Applied :\n",
        "### 25,361,961-->Best poly(d=3,r=8)------> Acc = 0.9511\n",
        "# Drop arr_hour,min,dep_hour,min,dayofyear && Label encoder for all:\n",
        "## No Scaling Applied :\n",
        "### 25,063,325 -->poly(d=3,r=120)------> Acc = 0.9512\n",
        "### 48,657,835 -->Poly(d=5,r=120)------> Acc = 0.90525\n",
        "### 25,498,894 -->Poly(d=4,r=120)------> Acc = 0.95035\n",
        "### 24,642,093 -->BEST Poly(d=4,r=8)------> Acc = 0.95251\n",
        "### 44,714,500 -->ElasticNet(d=2,r=8)------> Acc = 0.91\n",
        "### 54,019,944-->Dtree-------> Acc = 0.89\n",
        "## Applied Feature Scaling (Not sure as it implies on price also):\n",
        "### 0.04603038 -->Poly(d=4,r=8)------> Acc = 0.95430\n",
        "### 0.10495510 -->Dtree\n",
        "### 0.47465824 -->ElasticNet(d=2,r=8)------> Acc = 0.4746\n",
        "# Drop arr_hour,min,dep_hour,min,weekofyear,month,day && Label encoder for all:\n",
        "  *   0.0447658 -->BEST Poly(d=5,r=8)------> Acc = 0.955561\n",
        "\n",
        "# Conclusion :\n",
        "  ### Label encoder > Dummy, OneHot\n",
        "  ### Polynomial > Linear,Dtree,Ridge,Elastic\n",
        "  ### Polynomial degree 3 with more features acts nearly Best\n",
        "# BIG NOTE :\n",
        "  ### all this data gathered on GoogleCollab and it may slightly differs in jupyter or pycharm\n",
        "\n",
        " "
      ]
    },
    {
      "cell_type": "code",
      "execution_count": 31,
      "id": "01935b29",
      "metadata": {
        "colab": {
          "base_uri": "https://localhost:8080/"
        },
        "id": "01935b29",
        "outputId": "b637d075-ce12-41b9-bef9-beebcc2a7f61"
      },
      "outputs": [
        {
          "output_type": "stream",
          "name": "stdout",
          "text": [
            "30498.562618570573\n",
            "Mean Square Error for testing set 930162321.7988704\n",
            "-0.7922957491887423\n"
          ]
        }
      ],
      "source": [
        "import xgboost as xgb\n",
        "\n",
        "data_dmatrix = xgb.DMatrix(data=X,label=Y)\n",
        "\n",
        "\n",
        "xg_reg = xgb.XGBRegressor(objective ='reg:squarederror', colsample_bytree = 0.7, learning_rate = 0.001,\n",
        "                max_depth = 20, alpha = 50, n_estimators = 20)\n",
        "xg_reg.fit(XTrain,YTrain)\n",
        "\n",
        "preds = xg_reg.predict(XTest)\n",
        "print(np.sqrt(mean_squared_error(YTest, preds)))\n",
        "print('Mean Square Error for testing set', metrics.mean_squared_error(YTest, preds))\n",
        "print(r2_score(YTest, preds))"
      ]
    },
    {
      "cell_type": "code",
      "source": [
        ""
      ],
      "metadata": {
        "id": "WMbMwf9NKKUj"
      },
      "id": "WMbMwf9NKKUj",
      "execution_count": 31,
      "outputs": []
    },
    {
      "cell_type": "code",
      "source": [
        "polynomial = PolynomialFeatures(degree=2)\n",
        "\n",
        "XPolynomial = polynomial.fit_transform(XTrain)\n",
        "\n",
        "Model = linear_model.ElasticNet()\n",
        "Model.fit(XPolynomial, YTrain)\n",
        "\n",
        "TrainPrediction = Model.predict(XPolynomial)\n",
        "\n",
        "TesTPrediction = Model.predict(polynomial.fit_transform(XTest))\n",
        "\n",
        "print(np.sqrt(mean_squared_error(YTest, TesTPrediction)))\n",
        "print('Mean Square Error for testing set', metrics.mean_squared_error(YTest, TesTPrediction))\n",
        "print(r2_score(YTest, TesTPrediction))"
      ],
      "metadata": {
        "colab": {
          "base_uri": "https://localhost:8080/"
        },
        "id": "Ori2uHg4BfO1",
        "outputId": "5270d12e-f578-43ae-adcf-ce111e7b6967"
      },
      "id": "Ori2uHg4BfO1",
      "execution_count": 32,
      "outputs": [
        {
          "output_type": "stream",
          "name": "stdout",
          "text": [
            "6550.56078868544\n",
            "Mean Square Error for testing set 42909846.646263205\n",
            "0.9173185862939436\n"
          ]
        },
        {
          "output_type": "stream",
          "name": "stderr",
          "text": [
            "/usr/local/lib/python3.7/dist-packages/sklearn/linear_model/_coordinate_descent.py:648: ConvergenceWarning: Objective did not converge. You might want to increase the number of iterations, check the scale of the features or consider increasing regularisation. Duality gap: 4.267e+12, tolerance: 9.882e+09\n",
            "  coef_, l1_reg, l2_reg, X, y, max_iter, tol, rng, random, positive\n"
          ]
        }
      ]
    },
    {
      "cell_type": "code",
      "source": [
        "polynomial = PolynomialFeatures(degree=2)\n",
        "\n",
        "XPolynomial = polynomial.fit_transform(XTrain)\n",
        "\n",
        "Model = linear_model.Ridge()\n",
        "Model.fit(XPolynomial, YTrain)\n",
        "\n",
        "TrainPrediction = Model.predict(XPolynomial)\n",
        "\n",
        "TesTPrediction = Model.predict(polynomial.fit_transform(XTest))\n",
        "\n",
        "print(np.sqrt(mean_squared_error(YTest, TesTPrediction)))\n",
        "print('Mean Square Error for testing set', metrics.mean_squared_error(YTest, TesTPrediction))\n",
        "print(r2_score(YTest, TesTPrediction))"
      ],
      "metadata": {
        "colab": {
          "base_uri": "https://localhost:8080/"
        },
        "id": "loTyjQORCeAV",
        "outputId": "3435cecb-4b2d-49de-f799-648602b09710"
      },
      "id": "loTyjQORCeAV",
      "execution_count": 34,
      "outputs": [
        {
          "output_type": "stream",
          "name": "stderr",
          "text": [
            "/usr/local/lib/python3.7/dist-packages/sklearn/linear_model/_ridge.py:157: LinAlgWarning: Ill-conditioned matrix (rcond=1.31382e-20): result may not be accurate.\n",
            "  return linalg.solve(A, Xy, sym_pos=True, overwrite_a=True).T\n"
          ]
        },
        {
          "output_type": "stream",
          "name": "stdout",
          "text": [
            "5566.156632389981\n",
            "Mean Square Error for testing set 30982099.656298973\n",
            "0.9403017256089914\n"
          ]
        }
      ]
    },
    {
      "cell_type": "code",
      "execution_count": 33,
      "id": "0ec34a80",
      "metadata": {
        "colab": {
          "base_uri": "https://localhost:8080/",
          "height": 206
        },
        "id": "0ec34a80",
        "outputId": "5feac0d6-5177-452a-f46c-722b02551df8"
      },
      "outputs": [
        {
          "output_type": "execute_result",
          "data": {
            "text/plain": [
              "   ch_code  num_code  stop  type  price  month  day  dayofyear  dep_hour  \\\n",
              "0        7       812     1     0  56588      5    3        123         9   \n",
              "1        7       975     1     0  59649      3   18         77         5   \n",
              "2        3      7537     1     1   3916      9    3        246        14   \n",
              "3        3       287     1     1   6031      3   15         74        10   \n",
              "4        7       826     1     1   7081      3   22         81        12   \n",
              "\n",
              "   dep_minute  hours_taken  minutes_taken  arr_hour  arr_minute  source  \\\n",
              "0          45         10.0           10.0        19          55       0   \n",
              "1          45          6.0           30.0        12          15       2   \n",
              "2          30          8.0           10.0        22          40       5   \n",
              "3          40          9.0           40.0        20          20       5   \n",
              "4          30          7.0           25.0        19          55       1   \n",
              "\n",
              "   destination  \n",
              "0            3  \n",
              "1            3  \n",
              "2            3  \n",
              "3            2  \n",
              "4            4  "
            ],
            "text/html": [
              "\n",
              "  <div id=\"df-0b9f1f46-6a99-4b3d-8c00-86b4a60b7cd0\">\n",
              "    <div class=\"colab-df-container\">\n",
              "      <div>\n",
              "<style scoped>\n",
              "    .dataframe tbody tr th:only-of-type {\n",
              "        vertical-align: middle;\n",
              "    }\n",
              "\n",
              "    .dataframe tbody tr th {\n",
              "        vertical-align: top;\n",
              "    }\n",
              "\n",
              "    .dataframe thead th {\n",
              "        text-align: right;\n",
              "    }\n",
              "</style>\n",
              "<table border=\"1\" class=\"dataframe\">\n",
              "  <thead>\n",
              "    <tr style=\"text-align: right;\">\n",
              "      <th></th>\n",
              "      <th>ch_code</th>\n",
              "      <th>num_code</th>\n",
              "      <th>stop</th>\n",
              "      <th>type</th>\n",
              "      <th>price</th>\n",
              "      <th>month</th>\n",
              "      <th>day</th>\n",
              "      <th>dayofyear</th>\n",
              "      <th>dep_hour</th>\n",
              "      <th>dep_minute</th>\n",
              "      <th>hours_taken</th>\n",
              "      <th>minutes_taken</th>\n",
              "      <th>arr_hour</th>\n",
              "      <th>arr_minute</th>\n",
              "      <th>source</th>\n",
              "      <th>destination</th>\n",
              "    </tr>\n",
              "  </thead>\n",
              "  <tbody>\n",
              "    <tr>\n",
              "      <th>0</th>\n",
              "      <td>7</td>\n",
              "      <td>812</td>\n",
              "      <td>1</td>\n",
              "      <td>0</td>\n",
              "      <td>56588</td>\n",
              "      <td>5</td>\n",
              "      <td>3</td>\n",
              "      <td>123</td>\n",
              "      <td>9</td>\n",
              "      <td>45</td>\n",
              "      <td>10.0</td>\n",
              "      <td>10.0</td>\n",
              "      <td>19</td>\n",
              "      <td>55</td>\n",
              "      <td>0</td>\n",
              "      <td>3</td>\n",
              "    </tr>\n",
              "    <tr>\n",
              "      <th>1</th>\n",
              "      <td>7</td>\n",
              "      <td>975</td>\n",
              "      <td>1</td>\n",
              "      <td>0</td>\n",
              "      <td>59649</td>\n",
              "      <td>3</td>\n",
              "      <td>18</td>\n",
              "      <td>77</td>\n",
              "      <td>5</td>\n",
              "      <td>45</td>\n",
              "      <td>6.0</td>\n",
              "      <td>30.0</td>\n",
              "      <td>12</td>\n",
              "      <td>15</td>\n",
              "      <td>2</td>\n",
              "      <td>3</td>\n",
              "    </tr>\n",
              "    <tr>\n",
              "      <th>2</th>\n",
              "      <td>3</td>\n",
              "      <td>7537</td>\n",
              "      <td>1</td>\n",
              "      <td>1</td>\n",
              "      <td>3916</td>\n",
              "      <td>9</td>\n",
              "      <td>3</td>\n",
              "      <td>246</td>\n",
              "      <td>14</td>\n",
              "      <td>30</td>\n",
              "      <td>8.0</td>\n",
              "      <td>10.0</td>\n",
              "      <td>22</td>\n",
              "      <td>40</td>\n",
              "      <td>5</td>\n",
              "      <td>3</td>\n",
              "    </tr>\n",
              "    <tr>\n",
              "      <th>3</th>\n",
              "      <td>3</td>\n",
              "      <td>287</td>\n",
              "      <td>1</td>\n",
              "      <td>1</td>\n",
              "      <td>6031</td>\n",
              "      <td>3</td>\n",
              "      <td>15</td>\n",
              "      <td>74</td>\n",
              "      <td>10</td>\n",
              "      <td>40</td>\n",
              "      <td>9.0</td>\n",
              "      <td>40.0</td>\n",
              "      <td>20</td>\n",
              "      <td>20</td>\n",
              "      <td>5</td>\n",
              "      <td>2</td>\n",
              "    </tr>\n",
              "    <tr>\n",
              "      <th>4</th>\n",
              "      <td>7</td>\n",
              "      <td>826</td>\n",
              "      <td>1</td>\n",
              "      <td>1</td>\n",
              "      <td>7081</td>\n",
              "      <td>3</td>\n",
              "      <td>22</td>\n",
              "      <td>81</td>\n",
              "      <td>12</td>\n",
              "      <td>30</td>\n",
              "      <td>7.0</td>\n",
              "      <td>25.0</td>\n",
              "      <td>19</td>\n",
              "      <td>55</td>\n",
              "      <td>1</td>\n",
              "      <td>4</td>\n",
              "    </tr>\n",
              "  </tbody>\n",
              "</table>\n",
              "</div>\n",
              "      <button class=\"colab-df-convert\" onclick=\"convertToInteractive('df-0b9f1f46-6a99-4b3d-8c00-86b4a60b7cd0')\"\n",
              "              title=\"Convert this dataframe to an interactive table.\"\n",
              "              style=\"display:none;\">\n",
              "        \n",
              "  <svg xmlns=\"http://www.w3.org/2000/svg\" height=\"24px\"viewBox=\"0 0 24 24\"\n",
              "       width=\"24px\">\n",
              "    <path d=\"M0 0h24v24H0V0z\" fill=\"none\"/>\n",
              "    <path d=\"M18.56 5.44l.94 2.06.94-2.06 2.06-.94-2.06-.94-.94-2.06-.94 2.06-2.06.94zm-11 1L8.5 8.5l.94-2.06 2.06-.94-2.06-.94L8.5 2.5l-.94 2.06-2.06.94zm10 10l.94 2.06.94-2.06 2.06-.94-2.06-.94-.94-2.06-.94 2.06-2.06.94z\"/><path d=\"M17.41 7.96l-1.37-1.37c-.4-.4-.92-.59-1.43-.59-.52 0-1.04.2-1.43.59L10.3 9.45l-7.72 7.72c-.78.78-.78 2.05 0 2.83L4 21.41c.39.39.9.59 1.41.59.51 0 1.02-.2 1.41-.59l7.78-7.78 2.81-2.81c.8-.78.8-2.07 0-2.86zM5.41 20L4 18.59l7.72-7.72 1.47 1.35L5.41 20z\"/>\n",
              "  </svg>\n",
              "      </button>\n",
              "      \n",
              "  <style>\n",
              "    .colab-df-container {\n",
              "      display:flex;\n",
              "      flex-wrap:wrap;\n",
              "      gap: 12px;\n",
              "    }\n",
              "\n",
              "    .colab-df-convert {\n",
              "      background-color: #E8F0FE;\n",
              "      border: none;\n",
              "      border-radius: 50%;\n",
              "      cursor: pointer;\n",
              "      display: none;\n",
              "      fill: #1967D2;\n",
              "      height: 32px;\n",
              "      padding: 0 0 0 0;\n",
              "      width: 32px;\n",
              "    }\n",
              "\n",
              "    .colab-df-convert:hover {\n",
              "      background-color: #E2EBFA;\n",
              "      box-shadow: 0px 1px 2px rgba(60, 64, 67, 0.3), 0px 1px 3px 1px rgba(60, 64, 67, 0.15);\n",
              "      fill: #174EA6;\n",
              "    }\n",
              "\n",
              "    [theme=dark] .colab-df-convert {\n",
              "      background-color: #3B4455;\n",
              "      fill: #D2E3FC;\n",
              "    }\n",
              "\n",
              "    [theme=dark] .colab-df-convert:hover {\n",
              "      background-color: #434B5C;\n",
              "      box-shadow: 0px 1px 3px 1px rgba(0, 0, 0, 0.15);\n",
              "      filter: drop-shadow(0px 1px 2px rgba(0, 0, 0, 0.3));\n",
              "      fill: #FFFFFF;\n",
              "    }\n",
              "  </style>\n",
              "\n",
              "      <script>\n",
              "        const buttonEl =\n",
              "          document.querySelector('#df-0b9f1f46-6a99-4b3d-8c00-86b4a60b7cd0 button.colab-df-convert');\n",
              "        buttonEl.style.display =\n",
              "          google.colab.kernel.accessAllowed ? 'block' : 'none';\n",
              "\n",
              "        async function convertToInteractive(key) {\n",
              "          const element = document.querySelector('#df-0b9f1f46-6a99-4b3d-8c00-86b4a60b7cd0');\n",
              "          const dataTable =\n",
              "            await google.colab.kernel.invokeFunction('convertToInteractive',\n",
              "                                                     [key], {});\n",
              "          if (!dataTable) return;\n",
              "\n",
              "          const docLinkHtml = 'Like what you see? Visit the ' +\n",
              "            '<a target=\"_blank\" href=https://colab.research.google.com/notebooks/data_table.ipynb>data table notebook</a>'\n",
              "            + ' to learn more about interactive tables.';\n",
              "          element.innerHTML = '';\n",
              "          dataTable['output_type'] = 'display_data';\n",
              "          await google.colab.output.renderOutput(dataTable, element);\n",
              "          const docLink = document.createElement('div');\n",
              "          docLink.innerHTML = docLinkHtml;\n",
              "          element.appendChild(docLink);\n",
              "        }\n",
              "      </script>\n",
              "    </div>\n",
              "  </div>\n",
              "  "
            ]
          },
          "metadata": {},
          "execution_count": 33
        }
      ],
      "source": [
        "df.head()"
      ]
    },
    {
      "cell_type": "markdown",
      "source": [
        ""
      ],
      "metadata": {
        "id": "8f60cbf7"
      },
      "id": "8f60cbf7"
    }
  ],
  "metadata": {
    "kernelspec": {
      "display_name": "Python 3",
      "language": "python",
      "name": "python3"
    },
    "language_info": {
      "codemirror_mode": {
        "name": "ipython",
        "version": 3
      },
      "file_extension": ".py",
      "mimetype": "text/x-python",
      "name": "python",
      "nbconvert_exporter": "python",
      "pygments_lexer": "ipython3",
      "version": "3.8.8"
    },
    "colab": {
      "name": "model1.0.ipynb",
      "provenance": [],
      "collapsed_sections": [],
      "include_colab_link": true
    }
  },
  "nbformat": 4,
  "nbformat_minor": 5
}