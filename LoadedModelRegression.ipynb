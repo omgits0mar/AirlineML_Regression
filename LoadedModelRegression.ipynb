{
 "cells": [
  {
   "cell_type": "code",
   "execution_count": 20,
   "outputs": [],
   "source": [
    "import numpy as np\n",
    "import pandas as pd\n",
    "import seaborn as sns\n",
    "import matplotlib.pyplot as plt\n",
    "import re\n",
    "import datetime\n",
    "\n",
    "from sklearn.metrics import mean_squared_error, r2_score\n",
    "from sklearn import metrics\n",
    "from sklearn.model_selection import train_test_split\n",
    "from sklearn.preprocessing import OrdinalEncoder\n",
    "from sklearn.preprocessing import StandardScaler\n",
    "import joblib"
   ],
   "metadata": {
    "collapsed": false,
    "pycharm": {
     "name": "#%%\n"
    }
   }
  },
  {
   "cell_type": "code",
   "execution_count": 21,
   "outputs": [
    {
     "data": {
      "text/plain": "         date    airline ch_code  num_code dep_time time_taken  \\\n0    8/3/2022  Air India      AI       430     9:55    11h 20m   \n1    7/3/2022     Indigo      6E       926    18:30    04h 55m   \n2  24-03-2022     Indigo      6E      6491    13:05    07h 40m   \n3  27-03-2022  Air India      AI       473    18:40    22h 25m   \n4    7/3/2022     Indigo      6E       684    21:55    01h 15m   \n\n                                                stop arr_time     type  \\\n0  1-stop\\n\\t\\t\\t\\t\\t\\t\\t\\t\\t\\t\\t\\t\\n\\t\\t\\t\\t\\t\\t...    21:15  economy   \n1  1-stop\\n\\t\\t\\t\\t\\t\\t\\t\\t\\t\\t\\t\\t\\n\\t\\t\\t\\t\\t\\t...    23:25  economy   \n2  1-stop\\n\\t\\t\\t\\t\\t\\t\\t\\t\\t\\t\\t\\t\\n\\t\\t\\t\\t\\t\\t...    20:45  economy   \n3  1-stop\\n\\t\\t\\t\\t\\t\\t\\t\\t\\t\\t\\t\\t\\n\\t\\t\\t\\t\\t\\t...    17:05  economy   \n4                                          non-stop     23:10  economy   \n\n                                               route  price  \n0     {'source': 'Chennai', 'destination': 'Mumbai'}  4,357  \n1       {'source': 'Delhi', 'destination': 'Mumbai'}  4,270  \n2   {'source': 'Bangalore', 'destination': 'Mumbai'}  3,153  \n3    {'source': 'Delhi', 'destination': 'Bangalore'}  4,728  \n4  {'source': 'Bangalore', 'destination': 'Hydera...  1,714  ",
      "text/html": "<div>\n<style scoped>\n    .dataframe tbody tr th:only-of-type {\n        vertical-align: middle;\n    }\n\n    .dataframe tbody tr th {\n        vertical-align: top;\n    }\n\n    .dataframe thead th {\n        text-align: right;\n    }\n</style>\n<table border=\"1\" class=\"dataframe\">\n  <thead>\n    <tr style=\"text-align: right;\">\n      <th></th>\n      <th>date</th>\n      <th>airline</th>\n      <th>ch_code</th>\n      <th>num_code</th>\n      <th>dep_time</th>\n      <th>time_taken</th>\n      <th>stop</th>\n      <th>arr_time</th>\n      <th>type</th>\n      <th>route</th>\n      <th>price</th>\n    </tr>\n  </thead>\n  <tbody>\n    <tr>\n      <th>0</th>\n      <td>8/3/2022</td>\n      <td>Air India</td>\n      <td>AI</td>\n      <td>430</td>\n      <td>9:55</td>\n      <td>11h 20m</td>\n      <td>1-stop\\n\\t\\t\\t\\t\\t\\t\\t\\t\\t\\t\\t\\t\\n\\t\\t\\t\\t\\t\\t...</td>\n      <td>21:15</td>\n      <td>economy</td>\n      <td>{'source': 'Chennai', 'destination': 'Mumbai'}</td>\n      <td>4,357</td>\n    </tr>\n    <tr>\n      <th>1</th>\n      <td>7/3/2022</td>\n      <td>Indigo</td>\n      <td>6E</td>\n      <td>926</td>\n      <td>18:30</td>\n      <td>04h 55m</td>\n      <td>1-stop\\n\\t\\t\\t\\t\\t\\t\\t\\t\\t\\t\\t\\t\\n\\t\\t\\t\\t\\t\\t...</td>\n      <td>23:25</td>\n      <td>economy</td>\n      <td>{'source': 'Delhi', 'destination': 'Mumbai'}</td>\n      <td>4,270</td>\n    </tr>\n    <tr>\n      <th>2</th>\n      <td>24-03-2022</td>\n      <td>Indigo</td>\n      <td>6E</td>\n      <td>6491</td>\n      <td>13:05</td>\n      <td>07h 40m</td>\n      <td>1-stop\\n\\t\\t\\t\\t\\t\\t\\t\\t\\t\\t\\t\\t\\n\\t\\t\\t\\t\\t\\t...</td>\n      <td>20:45</td>\n      <td>economy</td>\n      <td>{'source': 'Bangalore', 'destination': 'Mumbai'}</td>\n      <td>3,153</td>\n    </tr>\n    <tr>\n      <th>3</th>\n      <td>27-03-2022</td>\n      <td>Air India</td>\n      <td>AI</td>\n      <td>473</td>\n      <td>18:40</td>\n      <td>22h 25m</td>\n      <td>1-stop\\n\\t\\t\\t\\t\\t\\t\\t\\t\\t\\t\\t\\t\\n\\t\\t\\t\\t\\t\\t...</td>\n      <td>17:05</td>\n      <td>economy</td>\n      <td>{'source': 'Delhi', 'destination': 'Bangalore'}</td>\n      <td>4,728</td>\n    </tr>\n    <tr>\n      <th>4</th>\n      <td>7/3/2022</td>\n      <td>Indigo</td>\n      <td>6E</td>\n      <td>684</td>\n      <td>21:55</td>\n      <td>01h 15m</td>\n      <td>non-stop</td>\n      <td>23:10</td>\n      <td>economy</td>\n      <td>{'source': 'Bangalore', 'destination': 'Hydera...</td>\n      <td>1,714</td>\n    </tr>\n  </tbody>\n</table>\n</div>"
     },
     "execution_count": 21,
     "metadata": {},
     "output_type": "execute_result"
    }
   ],
   "source": [
    "df = pd.read_csv('Samples/airline-tas-regression-test.csv')\n",
    "df.head()"
   ],
   "metadata": {
    "collapsed": false,
    "pycharm": {
     "name": "#%%\n"
    }
   }
  },
  {
   "cell_type": "code",
   "execution_count": 22,
   "outputs": [],
   "source": [
    "import warnings\n",
    "warnings.filterwarnings(\"ignore\")"
   ],
   "metadata": {
    "collapsed": false,
    "pycharm": {
     "name": "#%%\n"
    }
   }
  },
  {
   "cell_type": "markdown",
   "source": [
    "### Data preprocessing on 'price'"
   ],
   "metadata": {
    "collapsed": false
   }
  },
  {
   "cell_type": "code",
   "execution_count": 23,
   "outputs": [],
   "source": [
    "df['price'] = df['price'].str.replace(\",\", \"\")\n",
    "df['price'] = pd.to_numeric(df['price'])"
   ],
   "metadata": {
    "collapsed": false,
    "pycharm": {
     "name": "#%%\n"
    }
   }
  },
  {
   "cell_type": "markdown",
   "source": [
    "#### Data preprocessing on Date"
   ],
   "metadata": {
    "collapsed": false
   }
  },
  {
   "cell_type": "code",
   "execution_count": 24,
   "outputs": [],
   "source": [
    "df[\"date\"]=pd.to_datetime(df[\"date\"])\n",
    "df[\"date\"]=df[\"date\"].dt.strftime(\"%m/%d/%Y\")\n",
    "df['month'] = pd.DatetimeIndex(df['date']).month\n",
    "df['day'] = pd.DatetimeIndex(df['date']).day\n",
    "df['dayofyear'] = pd.DatetimeIndex(df['date']).dayofyear"
   ],
   "metadata": {
    "collapsed": false,
    "pycharm": {
     "name": "#%%\n"
    }
   }
  },
  {
   "cell_type": "markdown",
   "source": [
    "#### Loading Ch_code Encoder :"
   ],
   "metadata": {
    "collapsed": false
   }
  },
  {
   "cell_type": "code",
   "execution_count": 25,
   "outputs": [
    {
     "data": {
      "text/plain": "         date    airline  ch_code  num_code dep_time time_taken  \\\n0  08/03/2022  Air India      2.0       430     9:55    11h 20m   \n1  07/03/2022     Indigo      1.0       926    18:30    04h 55m   \n2  03/24/2022     Indigo      1.0      6491    13:05    07h 40m   \n3  03/27/2022  Air India      2.0       473    18:40    22h 25m   \n4  07/03/2022     Indigo      1.0       684    21:55    01h 15m   \n\n                                                stop arr_time     type  \\\n0  1-stop\\n\\t\\t\\t\\t\\t\\t\\t\\t\\t\\t\\t\\t\\n\\t\\t\\t\\t\\t\\t...    21:15  economy   \n1  1-stop\\n\\t\\t\\t\\t\\t\\t\\t\\t\\t\\t\\t\\t\\n\\t\\t\\t\\t\\t\\t...    23:25  economy   \n2  1-stop\\n\\t\\t\\t\\t\\t\\t\\t\\t\\t\\t\\t\\t\\n\\t\\t\\t\\t\\t\\t...    20:45  economy   \n3  1-stop\\n\\t\\t\\t\\t\\t\\t\\t\\t\\t\\t\\t\\t\\n\\t\\t\\t\\t\\t\\t...    17:05  economy   \n4                                          non-stop     23:10  economy   \n\n                                               route  price  month  day  \\\n0     {'source': 'Chennai', 'destination': 'Mumbai'}   4357      8    3   \n1       {'source': 'Delhi', 'destination': 'Mumbai'}   4270      7    3   \n2   {'source': 'Bangalore', 'destination': 'Mumbai'}   3153      3   24   \n3    {'source': 'Delhi', 'destination': 'Bangalore'}   4728      3   27   \n4  {'source': 'Bangalore', 'destination': 'Hydera...   1714      7    3   \n\n   dayofyear  \n0        215  \n1        184  \n2         83  \n3         86  \n4        184  ",
      "text/html": "<div>\n<style scoped>\n    .dataframe tbody tr th:only-of-type {\n        vertical-align: middle;\n    }\n\n    .dataframe tbody tr th {\n        vertical-align: top;\n    }\n\n    .dataframe thead th {\n        text-align: right;\n    }\n</style>\n<table border=\"1\" class=\"dataframe\">\n  <thead>\n    <tr style=\"text-align: right;\">\n      <th></th>\n      <th>date</th>\n      <th>airline</th>\n      <th>ch_code</th>\n      <th>num_code</th>\n      <th>dep_time</th>\n      <th>time_taken</th>\n      <th>stop</th>\n      <th>arr_time</th>\n      <th>type</th>\n      <th>route</th>\n      <th>price</th>\n      <th>month</th>\n      <th>day</th>\n      <th>dayofyear</th>\n    </tr>\n  </thead>\n  <tbody>\n    <tr>\n      <th>0</th>\n      <td>08/03/2022</td>\n      <td>Air India</td>\n      <td>2.0</td>\n      <td>430</td>\n      <td>9:55</td>\n      <td>11h 20m</td>\n      <td>1-stop\\n\\t\\t\\t\\t\\t\\t\\t\\t\\t\\t\\t\\t\\n\\t\\t\\t\\t\\t\\t...</td>\n      <td>21:15</td>\n      <td>economy</td>\n      <td>{'source': 'Chennai', 'destination': 'Mumbai'}</td>\n      <td>4357</td>\n      <td>8</td>\n      <td>3</td>\n      <td>215</td>\n    </tr>\n    <tr>\n      <th>1</th>\n      <td>07/03/2022</td>\n      <td>Indigo</td>\n      <td>1.0</td>\n      <td>926</td>\n      <td>18:30</td>\n      <td>04h 55m</td>\n      <td>1-stop\\n\\t\\t\\t\\t\\t\\t\\t\\t\\t\\t\\t\\t\\n\\t\\t\\t\\t\\t\\t...</td>\n      <td>23:25</td>\n      <td>economy</td>\n      <td>{'source': 'Delhi', 'destination': 'Mumbai'}</td>\n      <td>4270</td>\n      <td>7</td>\n      <td>3</td>\n      <td>184</td>\n    </tr>\n    <tr>\n      <th>2</th>\n      <td>03/24/2022</td>\n      <td>Indigo</td>\n      <td>1.0</td>\n      <td>6491</td>\n      <td>13:05</td>\n      <td>07h 40m</td>\n      <td>1-stop\\n\\t\\t\\t\\t\\t\\t\\t\\t\\t\\t\\t\\t\\n\\t\\t\\t\\t\\t\\t...</td>\n      <td>20:45</td>\n      <td>economy</td>\n      <td>{'source': 'Bangalore', 'destination': 'Mumbai'}</td>\n      <td>3153</td>\n      <td>3</td>\n      <td>24</td>\n      <td>83</td>\n    </tr>\n    <tr>\n      <th>3</th>\n      <td>03/27/2022</td>\n      <td>Air India</td>\n      <td>2.0</td>\n      <td>473</td>\n      <td>18:40</td>\n      <td>22h 25m</td>\n      <td>1-stop\\n\\t\\t\\t\\t\\t\\t\\t\\t\\t\\t\\t\\t\\n\\t\\t\\t\\t\\t\\t...</td>\n      <td>17:05</td>\n      <td>economy</td>\n      <td>{'source': 'Delhi', 'destination': 'Bangalore'}</td>\n      <td>4728</td>\n      <td>3</td>\n      <td>27</td>\n      <td>86</td>\n    </tr>\n    <tr>\n      <th>4</th>\n      <td>07/03/2022</td>\n      <td>Indigo</td>\n      <td>1.0</td>\n      <td>684</td>\n      <td>21:55</td>\n      <td>01h 15m</td>\n      <td>non-stop</td>\n      <td>23:10</td>\n      <td>economy</td>\n      <td>{'source': 'Bangalore', 'destination': 'Hydera...</td>\n      <td>1714</td>\n      <td>7</td>\n      <td>3</td>\n      <td>184</td>\n    </tr>\n  </tbody>\n</table>\n</div>"
     },
     "execution_count": 25,
     "metadata": {},
     "output_type": "execute_result"
    }
   ],
   "source": [
    "ch_enc = joblib.load(\"EncoderModels/ch_enc.save\")\n",
    "\n",
    "df['ch_code'] = ch_enc.transform(df[[\"ch_code\"]])\n",
    "\n",
    "df.head()"
   ],
   "metadata": {
    "collapsed": false,
    "pycharm": {
     "name": "#%%\n"
    }
   }
  },
  {
   "cell_type": "markdown",
   "source": [
    "#### Departure time preprocessing"
   ],
   "metadata": {
    "collapsed": false
   }
  },
  {
   "cell_type": "code",
   "execution_count": 26,
   "outputs": [],
   "source": [
    "df[\"dep_time\"]=pd.to_datetime(df[\"dep_time\"])\n",
    "df['dep_time'] = df['dep_time'].dt.strftime(\"%-H:%M\")\n",
    "df[\"dep_hour\"]=pd.DatetimeIndex(df[\"dep_time\"]).hour\n",
    "df[\"dep_minute\"]=pd.DatetimeIndex(df[\"dep_time\"]).minute"
   ],
   "metadata": {
    "collapsed": false,
    "pycharm": {
     "name": "#%%\n"
    }
   }
  },
  {
   "cell_type": "markdown",
   "source": [
    "#### Time_taken preprocessing"
   ],
   "metadata": {
    "collapsed": false
   }
  },
  {
   "cell_type": "code",
   "execution_count": 27,
   "outputs": [],
   "source": [
    "df[\"hours_taken\"] = df[\"time_taken\"].str.split('h').str.get(0)\n",
    "df[\"minutes_taken\"] = df[\"time_taken\"].str[4:6]\n",
    "df[\"minutes_taken\"] = df[\"minutes_taken\"].str.replace('m', '')\n",
    "df[\"minutes_taken\"] = df[\"minutes_taken\"].str.replace('h', '')\n",
    "df[\"hours_taken\"] = pd.to_numeric(df[\"hours_taken\"])\n",
    "df[\"minutes_taken\"] = pd.to_numeric(df[\"minutes_taken\"], errors='coerce')"
   ],
   "metadata": {
    "collapsed": false,
    "pycharm": {
     "name": "#%%\n"
    }
   }
  },
  {
   "cell_type": "markdown",
   "source": [
    "#### Stop preprocessing"
   ],
   "metadata": {
    "collapsed": false
   }
  },
  {
   "cell_type": "code",
   "execution_count": 28,
   "outputs": [],
   "source": [
    "df[\"stop\"] = df[\"stop\"].str.split('-').str.get(0)\n",
    "df[\"stop\"] = df[\"stop\"].replace(['non'], 0)\n",
    "df.isna().sum() #  28944 null vals\n",
    "df[\"stop\"] = df[\"stop\"].replace(['2+'], 2) # Indicates for 2 or more stops\n",
    "df['stop'] = df['stop'].fillna(0)\n",
    "df['stop'] = pd.to_numeric(df['stop'])"
   ],
   "metadata": {
    "collapsed": false,
    "pycharm": {
     "name": "#%%\n"
    }
   }
  },
  {
   "cell_type": "markdown",
   "source": [
    "#### Arrival time preprocessing"
   ],
   "metadata": {
    "collapsed": false
   }
  },
  {
   "cell_type": "code",
   "execution_count": 29,
   "outputs": [],
   "source": [
    "df[\"arr_time\"]=pd.to_datetime(df[\"arr_time\"])\n",
    "df['arr_time'] = df['arr_time'].dt.strftime(\"%-H:%M\")\n",
    "df[\"arr_hour\"]=pd.DatetimeIndex(df[\"arr_time\"]).hour\n",
    "df[\"arr_minute\"]=pd.DatetimeIndex(df[\"arr_time\"]).minute\n",
    "df[\"arr_hour\"] = pd.to_numeric(df[\"arr_hour\"])\n",
    "df[\"arr_minute\"] = pd.to_numeric(df[\"arr_minute\"])"
   ],
   "metadata": {
    "collapsed": false,
    "pycharm": {
     "name": "#%%\n"
    }
   }
  },
  {
   "cell_type": "markdown",
   "source": [
    "#### Source & Destination preprocessing"
   ],
   "metadata": {
    "collapsed": false
   }
  },
  {
   "cell_type": "code",
   "execution_count": 30,
   "outputs": [],
   "source": [
    "df['source'] = df['route'].str.split( ', ').str.get(0).str.split(':').str.get(1)\n",
    "df['destination'] = df['route'].str.split( ', ').str.get(1).str.split(':').str.get(1).str.split('}').str.get(0)\n",
    "df['source'] = df['source'].str.replace('\\'', \"\")\n",
    "df['destination'] = df['destination'].str.replace('\\'', \"\")"
   ],
   "metadata": {
    "collapsed": false,
    "pycharm": {
     "name": "#%%\n"
    }
   }
  },
  {
   "cell_type": "markdown",
   "source": [
    "#### Loading Type Encoder :"
   ],
   "metadata": {
    "collapsed": false
   }
  },
  {
   "cell_type": "code",
   "execution_count": 31,
   "outputs": [
    {
     "data": {
      "text/plain": "         date    airline  ch_code  num_code             dep_time time_taken  \\\n0  08/03/2022  Air India      2.0       430  2022-05-28 09:55:00    11h 20m   \n1  07/03/2022     Indigo      1.0       926  2022-05-28 18:30:00    04h 55m   \n2  03/24/2022     Indigo      1.0      6491  2022-05-28 13:05:00    07h 40m   \n3  03/27/2022  Air India      2.0       473  2022-05-28 18:40:00    22h 25m   \n4  07/03/2022     Indigo      1.0       684  2022-05-28 21:55:00    01h 15m   \n\n   stop             arr_time  type  \\\n0     1  2022-05-28 21:15:00   1.0   \n1     1  2022-05-28 23:25:00   1.0   \n2     1  2022-05-28 20:45:00   1.0   \n3     1  2022-05-28 17:05:00   1.0   \n4     0  2022-05-28 23:10:00   1.0   \n\n                                               route  ...  day  dayofyear  \\\n0     {'source': 'Chennai', 'destination': 'Mumbai'}  ...    3        215   \n1       {'source': 'Delhi', 'destination': 'Mumbai'}  ...    3        184   \n2   {'source': 'Bangalore', 'destination': 'Mumbai'}  ...   24         83   \n3    {'source': 'Delhi', 'destination': 'Bangalore'}  ...   27         86   \n4  {'source': 'Bangalore', 'destination': 'Hydera...  ...    3        184   \n\n   dep_hour  dep_minute  hours_taken  minutes_taken  arr_hour  arr_minute  \\\n0         9          55         11.0           20.0        21          15   \n1        18          30          4.0           55.0        23          25   \n2        13           5          7.0           40.0        20          45   \n3        18          40         22.0           25.0        17           5   \n4        21          55          1.0           15.0        23          10   \n\n       source  destination  \n0     Chennai       Mumbai  \n1       Delhi       Mumbai  \n2   Bangalore       Mumbai  \n3       Delhi    Bangalore  \n4   Bangalore    Hyderabad  \n\n[5 rows x 22 columns]",
      "text/html": "<div>\n<style scoped>\n    .dataframe tbody tr th:only-of-type {\n        vertical-align: middle;\n    }\n\n    .dataframe tbody tr th {\n        vertical-align: top;\n    }\n\n    .dataframe thead th {\n        text-align: right;\n    }\n</style>\n<table border=\"1\" class=\"dataframe\">\n  <thead>\n    <tr style=\"text-align: right;\">\n      <th></th>\n      <th>date</th>\n      <th>airline</th>\n      <th>ch_code</th>\n      <th>num_code</th>\n      <th>dep_time</th>\n      <th>time_taken</th>\n      <th>stop</th>\n      <th>arr_time</th>\n      <th>type</th>\n      <th>route</th>\n      <th>...</th>\n      <th>day</th>\n      <th>dayofyear</th>\n      <th>dep_hour</th>\n      <th>dep_minute</th>\n      <th>hours_taken</th>\n      <th>minutes_taken</th>\n      <th>arr_hour</th>\n      <th>arr_minute</th>\n      <th>source</th>\n      <th>destination</th>\n    </tr>\n  </thead>\n  <tbody>\n    <tr>\n      <th>0</th>\n      <td>08/03/2022</td>\n      <td>Air India</td>\n      <td>2.0</td>\n      <td>430</td>\n      <td>2022-05-28 09:55:00</td>\n      <td>11h 20m</td>\n      <td>1</td>\n      <td>2022-05-28 21:15:00</td>\n      <td>1.0</td>\n      <td>{'source': 'Chennai', 'destination': 'Mumbai'}</td>\n      <td>...</td>\n      <td>3</td>\n      <td>215</td>\n      <td>9</td>\n      <td>55</td>\n      <td>11.0</td>\n      <td>20.0</td>\n      <td>21</td>\n      <td>15</td>\n      <td>Chennai</td>\n      <td>Mumbai</td>\n    </tr>\n    <tr>\n      <th>1</th>\n      <td>07/03/2022</td>\n      <td>Indigo</td>\n      <td>1.0</td>\n      <td>926</td>\n      <td>2022-05-28 18:30:00</td>\n      <td>04h 55m</td>\n      <td>1</td>\n      <td>2022-05-28 23:25:00</td>\n      <td>1.0</td>\n      <td>{'source': 'Delhi', 'destination': 'Mumbai'}</td>\n      <td>...</td>\n      <td>3</td>\n      <td>184</td>\n      <td>18</td>\n      <td>30</td>\n      <td>4.0</td>\n      <td>55.0</td>\n      <td>23</td>\n      <td>25</td>\n      <td>Delhi</td>\n      <td>Mumbai</td>\n    </tr>\n    <tr>\n      <th>2</th>\n      <td>03/24/2022</td>\n      <td>Indigo</td>\n      <td>1.0</td>\n      <td>6491</td>\n      <td>2022-05-28 13:05:00</td>\n      <td>07h 40m</td>\n      <td>1</td>\n      <td>2022-05-28 20:45:00</td>\n      <td>1.0</td>\n      <td>{'source': 'Bangalore', 'destination': 'Mumbai'}</td>\n      <td>...</td>\n      <td>24</td>\n      <td>83</td>\n      <td>13</td>\n      <td>5</td>\n      <td>7.0</td>\n      <td>40.0</td>\n      <td>20</td>\n      <td>45</td>\n      <td>Bangalore</td>\n      <td>Mumbai</td>\n    </tr>\n    <tr>\n      <th>3</th>\n      <td>03/27/2022</td>\n      <td>Air India</td>\n      <td>2.0</td>\n      <td>473</td>\n      <td>2022-05-28 18:40:00</td>\n      <td>22h 25m</td>\n      <td>1</td>\n      <td>2022-05-28 17:05:00</td>\n      <td>1.0</td>\n      <td>{'source': 'Delhi', 'destination': 'Bangalore'}</td>\n      <td>...</td>\n      <td>27</td>\n      <td>86</td>\n      <td>18</td>\n      <td>40</td>\n      <td>22.0</td>\n      <td>25.0</td>\n      <td>17</td>\n      <td>5</td>\n      <td>Delhi</td>\n      <td>Bangalore</td>\n    </tr>\n    <tr>\n      <th>4</th>\n      <td>07/03/2022</td>\n      <td>Indigo</td>\n      <td>1.0</td>\n      <td>684</td>\n      <td>2022-05-28 21:55:00</td>\n      <td>01h 15m</td>\n      <td>0</td>\n      <td>2022-05-28 23:10:00</td>\n      <td>1.0</td>\n      <td>{'source': 'Bangalore', 'destination': 'Hydera...</td>\n      <td>...</td>\n      <td>3</td>\n      <td>184</td>\n      <td>21</td>\n      <td>55</td>\n      <td>1.0</td>\n      <td>15.0</td>\n      <td>23</td>\n      <td>10</td>\n      <td>Bangalore</td>\n      <td>Hyderabad</td>\n    </tr>\n  </tbody>\n</table>\n<p>5 rows × 22 columns</p>\n</div>"
     },
     "execution_count": 31,
     "metadata": {},
     "output_type": "execute_result"
    }
   ],
   "source": [
    "type_enc = joblib.load(\"EncoderModels/type_enc.save\")\n",
    "df['type'] = type_enc.transform(df[[\"type\"]])\n",
    "df.head()"
   ],
   "metadata": {
    "collapsed": false,
    "pycharm": {
     "name": "#%%\n"
    }
   }
  },
  {
   "cell_type": "markdown",
   "source": [
    "#### Loading Source Encoder :"
   ],
   "metadata": {
    "collapsed": false
   }
  },
  {
   "cell_type": "code",
   "execution_count": 32,
   "outputs": [
    {
     "data": {
      "text/plain": "         date    airline  ch_code  num_code             dep_time time_taken  \\\n0  08/03/2022  Air India      2.0       430  2022-05-28 09:55:00    11h 20m   \n1  07/03/2022     Indigo      1.0       926  2022-05-28 18:30:00    04h 55m   \n2  03/24/2022     Indigo      1.0      6491  2022-05-28 13:05:00    07h 40m   \n3  03/27/2022  Air India      2.0       473  2022-05-28 18:40:00    22h 25m   \n4  07/03/2022     Indigo      1.0       684  2022-05-28 21:55:00    01h 15m   \n\n   stop             arr_time  type  \\\n0     1  2022-05-28 21:15:00   1.0   \n1     1  2022-05-28 23:25:00   1.0   \n2     1  2022-05-28 20:45:00   1.0   \n3     1  2022-05-28 17:05:00   1.0   \n4     0  2022-05-28 23:10:00   1.0   \n\n                                               route  ...  day  dayofyear  \\\n0     {'source': 'Chennai', 'destination': 'Mumbai'}  ...    3        215   \n1       {'source': 'Delhi', 'destination': 'Mumbai'}  ...    3        184   \n2   {'source': 'Bangalore', 'destination': 'Mumbai'}  ...   24         83   \n3    {'source': 'Delhi', 'destination': 'Bangalore'}  ...   27         86   \n4  {'source': 'Bangalore', 'destination': 'Hydera...  ...    3        184   \n\n   dep_hour  dep_minute  hours_taken  minutes_taken  arr_hour  arr_minute  \\\n0         9          55         11.0           20.0        21          15   \n1        18          30          4.0           55.0        23          25   \n2        13           5          7.0           40.0        20          45   \n3        18          40         22.0           25.0        17           5   \n4        21          55          1.0           15.0        23          10   \n\n   source  destination  \n0     1.0       Mumbai  \n1     2.0       Mumbai  \n2     0.0       Mumbai  \n3     2.0    Bangalore  \n4     0.0    Hyderabad  \n\n[5 rows x 22 columns]",
      "text/html": "<div>\n<style scoped>\n    .dataframe tbody tr th:only-of-type {\n        vertical-align: middle;\n    }\n\n    .dataframe tbody tr th {\n        vertical-align: top;\n    }\n\n    .dataframe thead th {\n        text-align: right;\n    }\n</style>\n<table border=\"1\" class=\"dataframe\">\n  <thead>\n    <tr style=\"text-align: right;\">\n      <th></th>\n      <th>date</th>\n      <th>airline</th>\n      <th>ch_code</th>\n      <th>num_code</th>\n      <th>dep_time</th>\n      <th>time_taken</th>\n      <th>stop</th>\n      <th>arr_time</th>\n      <th>type</th>\n      <th>route</th>\n      <th>...</th>\n      <th>day</th>\n      <th>dayofyear</th>\n      <th>dep_hour</th>\n      <th>dep_minute</th>\n      <th>hours_taken</th>\n      <th>minutes_taken</th>\n      <th>arr_hour</th>\n      <th>arr_minute</th>\n      <th>source</th>\n      <th>destination</th>\n    </tr>\n  </thead>\n  <tbody>\n    <tr>\n      <th>0</th>\n      <td>08/03/2022</td>\n      <td>Air India</td>\n      <td>2.0</td>\n      <td>430</td>\n      <td>2022-05-28 09:55:00</td>\n      <td>11h 20m</td>\n      <td>1</td>\n      <td>2022-05-28 21:15:00</td>\n      <td>1.0</td>\n      <td>{'source': 'Chennai', 'destination': 'Mumbai'}</td>\n      <td>...</td>\n      <td>3</td>\n      <td>215</td>\n      <td>9</td>\n      <td>55</td>\n      <td>11.0</td>\n      <td>20.0</td>\n      <td>21</td>\n      <td>15</td>\n      <td>1.0</td>\n      <td>Mumbai</td>\n    </tr>\n    <tr>\n      <th>1</th>\n      <td>07/03/2022</td>\n      <td>Indigo</td>\n      <td>1.0</td>\n      <td>926</td>\n      <td>2022-05-28 18:30:00</td>\n      <td>04h 55m</td>\n      <td>1</td>\n      <td>2022-05-28 23:25:00</td>\n      <td>1.0</td>\n      <td>{'source': 'Delhi', 'destination': 'Mumbai'}</td>\n      <td>...</td>\n      <td>3</td>\n      <td>184</td>\n      <td>18</td>\n      <td>30</td>\n      <td>4.0</td>\n      <td>55.0</td>\n      <td>23</td>\n      <td>25</td>\n      <td>2.0</td>\n      <td>Mumbai</td>\n    </tr>\n    <tr>\n      <th>2</th>\n      <td>03/24/2022</td>\n      <td>Indigo</td>\n      <td>1.0</td>\n      <td>6491</td>\n      <td>2022-05-28 13:05:00</td>\n      <td>07h 40m</td>\n      <td>1</td>\n      <td>2022-05-28 20:45:00</td>\n      <td>1.0</td>\n      <td>{'source': 'Bangalore', 'destination': 'Mumbai'}</td>\n      <td>...</td>\n      <td>24</td>\n      <td>83</td>\n      <td>13</td>\n      <td>5</td>\n      <td>7.0</td>\n      <td>40.0</td>\n      <td>20</td>\n      <td>45</td>\n      <td>0.0</td>\n      <td>Mumbai</td>\n    </tr>\n    <tr>\n      <th>3</th>\n      <td>03/27/2022</td>\n      <td>Air India</td>\n      <td>2.0</td>\n      <td>473</td>\n      <td>2022-05-28 18:40:00</td>\n      <td>22h 25m</td>\n      <td>1</td>\n      <td>2022-05-28 17:05:00</td>\n      <td>1.0</td>\n      <td>{'source': 'Delhi', 'destination': 'Bangalore'}</td>\n      <td>...</td>\n      <td>27</td>\n      <td>86</td>\n      <td>18</td>\n      <td>40</td>\n      <td>22.0</td>\n      <td>25.0</td>\n      <td>17</td>\n      <td>5</td>\n      <td>2.0</td>\n      <td>Bangalore</td>\n    </tr>\n    <tr>\n      <th>4</th>\n      <td>07/03/2022</td>\n      <td>Indigo</td>\n      <td>1.0</td>\n      <td>684</td>\n      <td>2022-05-28 21:55:00</td>\n      <td>01h 15m</td>\n      <td>0</td>\n      <td>2022-05-28 23:10:00</td>\n      <td>1.0</td>\n      <td>{'source': 'Bangalore', 'destination': 'Hydera...</td>\n      <td>...</td>\n      <td>3</td>\n      <td>184</td>\n      <td>21</td>\n      <td>55</td>\n      <td>1.0</td>\n      <td>15.0</td>\n      <td>23</td>\n      <td>10</td>\n      <td>0.0</td>\n      <td>Hyderabad</td>\n    </tr>\n  </tbody>\n</table>\n<p>5 rows × 22 columns</p>\n</div>"
     },
     "execution_count": 32,
     "metadata": {},
     "output_type": "execute_result"
    }
   ],
   "source": [
    "source_enc = joblib.load(\"EncoderModels/source_enc.save\")\n",
    "df['source'] = source_enc.transform(df[[\"source\"]])\n",
    "df.head()"
   ],
   "metadata": {
    "collapsed": false,
    "pycharm": {
     "name": "#%%\n"
    }
   }
  },
  {
   "cell_type": "markdown",
   "source": [
    "#### Loading Destination Encoder :"
   ],
   "metadata": {
    "collapsed": false
   }
  },
  {
   "cell_type": "code",
   "execution_count": 33,
   "outputs": [
    {
     "data": {
      "text/plain": "         date    airline  ch_code  num_code             dep_time time_taken  \\\n0  08/03/2022  Air India      2.0       430  2022-05-28 09:55:00    11h 20m   \n1  07/03/2022     Indigo      1.0       926  2022-05-28 18:30:00    04h 55m   \n2  03/24/2022     Indigo      1.0      6491  2022-05-28 13:05:00    07h 40m   \n3  03/27/2022  Air India      2.0       473  2022-05-28 18:40:00    22h 25m   \n4  07/03/2022     Indigo      1.0       684  2022-05-28 21:55:00    01h 15m   \n\n   stop             arr_time  type  \\\n0     1  2022-05-28 21:15:00   1.0   \n1     1  2022-05-28 23:25:00   1.0   \n2     1  2022-05-28 20:45:00   1.0   \n3     1  2022-05-28 17:05:00   1.0   \n4     0  2022-05-28 23:10:00   1.0   \n\n                                               route  ...  day  dayofyear  \\\n0     {'source': 'Chennai', 'destination': 'Mumbai'}  ...    3        215   \n1       {'source': 'Delhi', 'destination': 'Mumbai'}  ...    3        184   \n2   {'source': 'Bangalore', 'destination': 'Mumbai'}  ...   24         83   \n3    {'source': 'Delhi', 'destination': 'Bangalore'}  ...   27         86   \n4  {'source': 'Bangalore', 'destination': 'Hydera...  ...    3        184   \n\n   dep_hour  dep_minute  hours_taken  minutes_taken  arr_hour  arr_minute  \\\n0         9          55         11.0           20.0        21          15   \n1        18          30          4.0           55.0        23          25   \n2        13           5          7.0           40.0        20          45   \n3        18          40         22.0           25.0        17           5   \n4        21          55          1.0           15.0        23          10   \n\n   source  destination  \n0     1.0          5.0  \n1     2.0          5.0  \n2     0.0          5.0  \n3     2.0          0.0  \n4     0.0          3.0  \n\n[5 rows x 22 columns]",
      "text/html": "<div>\n<style scoped>\n    .dataframe tbody tr th:only-of-type {\n        vertical-align: middle;\n    }\n\n    .dataframe tbody tr th {\n        vertical-align: top;\n    }\n\n    .dataframe thead th {\n        text-align: right;\n    }\n</style>\n<table border=\"1\" class=\"dataframe\">\n  <thead>\n    <tr style=\"text-align: right;\">\n      <th></th>\n      <th>date</th>\n      <th>airline</th>\n      <th>ch_code</th>\n      <th>num_code</th>\n      <th>dep_time</th>\n      <th>time_taken</th>\n      <th>stop</th>\n      <th>arr_time</th>\n      <th>type</th>\n      <th>route</th>\n      <th>...</th>\n      <th>day</th>\n      <th>dayofyear</th>\n      <th>dep_hour</th>\n      <th>dep_minute</th>\n      <th>hours_taken</th>\n      <th>minutes_taken</th>\n      <th>arr_hour</th>\n      <th>arr_minute</th>\n      <th>source</th>\n      <th>destination</th>\n    </tr>\n  </thead>\n  <tbody>\n    <tr>\n      <th>0</th>\n      <td>08/03/2022</td>\n      <td>Air India</td>\n      <td>2.0</td>\n      <td>430</td>\n      <td>2022-05-28 09:55:00</td>\n      <td>11h 20m</td>\n      <td>1</td>\n      <td>2022-05-28 21:15:00</td>\n      <td>1.0</td>\n      <td>{'source': 'Chennai', 'destination': 'Mumbai'}</td>\n      <td>...</td>\n      <td>3</td>\n      <td>215</td>\n      <td>9</td>\n      <td>55</td>\n      <td>11.0</td>\n      <td>20.0</td>\n      <td>21</td>\n      <td>15</td>\n      <td>1.0</td>\n      <td>5.0</td>\n    </tr>\n    <tr>\n      <th>1</th>\n      <td>07/03/2022</td>\n      <td>Indigo</td>\n      <td>1.0</td>\n      <td>926</td>\n      <td>2022-05-28 18:30:00</td>\n      <td>04h 55m</td>\n      <td>1</td>\n      <td>2022-05-28 23:25:00</td>\n      <td>1.0</td>\n      <td>{'source': 'Delhi', 'destination': 'Mumbai'}</td>\n      <td>...</td>\n      <td>3</td>\n      <td>184</td>\n      <td>18</td>\n      <td>30</td>\n      <td>4.0</td>\n      <td>55.0</td>\n      <td>23</td>\n      <td>25</td>\n      <td>2.0</td>\n      <td>5.0</td>\n    </tr>\n    <tr>\n      <th>2</th>\n      <td>03/24/2022</td>\n      <td>Indigo</td>\n      <td>1.0</td>\n      <td>6491</td>\n      <td>2022-05-28 13:05:00</td>\n      <td>07h 40m</td>\n      <td>1</td>\n      <td>2022-05-28 20:45:00</td>\n      <td>1.0</td>\n      <td>{'source': 'Bangalore', 'destination': 'Mumbai'}</td>\n      <td>...</td>\n      <td>24</td>\n      <td>83</td>\n      <td>13</td>\n      <td>5</td>\n      <td>7.0</td>\n      <td>40.0</td>\n      <td>20</td>\n      <td>45</td>\n      <td>0.0</td>\n      <td>5.0</td>\n    </tr>\n    <tr>\n      <th>3</th>\n      <td>03/27/2022</td>\n      <td>Air India</td>\n      <td>2.0</td>\n      <td>473</td>\n      <td>2022-05-28 18:40:00</td>\n      <td>22h 25m</td>\n      <td>1</td>\n      <td>2022-05-28 17:05:00</td>\n      <td>1.0</td>\n      <td>{'source': 'Delhi', 'destination': 'Bangalore'}</td>\n      <td>...</td>\n      <td>27</td>\n      <td>86</td>\n      <td>18</td>\n      <td>40</td>\n      <td>22.0</td>\n      <td>25.0</td>\n      <td>17</td>\n      <td>5</td>\n      <td>2.0</td>\n      <td>0.0</td>\n    </tr>\n    <tr>\n      <th>4</th>\n      <td>07/03/2022</td>\n      <td>Indigo</td>\n      <td>1.0</td>\n      <td>684</td>\n      <td>2022-05-28 21:55:00</td>\n      <td>01h 15m</td>\n      <td>0</td>\n      <td>2022-05-28 23:10:00</td>\n      <td>1.0</td>\n      <td>{'source': 'Bangalore', 'destination': 'Hydera...</td>\n      <td>...</td>\n      <td>3</td>\n      <td>184</td>\n      <td>21</td>\n      <td>55</td>\n      <td>1.0</td>\n      <td>15.0</td>\n      <td>23</td>\n      <td>10</td>\n      <td>0.0</td>\n      <td>3.0</td>\n    </tr>\n  </tbody>\n</table>\n<p>5 rows × 22 columns</p>\n</div>"
     },
     "execution_count": 33,
     "metadata": {},
     "output_type": "execute_result"
    }
   ],
   "source": [
    "destination_enc = joblib.load(\"EncoderModels/destination_enc.save\")\n",
    "df['destination'] = source_enc.transform(df[[\"destination\"]])\n",
    "df.head()"
   ],
   "metadata": {
    "collapsed": false,
    "pycharm": {
     "name": "#%%\n"
    }
   }
  },
  {
   "cell_type": "markdown",
   "source": [
    "#### Cleaning Data"
   ],
   "metadata": {
    "collapsed": false
   }
  },
  {
   "cell_type": "code",
   "execution_count": 34,
   "outputs": [
    {
     "data": {
      "text/plain": "   ch_code  num_code  stop  type  price  month  day  dayofyear  dep_hour  \\\n0      2.0       430     1   1.0   4357      8    3        215         9   \n1      1.0       926     1   1.0   4270      7    3        184        18   \n2      1.0      6491     1   1.0   3153      3   24         83        13   \n3      2.0       473     1   1.0   4728      3   27         86        18   \n4      1.0       684     0   1.0   1714      7    3        184        21   \n\n   dep_minute  hours_taken  minutes_taken  arr_hour  arr_minute  source  \\\n0          55         11.0           20.0        21          15     1.0   \n1          30          4.0           55.0        23          25     2.0   \n2           5          7.0           40.0        20          45     0.0   \n3          40         22.0           25.0        17           5     2.0   \n4          55          1.0           15.0        23          10     0.0   \n\n   destination  \n0          5.0  \n1          5.0  \n2          5.0  \n3          0.0  \n4          3.0  ",
      "text/html": "<div>\n<style scoped>\n    .dataframe tbody tr th:only-of-type {\n        vertical-align: middle;\n    }\n\n    .dataframe tbody tr th {\n        vertical-align: top;\n    }\n\n    .dataframe thead th {\n        text-align: right;\n    }\n</style>\n<table border=\"1\" class=\"dataframe\">\n  <thead>\n    <tr style=\"text-align: right;\">\n      <th></th>\n      <th>ch_code</th>\n      <th>num_code</th>\n      <th>stop</th>\n      <th>type</th>\n      <th>price</th>\n      <th>month</th>\n      <th>day</th>\n      <th>dayofyear</th>\n      <th>dep_hour</th>\n      <th>dep_minute</th>\n      <th>hours_taken</th>\n      <th>minutes_taken</th>\n      <th>arr_hour</th>\n      <th>arr_minute</th>\n      <th>source</th>\n      <th>destination</th>\n    </tr>\n  </thead>\n  <tbody>\n    <tr>\n      <th>0</th>\n      <td>2.0</td>\n      <td>430</td>\n      <td>1</td>\n      <td>1.0</td>\n      <td>4357</td>\n      <td>8</td>\n      <td>3</td>\n      <td>215</td>\n      <td>9</td>\n      <td>55</td>\n      <td>11.0</td>\n      <td>20.0</td>\n      <td>21</td>\n      <td>15</td>\n      <td>1.0</td>\n      <td>5.0</td>\n    </tr>\n    <tr>\n      <th>1</th>\n      <td>1.0</td>\n      <td>926</td>\n      <td>1</td>\n      <td>1.0</td>\n      <td>4270</td>\n      <td>7</td>\n      <td>3</td>\n      <td>184</td>\n      <td>18</td>\n      <td>30</td>\n      <td>4.0</td>\n      <td>55.0</td>\n      <td>23</td>\n      <td>25</td>\n      <td>2.0</td>\n      <td>5.0</td>\n    </tr>\n    <tr>\n      <th>2</th>\n      <td>1.0</td>\n      <td>6491</td>\n      <td>1</td>\n      <td>1.0</td>\n      <td>3153</td>\n      <td>3</td>\n      <td>24</td>\n      <td>83</td>\n      <td>13</td>\n      <td>5</td>\n      <td>7.0</td>\n      <td>40.0</td>\n      <td>20</td>\n      <td>45</td>\n      <td>0.0</td>\n      <td>5.0</td>\n    </tr>\n    <tr>\n      <th>3</th>\n      <td>2.0</td>\n      <td>473</td>\n      <td>1</td>\n      <td>1.0</td>\n      <td>4728</td>\n      <td>3</td>\n      <td>27</td>\n      <td>86</td>\n      <td>18</td>\n      <td>40</td>\n      <td>22.0</td>\n      <td>25.0</td>\n      <td>17</td>\n      <td>5</td>\n      <td>2.0</td>\n      <td>0.0</td>\n    </tr>\n    <tr>\n      <th>4</th>\n      <td>1.0</td>\n      <td>684</td>\n      <td>0</td>\n      <td>1.0</td>\n      <td>1714</td>\n      <td>7</td>\n      <td>3</td>\n      <td>184</td>\n      <td>21</td>\n      <td>55</td>\n      <td>1.0</td>\n      <td>15.0</td>\n      <td>23</td>\n      <td>10</td>\n      <td>0.0</td>\n      <td>3.0</td>\n    </tr>\n  </tbody>\n</table>\n</div>"
     },
     "execution_count": 34,
     "metadata": {},
     "output_type": "execute_result"
    }
   ],
   "source": [
    "df = df.fillna(-1)\n",
    "df = df.drop(['airline', 'date', 'dep_time', \"time_taken\", 'arr_time', 'route',], axis=1)\n",
    "df.head()"
   ],
   "metadata": {
    "collapsed": false,
    "pycharm": {
     "name": "#%%\n"
    }
   }
  },
  {
   "cell_type": "code",
   "execution_count": 35,
   "outputs": [],
   "source": [
    "X = df.loc[:, df.columns != 'price']\n",
    "Y = df['price']"
   ],
   "metadata": {
    "collapsed": false,
    "pycharm": {
     "name": "#%%\n"
    }
   }
  },
  {
   "cell_type": "markdown",
   "source": [
    "#### Loading Scaler Model :"
   ],
   "metadata": {
    "collapsed": false
   }
  },
  {
   "cell_type": "code",
   "execution_count": 36,
   "outputs": [],
   "source": [
    "scaler = joblib.load(\"scaler.save\")\n",
    "X_scaled = scaler.transform(X)"
   ],
   "metadata": {
    "collapsed": false,
    "pycharm": {
     "name": "#%%\n"
    }
   }
  },
  {
   "cell_type": "code",
   "execution_count": 37,
   "outputs": [],
   "source": [
    "dtr_model = joblib.load(\"RegressionModels/DecisionTreeRegressor(random_state=42)_RegressionModel.save\")\n",
    "elastic_model = joblib.load(\"RegressionModels/ElasticNet()_RegressionModel.save\")\n",
    "lasso_model = joblib.load(\"RegressionModels/Lasso()_RegressionModel.save\")\n",
    "ridge_model = joblib.load(\"RegressionModels/Ridge()_RegressionModel.save\")"
   ],
   "metadata": {
    "collapsed": false,
    "pycharm": {
     "name": "#%%\n"
    }
   }
  },
  {
   "cell_type": "code",
   "execution_count": 38,
   "outputs": [
    {
     "name": "stdout",
     "output_type": "stream",
     "text": [
      "Mean Square Error of DecisionTreeRegressor(random_state=42):8904947.029593056\n",
      "Accuracy of DecisionTreeRegressor(random_state=42):0.982951627567055\n",
      "\n",
      "\n",
      "Mean Square Error of ElasticNet():102471463.77730359\n",
      "Accuracy of ElasticNet():0.8038200932112289\n",
      "\n",
      "\n",
      "Mean Square Error of Lasso():52277270.53950954\n",
      "Accuracy of Lasso():0.8999160382455287\n",
      "\n",
      "\n",
      "Mean Square Error of Ridge():50684257.72401149\n",
      "Accuracy of Ridge():0.9029658346877548\n",
      "\n",
      "\n"
     ]
    }
   ],
   "source": [
    "for i, clf in enumerate((dtr_model, elastic_model, lasso_model,ridge_model)):\n",
    "    predictions = clf.predict(X_scaled)\n",
    "    print('Mean Square Error of '+ str(clf)+\":\"+ str(metrics.mean_squared_error(Y, predictions)))\n",
    "    print(('Accuracy of '+ str(clf)+\":\"+str(r2_score(Y, predictions))))\n",
    "    print('\\n')\n"
   ],
   "metadata": {
    "collapsed": false,
    "pycharm": {
     "name": "#%%\n"
    }
   }
  }
 ],
 "metadata": {
  "kernelspec": {
   "display_name": "Python 3",
   "language": "python",
   "name": "python3"
  },
  "language_info": {
   "codemirror_mode": {
    "name": "ipython",
    "version": 2
   },
   "file_extension": ".py",
   "mimetype": "text/x-python",
   "name": "python",
   "nbconvert_exporter": "python",
   "pygments_lexer": "ipython2",
   "version": "2.7.6"
  }
 },
 "nbformat": 4,
 "nbformat_minor": 0
}