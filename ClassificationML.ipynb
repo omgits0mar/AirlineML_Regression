{
  "cells": [
    {
      "cell_type": "markdown",
      "metadata": {
        "id": "view-in-github",
        "colab_type": "text"
      },
      "source": [
        "<a href=\"https://colab.research.google.com/github/omgits0mar/Datasets/blob/master/ClassificationML.ipynb\" target=\"_parent\"><img src=\"https://colab.research.google.com/assets/colab-badge.svg\" alt=\"Open In Colab\"/></a>"
      ]
    },
    {
      "cell_type": "code",
      "execution_count": null,
      "id": "4848b15c",
      "metadata": {
        "id": "4848b15c"
      },
      "outputs": [],
      "source": [
        "# import jupyterthemes as jt\n",
        "# from jupyterthemes import get_themes\n",
        "# import jupyterthemes as jt\n",
        "# from jupyterthemes.stylefx import set_nb_theme"
      ]
    },
    {
      "cell_type": "markdown",
      "id": "ecf0ab1d",
      "metadata": {
        "id": "ecf0ab1d"
      },
      "source": [
        "import jupyterthemes as jt\n",
        "from jupyterthemes.stylefx import set_nb_theme"
      ]
    },
    {
      "cell_type": "code",
      "execution_count": null,
      "id": "d8d5a831",
      "metadata": {
        "id": "d8d5a831"
      },
      "outputs": [],
      "source": [
        "# set_nb_theme('onedork')\n",
        "# #monokai\n",
        "# #chesterish\n",
        "# #oceans16 gamed\n",
        "# #onedork gamed brdo\n",
        "# #solarizedl"
      ]
    },
    {
      "cell_type": "markdown",
      "id": "c387df71",
      "metadata": {
        "id": "c387df71"
      },
      "source": [
        "# Code start from here :"
      ]
    },
    {
      "cell_type": "markdown",
      "id": "0474b2da",
      "metadata": {
        "id": "0474b2da"
      },
      "source": [
        "### Importing :"
      ]
    },
    {
      "cell_type": "code",
      "execution_count": 122,
      "id": "203ef228",
      "metadata": {
        "id": "203ef228"
      },
      "outputs": [],
      "source": [
        "import numpy as np\n",
        "import pandas as pd\n",
        "import seaborn as sns\n",
        "import matplotlib.pyplot as plt\n",
        "import re\n",
        "import datetime\n",
        "\n",
        "from sklearn.metrics import mean_squared_error, r2_score\n",
        "from sklearn import metrics\n",
        "from sklearn.model_selection import train_test_split\n",
        "from sklearn.preprocessing import PolynomialFeatures\n",
        "from sklearn.preprocessing import LabelEncoder\n",
        "from sklearn.preprocessing import OneHotEncoder\n",
        "\n"
      ]
    },
    {
      "cell_type": "markdown",
      "id": "341bda5c",
      "metadata": {
        "id": "341bda5c"
      },
      "source": [
        "### Reading data from csv"
      ]
    },
    {
      "cell_type": "code",
      "execution_count": 123,
      "id": "e71a3865",
      "metadata": {
        "id": "e71a3865"
      },
      "outputs": [],
      "source": [
        "df = pd.read_csv('airline-price-classification.csv')"
      ]
    },
    {
      "cell_type": "code",
      "execution_count": 164,
      "id": "205bd611",
      "metadata": {
        "colab": {
          "base_uri": "https://localhost:8080/",
          "height": 206
        },
        "id": "205bd611",
        "outputId": "a2cc75c9-8f35-469c-d4e9-7f3f7749bf80"
      },
      "outputs": [
        {
          "output_type": "execute_result",
          "data": {
            "text/plain": [
              "   ch_code  num_code  stop  type  TicketCategory  month  day  dayofyear  \\\n",
              "0        7       812     1     0               3      5    3        123   \n",
              "1        7       975     1     0               3      3   18         77   \n",
              "2        3      7537     1     1               0      9    3        246   \n",
              "3        3       287     1     1               2      3   15         74   \n",
              "4        7       826     1     1               2      3   22         81   \n",
              "\n",
              "   dep_hour  dep_minute  hours_taken  minutes_taken  arr_hour  arr_minute  \\\n",
              "0         9          45         10.0           10.0        19          55   \n",
              "1         5          45          6.0           30.0        12          15   \n",
              "2        14          30          8.0           10.0        22          40   \n",
              "3        10          40          9.0           40.0        20          20   \n",
              "4        12          30          7.0           25.0        19          55   \n",
              "\n",
              "   source  destination  \n",
              "0       0            3  \n",
              "1       2            3  \n",
              "2       5            3  \n",
              "3       5            2  \n",
              "4       1            4  "
            ],
            "text/html": [
              "\n",
              "  <div id=\"df-99cd1e8e-eea1-4e51-bebe-ed9d7920eb98\">\n",
              "    <div class=\"colab-df-container\">\n",
              "      <div>\n",
              "<style scoped>\n",
              "    .dataframe tbody tr th:only-of-type {\n",
              "        vertical-align: middle;\n",
              "    }\n",
              "\n",
              "    .dataframe tbody tr th {\n",
              "        vertical-align: top;\n",
              "    }\n",
              "\n",
              "    .dataframe thead th {\n",
              "        text-align: right;\n",
              "    }\n",
              "</style>\n",
              "<table border=\"1\" class=\"dataframe\">\n",
              "  <thead>\n",
              "    <tr style=\"text-align: right;\">\n",
              "      <th></th>\n",
              "      <th>ch_code</th>\n",
              "      <th>num_code</th>\n",
              "      <th>stop</th>\n",
              "      <th>type</th>\n",
              "      <th>TicketCategory</th>\n",
              "      <th>month</th>\n",
              "      <th>day</th>\n",
              "      <th>dayofyear</th>\n",
              "      <th>dep_hour</th>\n",
              "      <th>dep_minute</th>\n",
              "      <th>hours_taken</th>\n",
              "      <th>minutes_taken</th>\n",
              "      <th>arr_hour</th>\n",
              "      <th>arr_minute</th>\n",
              "      <th>source</th>\n",
              "      <th>destination</th>\n",
              "    </tr>\n",
              "  </thead>\n",
              "  <tbody>\n",
              "    <tr>\n",
              "      <th>0</th>\n",
              "      <td>7</td>\n",
              "      <td>812</td>\n",
              "      <td>1</td>\n",
              "      <td>0</td>\n",
              "      <td>3</td>\n",
              "      <td>5</td>\n",
              "      <td>3</td>\n",
              "      <td>123</td>\n",
              "      <td>9</td>\n",
              "      <td>45</td>\n",
              "      <td>10.0</td>\n",
              "      <td>10.0</td>\n",
              "      <td>19</td>\n",
              "      <td>55</td>\n",
              "      <td>0</td>\n",
              "      <td>3</td>\n",
              "    </tr>\n",
              "    <tr>\n",
              "      <th>1</th>\n",
              "      <td>7</td>\n",
              "      <td>975</td>\n",
              "      <td>1</td>\n",
              "      <td>0</td>\n",
              "      <td>3</td>\n",
              "      <td>3</td>\n",
              "      <td>18</td>\n",
              "      <td>77</td>\n",
              "      <td>5</td>\n",
              "      <td>45</td>\n",
              "      <td>6.0</td>\n",
              "      <td>30.0</td>\n",
              "      <td>12</td>\n",
              "      <td>15</td>\n",
              "      <td>2</td>\n",
              "      <td>3</td>\n",
              "    </tr>\n",
              "    <tr>\n",
              "      <th>2</th>\n",
              "      <td>3</td>\n",
              "      <td>7537</td>\n",
              "      <td>1</td>\n",
              "      <td>1</td>\n",
              "      <td>0</td>\n",
              "      <td>9</td>\n",
              "      <td>3</td>\n",
              "      <td>246</td>\n",
              "      <td>14</td>\n",
              "      <td>30</td>\n",
              "      <td>8.0</td>\n",
              "      <td>10.0</td>\n",
              "      <td>22</td>\n",
              "      <td>40</td>\n",
              "      <td>5</td>\n",
              "      <td>3</td>\n",
              "    </tr>\n",
              "    <tr>\n",
              "      <th>3</th>\n",
              "      <td>3</td>\n",
              "      <td>287</td>\n",
              "      <td>1</td>\n",
              "      <td>1</td>\n",
              "      <td>2</td>\n",
              "      <td>3</td>\n",
              "      <td>15</td>\n",
              "      <td>74</td>\n",
              "      <td>10</td>\n",
              "      <td>40</td>\n",
              "      <td>9.0</td>\n",
              "      <td>40.0</td>\n",
              "      <td>20</td>\n",
              "      <td>20</td>\n",
              "      <td>5</td>\n",
              "      <td>2</td>\n",
              "    </tr>\n",
              "    <tr>\n",
              "      <th>4</th>\n",
              "      <td>7</td>\n",
              "      <td>826</td>\n",
              "      <td>1</td>\n",
              "      <td>1</td>\n",
              "      <td>2</td>\n",
              "      <td>3</td>\n",
              "      <td>22</td>\n",
              "      <td>81</td>\n",
              "      <td>12</td>\n",
              "      <td>30</td>\n",
              "      <td>7.0</td>\n",
              "      <td>25.0</td>\n",
              "      <td>19</td>\n",
              "      <td>55</td>\n",
              "      <td>1</td>\n",
              "      <td>4</td>\n",
              "    </tr>\n",
              "  </tbody>\n",
              "</table>\n",
              "</div>\n",
              "      <button class=\"colab-df-convert\" onclick=\"convertToInteractive('df-99cd1e8e-eea1-4e51-bebe-ed9d7920eb98')\"\n",
              "              title=\"Convert this dataframe to an interactive table.\"\n",
              "              style=\"display:none;\">\n",
              "        \n",
              "  <svg xmlns=\"http://www.w3.org/2000/svg\" height=\"24px\"viewBox=\"0 0 24 24\"\n",
              "       width=\"24px\">\n",
              "    <path d=\"M0 0h24v24H0V0z\" fill=\"none\"/>\n",
              "    <path d=\"M18.56 5.44l.94 2.06.94-2.06 2.06-.94-2.06-.94-.94-2.06-.94 2.06-2.06.94zm-11 1L8.5 8.5l.94-2.06 2.06-.94-2.06-.94L8.5 2.5l-.94 2.06-2.06.94zm10 10l.94 2.06.94-2.06 2.06-.94-2.06-.94-.94-2.06-.94 2.06-2.06.94z\"/><path d=\"M17.41 7.96l-1.37-1.37c-.4-.4-.92-.59-1.43-.59-.52 0-1.04.2-1.43.59L10.3 9.45l-7.72 7.72c-.78.78-.78 2.05 0 2.83L4 21.41c.39.39.9.59 1.41.59.51 0 1.02-.2 1.41-.59l7.78-7.78 2.81-2.81c.8-.78.8-2.07 0-2.86zM5.41 20L4 18.59l7.72-7.72 1.47 1.35L5.41 20z\"/>\n",
              "  </svg>\n",
              "      </button>\n",
              "      \n",
              "  <style>\n",
              "    .colab-df-container {\n",
              "      display:flex;\n",
              "      flex-wrap:wrap;\n",
              "      gap: 12px;\n",
              "    }\n",
              "\n",
              "    .colab-df-convert {\n",
              "      background-color: #E8F0FE;\n",
              "      border: none;\n",
              "      border-radius: 50%;\n",
              "      cursor: pointer;\n",
              "      display: none;\n",
              "      fill: #1967D2;\n",
              "      height: 32px;\n",
              "      padding: 0 0 0 0;\n",
              "      width: 32px;\n",
              "    }\n",
              "\n",
              "    .colab-df-convert:hover {\n",
              "      background-color: #E2EBFA;\n",
              "      box-shadow: 0px 1px 2px rgba(60, 64, 67, 0.3), 0px 1px 3px 1px rgba(60, 64, 67, 0.15);\n",
              "      fill: #174EA6;\n",
              "    }\n",
              "\n",
              "    [theme=dark] .colab-df-convert {\n",
              "      background-color: #3B4455;\n",
              "      fill: #D2E3FC;\n",
              "    }\n",
              "\n",
              "    [theme=dark] .colab-df-convert:hover {\n",
              "      background-color: #434B5C;\n",
              "      box-shadow: 0px 1px 3px 1px rgba(0, 0, 0, 0.15);\n",
              "      filter: drop-shadow(0px 1px 2px rgba(0, 0, 0, 0.3));\n",
              "      fill: #FFFFFF;\n",
              "    }\n",
              "  </style>\n",
              "\n",
              "      <script>\n",
              "        const buttonEl =\n",
              "          document.querySelector('#df-99cd1e8e-eea1-4e51-bebe-ed9d7920eb98 button.colab-df-convert');\n",
              "        buttonEl.style.display =\n",
              "          google.colab.kernel.accessAllowed ? 'block' : 'none';\n",
              "\n",
              "        async function convertToInteractive(key) {\n",
              "          const element = document.querySelector('#df-99cd1e8e-eea1-4e51-bebe-ed9d7920eb98');\n",
              "          const dataTable =\n",
              "            await google.colab.kernel.invokeFunction('convertToInteractive',\n",
              "                                                     [key], {});\n",
              "          if (!dataTable) return;\n",
              "\n",
              "          const docLinkHtml = 'Like what you see? Visit the ' +\n",
              "            '<a target=\"_blank\" href=https://colab.research.google.com/notebooks/data_table.ipynb>data table notebook</a>'\n",
              "            + ' to learn more about interactive tables.';\n",
              "          element.innerHTML = '';\n",
              "          dataTable['output_type'] = 'display_data';\n",
              "          await google.colab.output.renderOutput(dataTable, element);\n",
              "          const docLink = document.createElement('div');\n",
              "          docLink.innerHTML = docLinkHtml;\n",
              "          element.appendChild(docLink);\n",
              "        }\n",
              "      </script>\n",
              "    </div>\n",
              "  </div>\n",
              "  "
            ]
          },
          "metadata": {},
          "execution_count": 164
        }
      ],
      "source": [
        "df.head()"
      ]
    },
    {
      "cell_type": "code",
      "execution_count": null,
      "id": "7ad4fbcc",
      "metadata": {
        "id": "7ad4fbcc"
      },
      "outputs": [],
      "source": [
        "df.shape"
      ]
    },
    {
      "cell_type": "markdown",
      "id": "427b9966",
      "metadata": {
        "id": "427b9966"
      },
      "source": [
        "### Data preprocessing on 'price'"
      ]
    },
    {
      "cell_type": "code",
      "execution_count": null,
      "id": "7632ad56",
      "metadata": {
        "id": "7632ad56"
      },
      "outputs": [],
      "source": [
        "lbl_enc = LabelEncoder()\n",
        "df['TicketCategory'] = lbl_enc.fit_transform(df[[\"TicketCategory\"]])\n",
        "print(df['TicketCategory'])"
      ]
    },
    {
      "cell_type": "markdown",
      "id": "f6c46a18",
      "metadata": {
        "id": "f6c46a18"
      },
      "source": [
        "### Data preprocessing on 'date'"
      ]
    },
    {
      "cell_type": "code",
      "execution_count": 127,
      "id": "12cab2c0",
      "metadata": {
        "id": "12cab2c0"
      },
      "outputs": [],
      "source": [
        "df[\"date\"]=pd.to_datetime(df[\"date\"])\n",
        "df[\"date\"]=df[\"date\"].dt.strftime(\"%m/%d/%Y\")\n"
      ]
    },
    {
      "cell_type": "code",
      "execution_count": null,
      "id": "a13e704f",
      "metadata": {
        "id": "a13e704f"
      },
      "outputs": [],
      "source": [
        "print(df[df.columns[0]])"
      ]
    },
    {
      "cell_type": "code",
      "execution_count": null,
      "id": "f5876cf4",
      "metadata": {
        "id": "f5876cf4"
      },
      "outputs": [],
      "source": [
        "pd.DatetimeIndex(df[\"date\"]).weekday"
      ]
    },
    {
      "cell_type": "code",
      "execution_count": 130,
      "id": "9bc17394",
      "metadata": {
        "id": "9bc17394"
      },
      "outputs": [],
      "source": [
        "df['month'] = pd.DatetimeIndex(df['date']).month\n",
        "df['day'] = pd.DatetimeIndex(df['date']).day\n",
        "df['dayofyear'] = pd.DatetimeIndex(df['date']).dayofyear"
      ]
    },
    {
      "cell_type": "code",
      "execution_count": 131,
      "id": "36149ff4",
      "metadata": {
        "id": "36149ff4"
      },
      "outputs": [],
      "source": [
        "#df = pd.get_dummies(df, columns=['month'], drop_first=True, prefix='month')"
      ]
    },
    {
      "cell_type": "markdown",
      "id": "d2592b83",
      "metadata": {
        "id": "d2592b83"
      },
      "source": [
        "### Data preprocessing : 'ch_code'"
      ]
    },
    {
      "cell_type": "code",
      "execution_count": null,
      "id": "be69167d",
      "metadata": {
        "id": "be69167d"
      },
      "outputs": [],
      "source": [
        "df['ch_code'] = lbl_enc.fit_transform(df[[\"ch_code\"]])\n",
        "print(df['ch_code'])"
      ]
    },
    {
      "cell_type": "markdown",
      "id": "c1772bdd",
      "metadata": {
        "id": "c1772bdd"
      },
      "source": [
        "### Data preprocessing : 'dep_time'"
      ]
    },
    {
      "cell_type": "code",
      "execution_count": 133,
      "id": "6e05c2ba",
      "metadata": {
        "id": "6e05c2ba"
      },
      "outputs": [],
      "source": [
        "df[\"dep_time\"]=pd.to_datetime(df[\"dep_time\"])\n",
        "df['dep_time'] = df['dep_time'].dt.strftime(\"%-H:%M\")"
      ]
    },
    {
      "cell_type": "code",
      "execution_count": 134,
      "id": "f1b15e94",
      "metadata": {
        "id": "f1b15e94"
      },
      "outputs": [],
      "source": [
        "df[\"dep_hour\"]=pd.DatetimeIndex(df[\"dep_time\"]).hour\n",
        "df[\"dep_minute\"]=pd.DatetimeIndex(df[\"dep_time\"]).minute"
      ]
    },
    {
      "cell_type": "markdown",
      "id": "3a14389f",
      "metadata": {
        "id": "3a14389f"
      },
      "source": [
        "### Data preprocessing : 'time_taken'"
      ]
    },
    {
      "cell_type": "code",
      "execution_count": null,
      "id": "f9ead4fc",
      "metadata": {
        "id": "f9ead4fc"
      },
      "outputs": [],
      "source": [
        "df[\"hours_taken\"] = df[\"time_taken\"].str.split('h').str.get(0)\n",
        "df[\"minutes_taken\"] = df[\"time_taken\"].str[4:6]\n",
        "df[\"minutes_taken\"] = df[\"minutes_taken\"].str.replace('m', '')\n",
        "df[\"minutes_taken\"] = df[\"minutes_taken\"].str.replace('h', '')\n",
        "df[\"hours_taken\"] = pd.to_numeric(df[\"hours_taken\"])\n",
        "df[\"minutes_taken\"] = pd.to_numeric(df[\"minutes_taken\"], errors='coerce')\n",
        "df.head()"
      ]
    },
    {
      "cell_type": "code",
      "execution_count": 135,
      "id": "2efc3a58",
      "metadata": {
        "id": "2efc3a58"
      },
      "outputs": [],
      "source": [
        ""
      ]
    },
    {
      "cell_type": "markdown",
      "id": "09a4e946",
      "metadata": {
        "id": "09a4e946"
      },
      "source": [
        "### Data preprocessing : 'stop'"
      ]
    },
    {
      "cell_type": "code",
      "execution_count": 136,
      "id": "741e2d89",
      "metadata": {
        "id": "741e2d89"
      },
      "outputs": [],
      "source": [
        "df[\"stop\"] = df[\"stop\"].str.split('-').str.get(0)\n",
        "df[\"stop\"] = df[\"stop\"].replace(['non'], 0)\n",
        "df.isna().sum() #  28944 null vals\n",
        "df[\"stop\"] = df[\"stop\"].replace(['2+'], 2) # Indicates for 2 or more stops\n",
        "df['stop'] = df['stop'].fillna(0)\n",
        "df['stop'] = pd.to_numeric(df['stop'])\n",
        "# print(df[9:14])"
      ]
    },
    {
      "cell_type": "markdown",
      "id": "6a1acd72",
      "metadata": {
        "id": "6a1acd72"
      },
      "source": [
        "### Data preprocessing : 'arr_time'"
      ]
    },
    {
      "cell_type": "code",
      "execution_count": null,
      "id": "cdf8728d",
      "metadata": {
        "id": "cdf8728d"
      },
      "outputs": [],
      "source": [
        "df[\"arr_time\"]=pd.to_datetime(df[\"arr_time\"])\n",
        "df['arr_time'] = df['arr_time'].dt.strftime(\"%-H:%M\")\n",
        "df[\"arr_hour\"]=pd.DatetimeIndex(df[\"arr_time\"]).hour\n",
        "df[\"arr_minute\"]=pd.DatetimeIndex(df[\"arr_time\"]).minute\n",
        "df[\"arr_hour\"] = pd.to_numeric(df[\"arr_hour\"])\n",
        "df[\"arr_minute\"] = pd.to_numeric(df[\"arr_minute\"])\n",
        "df.head()\n"
      ]
    },
    {
      "cell_type": "markdown",
      "id": "97baca88",
      "metadata": {
        "id": "97baca88"
      },
      "source": [
        "### Data preprocessing : 'type'"
      ]
    },
    {
      "cell_type": "code",
      "execution_count": null,
      "id": "caaad41c",
      "metadata": {
        "id": "caaad41c"
      },
      "outputs": [],
      "source": [
        "df['type'] = lbl_enc.fit_transform(df[[\"type\"]])\n",
        "print(df['type'])"
      ]
    },
    {
      "cell_type": "markdown",
      "id": "a34c0c51",
      "metadata": {
        "id": "a34c0c51"
      },
      "source": [
        "### Data preprocessing : 'route'"
      ]
    },
    {
      "cell_type": "code",
      "execution_count": 139,
      "id": "855d039a",
      "metadata": {
        "id": "855d039a"
      },
      "outputs": [],
      "source": [
        "df['source'] = df['route'].str.split( ', ').str.get(0).str.split(':').str.get(1)\n",
        "df['destination'] = df['route'].str.split( ', ').str.get(1).str.split(':').str.get(1).str.split('}').str.get(0)\n",
        "df['source'] = df['source'].str.replace('\\'', \"\")\n",
        "df['destination'] = df['destination'].str.replace('\\'', \"\")"
      ]
    },
    {
      "cell_type": "code",
      "execution_count": null,
      "id": "b34252e5",
      "metadata": {
        "id": "b34252e5"
      },
      "outputs": [],
      "source": [
        "df.head()"
      ]
    },
    {
      "cell_type": "code",
      "execution_count": null,
      "id": "3d59112a",
      "metadata": {
        "id": "3d59112a"
      },
      "outputs": [],
      "source": [
        "df['source'] = lbl_enc.fit_transform(df[[\"source\"]])\n",
        "print(df['source'])"
      ]
    },
    {
      "cell_type": "code",
      "execution_count": null,
      "id": "221127f8",
      "metadata": {
        "id": "221127f8"
      },
      "outputs": [],
      "source": [
        "df['destination'] = lbl_enc.fit_transform(df[[\"destination\"]])\n",
        "print(df['destination'])\n",
        "df = df.dropna()\n",
        "df = df.drop(['airline', 'date', 'dep_time', \"time_taken\", 'arr_time', 'route',], axis=1)\n",
        "#df = pd.get_dummies(df)"
      ]
    },
    {
      "cell_type": "code",
      "source": [
        "df.head()"
      ],
      "metadata": {
        "colab": {
          "base_uri": "https://localhost:8080/",
          "height": 206
        },
        "id": "QVE3hh4W0MQw",
        "outputId": "786b7f37-2a3f-417d-b1ba-7dfdb2bbf9bf"
      },
      "id": "QVE3hh4W0MQw",
      "execution_count": 163,
      "outputs": [
        {
          "output_type": "execute_result",
          "data": {
            "text/plain": [
              "   ch_code  num_code  stop  type  TicketCategory  month  day  dayofyear  \\\n",
              "0        7       812     1     0               3      5    3        123   \n",
              "1        7       975     1     0               3      3   18         77   \n",
              "2        3      7537     1     1               0      9    3        246   \n",
              "3        3       287     1     1               2      3   15         74   \n",
              "4        7       826     1     1               2      3   22         81   \n",
              "\n",
              "   dep_hour  dep_minute  hours_taken  minutes_taken  arr_hour  arr_minute  \\\n",
              "0         9          45         10.0           10.0        19          55   \n",
              "1         5          45          6.0           30.0        12          15   \n",
              "2        14          30          8.0           10.0        22          40   \n",
              "3        10          40          9.0           40.0        20          20   \n",
              "4        12          30          7.0           25.0        19          55   \n",
              "\n",
              "   source  destination  \n",
              "0       0            3  \n",
              "1       2            3  \n",
              "2       5            3  \n",
              "3       5            2  \n",
              "4       1            4  "
            ],
            "text/html": [
              "\n",
              "  <div id=\"df-48027036-f1d9-4b01-9d16-f123b7991fb0\">\n",
              "    <div class=\"colab-df-container\">\n",
              "      <div>\n",
              "<style scoped>\n",
              "    .dataframe tbody tr th:only-of-type {\n",
              "        vertical-align: middle;\n",
              "    }\n",
              "\n",
              "    .dataframe tbody tr th {\n",
              "        vertical-align: top;\n",
              "    }\n",
              "\n",
              "    .dataframe thead th {\n",
              "        text-align: right;\n",
              "    }\n",
              "</style>\n",
              "<table border=\"1\" class=\"dataframe\">\n",
              "  <thead>\n",
              "    <tr style=\"text-align: right;\">\n",
              "      <th></th>\n",
              "      <th>ch_code</th>\n",
              "      <th>num_code</th>\n",
              "      <th>stop</th>\n",
              "      <th>type</th>\n",
              "      <th>TicketCategory</th>\n",
              "      <th>month</th>\n",
              "      <th>day</th>\n",
              "      <th>dayofyear</th>\n",
              "      <th>dep_hour</th>\n",
              "      <th>dep_minute</th>\n",
              "      <th>hours_taken</th>\n",
              "      <th>minutes_taken</th>\n",
              "      <th>arr_hour</th>\n",
              "      <th>arr_minute</th>\n",
              "      <th>source</th>\n",
              "      <th>destination</th>\n",
              "    </tr>\n",
              "  </thead>\n",
              "  <tbody>\n",
              "    <tr>\n",
              "      <th>0</th>\n",
              "      <td>7</td>\n",
              "      <td>812</td>\n",
              "      <td>1</td>\n",
              "      <td>0</td>\n",
              "      <td>3</td>\n",
              "      <td>5</td>\n",
              "      <td>3</td>\n",
              "      <td>123</td>\n",
              "      <td>9</td>\n",
              "      <td>45</td>\n",
              "      <td>10.0</td>\n",
              "      <td>10.0</td>\n",
              "      <td>19</td>\n",
              "      <td>55</td>\n",
              "      <td>0</td>\n",
              "      <td>3</td>\n",
              "    </tr>\n",
              "    <tr>\n",
              "      <th>1</th>\n",
              "      <td>7</td>\n",
              "      <td>975</td>\n",
              "      <td>1</td>\n",
              "      <td>0</td>\n",
              "      <td>3</td>\n",
              "      <td>3</td>\n",
              "      <td>18</td>\n",
              "      <td>77</td>\n",
              "      <td>5</td>\n",
              "      <td>45</td>\n",
              "      <td>6.0</td>\n",
              "      <td>30.0</td>\n",
              "      <td>12</td>\n",
              "      <td>15</td>\n",
              "      <td>2</td>\n",
              "      <td>3</td>\n",
              "    </tr>\n",
              "    <tr>\n",
              "      <th>2</th>\n",
              "      <td>3</td>\n",
              "      <td>7537</td>\n",
              "      <td>1</td>\n",
              "      <td>1</td>\n",
              "      <td>0</td>\n",
              "      <td>9</td>\n",
              "      <td>3</td>\n",
              "      <td>246</td>\n",
              "      <td>14</td>\n",
              "      <td>30</td>\n",
              "      <td>8.0</td>\n",
              "      <td>10.0</td>\n",
              "      <td>22</td>\n",
              "      <td>40</td>\n",
              "      <td>5</td>\n",
              "      <td>3</td>\n",
              "    </tr>\n",
              "    <tr>\n",
              "      <th>3</th>\n",
              "      <td>3</td>\n",
              "      <td>287</td>\n",
              "      <td>1</td>\n",
              "      <td>1</td>\n",
              "      <td>2</td>\n",
              "      <td>3</td>\n",
              "      <td>15</td>\n",
              "      <td>74</td>\n",
              "      <td>10</td>\n",
              "      <td>40</td>\n",
              "      <td>9.0</td>\n",
              "      <td>40.0</td>\n",
              "      <td>20</td>\n",
              "      <td>20</td>\n",
              "      <td>5</td>\n",
              "      <td>2</td>\n",
              "    </tr>\n",
              "    <tr>\n",
              "      <th>4</th>\n",
              "      <td>7</td>\n",
              "      <td>826</td>\n",
              "      <td>1</td>\n",
              "      <td>1</td>\n",
              "      <td>2</td>\n",
              "      <td>3</td>\n",
              "      <td>22</td>\n",
              "      <td>81</td>\n",
              "      <td>12</td>\n",
              "      <td>30</td>\n",
              "      <td>7.0</td>\n",
              "      <td>25.0</td>\n",
              "      <td>19</td>\n",
              "      <td>55</td>\n",
              "      <td>1</td>\n",
              "      <td>4</td>\n",
              "    </tr>\n",
              "  </tbody>\n",
              "</table>\n",
              "</div>\n",
              "      <button class=\"colab-df-convert\" onclick=\"convertToInteractive('df-48027036-f1d9-4b01-9d16-f123b7991fb0')\"\n",
              "              title=\"Convert this dataframe to an interactive table.\"\n",
              "              style=\"display:none;\">\n",
              "        \n",
              "  <svg xmlns=\"http://www.w3.org/2000/svg\" height=\"24px\"viewBox=\"0 0 24 24\"\n",
              "       width=\"24px\">\n",
              "    <path d=\"M0 0h24v24H0V0z\" fill=\"none\"/>\n",
              "    <path d=\"M18.56 5.44l.94 2.06.94-2.06 2.06-.94-2.06-.94-.94-2.06-.94 2.06-2.06.94zm-11 1L8.5 8.5l.94-2.06 2.06-.94-2.06-.94L8.5 2.5l-.94 2.06-2.06.94zm10 10l.94 2.06.94-2.06 2.06-.94-2.06-.94-.94-2.06-.94 2.06-2.06.94z\"/><path d=\"M17.41 7.96l-1.37-1.37c-.4-.4-.92-.59-1.43-.59-.52 0-1.04.2-1.43.59L10.3 9.45l-7.72 7.72c-.78.78-.78 2.05 0 2.83L4 21.41c.39.39.9.59 1.41.59.51 0 1.02-.2 1.41-.59l7.78-7.78 2.81-2.81c.8-.78.8-2.07 0-2.86zM5.41 20L4 18.59l7.72-7.72 1.47 1.35L5.41 20z\"/>\n",
              "  </svg>\n",
              "      </button>\n",
              "      \n",
              "  <style>\n",
              "    .colab-df-container {\n",
              "      display:flex;\n",
              "      flex-wrap:wrap;\n",
              "      gap: 12px;\n",
              "    }\n",
              "\n",
              "    .colab-df-convert {\n",
              "      background-color: #E8F0FE;\n",
              "      border: none;\n",
              "      border-radius: 50%;\n",
              "      cursor: pointer;\n",
              "      display: none;\n",
              "      fill: #1967D2;\n",
              "      height: 32px;\n",
              "      padding: 0 0 0 0;\n",
              "      width: 32px;\n",
              "    }\n",
              "\n",
              "    .colab-df-convert:hover {\n",
              "      background-color: #E2EBFA;\n",
              "      box-shadow: 0px 1px 2px rgba(60, 64, 67, 0.3), 0px 1px 3px 1px rgba(60, 64, 67, 0.15);\n",
              "      fill: #174EA6;\n",
              "    }\n",
              "\n",
              "    [theme=dark] .colab-df-convert {\n",
              "      background-color: #3B4455;\n",
              "      fill: #D2E3FC;\n",
              "    }\n",
              "\n",
              "    [theme=dark] .colab-df-convert:hover {\n",
              "      background-color: #434B5C;\n",
              "      box-shadow: 0px 1px 3px 1px rgba(0, 0, 0, 0.15);\n",
              "      filter: drop-shadow(0px 1px 2px rgba(0, 0, 0, 0.3));\n",
              "      fill: #FFFFFF;\n",
              "    }\n",
              "  </style>\n",
              "\n",
              "      <script>\n",
              "        const buttonEl =\n",
              "          document.querySelector('#df-48027036-f1d9-4b01-9d16-f123b7991fb0 button.colab-df-convert');\n",
              "        buttonEl.style.display =\n",
              "          google.colab.kernel.accessAllowed ? 'block' : 'none';\n",
              "\n",
              "        async function convertToInteractive(key) {\n",
              "          const element = document.querySelector('#df-48027036-f1d9-4b01-9d16-f123b7991fb0');\n",
              "          const dataTable =\n",
              "            await google.colab.kernel.invokeFunction('convertToInteractive',\n",
              "                                                     [key], {});\n",
              "          if (!dataTable) return;\n",
              "\n",
              "          const docLinkHtml = 'Like what you see? Visit the ' +\n",
              "            '<a target=\"_blank\" href=https://colab.research.google.com/notebooks/data_table.ipynb>data table notebook</a>'\n",
              "            + ' to learn more about interactive tables.';\n",
              "          element.innerHTML = '';\n",
              "          dataTable['output_type'] = 'display_data';\n",
              "          await google.colab.output.renderOutput(dataTable, element);\n",
              "          const docLink = document.createElement('div');\n",
              "          docLink.innerHTML = docLinkHtml;\n",
              "          element.appendChild(docLink);\n",
              "        }\n",
              "      </script>\n",
              "    </div>\n",
              "  </div>\n",
              "  "
            ]
          },
          "metadata": {},
          "execution_count": 163
        }
      ]
    },
    {
      "cell_type": "code",
      "execution_count": 162,
      "id": "5e5b7200",
      "metadata": {
        "colab": {
          "base_uri": "https://localhost:8080/"
        },
        "id": "5e5b7200",
        "outputId": "7ad11215-b86b-42ba-e7b1-b9abb0705fc0"
      },
      "outputs": [
        {
          "output_type": "stream",
          "name": "stdout",
          "text": [
            "Index(['ch_code', 'num_code', 'stop', 'type', 'TicketCategory', 'month', 'day',\n",
            "       'dayofyear', 'dep_hour', 'dep_minute', 'hours_taken', 'minutes_taken',\n",
            "       'arr_hour', 'arr_minute', 'source', 'destination'],\n",
            "      dtype='object')\n"
          ]
        }
      ],
      "source": [
        "print(df.columns)"
      ]
    },
    {
      "cell_type": "code",
      "execution_count": 144,
      "id": "e7415fad",
      "metadata": {
        "id": "e7415fad"
      },
      "outputs": [],
      "source": [
        "X = df.loc[:, df.columns != 'TicketCategory']\n",
        "Y = df['TicketCategory']"
      ]
    },
    {
      "cell_type": "code",
      "source": [
        ""
      ],
      "metadata": {
        "id": "m7SvcqRsWlyr"
      },
      "id": "m7SvcqRsWlyr",
      "execution_count": 144,
      "outputs": []
    },
    {
      "cell_type": "code",
      "execution_count": 145,
      "id": "543de611",
      "metadata": {
        "id": "543de611"
      },
      "outputs": [],
      "source": [
        "XTrain, XTest, YTrain, YTest = train_test_split(X, Y, test_size=0.2, shuffle=True, random_state=8)"
      ]
    },
    {
      "cell_type": "code",
      "source": [
        "from sklearn.preprocessing import StandardScaler\n",
        "ss=StandardScaler()\n",
        "scaler = ss.fit(XTrain)\n",
        "trainX_scaled = scaler.transform(XTrain)\n",
        "testX_scaled = scaler.transform(XTest)"
      ],
      "metadata": {
        "id": "V12Boy_ErViH"
      },
      "id": "V12Boy_ErViH",
      "execution_count": 146,
      "outputs": []
    },
    {
      "cell_type": "code",
      "source": [
        "from keras.layers import Dense\n",
        "from keras.models import Sequential\n",
        "from tensorflow.keras.optimizers import SGD\n",
        "from tensorflow.keras.utils import to_categorical"
      ],
      "metadata": {
        "id": "r61aii5dgdQE"
      },
      "id": "r61aii5dgdQE",
      "execution_count": 147,
      "outputs": []
    },
    {
      "cell_type": "code",
      "source": [
        "y_train = to_categorical(YTrain)\n",
        "y_test = to_categorical(YTest)"
      ],
      "metadata": {
        "id": "wPNLsAfRaDUd"
      },
      "id": "wPNLsAfRaDUd",
      "execution_count": 148,
      "outputs": []
    },
    {
      "cell_type": "code",
      "source": [
        "# define model\n",
        "model = Sequential()\n",
        "model.add(Dense(128, input_dim=XTrain.shape[1], activation='relu'))\n",
        "model.add(Dense(64, activation='relu'))\n",
        "model.add(Dense(4, activation='softmax'))"
      ],
      "metadata": {
        "id": "C3AA8nbXfzoz"
      },
      "id": "C3AA8nbXfzoz",
      "execution_count": 119,
      "outputs": []
    },
    {
      "cell_type": "code",
      "source": [
        "# compile model\n",
        "model.compile(loss='categorical_crossentropy', optimizer='adam', metrics=['accuracy'])              "
      ],
      "metadata": {
        "id": "lkln_CSPQviS"
      },
      "id": "lkln_CSPQviS",
      "execution_count": 120,
      "outputs": []
    },
    {
      "cell_type": "code",
      "source": [
        "history = model.fit(XTrain, y_train, validation_data=(XTest, y_test), epochs=50, verbose=1)\n"
      ],
      "metadata": {
        "id": "uwmZfdqBf2hm"
      },
      "id": "uwmZfdqBf2hm",
      "execution_count": null,
      "outputs": []
    },
    {
      "cell_type": "code",
      "source": [
        "train_acc = model.evaluate(XTrain, y_train, verbose=0)\n",
        "test_acc = model.evaluate(XTest, y_test, verbose=0)"
      ],
      "metadata": {
        "id": "hdyghXTPc5U5"
      },
      "id": "hdyghXTPc5U5",
      "execution_count": 70,
      "outputs": []
    },
    {
      "cell_type": "code",
      "source": [
        "model.summary()\n",
        "print(train_acc)\n",
        "print(test_acc)"
      ],
      "metadata": {
        "id": "GIOs9gjSdVSw"
      },
      "id": "GIOs9gjSdVSw",
      "execution_count": null,
      "outputs": []
    },
    {
      "cell_type": "code",
      "source": [
        "from sklearn.neighbors import KNeighborsClassifier\n",
        "from sklearn.metrics import classification_report,accuracy_score\n",
        "from sklearn import svm\n",
        "from sklearn.linear_model import LogisticRegression\n",
        "from sklearn.tree import DecisionTreeClassifier\n",
        "from sklearn.neural_network import MLPClassifier\n",
        "from sklearn.ensemble import RandomForestClassifier\n",
        "from sklearn.linear_model import RidgeClassifier\n",
        "\n",
        "ridge = RidgeClassifier(alpha = 0.1)\n",
        "ridge.fit(trainX_scaled, YTrain)\n",
        "\n",
        "rfc = RandomForestClassifier(random_state=42, n_jobs=-1, n_estimators=100)\n",
        "rfc.fit(trainX_scaled, YTrain)\n",
        "\n",
        "mlp_clf = MLPClassifier(hidden_layer_sizes=(150,100,50),\n",
        "                        max_iter = 50,activation = 'tanh',\n",
        "                        solver = 'adam')\n",
        "\n",
        "mlp_clf.fit(trainX_scaled, YTrain)\n",
        "\n",
        "dtree = DecisionTreeClassifier(max_depth=50, random_state=42)\n",
        "dtree.fit(trainX_scaled, YTrain)\n",
        "\n",
        "knn = KNeighborsClassifier()\n",
        "knn.fit(trainX_scaled, YTrain) \n",
        "\n",
        "logestic = LogisticRegression(C=0.1, penalty = 'l2', solver = 'lbfgs')\n",
        "logestic.fit(trainX_scaled, YTrain) \n",
        "\n",
        "# rbf_svc = svm.SVC(kernel='rbf', gamma='scale', C=1).fit(trainX_scaled, YTrain)\n",
        "# poly_svc = svm.SVC(kernel='poly',degree = 3, C=1).fit(trainX_scaled, YTrain)"
      ],
      "metadata": {
        "colab": {
          "base_uri": "https://localhost:8080/"
        },
        "id": "jKkvhD-laDDJ",
        "outputId": "86258685-0854-468e-8c67-4521a22d0d7c"
      },
      "id": "jKkvhD-laDDJ",
      "execution_count": 156,
      "outputs": [
        {
          "output_type": "stream",
          "name": "stderr",
          "text": [
            "/usr/local/lib/python3.7/dist-packages/sklearn/neural_network/_multilayer_perceptron.py:696: ConvergenceWarning: Stochastic Optimizer: Maximum iterations (50) reached and the optimization hasn't converged yet.\n",
            "  ConvergenceWarning,\n",
            "/usr/local/lib/python3.7/dist-packages/sklearn/linear_model/_logistic.py:818: ConvergenceWarning: lbfgs failed to converge (status=1):\n",
            "STOP: TOTAL NO. of ITERATIONS REACHED LIMIT.\n",
            "\n",
            "Increase the number of iterations (max_iter) or scale the data as shown in:\n",
            "    https://scikit-learn.org/stable/modules/preprocessing.html\n",
            "Please also refer to the documentation for alternative solver options:\n",
            "    https://scikit-learn.org/stable/modules/linear_model.html#logistic-regression\n",
            "  extra_warning_msg=_LOGISTIC_SOLVER_CONVERGENCE_MSG,\n"
          ]
        },
        {
          "output_type": "execute_result",
          "data": {
            "text/plain": [
              "LogisticRegression(C=0.1)"
            ]
          },
          "metadata": {},
          "execution_count": 156
        }
      ]
    },
    {
      "cell_type": "code",
      "source": [
        "for i, clf in enumerate((ridge, rfc, mlp_clf, dtree, knn, logestic)):\n",
        "    predictions = clf.predict(testX_scaled)\n",
        "    print(\"Accuracy of: \" + str(clf)+\":\"+str(accuracy_score(YTest, predictions)))\n",
        "    print('\\n')\n",
        "    print(classification_report(YTest, predictions))"
      ],
      "metadata": {
        "id": "ZZTKPHjVaZJH",
        "colab": {
          "base_uri": "https://localhost:8080/"
        },
        "outputId": "e1d13809-63af-4943-fac7-2f71a234406b"
      },
      "id": "ZZTKPHjVaZJH",
      "execution_count": 159,
      "outputs": [
        {
          "output_type": "stream",
          "name": "stdout",
          "text": [
            "Accuracy of: RidgeClassifier(alpha=0.1):0.7104824944839931\n",
            "\n",
            "\n"
          ]
        },
        {
          "output_type": "stream",
          "name": "stderr",
          "text": [
            "/usr/local/lib/python3.7/dist-packages/sklearn/metrics/_classification.py:1318: UndefinedMetricWarning: Precision and F-score are ill-defined and being set to 0.0 in labels with no predicted samples. Use `zero_division` parameter to control this behavior.\n",
            "  _warn_prf(average, modifier, msg_start, len(result))\n",
            "/usr/local/lib/python3.7/dist-packages/sklearn/metrics/_classification.py:1318: UndefinedMetricWarning: Precision and F-score are ill-defined and being set to 0.0 in labels with no predicted samples. Use `zero_division` parameter to control this behavior.\n",
            "  _warn_prf(average, modifier, msg_start, len(result))\n",
            "/usr/local/lib/python3.7/dist-packages/sklearn/metrics/_classification.py:1318: UndefinedMetricWarning: Precision and F-score are ill-defined and being set to 0.0 in labels with no predicted samples. Use `zero_division` parameter to control this behavior.\n",
            "  _warn_prf(average, modifier, msg_start, len(result))\n"
          ]
        },
        {
          "output_type": "stream",
          "name": "stdout",
          "text": [
            "              precision    recall  f1-score   support\n",
            "\n",
            "           0       0.74      0.54      0.62     13035\n",
            "           1       0.00      0.00      0.00      4498\n",
            "           2       0.74      0.84      0.79     20833\n",
            "           3       0.64      1.00      0.78      9676\n",
            "\n",
            "    accuracy                           0.71     48042\n",
            "   macro avg       0.53      0.59      0.55     48042\n",
            "weighted avg       0.65      0.71      0.67     48042\n",
            "\n",
            "Accuracy of: RandomForestClassifier(n_jobs=-1, random_state=42):0.9608259439656966\n",
            "\n",
            "\n",
            "              precision    recall  f1-score   support\n",
            "\n",
            "           0       0.94      0.95      0.94     13035\n",
            "           1       0.95      0.96      0.95      4498\n",
            "           2       0.97      0.96      0.96     20833\n",
            "           3       0.99      0.98      0.98      9676\n",
            "\n",
            "    accuracy                           0.96     48042\n",
            "   macro avg       0.96      0.96      0.96     48042\n",
            "weighted avg       0.96      0.96      0.96     48042\n",
            "\n",
            "Accuracy of: MLPClassifier(activation='tanh', hidden_layer_sizes=(150, 100, 50), max_iter=50):0.9438616210815537\n",
            "\n",
            "\n",
            "              precision    recall  f1-score   support\n",
            "\n",
            "           0       0.91      0.92      0.92     13035\n",
            "           1       0.93      0.96      0.94      4498\n",
            "           2       0.95      0.94      0.95     20833\n",
            "           3       0.99      0.97      0.98      9676\n",
            "\n",
            "    accuracy                           0.94     48042\n",
            "   macro avg       0.94      0.95      0.95     48042\n",
            "weighted avg       0.94      0.94      0.94     48042\n",
            "\n",
            "Accuracy of: DecisionTreeClassifier(max_depth=50, random_state=42):0.959056658756921\n",
            "\n",
            "\n",
            "              precision    recall  f1-score   support\n",
            "\n",
            "           0       0.94      0.94      0.94     13035\n",
            "           1       0.95      0.96      0.96      4498\n",
            "           2       0.96      0.96      0.96     20833\n",
            "           3       0.99      0.98      0.99      9676\n",
            "\n",
            "    accuracy                           0.96     48042\n",
            "   macro avg       0.96      0.96      0.96     48042\n",
            "weighted avg       0.96      0.96      0.96     48042\n",
            "\n",
            "Accuracy of: KNeighborsClassifier():0.8935098455518088\n",
            "\n",
            "\n",
            "              precision    recall  f1-score   support\n",
            "\n",
            "           0       0.85      0.85      0.85     13035\n",
            "           1       0.87      0.87      0.87      4498\n",
            "           2       0.90      0.90      0.90     20833\n",
            "           3       0.95      0.95      0.95      9676\n",
            "\n",
            "    accuracy                           0.89     48042\n",
            "   macro avg       0.89      0.89      0.89     48042\n",
            "weighted avg       0.89      0.89      0.89     48042\n",
            "\n",
            "Accuracy of: LogisticRegression(C=0.1):0.7187044669247742\n",
            "\n",
            "\n",
            "              precision    recall  f1-score   support\n",
            "\n",
            "           0       0.72      0.51      0.60     13035\n",
            "           1       0.51      0.26      0.35      4498\n",
            "           2       0.73      0.86      0.79     20833\n",
            "           3       0.74      0.90      0.81      9676\n",
            "\n",
            "    accuracy                           0.72     48042\n",
            "   macro avg       0.67      0.63      0.64     48042\n",
            "weighted avg       0.71      0.72      0.70     48042\n",
            "\n"
          ]
        }
      ]
    },
    {
      "cell_type": "code",
      "source": [
        "from sklearn.metrics import plot_confusion_matrix\n",
        "\n",
        "for i, clf in enumerate((ridge, rfc, mlp_clf, dtree, knn, logestic)):\n",
        "    fig = plot_confusion_matrix(clf, XTest, YTest, display_labels=clf.classes_)\n",
        "    fig.figure_.suptitle(\"Confusion Matrix for: \" + str(clf))\n",
        "    plt.show()"
      ],
      "metadata": {
        "id": "08YTaanyb_Ux",
        "colab": {
          "base_uri": "https://localhost:8080/",
          "height": 1000
        },
        "outputId": "526ac286-4aec-4cfb-a3ce-795f26951098"
      },
      "id": "08YTaanyb_Ux",
      "execution_count": 161,
      "outputs": [
        {
          "output_type": "stream",
          "name": "stderr",
          "text": [
            "/usr/local/lib/python3.7/dist-packages/sklearn/utils/deprecation.py:87: FutureWarning: Function plot_confusion_matrix is deprecated; Function `plot_confusion_matrix` is deprecated in 1.0 and will be removed in 1.2. Use one of the class methods: ConfusionMatrixDisplay.from_predictions or ConfusionMatrixDisplay.from_estimator.\n",
            "  warnings.warn(msg, category=FutureWarning)\n",
            "/usr/local/lib/python3.7/dist-packages/sklearn/base.py:444: UserWarning: X has feature names, but RidgeClassifier was fitted without feature names\n",
            "  f\"X has feature names, but {self.__class__.__name__} was fitted without\"\n"
          ]
        },
        {
          "output_type": "display_data",
          "data": {
            "text/plain": [
              "<Figure size 432x288 with 2 Axes>"
            ],
            "image/png": "[encoded data removed]"
          },
          "metadata": {
            "needs_background": "light"
          }
        },
        {
          "output_type": "stream",
          "name": "stderr",
          "text": [
            "/usr/local/lib/python3.7/dist-packages/sklearn/utils/deprecation.py:87: FutureWarning: Function plot_confusion_matrix is deprecated; Function `plot_confusion_matrix` is deprecated in 1.0 and will be removed in 1.2. Use one of the class methods: ConfusionMatrixDisplay.from_predictions or ConfusionMatrixDisplay.from_estimator.\n",
            "  warnings.warn(msg, category=FutureWarning)\n",
            "/usr/local/lib/python3.7/dist-packages/sklearn/base.py:444: UserWarning: X has feature names, but RandomForestClassifier was fitted without feature names\n",
            "  f\"X has feature names, but {self.__class__.__name__} was fitted without\"\n"
          ]
        },
        {
          "output_type": "display_data",
          "data": {
            "text/plain": [
              "<Figure size 432x288 with 2 Axes>"
            ],
            "image/png": "[encoded data removed]"
          },
          "metadata": {
            "needs_background": "light"
          }
        },
        {
          "output_type": "stream",
          "name": "stderr",
          "text": [
            "/usr/local/lib/python3.7/dist-packages/sklearn/utils/deprecation.py:87: FutureWarning: Function plot_confusion_matrix is deprecated; Function `plot_confusion_matrix` is deprecated in 1.0 and will be removed in 1.2. Use one of the class methods: ConfusionMatrixDisplay.from_predictions or ConfusionMatrixDisplay.from_estimator.\n",
            "  warnings.warn(msg, category=FutureWarning)\n",
            "/usr/local/lib/python3.7/dist-packages/sklearn/base.py:444: UserWarning: X has feature names, but MLPClassifier was fitted without feature names\n",
            "  f\"X has feature names, but {self.__class__.__name__} was fitted without\"\n"
          ]
        },
        {
          "output_type": "display_data",
          "data": {
            "text/plain": [
              "<Figure size 432x288 with 2 Axes>"
            ],
            "image/png": "[encoded data removed]"
          },
          "metadata": {
            "needs_background": "light"
          }
        },
        {
          "output_type": "stream",
          "name": "stderr",
          "text": [
            "/usr/local/lib/python3.7/dist-packages/sklearn/utils/deprecation.py:87: FutureWarning: Function plot_confusion_matrix is deprecated; Function `plot_confusion_matrix` is deprecated in 1.0 and will be removed in 1.2. Use one of the class methods: ConfusionMatrixDisplay.from_predictions or ConfusionMatrixDisplay.from_estimator.\n",
            "  warnings.warn(msg, category=FutureWarning)\n",
            "/usr/local/lib/python3.7/dist-packages/sklearn/base.py:444: UserWarning: X has feature names, but DecisionTreeClassifier was fitted without feature names\n",
            "  f\"X has feature names, but {self.__class__.__name__} was fitted without\"\n"
          ]
        },
        {
          "output_type": "display_data",
          "data": {
            "text/plain": [
              "<Figure size 432x288 with 2 Axes>"
            ],
            "image/png": "[encoded data removed]"
          },
          "metadata": {
            "needs_background": "light"
          }
        },
        {
          "output_type": "stream",
          "name": "stderr",
          "text": [
            "/usr/local/lib/python3.7/dist-packages/sklearn/utils/deprecation.py:87: FutureWarning: Function plot_confusion_matrix is deprecated; Function `plot_confusion_matrix` is deprecated in 1.0 and will be removed in 1.2. Use one of the class methods: ConfusionMatrixDisplay.from_predictions or ConfusionMatrixDisplay.from_estimator.\n",
            "  warnings.warn(msg, category=FutureWarning)\n",
            "/usr/local/lib/python3.7/dist-packages/sklearn/base.py:444: UserWarning: X has feature names, but KNeighborsClassifier was fitted without feature names\n",
            "  f\"X has feature names, but {self.__class__.__name__} was fitted without\"\n"
          ]
        },
        {
          "output_type": "display_data",
          "data": {
            "text/plain": [
              "<Figure size 432x288 with 2 Axes>"
            ],
            "image/png": "[encoded data removed]"
          },
          "metadata": {
            "needs_background": "light"
          }
        },
        {
          "output_type": "stream",
          "name": "stderr",
          "text": [
            "/usr/local/lib/python3.7/dist-packages/sklearn/utils/deprecation.py:87: FutureWarning: Function plot_confusion_matrix is deprecated; Function `plot_confusion_matrix` is deprecated in 1.0 and will be removed in 1.2. Use one of the class methods: ConfusionMatrixDisplay.from_predictions or ConfusionMatrixDisplay.from_estimator.\n",
            "  warnings.warn(msg, category=FutureWarning)\n",
            "/usr/local/lib/python3.7/dist-packages/sklearn/base.py:444: UserWarning: X has feature names, but LogisticRegression was fitted without feature names\n",
            "  f\"X has feature names, but {self.__class__.__name__} was fitted without\"\n"
          ]
        },
        {
          "output_type": "display_data",
          "data": {
            "text/plain": [
              "<Figure size 432x288 with 2 Axes>"
            ],
            "image/png": "[encoded data removed]"
          },
          "metadata": {
            "needs_background": "light"
          }
        }
      ]
    },
    {
      "cell_type": "markdown",
      "source": [
        ""
      ],
      "metadata": {
        "id": "gd9M7xnFZa7Z"
      },
      "id": "gd9M7xnFZa7Z"
    },
    {
      "cell_type": "code",
      "source": [
        "import joblib\n",
        "filename = '_classification_model.sav'\n",
        "joblib.dump(model, filename)\n",
        "for i, clf in enumerate((ridge, rfc, mlp_clf, dtree, knn, logestic)):\n",
        "    joblib.dump(model, str(clf)+filename)"
      ],
      "metadata": {
        "colab": {
          "base_uri": "https://localhost:8080/"
        },
        "id": "SvsGWf_F0mjQ",
        "outputId": "04b29042-9836-4d35-f349-98dade8b60ea"
      },
      "id": "SvsGWf_F0mjQ",
      "execution_count": 165,
      "outputs": [
        {
          "output_type": "stream",
          "name": "stdout",
          "text": [
            "INFO:tensorflow:Assets written to: ram://99a27908-1b45-4a7e-a11e-e8af0eef9e86/assets\n",
            "INFO:tensorflow:Assets written to: ram://83ddc6dc-ee65-4528-a46d-e7e52ee72c35/assets\n",
            "INFO:tensorflow:Assets written to: ram://a90e1263-3bfb-4f50-9499-983fefd0c4a3/assets\n",
            "INFO:tensorflow:Assets written to: ram://d4bd47cf-67ee-49cd-a11d-6f869183a092/assets\n",
            "INFO:tensorflow:Assets written to: ram://cfd00da3-9b41-467c-b89c-c3e888484f50/assets\n",
            "INFO:tensorflow:Assets written to: ram://cc07d555-c3c1-4d38-9993-3e5a0f042a15/assets\n",
            "INFO:tensorflow:Assets written to: ram://a6a08cfc-dcc2-4bd6-82e4-c62d67fc70c6/assets\n"
          ]
        }
      ]
    },
    {
      "cell_type": "code",
      "source": [
        "# # some time later...\n",
        "\n",
        "# # load the model from disk\n",
        "# loaded_model = joblib.load(filename)\n",
        "# result = loaded_model.score(X_test, Y_test)\n",
        "# print(result)"
      ],
      "metadata": {
        "id": "YiwJ_XWw2JSp"
      },
      "id": "YiwJ_XWw2JSp",
      "execution_count": null,
      "outputs": []
    },
    {
      "cell_type": "markdown",
      "id": "7cfda0e6",
      "metadata": {
        "id": "7cfda0e6"
      },
      "source": [
        "## Scaling Applied :\n",
        "\n",
        "### Accuracy of: MLPClassifier():0.8862869988759835\n",
        "### Accuracy of: MLPClassifier(activation='relu', hidden_layer_sizes=(150, 100, 50), max_iter=50, solver='lbfgs'):0.7662670163606844\n",
        "### Accuracy of: MLPClassifier(activation='tanh', hidden_layer_sizes=(150, 100, 50), max_iter=50,solver='sgd'):0.8349777278214895\n",
        "### Accuracy of: MLPClassifier(activation='relu', hidden_layer_sizes=(150, 100, 50), max_iter=50,solver='adam'):0.9352233462387078\n",
        "### Accuracy of: MLPClassifier(activation='tanh', hidden_layer_sizes=(150, 100, 50), max_iter=50,solver='adam'):0.9402397901835894\n",
        "### Accuracy of: MLPClassifier(activation='tanh', hidden_layer_sizes=(150, 100, 50),max_iter=100,solver='adam'):0.9444444444444444 (take > 10 mins) \n",
        "\n",
        "### Accuracy of: LogisticRegression(multi_class='multinomial', max_iter=100)  :0.7278423046500978\n",
        "### Accuracy of: LogisticRegression(multi_class='multinomial', max_iter=50)   :0.715186711627326\n",
        "### Accuracy of: LogisticRegression(C=0.01, solver='liblinear'):               0.689480038299821\n",
        "### Accuracy of: LogisticRegression(C=0.1, solver='lbfgs'):0.7187044669247742\n",
        "\n",
        "### Accuracy of: RidgeClassifier(alpha=0.1):0.7104824944839931\n",
        "\n",
        "\n",
        "### Accuracy of: KNeighborsClassifier():0.8935098455518088\n",
        "\n",
        "###Accuracy of: DecisionTreeClassifier(random_state=42):                       0.959056658756921\n",
        "### Accuracy of: DecisionTreeClassifier(max_depth=20, random_state=42):        0.9547895591357562\n",
        "### Accuracy of: DecisionTreeClassifier(max_depth=50, random_state=42):        0.959056658756921\n",
        "\n",
        "### Accuracy of: RandomForestClassifier(n_jobs=-1, random_state=42):           0.9608259439656966-->BEST\n",
        "\n",
        "\n",
        "\n",
        "# Conclusion :\n",
        "  \n",
        "# BIG NOTE :\n",
        "  ### all this data gathered on GoogleCollab and it may slightly differs in jupyter or pycharm\n",
        "\n",
        " "
      ]
    },
    {
      "cell_type": "markdown",
      "source": [
        ""
      ],
      "metadata": {
        "id": "8f60cbf7"
      },
      "id": "8f60cbf7"
    }
  ],
  "metadata": {
    "kernelspec": {
      "display_name": "Python 3",
      "language": "python",
      "name": "python3"
    },
    "language_info": {
      "codemirror_mode": {
        "name": "ipython",
        "version": 3
      },
      "file_extension": ".py",
      "mimetype": "text/x-python",
      "name": "python",
      "nbconvert_exporter": "python",
      "pygments_lexer": "ipython3",
      "version": "3.8.8"
    },
    "colab": {
      "name": "ClassificationML.ipynb",
      "provenance": [],
      "collapsed_sections": [],
      "include_colab_link": true
    }
  },
  "nbformat": 4,
  "nbformat_minor": 5
}