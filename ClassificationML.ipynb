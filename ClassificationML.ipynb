{
  "cells": [
    {
      "cell_type": "markdown",
      "metadata": {
        "id": "view-in-github",
        "colab_type": "text"
      },
      "source": [
        "<a href=\"https://colab.research.google.com/github/omgits0mar/Datasets/blob/master/ClassificationML.ipynb\" target=\"_parent\"><img src=\"https://colab.research.google.com/assets/colab-badge.svg\" alt=\"Open In Colab\"/></a>"
      ]
    },
    {
      "cell_type": "code",
      "execution_count": null,
      "metadata": {
        "id": "4848b15c"
      },
      "outputs": [],
      "source": [
        "# import jupyterthemes as jt\n",
        "# from jupyterthemes import get_themes\n",
        "# import jupyterthemes as jt\n",
        "# from jupyterthemes.stylefx import set_nb_theme"
      ],
      "id": "4848b15c"
    },
    {
      "cell_type": "markdown",
      "metadata": {
        "id": "ecf0ab1d"
      },
      "source": [
        "import jupyterthemes as jt\n",
        "from jupyterthemes.stylefx import set_nb_theme"
      ],
      "id": "ecf0ab1d"
    },
    {
      "cell_type": "code",
      "execution_count": null,
      "metadata": {
        "id": "d8d5a831"
      },
      "outputs": [],
      "source": [
        "# set_nb_theme('onedork')\n",
        "# #monokai\n",
        "# #chesterish\n",
        "# #oceans16 gamed\n",
        "# #onedork gamed brdo\n",
        "# #solarizedl"
      ],
      "id": "d8d5a831"
    },
    {
      "cell_type": "markdown",
      "metadata": {
        "id": "c387df71"
      },
      "source": [
        "# Code start from here :"
      ],
      "id": "c387df71"
    },
    {
      "cell_type": "markdown",
      "metadata": {
        "id": "0474b2da"
      },
      "source": [
        "### Importing :"
      ],
      "id": "0474b2da"
    },
    {
      "cell_type": "code",
      "execution_count": null,
      "metadata": {
        "id": "203ef228"
      },
      "outputs": [],
      "source": [
        "import numpy as np\n",
        "import pandas as pd\n",
        "import seaborn as sns\n",
        "import matplotlib.pyplot as plt\n",
        "import re\n",
        "import datetime\n",
        "\n",
        "from sklearn.metrics import mean_squared_error, r2_score\n",
        "from sklearn import metrics\n",
        "from sklearn.model_selection import train_test_split\n",
        "from sklearn.preprocessing import OrdinalEncoder\n",
        "import joblib\n"
      ],
      "id": "203ef228"
    },
    {
      "cell_type": "markdown",
      "metadata": {
        "id": "341bda5c"
      },
      "source": [
        "### Reading data from csv"
      ],
      "id": "341bda5c"
    },
    {
      "cell_type": "code",
      "execution_count": null,
      "metadata": {
        "id": "e71a3865"
      },
      "outputs": [],
      "source": [
        "df = pd.read_csv('airline-price-classification.csv')"
      ],
      "id": "e71a3865"
    },
    {
      "cell_type": "code",
      "execution_count": null,
      "metadata": {
        "colab": {
          "base_uri": "https://localhost:8080/",
          "height": 530
        },
        "id": "205bd611",
        "outputId": "bfe6a729-3834-4a4f-c267-eca714507549"
      },
      "outputs": [
        {
          "data": {
            "text/html": [
              "\n",
              "  <div id=\"df-3186a6bc-f2ab-4bc3-a17e-92ce9202928c\">\n",
              "    <div class=\"colab-df-container\">\n",
              "      <div>\n",
              "<style scoped>\n",
              "    .dataframe tbody tr th:only-of-type {\n",
              "        vertical-align: middle;\n",
              "    }\n",
              "\n",
              "    .dataframe tbody tr th {\n",
              "        vertical-align: top;\n",
              "    }\n",
              "\n",
              "    .dataframe thead th {\n",
              "        text-align: right;\n",
              "    }\n",
              "</style>\n",
              "<table border=\"1\" class=\"dataframe\">\n",
              "  <thead>\n",
              "    <tr style=\"text-align: right;\">\n",
              "      <th></th>\n",
              "      <th>date</th>\n",
              "      <th>airline</th>\n",
              "      <th>ch_code</th>\n",
              "      <th>num_code</th>\n",
              "      <th>dep_time</th>\n",
              "      <th>time_taken</th>\n",
              "      <th>stop</th>\n",
              "      <th>arr_time</th>\n",
              "      <th>type</th>\n",
              "      <th>route</th>\n",
              "      <th>TicketCategory</th>\n",
              "    </tr>\n",
              "  </thead>\n",
              "  <tbody>\n",
              "    <tr>\n",
              "      <th>0</th>\n",
              "      <td>5/3/2022</td>\n",
              "      <td>Vistara</td>\n",
              "      <td>UK</td>\n",
              "      <td>812</td>\n",
              "      <td>9:45</td>\n",
              "      <td>10h 10m</td>\n",
              "      <td>1-stop\\n\\t\\t\\t\\t\\t\\t\\t\\t\\t\\t\\t\\t\\n\\t\\t\\t\\t\\t\\t...</td>\n",
              "      <td>19:55</td>\n",
              "      <td>business</td>\n",
              "      <td>{'source': 'Bangalore', 'destination': 'Hydera...</td>\n",
              "      <td>very expensive</td>\n",
              "    </tr>\n",
              "    <tr>\n",
              "      <th>1</th>\n",
              "      <td>18-03-2022</td>\n",
              "      <td>Vistara</td>\n",
              "      <td>UK</td>\n",
              "      <td>975</td>\n",
              "      <td>5:45</td>\n",
              "      <td>06h 30m</td>\n",
              "      <td>1-stop\\n\\t\\t\\t\\t\\t\\t\\t\\t\\t\\t\\t\\t\\n\\t\\t\\t\\t\\t\\t...</td>\n",
              "      <td>12:15</td>\n",
              "      <td>business</td>\n",
              "      <td>{'source': 'Delhi', 'destination': 'Hyderabad'}</td>\n",
              "      <td>very expensive</td>\n",
              "    </tr>\n",
              "    <tr>\n",
              "      <th>2</th>\n",
              "      <td>9/3/2022</td>\n",
              "      <td>GO FIRST</td>\n",
              "      <td>G8</td>\n",
              "      <td>7537</td>\n",
              "      <td>14:30</td>\n",
              "      <td>08h 10m</td>\n",
              "      <td>1-stop\\n\\t\\t\\t\\t\\t\\t\\t\\t\\t\\t\\t\\t\\n\\t\\t\\t\\t\\t\\t...</td>\n",
              "      <td>22:40</td>\n",
              "      <td>economy</td>\n",
              "      <td>{'source': 'Mumbai', 'destination': 'Hyderabad'}</td>\n",
              "      <td>cheap</td>\n",
              "    </tr>\n",
              "    <tr>\n",
              "      <th>3</th>\n",
              "      <td>15-03-2022</td>\n",
              "      <td>GO FIRST</td>\n",
              "      <td>G8</td>\n",
              "      <td>287</td>\n",
              "      <td>10:40</td>\n",
              "      <td>09h 40m</td>\n",
              "      <td>1-stop\\n\\t\\t\\t\\t\\t\\t\\t\\t\\t\\t\\t\\t\\n\\t\\t\\t\\t\\t\\t...</td>\n",
              "      <td>20:20</td>\n",
              "      <td>economy</td>\n",
              "      <td>{'source': 'Mumbai', 'destination': 'Delhi'}</td>\n",
              "      <td>moderate</td>\n",
              "    </tr>\n",
              "    <tr>\n",
              "      <th>4</th>\n",
              "      <td>22-03-2022</td>\n",
              "      <td>Vistara</td>\n",
              "      <td>UK</td>\n",
              "      <td>826</td>\n",
              "      <td>12:30</td>\n",
              "      <td>07h 25m</td>\n",
              "      <td>1-stop\\n\\t\\t\\t\\t\\t\\t\\t\\t\\t\\t\\t\\t\\n\\t\\t\\t\\t\\t\\t...</td>\n",
              "      <td>19:55</td>\n",
              "      <td>economy</td>\n",
              "      <td>{'source': 'Chennai', 'destination': 'Kolkata'}</td>\n",
              "      <td>moderate</td>\n",
              "    </tr>\n",
              "  </tbody>\n",
              "</table>\n",
              "</div>\n",
              "      <button class=\"colab-df-convert\" onclick=\"convertToInteractive('df-3186a6bc-f2ab-4bc3-a17e-92ce9202928c')\"\n",
              "              title=\"Convert this dataframe to an interactive table.\"\n",
              "              style=\"display:none;\">\n",
              "        \n",
              "  <svg xmlns=\"http://www.w3.org/2000/svg\" height=\"24px\"viewBox=\"0 0 24 24\"\n",
              "       width=\"24px\">\n",
              "    <path d=\"M0 0h24v24H0V0z\" fill=\"none\"/>\n",
              "    <path d=\"M18.56 5.44l.94 2.06.94-2.06 2.06-.94-2.06-.94-.94-2.06-.94 2.06-2.06.94zm-11 1L8.5 8.5l.94-2.06 2.06-.94-2.06-.94L8.5 2.5l-.94 2.06-2.06.94zm10 10l.94 2.06.94-2.06 2.06-.94-2.06-.94-.94-2.06-.94 2.06-2.06.94z\"/><path d=\"M17.41 7.96l-1.37-1.37c-.4-.4-.92-.59-1.43-.59-.52 0-1.04.2-1.43.59L10.3 9.45l-7.72 7.72c-.78.78-.78 2.05 0 2.83L4 21.41c.39.39.9.59 1.41.59.51 0 1.02-.2 1.41-.59l7.78-7.78 2.81-2.81c.8-.78.8-2.07 0-2.86zM5.41 20L4 18.59l7.72-7.72 1.47 1.35L5.41 20z\"/>\n",
              "  </svg>\n",
              "      </button>\n",
              "      \n",
              "  <style>\n",
              "    .colab-df-container {\n",
              "      display:flex;\n",
              "      flex-wrap:wrap;\n",
              "      gap: 12px;\n",
              "    }\n",
              "\n",
              "    .colab-df-convert {\n",
              "      background-color: #E8F0FE;\n",
              "      border: none;\n",
              "      border-radius: 50%;\n",
              "      cursor: pointer;\n",
              "      display: none;\n",
              "      fill: #1967D2;\n",
              "      height: 32px;\n",
              "      padding: 0 0 0 0;\n",
              "      width: 32px;\n",
              "    }\n",
              "\n",
              "    .colab-df-convert:hover {\n",
              "      background-color: #E2EBFA;\n",
              "      box-shadow: 0px 1px 2px rgba(60, 64, 67, 0.3), 0px 1px 3px 1px rgba(60, 64, 67, 0.15);\n",
              "      fill: #174EA6;\n",
              "    }\n",
              "\n",
              "    [theme=dark] .colab-df-convert {\n",
              "      background-color: #3B4455;\n",
              "      fill: #D2E3FC;\n",
              "    }\n",
              "\n",
              "    [theme=dark] .colab-df-convert:hover {\n",
              "      background-color: #434B5C;\n",
              "      box-shadow: 0px 1px 3px 1px rgba(0, 0, 0, 0.15);\n",
              "      filter: drop-shadow(0px 1px 2px rgba(0, 0, 0, 0.3));\n",
              "      fill: #FFFFFF;\n",
              "    }\n",
              "  </style>\n",
              "\n",
              "      <script>\n",
              "        const buttonEl =\n",
              "          document.querySelector('#df-3186a6bc-f2ab-4bc3-a17e-92ce9202928c button.colab-df-convert');\n",
              "        buttonEl.style.display =\n",
              "          google.colab.kernel.accessAllowed ? 'block' : 'none';\n",
              "\n",
              "        async function convertToInteractive(key) {\n",
              "          const element = document.querySelector('#df-3186a6bc-f2ab-4bc3-a17e-92ce9202928c');\n",
              "          const dataTable =\n",
              "            await google.colab.kernel.invokeFunction('convertToInteractive',\n",
              "                                                     [key], {});\n",
              "          if (!dataTable) return;\n",
              "\n",
              "          const docLinkHtml = 'Like what you see? Visit the ' +\n",
              "            '<a target=\"_blank\" href=https://colab.research.google.com/notebooks/data_table.ipynb>data table notebook</a>'\n",
              "            + ' to learn more about interactive tables.';\n",
              "          element.innerHTML = '';\n",
              "          dataTable['output_type'] = 'display_data';\n",
              "          await google.colab.output.renderOutput(dataTable, element);\n",
              "          const docLink = document.createElement('div');\n",
              "          docLink.innerHTML = docLinkHtml;\n",
              "          element.appendChild(docLink);\n",
              "        }\n",
              "      </script>\n",
              "    </div>\n",
              "  </div>\n",
              "  "
            ],
            "text/plain": [
              "         date   airline ch_code  num_code dep_time time_taken  \\\n",
              "0    5/3/2022   Vistara      UK       812     9:45    10h 10m   \n",
              "1  18-03-2022   Vistara      UK       975     5:45    06h 30m   \n",
              "2    9/3/2022  GO FIRST      G8      7537    14:30    08h 10m   \n",
              "3  15-03-2022  GO FIRST      G8       287    10:40    09h 40m   \n",
              "4  22-03-2022   Vistara      UK       826    12:30    07h 25m   \n",
              "\n",
              "                                                stop arr_time      type  \\\n",
              "0  1-stop\\n\\t\\t\\t\\t\\t\\t\\t\\t\\t\\t\\t\\t\\n\\t\\t\\t\\t\\t\\t...    19:55  business   \n",
              "1  1-stop\\n\\t\\t\\t\\t\\t\\t\\t\\t\\t\\t\\t\\t\\n\\t\\t\\t\\t\\t\\t...    12:15  business   \n",
              "2  1-stop\\n\\t\\t\\t\\t\\t\\t\\t\\t\\t\\t\\t\\t\\n\\t\\t\\t\\t\\t\\t...    22:40   economy   \n",
              "3  1-stop\\n\\t\\t\\t\\t\\t\\t\\t\\t\\t\\t\\t\\t\\n\\t\\t\\t\\t\\t\\t...    20:20   economy   \n",
              "4  1-stop\\n\\t\\t\\t\\t\\t\\t\\t\\t\\t\\t\\t\\t\\n\\t\\t\\t\\t\\t\\t...    19:55   economy   \n",
              "\n",
              "                                               route  TicketCategory  \n",
              "0  {'source': 'Bangalore', 'destination': 'Hydera...  very expensive  \n",
              "1    {'source': 'Delhi', 'destination': 'Hyderabad'}  very expensive  \n",
              "2   {'source': 'Mumbai', 'destination': 'Hyderabad'}           cheap  \n",
              "3       {'source': 'Mumbai', 'destination': 'Delhi'}        moderate  \n",
              "4    {'source': 'Chennai', 'destination': 'Kolkata'}        moderate  "
            ]
          },
          "execution_count": 51,
          "metadata": {},
          "output_type": "execute_result"
        }
      ],
      "source": [
        "df.head()"
      ],
      "id": "205bd611"
    },
    {
      "cell_type": "code",
      "execution_count": null,
      "metadata": {
        "colab": {
          "base_uri": "https://localhost:8080/"
        },
        "id": "7ad4fbcc",
        "outputId": "01c5a5ec-729c-40a9-96b1-bcdcb0f0653e"
      },
      "outputs": [
        {
          "data": {
            "text/plain": [
              "(240208, 11)"
            ]
          },
          "execution_count": 52,
          "metadata": {},
          "output_type": "execute_result"
        }
      ],
      "source": [
        "df.shape"
      ],
      "id": "7ad4fbcc"
    },
    {
      "cell_type": "markdown",
      "metadata": {
        "id": "427b9966"
      },
      "source": [
        "### Data preprocessing on 'price'"
      ],
      "id": "427b9966"
    },
    {
      "cell_type": "code",
      "execution_count": null,
      "metadata": {
        "colab": {
          "base_uri": "https://localhost:8080/"
        },
        "id": "7632ad56",
        "outputId": "a2a60c44-112c-41a7-e607-94036709b6f8"
      },
      "outputs": [
        {
          "name": "stdout",
          "output_type": "stream",
          "text": [
            "0         3.0\n",
            "1         3.0\n",
            "2         0.0\n",
            "3         2.0\n",
            "4         2.0\n",
            "         ... \n",
            "240203    0.0\n",
            "240204    1.0\n",
            "240205    2.0\n",
            "240206    2.0\n",
            "240207    2.0\n",
            "Name: TicketCategory, Length: 240208, dtype: float64\n"
          ]
        }
      ],
      "source": [
        "price_enc = OrdinalEncoder(handle_unknown='use_encoded_value',unknown_value=4)\n",
        "df['TicketCategory'] = price_enc.fit_transform(df[[\"TicketCategory\"]])\n",
        "print(df['TicketCategory'])"
      ],
      "id": "7632ad56"
    },
    {
      "cell_type": "code",
      "execution_count": null,
      "metadata": {
        "colab": {
          "base_uri": "https://localhost:8080/"
        },
        "id": "Sn3lmv6z1L0k",
        "outputId": "289dd7de-4d97-4825-9f67-a024084c529f"
      },
      "outputs": [
        {
          "data": {
            "text/plain": [
              "['price_enc.save']"
            ]
          },
          "execution_count": 54,
          "metadata": {},
          "output_type": "execute_result"
        }
      ],
      "source": [
        "filename = \"price_enc.save\"\n",
        "joblib.dump(price_enc,filename)"
      ],
      "id": "Sn3lmv6z1L0k"
    },
    {
      "cell_type": "markdown",
      "metadata": {
        "id": "f6c46a18"
      },
      "source": [
        "### Data preprocessing on 'date'"
      ],
      "id": "f6c46a18"
    },
    {
      "cell_type": "code",
      "execution_count": null,
      "metadata": {
        "id": "12cab2c0"
      },
      "outputs": [],
      "source": [
        "df[\"date\"]=pd.to_datetime(df[\"date\"])\n",
        "df[\"date\"]=df[\"date\"].dt.strftime(\"%m/%d/%Y\")\n"
      ],
      "id": "12cab2c0"
    },
    {
      "cell_type": "code",
      "execution_count": null,
      "metadata": {
        "colab": {
          "base_uri": "https://localhost:8080/"
        },
        "id": "a13e704f",
        "outputId": "b123afb5-30eb-413a-e7aa-46d65b30bcf0"
      },
      "outputs": [
        {
          "name": "stdout",
          "output_type": "stream",
          "text": [
            "0         05/03/2022\n",
            "1         03/18/2022\n",
            "2         09/03/2022\n",
            "3         03/15/2022\n",
            "4         03/22/2022\n",
            "             ...    \n",
            "240203    03/25/2022\n",
            "240204    02/15/2022\n",
            "240205    02/23/2022\n",
            "240206    11/02/2022\n",
            "240207    02/18/2022\n",
            "Name: date, Length: 240208, dtype: object\n"
          ]
        }
      ],
      "source": [
        "print(df[df.columns[0]])"
      ],
      "id": "a13e704f"
    },
    {
      "cell_type": "code",
      "execution_count": null,
      "metadata": {
        "colab": {
          "base_uri": "https://localhost:8080/"
        },
        "id": "f5876cf4",
        "outputId": "95cdcff9-28df-4fec-c42d-973e2672af60"
      },
      "outputs": [
        {
          "data": {
            "text/plain": [
              "Int64Index([1, 4, 5, 1, 1, 6, 0, 0, 0, 1,\n",
              "            ...\n",
              "            3, 3, 0, 2, 3, 4, 1, 2, 2, 4],\n",
              "           dtype='int64', name='date', length=240208)"
            ]
          },
          "execution_count": 57,
          "metadata": {},
          "output_type": "execute_result"
        }
      ],
      "source": [
        "pd.DatetimeIndex(df[\"date\"]).weekday"
      ],
      "id": "f5876cf4"
    },
    {
      "cell_type": "code",
      "execution_count": null,
      "metadata": {
        "id": "9bc17394"
      },
      "outputs": [],
      "source": [
        "df['month'] = pd.DatetimeIndex(df['date']).month\n",
        "df['day'] = pd.DatetimeIndex(df['date']).day\n",
        "df['dayofyear'] = pd.DatetimeIndex(df['date']).dayofyear"
      ],
      "id": "9bc17394"
    },
    {
      "cell_type": "code",
      "execution_count": null,
      "metadata": {
        "id": "36149ff4"
      },
      "outputs": [],
      "source": [
        "#df = pd.get_dummies(df, columns=['month'], drop_first=True, prefix='month')"
      ],
      "id": "36149ff4"
    },
    {
      "cell_type": "markdown",
      "metadata": {
        "id": "d2592b83"
      },
      "source": [
        "### Data preprocessing : 'ch_code'"
      ],
      "id": "d2592b83"
    },
    {
      "cell_type": "code",
      "execution_count": null,
      "metadata": {
        "colab": {
          "base_uri": "https://localhost:8080/"
        },
        "id": "be69167d",
        "outputId": "730d26b1-8803-4041-c556-6586ed62182c"
      },
      "outputs": [
        {
          "name": "stdout",
          "output_type": "stream",
          "text": [
            "0         7.0\n",
            "1         7.0\n",
            "2         3.0\n",
            "3         3.0\n",
            "4         7.0\n",
            "         ... \n",
            "240203    2.0\n",
            "240204    2.0\n",
            "240205    1.0\n",
            "240206    7.0\n",
            "240207    6.0\n",
            "Name: ch_code, Length: 240208, dtype: float64\n"
          ]
        }
      ],
      "source": [
        "ch_enc = OrdinalEncoder(handle_unknown='use_encoded_value',unknown_value=9)\n",
        "df['ch_code'] = ch_enc.fit_transform(df[[\"ch_code\"]])\n",
        "print(df['ch_code'])"
      ],
      "id": "be69167d"
    },
    {
      "cell_type": "code",
      "execution_count": null,
      "metadata": {
        "colab": {
          "base_uri": "https://localhost:8080/"
        },
        "id": "TOFRVvdl3I8e",
        "outputId": "e4d23a1c-5e7d-421b-d51f-886dc66ef195"
      },
      "outputs": [
        {
          "data": {
            "text/plain": [
              "['ch_enc.save']"
            ]
          },
          "execution_count": 61,
          "metadata": {},
          "output_type": "execute_result"
        }
      ],
      "source": [
        "filename = \"ch_enc.save\"\n",
        "joblib.dump(ch_enc,filename)"
      ],
      "id": "TOFRVvdl3I8e"
    },
    {
      "cell_type": "markdown",
      "metadata": {
        "id": "c1772bdd"
      },
      "source": [
        "### Data preprocessing : 'dep_time'"
      ],
      "id": "c1772bdd"
    },
    {
      "cell_type": "code",
      "execution_count": null,
      "metadata": {
        "id": "6e05c2ba"
      },
      "outputs": [],
      "source": [
        "df[\"dep_time\"]=pd.to_datetime(df[\"dep_time\"])\n",
        "df['dep_time'] = df['dep_time'].dt.strftime(\"%-H:%M\")"
      ],
      "id": "6e05c2ba"
    },
    {
      "cell_type": "code",
      "execution_count": null,
      "metadata": {
        "id": "f1b15e94"
      },
      "outputs": [],
      "source": [
        "df[\"dep_hour\"]=pd.DatetimeIndex(df[\"dep_time\"]).hour\n",
        "df[\"dep_minute\"]=pd.DatetimeIndex(df[\"dep_time\"]).minute"
      ],
      "id": "f1b15e94"
    },
    {
      "cell_type": "markdown",
      "metadata": {
        "id": "3a14389f"
      },
      "source": [
        "### Data preprocessing : 'time_taken'"
      ],
      "id": "3a14389f"
    },
    {
      "cell_type": "code",
      "execution_count": null,
      "metadata": {
        "colab": {
          "base_uri": "https://localhost:8080/",
          "height": 530
        },
        "id": "f9ead4fc",
        "outputId": "36536372-e096-4afe-8e6c-b7a9489ca02d"
      },
      "outputs": [
        {
          "data": {
            "text/html": [
              "\n",
              "  <div id=\"df-ffbe519f-df79-4b93-afbb-4290ad6c191c\">\n",
              "    <div class=\"colab-df-container\">\n",
              "      <div>\n",
              "<style scoped>\n",
              "    .dataframe tbody tr th:only-of-type {\n",
              "        vertical-align: middle;\n",
              "    }\n",
              "\n",
              "    .dataframe tbody tr th {\n",
              "        vertical-align: top;\n",
              "    }\n",
              "\n",
              "    .dataframe thead th {\n",
              "        text-align: right;\n",
              "    }\n",
              "</style>\n",
              "<table border=\"1\" class=\"dataframe\">\n",
              "  <thead>\n",
              "    <tr style=\"text-align: right;\">\n",
              "      <th></th>\n",
              "      <th>date</th>\n",
              "      <th>airline</th>\n",
              "      <th>ch_code</th>\n",
              "      <th>num_code</th>\n",
              "      <th>dep_time</th>\n",
              "      <th>time_taken</th>\n",
              "      <th>stop</th>\n",
              "      <th>arr_time</th>\n",
              "      <th>type</th>\n",
              "      <th>route</th>\n",
              "      <th>TicketCategory</th>\n",
              "      <th>month</th>\n",
              "      <th>day</th>\n",
              "      <th>dayofyear</th>\n",
              "      <th>dep_hour</th>\n",
              "      <th>dep_minute</th>\n",
              "      <th>hours_taken</th>\n",
              "      <th>minutes_taken</th>\n",
              "    </tr>\n",
              "  </thead>\n",
              "  <tbody>\n",
              "    <tr>\n",
              "      <th>0</th>\n",
              "      <td>05/03/2022</td>\n",
              "      <td>Vistara</td>\n",
              "      <td>7.0</td>\n",
              "      <td>812</td>\n",
              "      <td>9:45</td>\n",
              "      <td>10h 10m</td>\n",
              "      <td>1-stop\\n\\t\\t\\t\\t\\t\\t\\t\\t\\t\\t\\t\\t\\n\\t\\t\\t\\t\\t\\t...</td>\n",
              "      <td>19:55</td>\n",
              "      <td>business</td>\n",
              "      <td>{'source': 'Bangalore', 'destination': 'Hydera...</td>\n",
              "      <td>3.0</td>\n",
              "      <td>5</td>\n",
              "      <td>3</td>\n",
              "      <td>123</td>\n",
              "      <td>9</td>\n",
              "      <td>45</td>\n",
              "      <td>10.0</td>\n",
              "      <td>10.0</td>\n",
              "    </tr>\n",
              "    <tr>\n",
              "      <th>1</th>\n",
              "      <td>03/18/2022</td>\n",
              "      <td>Vistara</td>\n",
              "      <td>7.0</td>\n",
              "      <td>975</td>\n",
              "      <td>5:45</td>\n",
              "      <td>06h 30m</td>\n",
              "      <td>1-stop\\n\\t\\t\\t\\t\\t\\t\\t\\t\\t\\t\\t\\t\\n\\t\\t\\t\\t\\t\\t...</td>\n",
              "      <td>12:15</td>\n",
              "      <td>business</td>\n",
              "      <td>{'source': 'Delhi', 'destination': 'Hyderabad'}</td>\n",
              "      <td>3.0</td>\n",
              "      <td>3</td>\n",
              "      <td>18</td>\n",
              "      <td>77</td>\n",
              "      <td>5</td>\n",
              "      <td>45</td>\n",
              "      <td>6.0</td>\n",
              "      <td>30.0</td>\n",
              "    </tr>\n",
              "    <tr>\n",
              "      <th>2</th>\n",
              "      <td>09/03/2022</td>\n",
              "      <td>GO FIRST</td>\n",
              "      <td>3.0</td>\n",
              "      <td>7537</td>\n",
              "      <td>14:30</td>\n",
              "      <td>08h 10m</td>\n",
              "      <td>1-stop\\n\\t\\t\\t\\t\\t\\t\\t\\t\\t\\t\\t\\t\\n\\t\\t\\t\\t\\t\\t...</td>\n",
              "      <td>22:40</td>\n",
              "      <td>economy</td>\n",
              "      <td>{'source': 'Mumbai', 'destination': 'Hyderabad'}</td>\n",
              "      <td>0.0</td>\n",
              "      <td>9</td>\n",
              "      <td>3</td>\n",
              "      <td>246</td>\n",
              "      <td>14</td>\n",
              "      <td>30</td>\n",
              "      <td>8.0</td>\n",
              "      <td>10.0</td>\n",
              "    </tr>\n",
              "    <tr>\n",
              "      <th>3</th>\n",
              "      <td>03/15/2022</td>\n",
              "      <td>GO FIRST</td>\n",
              "      <td>3.0</td>\n",
              "      <td>287</td>\n",
              "      <td>10:40</td>\n",
              "      <td>09h 40m</td>\n",
              "      <td>1-stop\\n\\t\\t\\t\\t\\t\\t\\t\\t\\t\\t\\t\\t\\n\\t\\t\\t\\t\\t\\t...</td>\n",
              "      <td>20:20</td>\n",
              "      <td>economy</td>\n",
              "      <td>{'source': 'Mumbai', 'destination': 'Delhi'}</td>\n",
              "      <td>2.0</td>\n",
              "      <td>3</td>\n",
              "      <td>15</td>\n",
              "      <td>74</td>\n",
              "      <td>10</td>\n",
              "      <td>40</td>\n",
              "      <td>9.0</td>\n",
              "      <td>40.0</td>\n",
              "    </tr>\n",
              "    <tr>\n",
              "      <th>4</th>\n",
              "      <td>03/22/2022</td>\n",
              "      <td>Vistara</td>\n",
              "      <td>7.0</td>\n",
              "      <td>826</td>\n",
              "      <td>12:30</td>\n",
              "      <td>07h 25m</td>\n",
              "      <td>1-stop\\n\\t\\t\\t\\t\\t\\t\\t\\t\\t\\t\\t\\t\\n\\t\\t\\t\\t\\t\\t...</td>\n",
              "      <td>19:55</td>\n",
              "      <td>economy</td>\n",
              "      <td>{'source': 'Chennai', 'destination': 'Kolkata'}</td>\n",
              "      <td>2.0</td>\n",
              "      <td>3</td>\n",
              "      <td>22</td>\n",
              "      <td>81</td>\n",
              "      <td>12</td>\n",
              "      <td>30</td>\n",
              "      <td>7.0</td>\n",
              "      <td>25.0</td>\n",
              "    </tr>\n",
              "  </tbody>\n",
              "</table>\n",
              "</div>\n",
              "      <button class=\"colab-df-convert\" onclick=\"convertToInteractive('df-ffbe519f-df79-4b93-afbb-4290ad6c191c')\"\n",
              "              title=\"Convert this dataframe to an interactive table.\"\n",
              "              style=\"display:none;\">\n",
              "        \n",
              "  <svg xmlns=\"http://www.w3.org/2000/svg\" height=\"24px\"viewBox=\"0 0 24 24\"\n",
              "       width=\"24px\">\n",
              "    <path d=\"M0 0h24v24H0V0z\" fill=\"none\"/>\n",
              "    <path d=\"M18.56 5.44l.94 2.06.94-2.06 2.06-.94-2.06-.94-.94-2.06-.94 2.06-2.06.94zm-11 1L8.5 8.5l.94-2.06 2.06-.94-2.06-.94L8.5 2.5l-.94 2.06-2.06.94zm10 10l.94 2.06.94-2.06 2.06-.94-2.06-.94-.94-2.06-.94 2.06-2.06.94z\"/><path d=\"M17.41 7.96l-1.37-1.37c-.4-.4-.92-.59-1.43-.59-.52 0-1.04.2-1.43.59L10.3 9.45l-7.72 7.72c-.78.78-.78 2.05 0 2.83L4 21.41c.39.39.9.59 1.41.59.51 0 1.02-.2 1.41-.59l7.78-7.78 2.81-2.81c.8-.78.8-2.07 0-2.86zM5.41 20L4 18.59l7.72-7.72 1.47 1.35L5.41 20z\"/>\n",
              "  </svg>\n",
              "      </button>\n",
              "      \n",
              "  <style>\n",
              "    .colab-df-container {\n",
              "      display:flex;\n",
              "      flex-wrap:wrap;\n",
              "      gap: 12px;\n",
              "    }\n",
              "\n",
              "    .colab-df-convert {\n",
              "      background-color: #E8F0FE;\n",
              "      border: none;\n",
              "      border-radius: 50%;\n",
              "      cursor: pointer;\n",
              "      display: none;\n",
              "      fill: #1967D2;\n",
              "      height: 32px;\n",
              "      padding: 0 0 0 0;\n",
              "      width: 32px;\n",
              "    }\n",
              "\n",
              "    .colab-df-convert:hover {\n",
              "      background-color: #E2EBFA;\n",
              "      box-shadow: 0px 1px 2px rgba(60, 64, 67, 0.3), 0px 1px 3px 1px rgba(60, 64, 67, 0.15);\n",
              "      fill: #174EA6;\n",
              "    }\n",
              "\n",
              "    [theme=dark] .colab-df-convert {\n",
              "      background-color: #3B4455;\n",
              "      fill: #D2E3FC;\n",
              "    }\n",
              "\n",
              "    [theme=dark] .colab-df-convert:hover {\n",
              "      background-color: #434B5C;\n",
              "      box-shadow: 0px 1px 3px 1px rgba(0, 0, 0, 0.15);\n",
              "      filter: drop-shadow(0px 1px 2px rgba(0, 0, 0, 0.3));\n",
              "      fill: #FFFFFF;\n",
              "    }\n",
              "  </style>\n",
              "\n",
              "      <script>\n",
              "        const buttonEl =\n",
              "          document.querySelector('#df-ffbe519f-df79-4b93-afbb-4290ad6c191c button.colab-df-convert');\n",
              "        buttonEl.style.display =\n",
              "          google.colab.kernel.accessAllowed ? 'block' : 'none';\n",
              "\n",
              "        async function convertToInteractive(key) {\n",
              "          const element = document.querySelector('#df-ffbe519f-df79-4b93-afbb-4290ad6c191c');\n",
              "          const dataTable =\n",
              "            await google.colab.kernel.invokeFunction('convertToInteractive',\n",
              "                                                     [key], {});\n",
              "          if (!dataTable) return;\n",
              "\n",
              "          const docLinkHtml = 'Like what you see? Visit the ' +\n",
              "            '<a target=\"_blank\" href=https://colab.research.google.com/notebooks/data_table.ipynb>data table notebook</a>'\n",
              "            + ' to learn more about interactive tables.';\n",
              "          element.innerHTML = '';\n",
              "          dataTable['output_type'] = 'display_data';\n",
              "          await google.colab.output.renderOutput(dataTable, element);\n",
              "          const docLink = document.createElement('div');\n",
              "          docLink.innerHTML = docLinkHtml;\n",
              "          element.appendChild(docLink);\n",
              "        }\n",
              "      </script>\n",
              "    </div>\n",
              "  </div>\n",
              "  "
            ],
            "text/plain": [
              "         date   airline  ch_code  num_code dep_time time_taken  \\\n",
              "0  05/03/2022   Vistara      7.0       812     9:45    10h 10m   \n",
              "1  03/18/2022   Vistara      7.0       975     5:45    06h 30m   \n",
              "2  09/03/2022  GO FIRST      3.0      7537    14:30    08h 10m   \n",
              "3  03/15/2022  GO FIRST      3.0       287    10:40    09h 40m   \n",
              "4  03/22/2022   Vistara      7.0       826    12:30    07h 25m   \n",
              "\n",
              "                                                stop arr_time      type  \\\n",
              "0  1-stop\\n\\t\\t\\t\\t\\t\\t\\t\\t\\t\\t\\t\\t\\n\\t\\t\\t\\t\\t\\t...    19:55  business   \n",
              "1  1-stop\\n\\t\\t\\t\\t\\t\\t\\t\\t\\t\\t\\t\\t\\n\\t\\t\\t\\t\\t\\t...    12:15  business   \n",
              "2  1-stop\\n\\t\\t\\t\\t\\t\\t\\t\\t\\t\\t\\t\\t\\n\\t\\t\\t\\t\\t\\t...    22:40   economy   \n",
              "3  1-stop\\n\\t\\t\\t\\t\\t\\t\\t\\t\\t\\t\\t\\t\\n\\t\\t\\t\\t\\t\\t...    20:20   economy   \n",
              "4  1-stop\\n\\t\\t\\t\\t\\t\\t\\t\\t\\t\\t\\t\\t\\n\\t\\t\\t\\t\\t\\t...    19:55   economy   \n",
              "\n",
              "                                               route  TicketCategory  month  \\\n",
              "0  {'source': 'Bangalore', 'destination': 'Hydera...             3.0      5   \n",
              "1    {'source': 'Delhi', 'destination': 'Hyderabad'}             3.0      3   \n",
              "2   {'source': 'Mumbai', 'destination': 'Hyderabad'}             0.0      9   \n",
              "3       {'source': 'Mumbai', 'destination': 'Delhi'}             2.0      3   \n",
              "4    {'source': 'Chennai', 'destination': 'Kolkata'}             2.0      3   \n",
              "\n",
              "   day  dayofyear  dep_hour  dep_minute  hours_taken  minutes_taken  \n",
              "0    3        123         9          45         10.0           10.0  \n",
              "1   18         77         5          45          6.0           30.0  \n",
              "2    3        246        14          30          8.0           10.0  \n",
              "3   15         74        10          40          9.0           40.0  \n",
              "4   22         81        12          30          7.0           25.0  "
            ]
          },
          "execution_count": 64,
          "metadata": {},
          "output_type": "execute_result"
        }
      ],
      "source": [
        "df[\"hours_taken\"] = df[\"time_taken\"].str.split('h').str.get(0)\n",
        "df[\"minutes_taken\"] = df[\"time_taken\"].str[4:6]\n",
        "df[\"minutes_taken\"] = df[\"minutes_taken\"].str.replace('m', '')\n",
        "df[\"minutes_taken\"] = df[\"minutes_taken\"].str.replace('h', '')\n",
        "df[\"hours_taken\"] = pd.to_numeric(df[\"hours_taken\"])\n",
        "df[\"minutes_taken\"] = pd.to_numeric(df[\"minutes_taken\"], errors='coerce')\n",
        "df.head()"
      ],
      "id": "f9ead4fc"
    },
    {
      "cell_type": "code",
      "execution_count": null,
      "metadata": {
        "id": "2efc3a58"
      },
      "outputs": [],
      "source": [
        ""
      ],
      "id": "2efc3a58"
    },
    {
      "cell_type": "markdown",
      "metadata": {
        "id": "09a4e946"
      },
      "source": [
        "### Data preprocessing : 'stop'"
      ],
      "id": "09a4e946"
    },
    {
      "cell_type": "code",
      "execution_count": null,
      "metadata": {
        "id": "741e2d89"
      },
      "outputs": [],
      "source": [
        "df[\"stop\"] = df[\"stop\"].str.split('-').str.get(0)\n",
        "df[\"stop\"] = df[\"stop\"].replace(['non'], 0)\n",
        "df.isna().sum() #  28944 null vals\n",
        "df[\"stop\"] = df[\"stop\"].replace(['2+'], 2) # Indicates for 2 or more stops\n",
        "df['stop'] = df['stop'].fillna(0)\n",
        "df['stop'] = pd.to_numeric(df['stop'])\n",
        "# print(df[9:14])"
      ],
      "id": "741e2d89"
    },
    {
      "cell_type": "markdown",
      "metadata": {
        "id": "6a1acd72"
      },
      "source": [
        "### Data preprocessing : 'arr_time'"
      ],
      "id": "6a1acd72"
    },
    {
      "cell_type": "code",
      "execution_count": null,
      "metadata": {
        "colab": {
          "base_uri": "https://localhost:8080/",
          "height": 530
        },
        "id": "cdf8728d",
        "outputId": "4d20292c-91b0-4a35-9eab-a93740913e5e"
      },
      "outputs": [
        {
          "data": {
            "text/html": [
              "\n",
              "  <div id=\"df-09dd7b17-01d9-4099-8dd5-5f6afa3bbaef\">\n",
              "    <div class=\"colab-df-container\">\n",
              "      <div>\n",
              "<style scoped>\n",
              "    .dataframe tbody tr th:only-of-type {\n",
              "        vertical-align: middle;\n",
              "    }\n",
              "\n",
              "    .dataframe tbody tr th {\n",
              "        vertical-align: top;\n",
              "    }\n",
              "\n",
              "    .dataframe thead th {\n",
              "        text-align: right;\n",
              "    }\n",
              "</style>\n",
              "<table border=\"1\" class=\"dataframe\">\n",
              "  <thead>\n",
              "    <tr style=\"text-align: right;\">\n",
              "      <th></th>\n",
              "      <th>date</th>\n",
              "      <th>airline</th>\n",
              "      <th>ch_code</th>\n",
              "      <th>num_code</th>\n",
              "      <th>dep_time</th>\n",
              "      <th>time_taken</th>\n",
              "      <th>stop</th>\n",
              "      <th>arr_time</th>\n",
              "      <th>type</th>\n",
              "      <th>route</th>\n",
              "      <th>TicketCategory</th>\n",
              "      <th>month</th>\n",
              "      <th>day</th>\n",
              "      <th>dayofyear</th>\n",
              "      <th>dep_hour</th>\n",
              "      <th>dep_minute</th>\n",
              "      <th>hours_taken</th>\n",
              "      <th>minutes_taken</th>\n",
              "      <th>arr_hour</th>\n",
              "      <th>arr_minute</th>\n",
              "    </tr>\n",
              "  </thead>\n",
              "  <tbody>\n",
              "    <tr>\n",
              "      <th>0</th>\n",
              "      <td>05/03/2022</td>\n",
              "      <td>Vistara</td>\n",
              "      <td>7.0</td>\n",
              "      <td>812</td>\n",
              "      <td>9:45</td>\n",
              "      <td>10h 10m</td>\n",
              "      <td>1</td>\n",
              "      <td>19:55</td>\n",
              "      <td>business</td>\n",
              "      <td>{'source': 'Bangalore', 'destination': 'Hydera...</td>\n",
              "      <td>3.0</td>\n",
              "      <td>5</td>\n",
              "      <td>3</td>\n",
              "      <td>123</td>\n",
              "      <td>9</td>\n",
              "      <td>45</td>\n",
              "      <td>10.0</td>\n",
              "      <td>10.0</td>\n",
              "      <td>19</td>\n",
              "      <td>55</td>\n",
              "    </tr>\n",
              "    <tr>\n",
              "      <th>1</th>\n",
              "      <td>03/18/2022</td>\n",
              "      <td>Vistara</td>\n",
              "      <td>7.0</td>\n",
              "      <td>975</td>\n",
              "      <td>5:45</td>\n",
              "      <td>06h 30m</td>\n",
              "      <td>1</td>\n",
              "      <td>12:15</td>\n",
              "      <td>business</td>\n",
              "      <td>{'source': 'Delhi', 'destination': 'Hyderabad'}</td>\n",
              "      <td>3.0</td>\n",
              "      <td>3</td>\n",
              "      <td>18</td>\n",
              "      <td>77</td>\n",
              "      <td>5</td>\n",
              "      <td>45</td>\n",
              "      <td>6.0</td>\n",
              "      <td>30.0</td>\n",
              "      <td>12</td>\n",
              "      <td>15</td>\n",
              "    </tr>\n",
              "    <tr>\n",
              "      <th>2</th>\n",
              "      <td>09/03/2022</td>\n",
              "      <td>GO FIRST</td>\n",
              "      <td>3.0</td>\n",
              "      <td>7537</td>\n",
              "      <td>14:30</td>\n",
              "      <td>08h 10m</td>\n",
              "      <td>1</td>\n",
              "      <td>22:40</td>\n",
              "      <td>economy</td>\n",
              "      <td>{'source': 'Mumbai', 'destination': 'Hyderabad'}</td>\n",
              "      <td>0.0</td>\n",
              "      <td>9</td>\n",
              "      <td>3</td>\n",
              "      <td>246</td>\n",
              "      <td>14</td>\n",
              "      <td>30</td>\n",
              "      <td>8.0</td>\n",
              "      <td>10.0</td>\n",
              "      <td>22</td>\n",
              "      <td>40</td>\n",
              "    </tr>\n",
              "    <tr>\n",
              "      <th>3</th>\n",
              "      <td>03/15/2022</td>\n",
              "      <td>GO FIRST</td>\n",
              "      <td>3.0</td>\n",
              "      <td>287</td>\n",
              "      <td>10:40</td>\n",
              "      <td>09h 40m</td>\n",
              "      <td>1</td>\n",
              "      <td>20:20</td>\n",
              "      <td>economy</td>\n",
              "      <td>{'source': 'Mumbai', 'destination': 'Delhi'}</td>\n",
              "      <td>2.0</td>\n",
              "      <td>3</td>\n",
              "      <td>15</td>\n",
              "      <td>74</td>\n",
              "      <td>10</td>\n",
              "      <td>40</td>\n",
              "      <td>9.0</td>\n",
              "      <td>40.0</td>\n",
              "      <td>20</td>\n",
              "      <td>20</td>\n",
              "    </tr>\n",
              "    <tr>\n",
              "      <th>4</th>\n",
              "      <td>03/22/2022</td>\n",
              "      <td>Vistara</td>\n",
              "      <td>7.0</td>\n",
              "      <td>826</td>\n",
              "      <td>12:30</td>\n",
              "      <td>07h 25m</td>\n",
              "      <td>1</td>\n",
              "      <td>19:55</td>\n",
              "      <td>economy</td>\n",
              "      <td>{'source': 'Chennai', 'destination': 'Kolkata'}</td>\n",
              "      <td>2.0</td>\n",
              "      <td>3</td>\n",
              "      <td>22</td>\n",
              "      <td>81</td>\n",
              "      <td>12</td>\n",
              "      <td>30</td>\n",
              "      <td>7.0</td>\n",
              "      <td>25.0</td>\n",
              "      <td>19</td>\n",
              "      <td>55</td>\n",
              "    </tr>\n",
              "  </tbody>\n",
              "</table>\n",
              "</div>\n",
              "      <button class=\"colab-df-convert\" onclick=\"convertToInteractive('df-09dd7b17-01d9-4099-8dd5-5f6afa3bbaef')\"\n",
              "              title=\"Convert this dataframe to an interactive table.\"\n",
              "              style=\"display:none;\">\n",
              "        \n",
              "  <svg xmlns=\"http://www.w3.org/2000/svg\" height=\"24px\"viewBox=\"0 0 24 24\"\n",
              "       width=\"24px\">\n",
              "    <path d=\"M0 0h24v24H0V0z\" fill=\"none\"/>\n",
              "    <path d=\"M18.56 5.44l.94 2.06.94-2.06 2.06-.94-2.06-.94-.94-2.06-.94 2.06-2.06.94zm-11 1L8.5 8.5l.94-2.06 2.06-.94-2.06-.94L8.5 2.5l-.94 2.06-2.06.94zm10 10l.94 2.06.94-2.06 2.06-.94-2.06-.94-.94-2.06-.94 2.06-2.06.94z\"/><path d=\"M17.41 7.96l-1.37-1.37c-.4-.4-.92-.59-1.43-.59-.52 0-1.04.2-1.43.59L10.3 9.45l-7.72 7.72c-.78.78-.78 2.05 0 2.83L4 21.41c.39.39.9.59 1.41.59.51 0 1.02-.2 1.41-.59l7.78-7.78 2.81-2.81c.8-.78.8-2.07 0-2.86zM5.41 20L4 18.59l7.72-7.72 1.47 1.35L5.41 20z\"/>\n",
              "  </svg>\n",
              "      </button>\n",
              "      \n",
              "  <style>\n",
              "    .colab-df-container {\n",
              "      display:flex;\n",
              "      flex-wrap:wrap;\n",
              "      gap: 12px;\n",
              "    }\n",
              "\n",
              "    .colab-df-convert {\n",
              "      background-color: #E8F0FE;\n",
              "      border: none;\n",
              "      border-radius: 50%;\n",
              "      cursor: pointer;\n",
              "      display: none;\n",
              "      fill: #1967D2;\n",
              "      height: 32px;\n",
              "      padding: 0 0 0 0;\n",
              "      width: 32px;\n",
              "    }\n",
              "\n",
              "    .colab-df-convert:hover {\n",
              "      background-color: #E2EBFA;\n",
              "      box-shadow: 0px 1px 2px rgba(60, 64, 67, 0.3), 0px 1px 3px 1px rgba(60, 64, 67, 0.15);\n",
              "      fill: #174EA6;\n",
              "    }\n",
              "\n",
              "    [theme=dark] .colab-df-convert {\n",
              "      background-color: #3B4455;\n",
              "      fill: #D2E3FC;\n",
              "    }\n",
              "\n",
              "    [theme=dark] .colab-df-convert:hover {\n",
              "      background-color: #434B5C;\n",
              "      box-shadow: 0px 1px 3px 1px rgba(0, 0, 0, 0.15);\n",
              "      filter: drop-shadow(0px 1px 2px rgba(0, 0, 0, 0.3));\n",
              "      fill: #FFFFFF;\n",
              "    }\n",
              "  </style>\n",
              "\n",
              "      <script>\n",
              "        const buttonEl =\n",
              "          document.querySelector('#df-09dd7b17-01d9-4099-8dd5-5f6afa3bbaef button.colab-df-convert');\n",
              "        buttonEl.style.display =\n",
              "          google.colab.kernel.accessAllowed ? 'block' : 'none';\n",
              "\n",
              "        async function convertToInteractive(key) {\n",
              "          const element = document.querySelector('#df-09dd7b17-01d9-4099-8dd5-5f6afa3bbaef');\n",
              "          const dataTable =\n",
              "            await google.colab.kernel.invokeFunction('convertToInteractive',\n",
              "                                                     [key], {});\n",
              "          if (!dataTable) return;\n",
              "\n",
              "          const docLinkHtml = 'Like what you see? Visit the ' +\n",
              "            '<a target=\"_blank\" href=https://colab.research.google.com/notebooks/data_table.ipynb>data table notebook</a>'\n",
              "            + ' to learn more about interactive tables.';\n",
              "          element.innerHTML = '';\n",
              "          dataTable['output_type'] = 'display_data';\n",
              "          await google.colab.output.renderOutput(dataTable, element);\n",
              "          const docLink = document.createElement('div');\n",
              "          docLink.innerHTML = docLinkHtml;\n",
              "          element.appendChild(docLink);\n",
              "        }\n",
              "      </script>\n",
              "    </div>\n",
              "  </div>\n",
              "  "
            ],
            "text/plain": [
              "         date   airline  ch_code  num_code dep_time time_taken  stop arr_time  \\\n",
              "0  05/03/2022   Vistara      7.0       812     9:45    10h 10m     1    19:55   \n",
              "1  03/18/2022   Vistara      7.0       975     5:45    06h 30m     1    12:15   \n",
              "2  09/03/2022  GO FIRST      3.0      7537    14:30    08h 10m     1    22:40   \n",
              "3  03/15/2022  GO FIRST      3.0       287    10:40    09h 40m     1    20:20   \n",
              "4  03/22/2022   Vistara      7.0       826    12:30    07h 25m     1    19:55   \n",
              "\n",
              "       type                                              route  \\\n",
              "0  business  {'source': 'Bangalore', 'destination': 'Hydera...   \n",
              "1  business    {'source': 'Delhi', 'destination': 'Hyderabad'}   \n",
              "2   economy   {'source': 'Mumbai', 'destination': 'Hyderabad'}   \n",
              "3   economy       {'source': 'Mumbai', 'destination': 'Delhi'}   \n",
              "4   economy    {'source': 'Chennai', 'destination': 'Kolkata'}   \n",
              "\n",
              "   TicketCategory  month  day  dayofyear  dep_hour  dep_minute  hours_taken  \\\n",
              "0             3.0      5    3        123         9          45         10.0   \n",
              "1             3.0      3   18         77         5          45          6.0   \n",
              "2             0.0      9    3        246        14          30          8.0   \n",
              "3             2.0      3   15         74        10          40          9.0   \n",
              "4             2.0      3   22         81        12          30          7.0   \n",
              "\n",
              "   minutes_taken  arr_hour  arr_minute  \n",
              "0           10.0        19          55  \n",
              "1           30.0        12          15  \n",
              "2           10.0        22          40  \n",
              "3           40.0        20          20  \n",
              "4           25.0        19          55  "
            ]
          },
          "execution_count": 66,
          "metadata": {},
          "output_type": "execute_result"
        }
      ],
      "source": [
        "df[\"arr_time\"]=pd.to_datetime(df[\"arr_time\"])\n",
        "df['arr_time'] = df['arr_time'].dt.strftime(\"%-H:%M\")\n",
        "df[\"arr_hour\"]=pd.DatetimeIndex(df[\"arr_time\"]).hour\n",
        "df[\"arr_minute\"]=pd.DatetimeIndex(df[\"arr_time\"]).minute\n",
        "df[\"arr_hour\"] = pd.to_numeric(df[\"arr_hour\"])\n",
        "df[\"arr_minute\"] = pd.to_numeric(df[\"arr_minute\"])\n",
        "df.head()\n"
      ],
      "id": "cdf8728d"
    },
    {
      "cell_type": "markdown",
      "metadata": {
        "id": "97baca88"
      },
      "source": [
        "### Data preprocessing : 'type'"
      ],
      "id": "97baca88"
    },
    {
      "cell_type": "code",
      "execution_count": null,
      "metadata": {
        "colab": {
          "base_uri": "https://localhost:8080/"
        },
        "id": "caaad41c",
        "outputId": "3bf1e0db-2579-471b-c78a-0950f9baac06"
      },
      "outputs": [
        {
          "name": "stdout",
          "output_type": "stream",
          "text": [
            "0         0.0\n",
            "1         0.0\n",
            "2         1.0\n",
            "3         1.0\n",
            "4         1.0\n",
            "         ... \n",
            "240203    1.0\n",
            "240204    0.0\n",
            "240205    1.0\n",
            "240206    1.0\n",
            "240207    1.0\n",
            "Name: type, Length: 240208, dtype: float64\n"
          ]
        }
      ],
      "source": [
        "type_enc = OrdinalEncoder(handle_unknown='use_encoded_value',unknown_value=2)\n",
        "df['type'] = type_enc.fit_transform(df[[\"type\"]])\n",
        "print(df['type'])"
      ],
      "id": "caaad41c"
    },
    {
      "cell_type": "code",
      "execution_count": null,
      "metadata": {
        "colab": {
          "base_uri": "https://localhost:8080/"
        },
        "id": "Fty3gXeT3iWz",
        "outputId": "a93c6806-dc68-4a82-a798-b13522ef6ee3"
      },
      "outputs": [
        {
          "data": {
            "text/plain": [
              "['type_enc.save']"
            ]
          },
          "execution_count": 68,
          "metadata": {},
          "output_type": "execute_result"
        }
      ],
      "source": [
        "filename = \"type_enc.save\"\n",
        "joblib.dump(type_enc,filename)"
      ],
      "id": "Fty3gXeT3iWz"
    },
    {
      "cell_type": "markdown",
      "metadata": {
        "id": "a34c0c51"
      },
      "source": [
        "### Data preprocessing : 'route'"
      ],
      "id": "a34c0c51"
    },
    {
      "cell_type": "code",
      "execution_count": null,
      "metadata": {
        "id": "855d039a"
      },
      "outputs": [],
      "source": [
        "df['source'] = df['route'].str.split( ', ').str.get(0).str.split(':').str.get(1)\n",
        "df['destination'] = df['route'].str.split( ', ').str.get(1).str.split(':').str.get(1).str.split('}').str.get(0)\n",
        "df['source'] = df['source'].str.replace('\\'', \"\")\n",
        "df['destination'] = df['destination'].str.replace('\\'', \"\")"
      ],
      "id": "855d039a"
    },
    {
      "cell_type": "code",
      "execution_count": null,
      "metadata": {
        "colab": {
          "base_uri": "https://localhost:8080/",
          "height": 560
        },
        "id": "b34252e5",
        "outputId": "43df860f-f2dc-46a9-c364-52caf912f3ec"
      },
      "outputs": [
        {
          "data": {
            "text/html": [
              "\n",
              "  <div id=\"df-e51536c6-b1d5-4b34-855f-7ce7063fc43d\">\n",
              "    <div class=\"colab-df-container\">\n",
              "      <div>\n",
              "<style scoped>\n",
              "    .dataframe tbody tr th:only-of-type {\n",
              "        vertical-align: middle;\n",
              "    }\n",
              "\n",
              "    .dataframe tbody tr th {\n",
              "        vertical-align: top;\n",
              "    }\n",
              "\n",
              "    .dataframe thead th {\n",
              "        text-align: right;\n",
              "    }\n",
              "</style>\n",
              "<table border=\"1\" class=\"dataframe\">\n",
              "  <thead>\n",
              "    <tr style=\"text-align: right;\">\n",
              "      <th></th>\n",
              "      <th>date</th>\n",
              "      <th>airline</th>\n",
              "      <th>ch_code</th>\n",
              "      <th>num_code</th>\n",
              "      <th>dep_time</th>\n",
              "      <th>time_taken</th>\n",
              "      <th>stop</th>\n",
              "      <th>arr_time</th>\n",
              "      <th>type</th>\n",
              "      <th>route</th>\n",
              "      <th>...</th>\n",
              "      <th>day</th>\n",
              "      <th>dayofyear</th>\n",
              "      <th>dep_hour</th>\n",
              "      <th>dep_minute</th>\n",
              "      <th>hours_taken</th>\n",
              "      <th>minutes_taken</th>\n",
              "      <th>arr_hour</th>\n",
              "      <th>arr_minute</th>\n",
              "      <th>source</th>\n",
              "      <th>destination</th>\n",
              "    </tr>\n",
              "  </thead>\n",
              "  <tbody>\n",
              "    <tr>\n",
              "      <th>0</th>\n",
              "      <td>05/03/2022</td>\n",
              "      <td>Vistara</td>\n",
              "      <td>7.0</td>\n",
              "      <td>812</td>\n",
              "      <td>9:45</td>\n",
              "      <td>10h 10m</td>\n",
              "      <td>1</td>\n",
              "      <td>19:55</td>\n",
              "      <td>0.0</td>\n",
              "      <td>{'source': 'Bangalore', 'destination': 'Hydera...</td>\n",
              "      <td>...</td>\n",
              "      <td>3</td>\n",
              "      <td>123</td>\n",
              "      <td>9</td>\n",
              "      <td>45</td>\n",
              "      <td>10.0</td>\n",
              "      <td>10.0</td>\n",
              "      <td>19</td>\n",
              "      <td>55</td>\n",
              "      <td>Bangalore</td>\n",
              "      <td>Hyderabad</td>\n",
              "    </tr>\n",
              "    <tr>\n",
              "      <th>1</th>\n",
              "      <td>03/18/2022</td>\n",
              "      <td>Vistara</td>\n",
              "      <td>7.0</td>\n",
              "      <td>975</td>\n",
              "      <td>5:45</td>\n",
              "      <td>06h 30m</td>\n",
              "      <td>1</td>\n",
              "      <td>12:15</td>\n",
              "      <td>0.0</td>\n",
              "      <td>{'source': 'Delhi', 'destination': 'Hyderabad'}</td>\n",
              "      <td>...</td>\n",
              "      <td>18</td>\n",
              "      <td>77</td>\n",
              "      <td>5</td>\n",
              "      <td>45</td>\n",
              "      <td>6.0</td>\n",
              "      <td>30.0</td>\n",
              "      <td>12</td>\n",
              "      <td>15</td>\n",
              "      <td>Delhi</td>\n",
              "      <td>Hyderabad</td>\n",
              "    </tr>\n",
              "    <tr>\n",
              "      <th>2</th>\n",
              "      <td>09/03/2022</td>\n",
              "      <td>GO FIRST</td>\n",
              "      <td>3.0</td>\n",
              "      <td>7537</td>\n",
              "      <td>14:30</td>\n",
              "      <td>08h 10m</td>\n",
              "      <td>1</td>\n",
              "      <td>22:40</td>\n",
              "      <td>1.0</td>\n",
              "      <td>{'source': 'Mumbai', 'destination': 'Hyderabad'}</td>\n",
              "      <td>...</td>\n",
              "      <td>3</td>\n",
              "      <td>246</td>\n",
              "      <td>14</td>\n",
              "      <td>30</td>\n",
              "      <td>8.0</td>\n",
              "      <td>10.0</td>\n",
              "      <td>22</td>\n",
              "      <td>40</td>\n",
              "      <td>Mumbai</td>\n",
              "      <td>Hyderabad</td>\n",
              "    </tr>\n",
              "    <tr>\n",
              "      <th>3</th>\n",
              "      <td>03/15/2022</td>\n",
              "      <td>GO FIRST</td>\n",
              "      <td>3.0</td>\n",
              "      <td>287</td>\n",
              "      <td>10:40</td>\n",
              "      <td>09h 40m</td>\n",
              "      <td>1</td>\n",
              "      <td>20:20</td>\n",
              "      <td>1.0</td>\n",
              "      <td>{'source': 'Mumbai', 'destination': 'Delhi'}</td>\n",
              "      <td>...</td>\n",
              "      <td>15</td>\n",
              "      <td>74</td>\n",
              "      <td>10</td>\n",
              "      <td>40</td>\n",
              "      <td>9.0</td>\n",
              "      <td>40.0</td>\n",
              "      <td>20</td>\n",
              "      <td>20</td>\n",
              "      <td>Mumbai</td>\n",
              "      <td>Delhi</td>\n",
              "    </tr>\n",
              "    <tr>\n",
              "      <th>4</th>\n",
              "      <td>03/22/2022</td>\n",
              "      <td>Vistara</td>\n",
              "      <td>7.0</td>\n",
              "      <td>826</td>\n",
              "      <td>12:30</td>\n",
              "      <td>07h 25m</td>\n",
              "      <td>1</td>\n",
              "      <td>19:55</td>\n",
              "      <td>1.0</td>\n",
              "      <td>{'source': 'Chennai', 'destination': 'Kolkata'}</td>\n",
              "      <td>...</td>\n",
              "      <td>22</td>\n",
              "      <td>81</td>\n",
              "      <td>12</td>\n",
              "      <td>30</td>\n",
              "      <td>7.0</td>\n",
              "      <td>25.0</td>\n",
              "      <td>19</td>\n",
              "      <td>55</td>\n",
              "      <td>Chennai</td>\n",
              "      <td>Kolkata</td>\n",
              "    </tr>\n",
              "  </tbody>\n",
              "</table>\n",
              "<p>5 rows × 22 columns</p>\n",
              "</div>\n",
              "      <button class=\"colab-df-convert\" onclick=\"convertToInteractive('df-e51536c6-b1d5-4b34-855f-7ce7063fc43d')\"\n",
              "              title=\"Convert this dataframe to an interactive table.\"\n",
              "              style=\"display:none;\">\n",
              "        \n",
              "  <svg xmlns=\"http://www.w3.org/2000/svg\" height=\"24px\"viewBox=\"0 0 24 24\"\n",
              "       width=\"24px\">\n",
              "    <path d=\"M0 0h24v24H0V0z\" fill=\"none\"/>\n",
              "    <path d=\"M18.56 5.44l.94 2.06.94-2.06 2.06-.94-2.06-.94-.94-2.06-.94 2.06-2.06.94zm-11 1L8.5 8.5l.94-2.06 2.06-.94-2.06-.94L8.5 2.5l-.94 2.06-2.06.94zm10 10l.94 2.06.94-2.06 2.06-.94-2.06-.94-.94-2.06-.94 2.06-2.06.94z\"/><path d=\"M17.41 7.96l-1.37-1.37c-.4-.4-.92-.59-1.43-.59-.52 0-1.04.2-1.43.59L10.3 9.45l-7.72 7.72c-.78.78-.78 2.05 0 2.83L4 21.41c.39.39.9.59 1.41.59.51 0 1.02-.2 1.41-.59l7.78-7.78 2.81-2.81c.8-.78.8-2.07 0-2.86zM5.41 20L4 18.59l7.72-7.72 1.47 1.35L5.41 20z\"/>\n",
              "  </svg>\n",
              "      </button>\n",
              "      \n",
              "  <style>\n",
              "    .colab-df-container {\n",
              "      display:flex;\n",
              "      flex-wrap:wrap;\n",
              "      gap: 12px;\n",
              "    }\n",
              "\n",
              "    .colab-df-convert {\n",
              "      background-color: #E8F0FE;\n",
              "      border: none;\n",
              "      border-radius: 50%;\n",
              "      cursor: pointer;\n",
              "      display: none;\n",
              "      fill: #1967D2;\n",
              "      height: 32px;\n",
              "      padding: 0 0 0 0;\n",
              "      width: 32px;\n",
              "    }\n",
              "\n",
              "    .colab-df-convert:hover {\n",
              "      background-color: #E2EBFA;\n",
              "      box-shadow: 0px 1px 2px rgba(60, 64, 67, 0.3), 0px 1px 3px 1px rgba(60, 64, 67, 0.15);\n",
              "      fill: #174EA6;\n",
              "    }\n",
              "\n",
              "    [theme=dark] .colab-df-convert {\n",
              "      background-color: #3B4455;\n",
              "      fill: #D2E3FC;\n",
              "    }\n",
              "\n",
              "    [theme=dark] .colab-df-convert:hover {\n",
              "      background-color: #434B5C;\n",
              "      box-shadow: 0px 1px 3px 1px rgba(0, 0, 0, 0.15);\n",
              "      filter: drop-shadow(0px 1px 2px rgba(0, 0, 0, 0.3));\n",
              "      fill: #FFFFFF;\n",
              "    }\n",
              "  </style>\n",
              "\n",
              "      <script>\n",
              "        const buttonEl =\n",
              "          document.querySelector('#df-e51536c6-b1d5-4b34-855f-7ce7063fc43d button.colab-df-convert');\n",
              "        buttonEl.style.display =\n",
              "          google.colab.kernel.accessAllowed ? 'block' : 'none';\n",
              "\n",
              "        async function convertToInteractive(key) {\n",
              "          const element = document.querySelector('#df-e51536c6-b1d5-4b34-855f-7ce7063fc43d');\n",
              "          const dataTable =\n",
              "            await google.colab.kernel.invokeFunction('convertToInteractive',\n",
              "                                                     [key], {});\n",
              "          if (!dataTable) return;\n",
              "\n",
              "          const docLinkHtml = 'Like what you see? Visit the ' +\n",
              "            '<a target=\"_blank\" href=https://colab.research.google.com/notebooks/data_table.ipynb>data table notebook</a>'\n",
              "            + ' to learn more about interactive tables.';\n",
              "          element.innerHTML = '';\n",
              "          dataTable['output_type'] = 'display_data';\n",
              "          await google.colab.output.renderOutput(dataTable, element);\n",
              "          const docLink = document.createElement('div');\n",
              "          docLink.innerHTML = docLinkHtml;\n",
              "          element.appendChild(docLink);\n",
              "        }\n",
              "      </script>\n",
              "    </div>\n",
              "  </div>\n",
              "  "
            ],
            "text/plain": [
              "         date   airline  ch_code  num_code dep_time time_taken  stop arr_time  \\\n",
              "0  05/03/2022   Vistara      7.0       812     9:45    10h 10m     1    19:55   \n",
              "1  03/18/2022   Vistara      7.0       975     5:45    06h 30m     1    12:15   \n",
              "2  09/03/2022  GO FIRST      3.0      7537    14:30    08h 10m     1    22:40   \n",
              "3  03/15/2022  GO FIRST      3.0       287    10:40    09h 40m     1    20:20   \n",
              "4  03/22/2022   Vistara      7.0       826    12:30    07h 25m     1    19:55   \n",
              "\n",
              "   type                                              route  ...  day  \\\n",
              "0   0.0  {'source': 'Bangalore', 'destination': 'Hydera...  ...    3   \n",
              "1   0.0    {'source': 'Delhi', 'destination': 'Hyderabad'}  ...   18   \n",
              "2   1.0   {'source': 'Mumbai', 'destination': 'Hyderabad'}  ...    3   \n",
              "3   1.0       {'source': 'Mumbai', 'destination': 'Delhi'}  ...   15   \n",
              "4   1.0    {'source': 'Chennai', 'destination': 'Kolkata'}  ...   22   \n",
              "\n",
              "   dayofyear  dep_hour  dep_minute  hours_taken  minutes_taken  arr_hour  \\\n",
              "0        123         9          45         10.0           10.0        19   \n",
              "1         77         5          45          6.0           30.0        12   \n",
              "2        246        14          30          8.0           10.0        22   \n",
              "3         74        10          40          9.0           40.0        20   \n",
              "4         81        12          30          7.0           25.0        19   \n",
              "\n",
              "   arr_minute      source  destination  \n",
              "0          55   Bangalore    Hyderabad  \n",
              "1          15       Delhi    Hyderabad  \n",
              "2          40      Mumbai    Hyderabad  \n",
              "3          20      Mumbai        Delhi  \n",
              "4          55     Chennai      Kolkata  \n",
              "\n",
              "[5 rows x 22 columns]"
            ]
          },
          "execution_count": 70,
          "metadata": {},
          "output_type": "execute_result"
        }
      ],
      "source": [
        "df.head()"
      ],
      "id": "b34252e5"
    },
    {
      "cell_type": "code",
      "execution_count": null,
      "metadata": {
        "colab": {
          "base_uri": "https://localhost:8080/"
        },
        "id": "3d59112a",
        "outputId": "f164951b-b75c-4ce8-affc-d03988cfaa12"
      },
      "outputs": [
        {
          "name": "stdout",
          "output_type": "stream",
          "text": [
            "0         0.0\n",
            "1         2.0\n",
            "2         5.0\n",
            "3         5.0\n",
            "4         1.0\n",
            "         ... \n",
            "240203    1.0\n",
            "240204    2.0\n",
            "240205    2.0\n",
            "240206    2.0\n",
            "240207    4.0\n",
            "Name: source, Length: 240208, dtype: float64\n"
          ]
        }
      ],
      "source": [
        "source_enc = OrdinalEncoder(handle_unknown='use_encoded_value',unknown_value=6)\n",
        "df['source'] = source_enc.fit_transform(df[[\"source\"]])\n",
        "print(df['source'])"
      ],
      "id": "3d59112a"
    },
    {
      "cell_type": "code",
      "execution_count": null,
      "metadata": {
        "colab": {
          "base_uri": "https://localhost:8080/"
        },
        "id": "VhyKJSbw46_7",
        "outputId": "80b90281-3907-48e8-bb04-c224711154bb"
      },
      "outputs": [
        {
          "data": {
            "text/plain": [
              "['source_enc.save']"
            ]
          },
          "execution_count": 72,
          "metadata": {},
          "output_type": "execute_result"
        }
      ],
      "source": [
        "filename = \"source_enc.save\"\n",
        "joblib.dump(source_enc,filename)"
      ],
      "id": "VhyKJSbw46_7"
    },
    {
      "cell_type": "code",
      "execution_count": null,
      "metadata": {
        "colab": {
          "base_uri": "https://localhost:8080/"
        },
        "id": "221127f8",
        "outputId": "d11fc438-3664-45d9-ac79-e00533990260"
      },
      "outputs": [
        {
          "name": "stdout",
          "output_type": "stream",
          "text": [
            "0         3.0\n",
            "1         3.0\n",
            "2         3.0\n",
            "3         2.0\n",
            "4         4.0\n",
            "         ... \n",
            "240203    3.0\n",
            "240204    4.0\n",
            "240205    0.0\n",
            "240206    5.0\n",
            "240207    3.0\n",
            "Name: destination, Length: 240208, dtype: float64\n"
          ]
        }
      ],
      "source": [
        "destination_enc = OrdinalEncoder(handle_unknown='use_encoded_value',unknown_value=6)\n",
        "df['destination'] = destination_enc.fit_transform(df[[\"destination\"]])\n",
        "print(df['destination'])\n",
        "df = df.fillna(-1)\n",
        "df = df.drop(['airline', 'date', 'dep_time', \"time_taken\", 'arr_time', 'route',], axis=1)\n",
        "#df = pd.get_dummies(df)"
      ],
      "id": "221127f8"
    },
    {
      "cell_type": "code",
      "execution_count": null,
      "metadata": {
        "colab": {
          "base_uri": "https://localhost:8080/"
        },
        "id": "qlbv33cQ5Tqt",
        "outputId": "40fb5776-1454-4d40-9039-eab3c07048a5"
      },
      "outputs": [
        {
          "data": {
            "text/plain": [
              "['destination_enc.save']"
            ]
          },
          "execution_count": 74,
          "metadata": {},
          "output_type": "execute_result"
        }
      ],
      "source": [
        "filename = \"destination_enc.save\"\n",
        "joblib.dump(destination_enc,filename)"
      ],
      "id": "qlbv33cQ5Tqt"
    },
    {
      "cell_type": "code",
      "execution_count": null,
      "metadata": {
        "colab": {
          "base_uri": "https://localhost:8080/",
          "height": 270
        },
        "id": "QVE3hh4W0MQw",
        "outputId": "6eb38558-c12f-4af6-f425-7d87078dfe61"
      },
      "outputs": [
        {
          "data": {
            "text/html": [
              "\n",
              "  <div id=\"df-9094533d-bdd8-4532-8228-96ddc6241a5f\">\n",
              "    <div class=\"colab-df-container\">\n",
              "      <div>\n",
              "<style scoped>\n",
              "    .dataframe tbody tr th:only-of-type {\n",
              "        vertical-align: middle;\n",
              "    }\n",
              "\n",
              "    .dataframe tbody tr th {\n",
              "        vertical-align: top;\n",
              "    }\n",
              "\n",
              "    .dataframe thead th {\n",
              "        text-align: right;\n",
              "    }\n",
              "</style>\n",
              "<table border=\"1\" class=\"dataframe\">\n",
              "  <thead>\n",
              "    <tr style=\"text-align: right;\">\n",
              "      <th></th>\n",
              "      <th>ch_code</th>\n",
              "      <th>num_code</th>\n",
              "      <th>stop</th>\n",
              "      <th>type</th>\n",
              "      <th>TicketCategory</th>\n",
              "      <th>month</th>\n",
              "      <th>day</th>\n",
              "      <th>dayofyear</th>\n",
              "      <th>dep_hour</th>\n",
              "      <th>dep_minute</th>\n",
              "      <th>hours_taken</th>\n",
              "      <th>minutes_taken</th>\n",
              "      <th>arr_hour</th>\n",
              "      <th>arr_minute</th>\n",
              "      <th>source</th>\n",
              "      <th>destination</th>\n",
              "    </tr>\n",
              "  </thead>\n",
              "  <tbody>\n",
              "    <tr>\n",
              "      <th>0</th>\n",
              "      <td>7.0</td>\n",
              "      <td>812</td>\n",
              "      <td>1</td>\n",
              "      <td>0.0</td>\n",
              "      <td>3.0</td>\n",
              "      <td>5</td>\n",
              "      <td>3</td>\n",
              "      <td>123</td>\n",
              "      <td>9</td>\n",
              "      <td>45</td>\n",
              "      <td>10.0</td>\n",
              "      <td>10.0</td>\n",
              "      <td>19</td>\n",
              "      <td>55</td>\n",
              "      <td>0.0</td>\n",
              "      <td>3.0</td>\n",
              "    </tr>\n",
              "    <tr>\n",
              "      <th>1</th>\n",
              "      <td>7.0</td>\n",
              "      <td>975</td>\n",
              "      <td>1</td>\n",
              "      <td>0.0</td>\n",
              "      <td>3.0</td>\n",
              "      <td>3</td>\n",
              "      <td>18</td>\n",
              "      <td>77</td>\n",
              "      <td>5</td>\n",
              "      <td>45</td>\n",
              "      <td>6.0</td>\n",
              "      <td>30.0</td>\n",
              "      <td>12</td>\n",
              "      <td>15</td>\n",
              "      <td>2.0</td>\n",
              "      <td>3.0</td>\n",
              "    </tr>\n",
              "    <tr>\n",
              "      <th>2</th>\n",
              "      <td>3.0</td>\n",
              "      <td>7537</td>\n",
              "      <td>1</td>\n",
              "      <td>1.0</td>\n",
              "      <td>0.0</td>\n",
              "      <td>9</td>\n",
              "      <td>3</td>\n",
              "      <td>246</td>\n",
              "      <td>14</td>\n",
              "      <td>30</td>\n",
              "      <td>8.0</td>\n",
              "      <td>10.0</td>\n",
              "      <td>22</td>\n",
              "      <td>40</td>\n",
              "      <td>5.0</td>\n",
              "      <td>3.0</td>\n",
              "    </tr>\n",
              "    <tr>\n",
              "      <th>3</th>\n",
              "      <td>3.0</td>\n",
              "      <td>287</td>\n",
              "      <td>1</td>\n",
              "      <td>1.0</td>\n",
              "      <td>2.0</td>\n",
              "      <td>3</td>\n",
              "      <td>15</td>\n",
              "      <td>74</td>\n",
              "      <td>10</td>\n",
              "      <td>40</td>\n",
              "      <td>9.0</td>\n",
              "      <td>40.0</td>\n",
              "      <td>20</td>\n",
              "      <td>20</td>\n",
              "      <td>5.0</td>\n",
              "      <td>2.0</td>\n",
              "    </tr>\n",
              "    <tr>\n",
              "      <th>4</th>\n",
              "      <td>7.0</td>\n",
              "      <td>826</td>\n",
              "      <td>1</td>\n",
              "      <td>1.0</td>\n",
              "      <td>2.0</td>\n",
              "      <td>3</td>\n",
              "      <td>22</td>\n",
              "      <td>81</td>\n",
              "      <td>12</td>\n",
              "      <td>30</td>\n",
              "      <td>7.0</td>\n",
              "      <td>25.0</td>\n",
              "      <td>19</td>\n",
              "      <td>55</td>\n",
              "      <td>1.0</td>\n",
              "      <td>4.0</td>\n",
              "    </tr>\n",
              "  </tbody>\n",
              "</table>\n",
              "</div>\n",
              "      <button class=\"colab-df-convert\" onclick=\"convertToInteractive('df-9094533d-bdd8-4532-8228-96ddc6241a5f')\"\n",
              "              title=\"Convert this dataframe to an interactive table.\"\n",
              "              style=\"display:none;\">\n",
              "        \n",
              "  <svg xmlns=\"http://www.w3.org/2000/svg\" height=\"24px\"viewBox=\"0 0 24 24\"\n",
              "       width=\"24px\">\n",
              "    <path d=\"M0 0h24v24H0V0z\" fill=\"none\"/>\n",
              "    <path d=\"M18.56 5.44l.94 2.06.94-2.06 2.06-.94-2.06-.94-.94-2.06-.94 2.06-2.06.94zm-11 1L8.5 8.5l.94-2.06 2.06-.94-2.06-.94L8.5 2.5l-.94 2.06-2.06.94zm10 10l.94 2.06.94-2.06 2.06-.94-2.06-.94-.94-2.06-.94 2.06-2.06.94z\"/><path d=\"M17.41 7.96l-1.37-1.37c-.4-.4-.92-.59-1.43-.59-.52 0-1.04.2-1.43.59L10.3 9.45l-7.72 7.72c-.78.78-.78 2.05 0 2.83L4 21.41c.39.39.9.59 1.41.59.51 0 1.02-.2 1.41-.59l7.78-7.78 2.81-2.81c.8-.78.8-2.07 0-2.86zM5.41 20L4 18.59l7.72-7.72 1.47 1.35L5.41 20z\"/>\n",
              "  </svg>\n",
              "      </button>\n",
              "      \n",
              "  <style>\n",
              "    .colab-df-container {\n",
              "      display:flex;\n",
              "      flex-wrap:wrap;\n",
              "      gap: 12px;\n",
              "    }\n",
              "\n",
              "    .colab-df-convert {\n",
              "      background-color: #E8F0FE;\n",
              "      border: none;\n",
              "      border-radius: 50%;\n",
              "      cursor: pointer;\n",
              "      display: none;\n",
              "      fill: #1967D2;\n",
              "      height: 32px;\n",
              "      padding: 0 0 0 0;\n",
              "      width: 32px;\n",
              "    }\n",
              "\n",
              "    .colab-df-convert:hover {\n",
              "      background-color: #E2EBFA;\n",
              "      box-shadow: 0px 1px 2px rgba(60, 64, 67, 0.3), 0px 1px 3px 1px rgba(60, 64, 67, 0.15);\n",
              "      fill: #174EA6;\n",
              "    }\n",
              "\n",
              "    [theme=dark] .colab-df-convert {\n",
              "      background-color: #3B4455;\n",
              "      fill: #D2E3FC;\n",
              "    }\n",
              "\n",
              "    [theme=dark] .colab-df-convert:hover {\n",
              "      background-color: #434B5C;\n",
              "      box-shadow: 0px 1px 3px 1px rgba(0, 0, 0, 0.15);\n",
              "      filter: drop-shadow(0px 1px 2px rgba(0, 0, 0, 0.3));\n",
              "      fill: #FFFFFF;\n",
              "    }\n",
              "  </style>\n",
              "\n",
              "      <script>\n",
              "        const buttonEl =\n",
              "          document.querySelector('#df-9094533d-bdd8-4532-8228-96ddc6241a5f button.colab-df-convert');\n",
              "        buttonEl.style.display =\n",
              "          google.colab.kernel.accessAllowed ? 'block' : 'none';\n",
              "\n",
              "        async function convertToInteractive(key) {\n",
              "          const element = document.querySelector('#df-9094533d-bdd8-4532-8228-96ddc6241a5f');\n",
              "          const dataTable =\n",
              "            await google.colab.kernel.invokeFunction('convertToInteractive',\n",
              "                                                     [key], {});\n",
              "          if (!dataTable) return;\n",
              "\n",
              "          const docLinkHtml = 'Like what you see? Visit the ' +\n",
              "            '<a target=\"_blank\" href=https://colab.research.google.com/notebooks/data_table.ipynb>data table notebook</a>'\n",
              "            + ' to learn more about interactive tables.';\n",
              "          element.innerHTML = '';\n",
              "          dataTable['output_type'] = 'display_data';\n",
              "          await google.colab.output.renderOutput(dataTable, element);\n",
              "          const docLink = document.createElement('div');\n",
              "          docLink.innerHTML = docLinkHtml;\n",
              "          element.appendChild(docLink);\n",
              "        }\n",
              "      </script>\n",
              "    </div>\n",
              "  </div>\n",
              "  "
            ],
            "text/plain": [
              "   ch_code  num_code  stop  type  TicketCategory  month  day  dayofyear  \\\n",
              "0      7.0       812     1   0.0             3.0      5    3        123   \n",
              "1      7.0       975     1   0.0             3.0      3   18         77   \n",
              "2      3.0      7537     1   1.0             0.0      9    3        246   \n",
              "3      3.0       287     1   1.0             2.0      3   15         74   \n",
              "4      7.0       826     1   1.0             2.0      3   22         81   \n",
              "\n",
              "   dep_hour  dep_minute  hours_taken  minutes_taken  arr_hour  arr_minute  \\\n",
              "0         9          45         10.0           10.0        19          55   \n",
              "1         5          45          6.0           30.0        12          15   \n",
              "2        14          30          8.0           10.0        22          40   \n",
              "3        10          40          9.0           40.0        20          20   \n",
              "4        12          30          7.0           25.0        19          55   \n",
              "\n",
              "   source  destination  \n",
              "0     0.0          3.0  \n",
              "1     2.0          3.0  \n",
              "2     5.0          3.0  \n",
              "3     5.0          2.0  \n",
              "4     1.0          4.0  "
            ]
          },
          "execution_count": 75,
          "metadata": {},
          "output_type": "execute_result"
        }
      ],
      "source": [
        "df.head()"
      ],
      "id": "QVE3hh4W0MQw"
    },
    {
      "cell_type": "code",
      "execution_count": null,
      "metadata": {
        "colab": {
          "base_uri": "https://localhost:8080/"
        },
        "id": "5e5b7200",
        "outputId": "f9a9303d-ebc4-41a6-a470-0695ee50f774"
      },
      "outputs": [
        {
          "name": "stdout",
          "output_type": "stream",
          "text": [
            "Index(['ch_code', 'num_code', 'stop', 'type', 'TicketCategory', 'month', 'day',\n",
            "       'dayofyear', 'dep_hour', 'dep_minute', 'hours_taken', 'minutes_taken',\n",
            "       'arr_hour', 'arr_minute', 'source', 'destination'],\n",
            "      dtype='object')\n"
          ]
        }
      ],
      "source": [
        "print(df.columns)"
      ],
      "id": "5e5b7200"
    },
    {
      "cell_type": "code",
      "execution_count": null,
      "metadata": {
        "id": "e7415fad"
      },
      "outputs": [],
      "source": [
        "X = df.loc[:, df.columns != 'TicketCategory']\n",
        "Y = df['TicketCategory']"
      ],
      "id": "e7415fad"
    },
    {
      "cell_type": "code",
      "execution_count": null,
      "metadata": {
        "id": "m7SvcqRsWlyr"
      },
      "outputs": [],
      "source": [
        ""
      ],
      "id": "m7SvcqRsWlyr"
    },
    {
      "cell_type": "code",
      "execution_count": null,
      "metadata": {
        "id": "543de611"
      },
      "outputs": [],
      "source": [
        "XTrain, XTest, YTrain, YTest = train_test_split(X, Y, test_size=0.2, shuffle=True, random_state=8)"
      ],
      "id": "543de611"
    },
    {
      "cell_type": "code",
      "execution_count": null,
      "metadata": {
        "id": "V12Boy_ErViH"
      },
      "outputs": [],
      "source": [
        "from sklearn.preprocessing import StandardScaler\n",
        "ss=StandardScaler()\n",
        "scaler = ss.fit(XTrain)\n",
        "trainX_scaled = scaler.transform(XTrain)\n",
        "testX_scaled = scaler.transform(XTest)"
      ],
      "id": "V12Boy_ErViH"
    },
    {
      "cell_type": "code",
      "execution_count": null,
      "metadata": {
        "colab": {
          "base_uri": "https://localhost:8080/"
        },
        "id": "yXFrnika0NSR",
        "outputId": "9562cd88-cbac-4903-b4f9-a7e5143a13b4"
      },
      "outputs": [
        {
          "data": {
            "text/plain": [
              "['scaler.save']"
            ]
          },
          "execution_count": 80,
          "metadata": {},
          "output_type": "execute_result"
        }
      ],
      "source": [
        "scaler_filename = \"scaler.save\"\n",
        "joblib.dump(scaler, scaler_filename)"
      ],
      "id": "yXFrnika0NSR"
    },
    {
      "cell_type": "code",
      "execution_count": null,
      "metadata": {
        "colab": {
          "background_save": true
        },
        "id": "jKkvhD-laDDJ",
        "outputId": "41cdb628-2978-425a-a44a-047bae73e6ff"
      },
      "outputs": [
        {
          "name": "stderr",
          "output_type": "stream",
          "text": [
            "/usr/local/lib/python3.7/dist-packages/sklearn/neural_network/_multilayer_perceptron.py:696: ConvergenceWarning: Stochastic Optimizer: Maximum iterations (50) reached and the optimization hasn't converged yet.\n",
            "  ConvergenceWarning,\n",
            "/usr/local/lib/python3.7/dist-packages/sklearn/linear_model/_logistic.py:818: ConvergenceWarning: lbfgs failed to converge (status=1):\n",
            "STOP: TOTAL NO. of ITERATIONS REACHED LIMIT.\n",
            "\n",
            "Increase the number of iterations (max_iter) or scale the data as shown in:\n",
            "    https://scikit-learn.org/stable/modules/preprocessing.html\n",
            "Please also refer to the documentation for alternative solver options:\n",
            "    https://scikit-learn.org/stable/modules/linear_model.html#logistic-regression\n",
            "  extra_warning_msg=_LOGISTIC_SOLVER_CONVERGENCE_MSG,\n"
          ]
        },
        {
          "data": {
            "text/plain": [
              "LogisticRegression(C=0.1)"
            ]
          },
          "execution_count": null,
          "metadata": {},
          "output_type": "execute_result"
        }
      ],
      "source": [
        "from sklearn.neighbors import KNeighborsClassifier\n",
        "from sklearn.metrics import classification_report,accuracy_score\n",
        "from sklearn import svm\n",
        "from sklearn.linear_model import LogisticRegression\n",
        "from sklearn.tree import DecisionTreeClassifier\n",
        "from sklearn.neural_network import MLPClassifier\n",
        "from sklearn.ensemble import RandomForestClassifier\n",
        "from sklearn.linear_model import RidgeClassifier\n",
        "\n",
        "ridge = RidgeClassifier(alpha = 0.1)\n",
        "ridge.fit(trainX_scaled, YTrain)\n",
        "\n",
        "rfc = RandomForestClassifier(random_state=42, n_jobs=-1, n_estimators=100)\n",
        "rfc.fit(trainX_scaled, YTrain)\n",
        "\n",
        "mlp_clf = MLPClassifier(hidden_layer_sizes=(150,100,50),\n",
        "                        max_iter = 50,activation = 'tanh',\n",
        "                        solver = 'adam')\n",
        "\n",
        "mlp_clf.fit(trainX_scaled, YTrain)\n",
        "\n",
        "dtree = DecisionTreeClassifier(max_depth=50, random_state=42)\n",
        "dtree.fit(trainX_scaled, YTrain)\n",
        "\n",
        "knn = KNeighborsClassifier()\n",
        "knn.fit(trainX_scaled, YTrain) \n",
        "\n",
        "logestic = LogisticRegression(C=0.1, penalty = 'l2', solver = 'lbfgs')\n",
        "logestic.fit(trainX_scaled, YTrain) \n",
        "\n",
        "# rbf_svc = svm.SVC(kernel='rbf', gamma='scale', C=1).fit(trainX_scaled, YTrain)\n",
        "# poly_svc = svm.SVC(kernel='poly',degree = 3, C=1).fit(trainX_scaled, YTrain)"
      ],
      "id": "jKkvhD-laDDJ"
    },
    {
      "cell_type": "code",
      "execution_count": null,
      "metadata": {
        "colab": {
          "background_save": true
        },
        "id": "ZZTKPHjVaZJH",
        "outputId": "cc04aa6c-f278-4186-b901-f2d6b53626b4"
      },
      "outputs": [
        {
          "name": "stderr",
          "output_type": "stream",
          "text": [
            "/usr/local/lib/python3.7/dist-packages/sklearn/metrics/_classification.py:1318: UndefinedMetricWarning: Precision and F-score are ill-defined and being set to 0.0 in labels with no predicted samples. Use `zero_division` parameter to control this behavior.\n",
            "  _warn_prf(average, modifier, msg_start, len(result))\n",
            "/usr/local/lib/python3.7/dist-packages/sklearn/metrics/_classification.py:1318: UndefinedMetricWarning: Precision and F-score are ill-defined and being set to 0.0 in labels with no predicted samples. Use `zero_division` parameter to control this behavior.\n",
            "  _warn_prf(average, modifier, msg_start, len(result))\n"
          ]
        },
        {
          "name": "stdout",
          "output_type": "stream",
          "text": [
            "Accuracy of: RidgeClassifier(alpha=0.1):0.7128970484159693\n",
            "\n",
            "\n",
            "              precision    recall  f1-score   support\n",
            "\n",
            "         0.0       0.74      0.54      0.62     13048\n",
            "         1.0       0.00      0.00      0.00      4405\n",
            "         2.0       0.74      0.84      0.79     20847\n",
            "         3.0       0.65      1.00      0.79      9742\n",
            "\n",
            "    accuracy                           0.71     48042\n",
            "   macro avg       0.53      0.59      0.55     48042\n",
            "weighted avg       0.66      0.71      0.67     48042\n",
            "\n"
          ]
        },
        {
          "name": "stderr",
          "output_type": "stream",
          "text": [
            "/usr/local/lib/python3.7/dist-packages/sklearn/metrics/_classification.py:1318: UndefinedMetricWarning: Precision and F-score are ill-defined and being set to 0.0 in labels with no predicted samples. Use `zero_division` parameter to control this behavior.\n",
            "  _warn_prf(average, modifier, msg_start, len(result))\n"
          ]
        },
        {
          "name": "stdout",
          "output_type": "stream",
          "text": [
            "Accuracy of: RandomForestClassifier(n_jobs=-1, random_state=42):0.9621581116523042\n",
            "\n",
            "\n",
            "              precision    recall  f1-score   support\n",
            "\n",
            "         0.0       0.94      0.95      0.95     13048\n",
            "         1.0       0.95      0.96      0.95      4405\n",
            "         2.0       0.97      0.96      0.96     20847\n",
            "         3.0       0.99      0.98      0.98      9742\n",
            "\n",
            "    accuracy                           0.96     48042\n",
            "   macro avg       0.96      0.96      0.96     48042\n",
            "weighted avg       0.96      0.96      0.96     48042\n",
            "\n",
            "Accuracy of: MLPClassifier(activation='tanh', hidden_layer_sizes=(150, 100, 50), max_iter=50):0.9410932101078223\n",
            "\n",
            "\n",
            "              precision    recall  f1-score   support\n",
            "\n",
            "         0.0       0.91      0.92      0.91     13048\n",
            "         1.0       0.93      0.94      0.94      4405\n",
            "         2.0       0.95      0.94      0.94     20847\n",
            "         3.0       0.98      0.97      0.98      9742\n",
            "\n",
            "    accuracy                           0.94     48042\n",
            "   macro avg       0.94      0.94      0.94     48042\n",
            "weighted avg       0.94      0.94      0.94     48042\n",
            "\n",
            "Accuracy of: DecisionTreeClassifier(max_depth=50, random_state=42):0.9589942133966113\n",
            "\n",
            "\n",
            "              precision    recall  f1-score   support\n",
            "\n",
            "         0.0       0.94      0.94      0.94     13048\n",
            "         1.0       0.95      0.96      0.96      4405\n",
            "         2.0       0.96      0.96      0.96     20847\n",
            "         3.0       0.99      0.98      0.99      9742\n",
            "\n",
            "    accuracy                           0.96     48042\n",
            "   macro avg       0.96      0.96      0.96     48042\n",
            "weighted avg       0.96      0.96      0.96     48042\n",
            "\n",
            "Accuracy of: KNeighborsClassifier():0.8948628283585196\n",
            "\n",
            "\n",
            "              precision    recall  f1-score   support\n",
            "\n",
            "         0.0       0.85      0.85      0.85     13048\n",
            "         1.0       0.87      0.88      0.88      4405\n",
            "         2.0       0.90      0.90      0.90     20847\n",
            "         3.0       0.95      0.95      0.95      9742\n",
            "\n",
            "    accuracy                           0.89     48042\n",
            "   macro avg       0.89      0.90      0.89     48042\n",
            "weighted avg       0.90      0.89      0.89     48042\n",
            "\n",
            "Accuracy of: LogisticRegression(C=0.1):0.7189750634861163\n",
            "\n",
            "\n",
            "              precision    recall  f1-score   support\n",
            "\n",
            "         0.0       0.71      0.52      0.60     13048\n",
            "         1.0       0.51      0.26      0.34      4405\n",
            "         2.0       0.73      0.86      0.79     20847\n",
            "         3.0       0.74      0.90      0.81      9742\n",
            "\n",
            "    accuracy                           0.72     48042\n",
            "   macro avg       0.67      0.63      0.64     48042\n",
            "weighted avg       0.71      0.72      0.70     48042\n",
            "\n"
          ]
        }
      ],
      "source": [
        "for i, clf in enumerate((ridge, rfc, mlp_clf, dtree, knn, logestic)):\n",
        "    predictions = clf.predict(testX_scaled)\n",
        "    print(\"Accuracy of: \" + str(clf)+\":\"+str(accuracy_score(YTest, predictions)))\n",
        "    print('\\n')\n",
        "    print(classification_report(YTest, predictions))"
      ],
      "id": "ZZTKPHjVaZJH"
    },
    {
      "cell_type": "code",
      "execution_count": null,
      "metadata": {
        "colab": {
          "background_save": true
        },
        "id": "08YTaanyb_Ux",
        "outputId": "92b8617f-15c3-4513-cc1a-9ec05f60acde"
      },
      "outputs": [
        {
          "name": "stderr",
          "output_type": "stream",
          "text": [
            "/usr/local/lib/python3.7/dist-packages/sklearn/utils/deprecation.py:87: FutureWarning: Function plot_confusion_matrix is deprecated; Function `plot_confusion_matrix` is deprecated in 1.0 and will be removed in 1.2. Use one of the class methods: ConfusionMatrixDisplay.from_predictions or ConfusionMatrixDisplay.from_estimator.\n",
            "  warnings.warn(msg, category=FutureWarning)\n"
          ]
        },
        {
          "data": {
            "image/png": "[encoded data removed]",
            "text/plain": [
              "<Figure size 432x288 with 2 Axes>"
            ]
          },
          "metadata": {},
          "output_type": "display_data"
        },
        {
          "name": "stderr",
          "output_type": "stream",
          "text": [
            "/usr/local/lib/python3.7/dist-packages/sklearn/utils/deprecation.py:87: FutureWarning: Function plot_confusion_matrix is deprecated; Function `plot_confusion_matrix` is deprecated in 1.0 and will be removed in 1.2. Use one of the class methods: ConfusionMatrixDisplay.from_predictions or ConfusionMatrixDisplay.from_estimator.\n",
            "  warnings.warn(msg, category=FutureWarning)\n"
          ]
        },
        {
          "data": {
            "image/png": "[encoded data removed]",
            "text/plain": [
              "<Figure size 432x288 with 2 Axes>"
            ]
          },
          "metadata": {},
          "output_type": "display_data"
        },
        {
          "name": "stderr",
          "output_type": "stream",
          "text": [
            "/usr/local/lib/python3.7/dist-packages/sklearn/utils/deprecation.py:87: FutureWarning: Function plot_confusion_matrix is deprecated; Function `plot_confusion_matrix` is deprecated in 1.0 and will be removed in 1.2. Use one of the class methods: ConfusionMatrixDisplay.from_predictions or ConfusionMatrixDisplay.from_estimator.\n",
            "  warnings.warn(msg, category=FutureWarning)\n"
          ]
        },
        {
          "data": {
            "image/png": "[encoded data removed]",
            "text/plain": [
              "<Figure size 432x288 with 2 Axes>"
            ]
          },
          "metadata": {},
          "output_type": "display_data"
        },
        {
          "name": "stderr",
          "output_type": "stream",
          "text": [
            "/usr/local/lib/python3.7/dist-packages/sklearn/utils/deprecation.py:87: FutureWarning: Function plot_confusion_matrix is deprecated; Function `plot_confusion_matrix` is deprecated in 1.0 and will be removed in 1.2. Use one of the class methods: ConfusionMatrixDisplay.from_predictions or ConfusionMatrixDisplay.from_estimator.\n",
            "  warnings.warn(msg, category=FutureWarning)\n"
          ]
        },
        {
          "data": {
            "image/png": "[encoded data removed]",
            "text/plain": [
              "<Figure size 432x288 with 2 Axes>"
            ]
          },
          "metadata": {},
          "output_type": "display_data"
        },
        {
          "name": "stderr",
          "output_type": "stream",
          "text": [
            "/usr/local/lib/python3.7/dist-packages/sklearn/utils/deprecation.py:87: FutureWarning: Function plot_confusion_matrix is deprecated; Function `plot_confusion_matrix` is deprecated in 1.0 and will be removed in 1.2. Use one of the class methods: ConfusionMatrixDisplay.from_predictions or ConfusionMatrixDisplay.from_estimator.\n",
            "  warnings.warn(msg, category=FutureWarning)\n"
          ]
        },
        {
          "data": {
            "image/png": "[encoded data removed]",
            "text/plain": [
              "<Figure size 432x288 with 2 Axes>"
            ]
          },
          "metadata": {},
          "output_type": "display_data"
        },
        {
          "name": "stderr",
          "output_type": "stream",
          "text": [
            "/usr/local/lib/python3.7/dist-packages/sklearn/utils/deprecation.py:87: FutureWarning: Function plot_confusion_matrix is deprecated; Function `plot_confusion_matrix` is deprecated in 1.0 and will be removed in 1.2. Use one of the class methods: ConfusionMatrixDisplay.from_predictions or ConfusionMatrixDisplay.from_estimator.\n",
            "  warnings.warn(msg, category=FutureWarning)\n"
          ]
        },
        {
          "data": {
            "image/png": "[encoded data removed]",
            "text/plain": [
              "<Figure size 432x288 with 2 Axes>"
            ]
          },
          "metadata": {},
          "output_type": "display_data"
        }
      ],
      "source": [
        "from sklearn.metrics import plot_confusion_matrix\n",
        "\n",
        "for i, clf in enumerate((ridge, rfc, mlp_clf, dtree, knn, logestic)):\n",
        "    fig = plot_confusion_matrix(clf, testX_scaled, YTest, display_labels=clf.classes_)\n",
        "    fig.figure_.suptitle(\"Confusion Matrix for: \" + str(clf))\n",
        "    plt.show()"
      ],
      "id": "08YTaanyb_Ux"
    },
    {
      "cell_type": "markdown",
      "metadata": {
        "id": "gd9M7xnFZa7Z"
      },
      "source": [
        ""
      ],
      "id": "gd9M7xnFZa7Z"
    },
    {
      "cell_type": "code",
      "execution_count": null,
      "metadata": {
        "colab": {
          "background_save": true
        },
        "id": "SvsGWf_F0mjQ"
      },
      "outputs": [],
      "source": [
        "import joblib\n",
        "filename = '_ClassificationModel.sav'\n",
        "for i, clf in enumerate((ridge, rfc, mlp_clf, dtree, knn, logestic)):\n",
        "    joblib.dump(clf, str(clf)+filename)"
      ],
      "id": "SvsGWf_F0mjQ"
    },
    {
      "cell_type": "code",
      "execution_count": null,
      "metadata": {
        "colab": {
          "background_save": true
        },
        "id": "YiwJ_XWw2JSp"
      },
      "outputs": [],
      "source": [
        "# # some time later...\n",
        "\n",
        "# # load the model from disk\n",
        "# loaded_model = joblib.load(filename)\n",
        "# result = loaded_model.score(X_test, Y_test)\n",
        "# print(result)"
      ],
      "id": "YiwJ_XWw2JSp"
    },
    {
      "cell_type": "markdown",
      "metadata": {
        "id": "7cfda0e6"
      },
      "source": [
        "## Scaling Applied :\n",
        "\n",
        "### Accuracy of: MLPClassifier():0.8862869988759835\n",
        "### Accuracy of: MLPClassifier(activation='relu', hidden_layer_sizes=(150, 100, 50), max_iter=50, solver='lbfgs'):0.7662670163606844\n",
        "### Accuracy of: MLPClassifier(activation='tanh', hidden_layer_sizes=(150, 100, 50), max_iter=50,solver='sgd'):0.8349777278214895\n",
        "### Accuracy of: MLPClassifier(activation='relu', hidden_layer_sizes=(150, 100, 50), max_iter=50,solver='adam'):0.9352233462387078\n",
        "### Accuracy of: MLPClassifier(activation='tanh', hidden_layer_sizes=(150, 100, 50), max_iter=50,solver='adam'):0.9402397901835894\n",
        "### Accuracy of: MLPClassifier(activation='tanh', hidden_layer_sizes=(150, 100, 50),max_iter=100,solver='adam'):0.9444444444444444 (take > 10 mins) \n",
        "\n",
        "### Accuracy of: LogisticRegression(multi_class='multinomial', max_iter=100)  :0.7278423046500978\n",
        "### Accuracy of: LogisticRegression(multi_class='multinomial', max_iter=50)   :0.715186711627326\n",
        "### Accuracy of: LogisticRegression(C=0.01, solver='liblinear'):               0.689480038299821\n",
        "### Accuracy of: LogisticRegression(C=0.1, solver='lbfgs'):0.7187044669247742\n",
        "\n",
        "### Accuracy of: RidgeClassifier(alpha=0.1):0.7104824944839931\n",
        "\n",
        "\n",
        "### Accuracy of: KNeighborsClassifier():0.8935098455518088\n",
        "\n",
        "###Accuracy of: DecisionTreeClassifier(random_state=42):                       0.959056658756921\n",
        "### Accuracy of: DecisionTreeClassifier(max_depth=20, random_state=42):        0.9547895591357562\n",
        "### Accuracy of: DecisionTreeClassifier(max_depth=50, random_state=42):        0.959056658756921\n",
        "\n",
        "### Accuracy of: RandomForestClassifier(n_jobs=-1, random_state=42):           0.9621581116523042-->BEST\n",
        "\n",
        "\n",
        "\n",
        "# Conclusion :\n",
        "  \n",
        "# BIG NOTES :\n",
        "  ### We tried performing both label, onehot encoder classifying them to 4 binary categories of the Y data, And was found that both results in fitting models gave nearly the same accuracy but label encoder had slight advantage due to inability of logestic reg. to fit on a 4D array of y labels in oneHot.\n",
        "\n",
        "  ### all this predictions are gathered on GoogleCollab and it may slightly differs in jupyter or pycharm\n",
        "\n",
        " "
      ],
      "id": "7cfda0e6"
    },
    {
      "cell_type": "markdown",
      "metadata": {
        "id": "8f60cbf7"
      },
      "source": [
        ""
      ],
      "id": "8f60cbf7"
    }
  ],
  "metadata": {
    "colab": {
      "collapsed_sections": [],
      "name": "ClassificationML (1).ipynb",
      "provenance": [],
      "include_colab_link": true
    },
    "kernelspec": {
      "display_name": "Python 3",
      "language": "python",
      "name": "python3"
    },
    "language_info": {
      "codemirror_mode": {
        "name": "ipython",
        "version": 3
      },
      "file_extension": ".py",
      "mimetype": "text/x-python",
      "name": "python",
      "nbconvert_exporter": "python",
      "pygments_lexer": "ipython3",
      "version": "3.8.8"
    }
  },
  "nbformat": 4,
  "nbformat_minor": 5
}